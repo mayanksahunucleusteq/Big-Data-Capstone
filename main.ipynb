{
 "cells": [
  {
   "cell_type": "code",
   "execution_count": 42,
   "metadata": {},
   "outputs": [],
   "source": [
    "import sys, os\n",
    "sys.path.append(os.path.abspath('/spark-data'))"
   ]
  },
  {
   "cell_type": "code",
   "execution_count": 80,
   "metadata": {},
   "outputs": [],
   "source": [
    "#Importing Spark Session and important libraries that need to perform things in project\n",
    "from utils.Data_Ingestion.data_ingestion import load_files \n",
    "from utils.Data_Cleaning.data_cleaning import remove_duplicates\n",
    "from pyspark.sql import SparkSession"
   ]
  },
  {
   "cell_type": "code",
   "execution_count": 44,
   "metadata": {},
   "outputs": [],
   "source": [
    "#Spark Session Builder that builds the Session in which we work upon\n",
    "\n",
    "spark = SparkSession.builder \\\n",
    "    .appName(\"ExceltoDataFrame\") \\\n",
    "    .config(\"spark.jars.packages\", \"com.crealytics:spark-excel_2.12:3.4.1_0.19.0\") \\\n",
    "    .getOrCreate()"
   ]
  },
  {
   "cell_type": "code",
   "execution_count": 45,
   "metadata": {},
   "outputs": [
    {
     "name": "stdout",
     "output_type": "stream",
     "text": [
      "DataFrame Name: ('df_data_orders', DataFrame[order_id: bigint, order_item_id: bigint, price: bigint, product_id: bigint, quantity: bigint])\n",
      "DataFrame Name: ('df_data_reviews', DataFrame[customer_id: bigint, product_id: bigint, rating: bigint, review_date: string, review_id: bigint, review_text: string])\n",
      "DataFrame Name: ('df_data_data', DataFrame[order_id: double, customer_id: double, order_date: timestamp, total_amount: double, shipping_address: string, billing_address: string])\n",
      "DataFrame Name: ('df_data_product', DataFrame[product_id: double, product_name: string, category: string, price: double, description: string, inventory: double])\n",
      "DataFrame Name: ('df_data_customer', DataFrame[customer_id: double, first_name: string, last_name: string, email: string, phone_number: string, city: string, state: string, zip_code: double, birth_date: timestamp])\n"
     ]
    }
   ],
   "source": [
    "dfs = load_files(spark)\n",
    "for df_name, df in dfs.items():\n",
    "    print(f\"DataFrame Name: {df_name, df}\")"
   ]
  },
  {
   "cell_type": "code",
   "execution_count": 46,
   "metadata": {},
   "outputs": [
    {
     "name": "stdout",
     "output_type": "stream",
     "text": [
      "+--------+-------------+-----+----------+--------+\n",
      "|order_id|order_item_id|price|product_id|quantity|\n",
      "+--------+-------------+-----+----------+--------+\n",
      "|     868|            1|   70|      1571|       7|\n",
      "|    3151|            2|    8|      3809|      -3|\n",
      "|    1582|            3|   32|      4896|       8|\n",
      "|    2578|            4|   64|      2712|       4|\n",
      "|    2792|            5|   53|      1111|       4|\n",
      "|    1257|            6|   69|      2874|       1|\n",
      "|    2389|            7|   40|      2670|       9|\n",
      "|    2013|            8|   39|      3779|       6|\n",
      "|    4272|            9|   15|      3109|       5|\n",
      "|    1260|           10|   21|      2110|       8|\n",
      "|    3617|           11|   27|      3350|       1|\n",
      "|    1479|           12|   96|      2917|       9|\n",
      "|    1405|           13|   61|      1480|       5|\n",
      "|    4526|           14|   69|      4686|       5|\n",
      "|    2513|           15|    8|      3146|       8|\n",
      "|    2346|           16|   92|      4182|       5|\n",
      "|    3988|           17|   88|        22|      10|\n",
      "|     972|           18|   16|       516|       1|\n",
      "|    3852|           19|   48|      4182|       4|\n",
      "|    4345|           20|   10|       961|       7|\n",
      "+--------+-------------+-----+----------+--------+\n",
      "only showing top 20 rows\n",
      "\n"
     ]
    }
   ],
   "source": [
    "dfs['df_data_orders'].show()"
   ]
  },
  {
   "cell_type": "code",
   "execution_count": 26,
   "metadata": {},
   "outputs": [
    {
     "name": "stdout",
     "output_type": "stream",
     "text": [
      "+-----------+----------+------+-----------+---------+--------------------+\n",
      "|customer_id|product_id|rating|review_date|review_id|         review_text|\n",
      "+-----------+----------+------+-----------+---------+--------------------+\n",
      "|       2522|      4663|     3| 2022-12-20|        1|Home create anyon...|\n",
      "|       2181|      2645|     3| 2024-07-05|        2|Skill herself opt...|\n",
      "|       3935|      1699|     3| 2024-05-06|        3|Public everyone s...|\n",
      "|       3453|      1360|     1| 2023-11-05|        4|Level land majori...|\n",
      "|       2999|      4883|     3| 2024-03-03|        5|Treat fine now di...|\n",
      "|        863|      3544|     2| 2023-06-02|        6|Land despite buy ...|\n",
      "|       2348|      1853|     1| 2023-11-11|        7|Ground again goal...|\n",
      "|       2388|      1652|     3| 2022-11-29|        8|Community materia...|\n",
      "|       4486|       632|     4| 2023-03-31|        9|Goal after color ...|\n",
      "|       1379|      2399|     5| 2024-02-11|       10|Beyond coach meet...|\n",
      "|        309|      3241|     3| 2023-06-30|       11|Policy wish resou...|\n",
      "|       1733|      1939|     5| 2023-08-20|       12|Knowledge alone g...|\n",
      "|       3638|      3895|     1| 2024-05-20|       13|Performance value...|\n",
      "|       1840|      1387|     1| 2022-09-02|       14|Brother example o...|\n",
      "|       4211|      4380|     3| 2024-06-08|       15|Lay reach another...|\n",
      "|       1544|      4487|     1| 2024-07-31|       16|Be when stock act...|\n",
      "|       3378|       911|     4| 2022-08-30|       17|Wear east against...|\n",
      "|       3065|      4749|     4| 2023-01-10|       18|Election letter o...|\n",
      "|       1952|      1019|     1| 2023-07-27|       19|Around bit simila...|\n",
      "|       4543|      3904|     4| 2023-06-12|       20|Than key property...|\n",
      "+-----------+----------+------+-----------+---------+--------------------+\n",
      "only showing top 20 rows\n",
      "\n"
     ]
    }
   ],
   "source": [
    "dfs['df_data_reviews'].show()"
   ]
  },
  {
   "cell_type": "code",
   "execution_count": 27,
   "metadata": {},
   "outputs": [
    {
     "name": "stdout",
     "output_type": "stream",
     "text": [
      "+--------+-----------+-------------------+------------+--------------------+--------------------+\n",
      "|order_id|customer_id|         order_date|total_amount|    shipping_address|     billing_address|\n",
      "+--------+-----------+-------------------+------------+--------------------+--------------------+\n",
      "|     1.0|      462.0|2019-08-26 00:00:00|      4007.0|60585 Moore Overp...|775 Roberson Knol...|\n",
      "|     2.0|     2820.0|2021-04-22 00:00:00|      7240.0|3278 Price Isle\\n...|2055 Curry Street...|\n",
      "|     3.0|     1934.0|2024-02-21 00:00:00|      8318.0|Unit 8425 Box 079...|USNV Strong\\nFPO ...|\n",
      "|     4.0|     2694.0|2021-01-14 00:00:00|      4992.0|5566 Brittany Sta...|524 Allen Shoal S...|\n",
      "|     5.0|      134.0|2020-03-14 00:00:00|      5385.0|4289 Michael Esta...|38637 Cheryl Junc...|\n",
      "|     6.0|     4651.0|2020-12-30 00:00:00|      3512.0|83184 Shelly Land...|80329 Dawn Road S...|\n",
      "|     7.0|     1696.0|2023-05-30 00:00:00|      4592.0|7127 Arroyo Land\\...|787 Smith Islands...|\n",
      "|     8.0|     1969.0|2021-05-03 00:00:00|      6640.0|29076 Robinson Ca...|65198 Anderson Ex...|\n",
      "|     9.0|     2220.0|2024-06-24 00:00:00|      1779.0|2112 Jonathan Vil...|6689 Bullock Rest...|\n",
      "|    10.0|     4441.0|2022-05-10 00:00:00|      5785.0|5356 Ramirez Ligh...|561 Darren Loaf S...|\n",
      "|    11.0|     1557.0|2023-03-08 00:00:00|      5172.0|6895 Mary Course\\...|891 Jackson Strav...|\n",
      "|    12.0|     4147.0|2020-10-21 00:00:00|      3664.0|3479 Joseph Burg ...|601 Wilson Locks\\...|\n",
      "|    13.0|      653.0|2023-12-11 00:00:00|      1340.0|USNS Davidson\\nFP...|35260 Joseph Cour...|\n",
      "|    14.0|     1227.0|2020-08-31 00:00:00|      6007.0|705 Robert Light\\...|279 Jeffrey Mount...|\n",
      "|    15.0|     4327.0|2022-07-06 00:00:00|      2898.0|906 Frederick Pin...|42202 Smith Pines...|\n",
      "|    16.0|     3191.0|2021-08-10 00:00:00|      9095.0|151 John Loaf\\nLa...|405 Gregory Stree...|\n",
      "|    17.0|     3918.0|2021-08-05 00:00:00|      6038.0|4686 Andres Ville...|1349 Cox Circles ...|\n",
      "|    18.0|      615.0|2022-09-20 00:00:00|      1025.0|5572 David Causew...|7229 Lisa Rest Su...|\n",
      "|    19.0|     4936.0|2020-10-05 00:00:00|      3070.0|71029 Lewis Stree...|85591 Laura Terra...|\n",
      "|    20.0|     3574.0|2020-11-23 00:00:00|      1603.0|9940 Scott Mount ...|9258 Cassandra Hi...|\n",
      "+--------+-----------+-------------------+------------+--------------------+--------------------+\n",
      "only showing top 20 rows\n",
      "\n"
     ]
    }
   ],
   "source": [
    "dfs['df_data_data'].show()"
   ]
  },
  {
   "cell_type": "code",
   "execution_count": 28,
   "metadata": {},
   "outputs": [
    {
     "name": "stdout",
     "output_type": "stream",
     "text": [
      "+----------+-------------+---------+-----+--------------------+---------+\n",
      "|product_id| product_name| category|price|         description|inventory|\n",
      "+----------+-------------+---------+-----+--------------------+---------+\n",
      "|       1.0|          bag|       no|448.0|Summer now health...|    655.0|\n",
      "|       2.0|        happy|   answer|844.0|Employee discuss ...|    230.0|\n",
      "|       3.0|         same|      his|681.0|Million mother pu...|    831.0|\n",
      "|       4.0|      prevent|   around| 34.0|Because under mea...|    804.0|\n",
      "|       5.0|        quite|   summer|663.0|Approach Mr task ...|    351.0|\n",
      "|       6.0|        which|  purpose|386.0|Leave charge mode...|     10.0|\n",
      "|       7.0|       beyond|   beyond|879.0|Shoulder power in...|    282.0|\n",
      "|       8.0|     although|     home|650.0|Exactly continue ...|    818.0|\n",
      "|       9.0|environmental| although|  7.0|Really admit kind...|    128.0|\n",
      "|      10.0|       assume|professor|945.0|Bar truth here gr...|    168.0|\n",
      "|      11.0|      usually|   figure|434.0|                null|    155.0|\n",
      "|      12.0|        their| property|158.0|Run seat couple e...|    374.0|\n",
      "|      13.0|         fine|  usually|906.0|Rich ability impr...|    395.0|\n",
      "|      14.0|         risk|     away|128.0|Protect bill fall...|    175.0|\n",
      "|      15.0|     approach|       of|243.0|Adult kid way. Th...|    192.0|\n",
      "|      16.0|         mind|     tell|305.0|School home half ...|    389.0|\n",
      "|      17.0|  opportunity|      gun|956.0|Late like economy...|    535.0|\n",
      "|      18.0|         pull|       by|957.0|Player firm story...|    541.0|\n",
      "|      19.0|         step|    occur|227.0|Very follow elect...|    763.0|\n",
      "|      20.0|     physical|    money|253.0|See six religious...|    619.0|\n",
      "+----------+-------------+---------+-----+--------------------+---------+\n",
      "only showing top 20 rows\n",
      "\n"
     ]
    }
   ],
   "source": [
    "dfs['df_data_product'].show()"
   ]
  },
  {
   "cell_type": "code",
   "execution_count": 47,
   "metadata": {},
   "outputs": [],
   "source": [
    "df_customer = dfs['df_data_customer']"
   ]
  },
  {
   "cell_type": "code",
   "execution_count": 48,
   "metadata": {},
   "outputs": [
    {
     "name": "stdout",
     "output_type": "stream",
     "text": [
      "+-----------+-----------+---------+--------------------+--------------------+-----------------+-------------+--------+-------------------+\n",
      "|customer_id| first_name|last_name|               email|        phone_number|             city|        state|zip_code|         birth_date|\n",
      "+-----------+-----------+---------+--------------------+--------------------+-----------------+-------------+--------+-------------------+\n",
      "|        1.0|    Crystal|  Edwards|mcmahonemily@exam...|        511.782.4381|    Fergusonville|         Iowa| 91344.0|1995-02-28 00:00:00|\n",
      "|        2.0|   Jennifer|    Jones|douglasedwards@ex...|          9187202495|     Jenniferport|   New Jersey| 59371.0|1951-01-27 00:00:00|\n",
      "|        3.0|  Catherine|    Crane|douglaskevin@exam...|  (381)601-2272x7972|  Jenniferchester|West Virginia| 49812.0|1966-10-07 00:00:00|\n",
      "|        4.0|     Lauren|    Irwin|aguirresteven@exa...|    001-707-942-4829|      New Melissa|     Michigan| 17279.0|1936-07-28 00:00:00|\n",
      "|        5.0|Christopher|   Nelson|dustin50@example.org|  735.814.4145x28586|       Hannahberg|     Oklahoma| 33821.0|1944-02-15 00:00:00|\n",
      "|        6.0|     Robert|    Costa|natalie33@example...|       (210)333-4611|     Lauraborough| Rhode Island| 37454.0|1946-09-27 00:00:00|\n",
      "|        7.0|   Michelle|    Lewis|jamiesingh@exampl...|          9524191690|     Lake Whitney|     Oklahoma| 80306.0|1959-02-12 00:00:00|\n",
      "|        8.0|    Jeffrey|     Vang|kristen52@example...|             -1521.0| New Jeffreymouth|     Virginia| 58012.0|1981-01-20 00:00:00|\n",
      "|        9.0|    Roberto|  Johnson| ihughes@example.com| (505)895-7853x48550|         Jodifurt|    Louisiana| 13500.0|1918-02-05 00:00:00|\n",
      "|       10.0|    Richard|  Beltran|smithtyler@exampl...|001-679-615-9888x...|       East Barry|      Arizona| 89980.0|1925-05-19 00:00:00|\n",
      "|       11.0|       Jose|   Forbes|gjackson@example.com|   440-257-9768x4814|     Williamsfort|     New York| 74873.0|1935-04-19 00:00:00|\n",
      "|       12.0|     Thomas|   Murphy|nbarrett@example.org|          7486055651|        Adamsstad|     Maryland| 10853.0|2013-03-01 00:00:00|\n",
      "|       13.0|    Anthony|    Young|poncetonya@exampl...|    001-586-933-1496|    Port Evanside|    Louisiana|  3739.0|1950-12-10 00:00:00|\n",
      "|       14.0|     Lauren| Campbell|taylornancy@examp...|001-635-567-9354x...|     West Annaton| Pennsylvania|  1518.0|1925-04-04 00:00:00|\n",
      "|       15.0|     Martha|Underwood|pamelacrawford@ex...| +1-461-208-9197x538|     East Charles|         Utah|  3289.0|1922-11-27 00:00:00|\n",
      "|       16.0|    Natasha| Johnston|laurarichardson@e...|        901.251.8967|     Benjaminbury|     Arkansas| 21371.0|1971-11-11 00:00:00|\n",
      "|       17.0|       John|   Powell|figueroawilliam@e...|  698.504.0834x73636|    Port Kimberly|      Alabama| 13754.0|1997-08-29 00:00:00|\n",
      "|       18.0|     Daniel|   Barton|mooresamantha@exa...|        771-621-2990|West Claytonburgh|        Idaho|  3297.0|1973-12-08 00:00:00|\n",
      "|       19.0|    Michael|   Bishop|kimdavid@example.com|+1-935-742-8065x1...|       Craigmouth|     Maryland| 77716.0|1977-03-17 00:00:00|\n",
      "|       20.0|     Janice| Faulkner| brett63@example.net|             -4261.0|     Victoriabury|     Illinois| 58702.0|2004-04-05 00:00:00|\n",
      "+-----------+-----------+---------+--------------------+--------------------+-----------------+-------------+--------+-------------------+\n",
      "only showing top 20 rows\n",
      "\n"
     ]
    }
   ],
   "source": [
    "df_customer.show()"
   ]
  },
  {
   "cell_type": "code",
   "execution_count": 49,
   "metadata": {},
   "outputs": [
    {
     "name": "stderr",
     "output_type": "stream",
     "text": [
      "2024-08-29 20:19:38,534 - INFO - Successfully removed duplicate rows based on all columns.\n"
     ]
    }
   ],
   "source": [
    "#This is for when you want to apply this remove_duplicate on specific column of dataframe but it is optional\n",
    "# df_customer_demo = remove_duplicates(df_customer, columns=[\"customer_id\"]).show()\n",
    "\n",
    "#For remove Duplicates on df_customer dataframe\n",
    "df_customer = remove_duplicates(df_customer)"
   ]
  },
  {
   "cell_type": "code",
   "execution_count": 50,
   "metadata": {},
   "outputs": [
    {
     "name": "stdout",
     "output_type": "stream",
     "text": [
      "+-----------+----------+----------+--------------------+--------------------+------------------+--------------+--------+-------------------+\n",
      "|customer_id|first_name| last_name|               email|        phone_number|              city|         state|zip_code|         birth_date|\n",
      "+-----------+----------+----------+--------------------+--------------------+------------------+--------------+--------+-------------------+\n",
      "|       25.0|     Heidi|Montgomery|rachel77@example.net|001-400-843-7979x...|       East Robert|North Carolina| 88566.0|2009-01-23 00:00:00|\n",
      "|      177.0|   Natalie|     Huynh|hector04@example.com| +1-882-707-3414x569|    West Markmouth|North Carolina| 47069.0|1936-09-17 00:00:00|\n",
      "|      295.0|       Amy|     Stone|deniseanderson@ex...|        909-267-3565|Port Christianstad|   Connecticut| 99042.0|1975-10-12 00:00:00|\n",
      "|      336.0|     Terri|    Warren| wmorrow@example.net|   473.898.3514x8669|   Lake Andrewport|  South Dakota| 79840.0|2020-01-05 00:00:00|\n",
      "|      130.0|   Suzanne|   Rowland|  nbrown@example.org|+1-445-450-7790x1...|           Tinaton|     Minnesota| 73325.0|2008-03-06 00:00:00|\n",
      "|      183.0|    Nicole|     Jones|robertbecker@exam...|001-453-822-6194x180|      Waltersville|        Nevada| 23732.0|1915-11-24 00:00:00|\n",
      "|      337.0|     Barry|    Austin| vmorgan@example.com| (909)959-3583x65784|    Jacquelineport|       Indiana| 32151.0|1931-07-20 00:00:00|\n",
      "|      126.0|   Gregory|     Baker|michelle79@exampl...|        373-414-5668|         Judyville|      Nebraska| 57016.0|2014-10-20 00:00:00|\n",
      "|       20.0|    Janice|  Faulkner| brett63@example.net|             -4261.0|      Victoriabury|      Illinois| 58702.0|2004-04-05 00:00:00|\n",
      "|      226.0|     Keith|   Schultz|  xavery@example.org|          5769271836|     South Bradley|     Louisiana| 30499.0|1909-02-18 00:00:00|\n",
      "|      360.0|     Peggy|   Sanchez|alvarezshawn@exam...| (672)313-1454x36919|    Gregoryborough|      Illinois| 79818.0|1942-08-31 00:00:00|\n",
      "|      413.0|     Keith|    Powell| craig69@example.net|          5839546173|        East Katie|      Nebraska| 47474.0|1971-09-24 00:00:00|\n",
      "|      103.0|      Ryan|    Medina|nicoledavis@examp...|001-379-700-3166x...|       Carlsonport|      Maryland| 12548.0|1911-06-23 00:00:00|\n",
      "|      275.0|   Spencer|   Cameron|       invalid_email|             -5152.0|       East Andrew|      Kentucky| 28387.0|1944-01-11 00:00:00|\n",
      "|       39.0|     Nancy|      Boyd|lanejerry@example...|    406-500-0327x895|         Josephton|  Rhode Island|  1878.0|1932-09-05 00:00:00|\n",
      "|      266.0|   Richard| Fernandez|       invalid_email|    799-452-7824x936|      West Bradley|   Connecticut|  2816.0|1927-08-24 00:00:00|\n",
      "|      361.0|    Robert|     Smith|  mary31@example.org|+1-287-940-2766x5936|     Yvonneborough|     Tennessee| 13838.0|1974-10-05 00:00:00|\n",
      "|       83.0|     Aaron|    Santos| bnguyen@example.net|   (579)901-1568x451|        Lake Jamie|     Tennessee|  9560.0|1913-03-12 00:00:00|\n",
      "|      219.0|     Kathy|     Wolfe| jamie58@example.org|        245.523.3536|        South Cole|    Washington| 83159.0|1987-11-29 00:00:00|\n",
      "|      358.0|    Daniel|   Beltran|sabrinamcneil@exa...|        489-900-6836|  West Cameronstad|        Alaska| 41500.0|1924-04-10 00:00:00|\n",
      "+-----------+----------+----------+--------------------+--------------------+------------------+--------------+--------+-------------------+\n",
      "only showing top 20 rows\n",
      "\n"
     ]
    }
   ],
   "source": [
    "df_customer.show()"
   ]
  }
 ],
 "metadata": {
  "kernelspec": {
   "display_name": "Python 3",
   "language": "python",
   "name": "python3"
  },
  "language_info": {
   "codemirror_mode": {
    "name": "ipython",
    "version": 3
   },
   "file_extension": ".py",
   "mimetype": "text/x-python",
   "name": "python",
   "nbconvert_exporter": "python",
   "pygments_lexer": "ipython3",
   "version": "3.11.9"
  }
 },
 "nbformat": 4,
 "nbformat_minor": 2
}
