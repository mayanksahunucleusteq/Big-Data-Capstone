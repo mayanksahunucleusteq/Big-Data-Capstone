{
 "cells": [
  {
   "cell_type": "code",
   "execution_count": 1,
   "metadata": {},
   "outputs": [],
   "source": [
    "import sys, os\n",
    "sys.path.append(os.path.abspath('/spark-data'))"
   ]
  },
  {
   "cell_type": "code",
   "execution_count": 58,
   "metadata": {},
   "outputs": [],
   "source": [
    "#Importing Spark Session and important libraries that need to perform things in project\n",
    "from utils.Data_Ingestion.data_ingestion import load_files \n",
    "from utils.Data_Cleaning.data_cleaning import remove_duplicates\n",
    "from utils.Data_Cleaning.data_cleaning import standardize_date_format, remove_decimal, clean_phone_numbers, handle_negative_values, remove_string_from_column, impute_nulls, drop_nulls\n",
    "from utils.save_dataframe_to_files import save_file\n",
    "from pyspark.sql import SparkSession"
   ]
  },
  {
   "cell_type": "code",
   "execution_count": 3,
   "metadata": {},
   "outputs": [
    {
     "name": "stdout",
     "output_type": "stream",
     "text": [
      ":: loading settings :: url = jar:file:/opt/bitnami/spark/jars/ivy-2.5.1.jar!/org/apache/ivy/core/settings/ivysettings.xml\n"
     ]
    },
    {
     "name": "stderr",
     "output_type": "stream",
     "text": [
      "Ivy Default Cache set to: /root/.ivy2/cache\n",
      "The jars for the packages stored in: /root/.ivy2/jars\n",
      "com.crealytics#spark-excel_2.12 added as a dependency\n",
      ":: resolving dependencies :: org.apache.spark#spark-submit-parent-f6898633-c5b8-4da8-88e6-01041afbb5ad;1.0\n",
      "\tconfs: [default]\n",
      "\tfound com.crealytics#spark-excel_2.12;3.4.1_0.19.0 in central\n",
      "\tfound org.apache.poi#poi;5.2.3 in central\n",
      "\tfound commons-codec#commons-codec;1.15 in central\n",
      "\tfound org.apache.commons#commons-collections4;4.4 in central\n",
      "\tfound org.apache.commons#commons-math3;3.6.1 in central\n",
      "\tfound com.zaxxer#SparseBitSet;1.2 in central\n",
      "\tfound org.apache.poi#poi-ooxml;5.2.3 in central\n",
      "\tfound org.apache.poi#poi-ooxml-lite;5.2.3 in central\n",
      "\tfound org.apache.xmlbeans#xmlbeans;5.1.1 in central\n",
      "\tfound com.github.virtuald#curvesapi;1.07 in central\n",
      "\tfound com.norbitltd#spoiwo_2.12;2.2.1 in central\n",
      "\tfound com.github.tototoshi#scala-csv_2.12;1.3.10 in central\n",
      "\tfound com.github.pjfanning#excel-streaming-reader;4.0.5 in central\n",
      "\tfound com.github.pjfanning#poi-shared-strings;2.5.6 in central\n",
      "\tfound org.slf4j#slf4j-api;1.7.36 in central\n",
      "\tfound com.h2database#h2;2.1.214 in central\n",
      "\tfound org.apache.commons#commons-text;1.10.0 in central\n",
      "\tfound org.apache.commons#commons-lang3;3.12.0 in central\n",
      "\tfound commons-io#commons-io;2.13.0 in central\n",
      "\tfound org.apache.commons#commons-compress;1.23.0 in central\n",
      "\tfound org.apache.logging.log4j#log4j-api;2.20.0 in central\n",
      "\tfound org.scala-lang.modules#scala-collection-compat_2.12;2.10.0 in central\n",
      "\tfound org.apache.logging.log4j#log4j-core;2.20.0 in central\n",
      ":: resolution report :: resolve 743ms :: artifacts dl 22ms\n",
      "\t:: modules in use:\n",
      "\tcom.crealytics#spark-excel_2.12;3.4.1_0.19.0 from central in [default]\n",
      "\tcom.github.pjfanning#excel-streaming-reader;4.0.5 from central in [default]\n",
      "\tcom.github.pjfanning#poi-shared-strings;2.5.6 from central in [default]\n",
      "\tcom.github.tototoshi#scala-csv_2.12;1.3.10 from central in [default]\n",
      "\tcom.github.virtuald#curvesapi;1.07 from central in [default]\n",
      "\tcom.h2database#h2;2.1.214 from central in [default]\n",
      "\tcom.norbitltd#spoiwo_2.12;2.2.1 from central in [default]\n",
      "\tcom.zaxxer#SparseBitSet;1.2 from central in [default]\n",
      "\tcommons-codec#commons-codec;1.15 from central in [default]\n",
      "\tcommons-io#commons-io;2.13.0 from central in [default]\n",
      "\torg.apache.commons#commons-collections4;4.4 from central in [default]\n",
      "\torg.apache.commons#commons-compress;1.23.0 from central in [default]\n",
      "\torg.apache.commons#commons-lang3;3.12.0 from central in [default]\n",
      "\torg.apache.commons#commons-math3;3.6.1 from central in [default]\n",
      "\torg.apache.commons#commons-text;1.10.0 from central in [default]\n",
      "\torg.apache.logging.log4j#log4j-api;2.20.0 from central in [default]\n",
      "\torg.apache.logging.log4j#log4j-core;2.20.0 from central in [default]\n",
      "\torg.apache.poi#poi;5.2.3 from central in [default]\n",
      "\torg.apache.poi#poi-ooxml;5.2.3 from central in [default]\n",
      "\torg.apache.poi#poi-ooxml-lite;5.2.3 from central in [default]\n",
      "\torg.apache.xmlbeans#xmlbeans;5.1.1 from central in [default]\n",
      "\torg.scala-lang.modules#scala-collection-compat_2.12;2.10.0 from central in [default]\n",
      "\torg.slf4j#slf4j-api;1.7.36 from central in [default]\n",
      "\t:: evicted modules:\n",
      "\tcommons-io#commons-io;2.11.0 by [commons-io#commons-io;2.13.0] in [default]\n",
      "\torg.apache.logging.log4j#log4j-api;2.18.0 by [org.apache.logging.log4j#log4j-api;2.20.0] in [default]\n",
      "\torg.apache.commons#commons-compress;1.21 by [org.apache.commons#commons-compress;1.23.0] in [default]\n",
      "\torg.apache.poi#poi;5.2.1 by [org.apache.poi#poi;5.2.3] in [default]\n",
      "\torg.apache.poi#poi-ooxml;5.2.1 by [org.apache.poi#poi-ooxml;5.2.3] in [default]\n",
      "\t---------------------------------------------------------------------\n",
      "\t|                  |            modules            ||   artifacts   |\n",
      "\t|       conf       | number| search|dwnlded|evicted|| number|dwnlded|\n",
      "\t---------------------------------------------------------------------\n",
      "\t|      default     |   28  |   0   |   0   |   5   ||   23  |   0   |\n",
      "\t---------------------------------------------------------------------\n",
      ":: retrieving :: org.apache.spark#spark-submit-parent-f6898633-c5b8-4da8-88e6-01041afbb5ad\n",
      "\tconfs: [default]\n",
      "\t0 artifacts copied, 23 already retrieved (0kB/18ms)\n",
      "24/08/30 15:57:02 WARN NativeCodeLoader: Unable to load native-hadoop library for your platform... using builtin-java classes where applicable\n",
      "Setting default log level to \"WARN\".\n",
      "To adjust logging level use sc.setLogLevel(newLevel). For SparkR, use setLogLevel(newLevel).\n"
     ]
    }
   ],
   "source": [
    "#Spark Session Builder that builds the Session in which we work upon\n",
    "\n",
    "spark = SparkSession.builder \\\n",
    "    .appName(\"ExceltoDataFrame\") \\\n",
    "    .config(\"spark.jars.packages\", \"com.crealytics:spark-excel_2.12:3.4.1_0.19.0\") \\\n",
    "    .getOrCreate()"
   ]
  },
  {
   "cell_type": "code",
   "execution_count": 4,
   "metadata": {},
   "outputs": [
    {
     "name": "stderr",
     "output_type": "stream",
     "text": [
      "2024-08-30 15:57:07,671 - INFO - Successfully processed nested JSON field 'orders' in file: /spark-data/Data_Files/data.json\n",
      "2024-08-30 15:57:07,752 - INFO - Successfully processed nested JSON field 'reviews' in file: /spark-data/Data_Files/data.json\n",
      "2024-08-30 15:57:10,629 - INFO - Successfully loaded sheet 'data' from Excel file: /spark-data/Data_Files/data.xlsx\n",
      "2024-08-30 15:57:11,657 - INFO - Successfully loaded sheet 'product' from Excel file: /spark-data/Data_Files/data.xlsx\n",
      "2024-08-30 15:57:12,375 - INFO - Successfully loaded sheet 'customer' from Excel file: /spark-data/Data_Files/data.xlsx\n"
     ]
    },
    {
     "name": "stdout",
     "output_type": "stream",
     "text": [
      "DataFrame Name: ('df_data_orders', DataFrame[order_id: bigint, order_item_id: bigint, price: bigint, product_id: bigint, quantity: bigint])\n",
      "DataFrame Name: ('df_data_reviews', DataFrame[customer_id: bigint, product_id: bigint, rating: bigint, review_date: string, review_id: bigint, review_text: string])\n",
      "DataFrame Name: ('df_data_data', DataFrame[order_id: double, customer_id: double, order_date: timestamp, total_amount: double, shipping_address: string, billing_address: string])\n",
      "DataFrame Name: ('df_data_product', DataFrame[product_id: double, product_name: string, category: string, price: double, description: string, inventory: double])\n",
      "DataFrame Name: ('df_data_customer', DataFrame[customer_id: double, first_name: string, last_name: string, email: string, phone_number: string, city: string, state: string, zip_code: double, birth_date: timestamp])\n"
     ]
    }
   ],
   "source": [
    "dfs = load_files(spark)\n",
    "for df_name, df in dfs.items():\n",
    "    print(f\"DataFrame Name: {df_name, df}\")"
   ]
  },
  {
   "cell_type": "code",
   "execution_count": 5,
   "metadata": {},
   "outputs": [
    {
     "name": "stdout",
     "output_type": "stream",
     "text": [
      "+--------+-------------+-----+----------+--------+\n",
      "|order_id|order_item_id|price|product_id|quantity|\n",
      "+--------+-------------+-----+----------+--------+\n",
      "|     868|            1|   70|      1571|       7|\n",
      "|    3151|            2|    8|      3809|      -3|\n",
      "|    1582|            3|   32|      4896|       8|\n",
      "|    2578|            4|   64|      2712|       4|\n",
      "|    2792|            5|   53|      1111|       4|\n",
      "|    1257|            6|   69|      2874|       1|\n",
      "|    2389|            7|   40|      2670|       9|\n",
      "|    2013|            8|   39|      3779|       6|\n",
      "|    4272|            9|   15|      3109|       5|\n",
      "|    1260|           10|   21|      2110|       8|\n",
      "|    3617|           11|   27|      3350|       1|\n",
      "|    1479|           12|   96|      2917|       9|\n",
      "|    1405|           13|   61|      1480|       5|\n",
      "|    4526|           14|   69|      4686|       5|\n",
      "|    2513|           15|    8|      3146|       8|\n",
      "|    2346|           16|   92|      4182|       5|\n",
      "|    3988|           17|   88|        22|      10|\n",
      "|     972|           18|   16|       516|       1|\n",
      "|    3852|           19|   48|      4182|       4|\n",
      "|    4345|           20|   10|       961|       7|\n",
      "+--------+-------------+-----+----------+--------+\n",
      "only showing top 20 rows\n",
      "\n"
     ]
    }
   ],
   "source": [
    "dfs['df_data_orders'].show()"
   ]
  },
  {
   "cell_type": "code",
   "execution_count": 6,
   "metadata": {},
   "outputs": [
    {
     "name": "stdout",
     "output_type": "stream",
     "text": [
      "+-----------+----------+------+-----------+---------+--------------------+\n",
      "|customer_id|product_id|rating|review_date|review_id|         review_text|\n",
      "+-----------+----------+------+-----------+---------+--------------------+\n",
      "|       2522|      4663|     3| 2022-12-20|        1|Home create anyon...|\n",
      "|       2181|      2645|     3| 2024-07-05|        2|Skill herself opt...|\n",
      "|       3935|      1699|     3| 2024-05-06|        3|Public everyone s...|\n",
      "|       3453|      1360|     1| 2023-11-05|        4|Level land majori...|\n",
      "|       2999|      4883|     3| 2024-03-03|        5|Treat fine now di...|\n",
      "|        863|      3544|     2| 2023-06-02|        6|Land despite buy ...|\n",
      "|       2348|      1853|     1| 2023-11-11|        7|Ground again goal...|\n",
      "|       2388|      1652|     3| 2022-11-29|        8|Community materia...|\n",
      "|       4486|       632|     4| 2023-03-31|        9|Goal after color ...|\n",
      "|       1379|      2399|     5| 2024-02-11|       10|Beyond coach meet...|\n",
      "|        309|      3241|     3| 2023-06-30|       11|Policy wish resou...|\n",
      "|       1733|      1939|     5| 2023-08-20|       12|Knowledge alone g...|\n",
      "|       3638|      3895|     1| 2024-05-20|       13|Performance value...|\n",
      "|       1840|      1387|     1| 2022-09-02|       14|Brother example o...|\n",
      "|       4211|      4380|     3| 2024-06-08|       15|Lay reach another...|\n",
      "|       1544|      4487|     1| 2024-07-31|       16|Be when stock act...|\n",
      "|       3378|       911|     4| 2022-08-30|       17|Wear east against...|\n",
      "|       3065|      4749|     4| 2023-01-10|       18|Election letter o...|\n",
      "|       1952|      1019|     1| 2023-07-27|       19|Around bit simila...|\n",
      "|       4543|      3904|     4| 2023-06-12|       20|Than key property...|\n",
      "+-----------+----------+------+-----------+---------+--------------------+\n",
      "only showing top 20 rows\n",
      "\n"
     ]
    }
   ],
   "source": [
    "dfs['df_data_reviews'].show()"
   ]
  },
  {
   "cell_type": "code",
   "execution_count": 7,
   "metadata": {},
   "outputs": [
    {
     "name": "stdout",
     "output_type": "stream",
     "text": [
      "+--------+-----------+-------------------+------------+--------------------+--------------------+\n",
      "|order_id|customer_id|         order_date|total_amount|    shipping_address|     billing_address|\n",
      "+--------+-----------+-------------------+------------+--------------------+--------------------+\n",
      "|     1.0|      462.0|2019-08-26 00:00:00|      4007.0|60585 Moore Overp...|775 Roberson Knol...|\n",
      "|     2.0|     2820.0|2021-04-22 00:00:00|      7240.0|3278 Price Isle\\n...|2055 Curry Street...|\n",
      "|     3.0|     1934.0|2024-02-21 00:00:00|      8318.0|Unit 8425 Box 079...|USNV Strong\\nFPO ...|\n",
      "|     4.0|     2694.0|2021-01-14 00:00:00|      4992.0|5566 Brittany Sta...|524 Allen Shoal S...|\n",
      "|     5.0|      134.0|2020-03-14 00:00:00|      5385.0|4289 Michael Esta...|38637 Cheryl Junc...|\n",
      "|     6.0|     4651.0|2020-12-30 00:00:00|      3512.0|83184 Shelly Land...|80329 Dawn Road S...|\n",
      "|     7.0|     1696.0|2023-05-30 00:00:00|      4592.0|7127 Arroyo Land\\...|787 Smith Islands...|\n",
      "|     8.0|     1969.0|2021-05-03 00:00:00|      6640.0|29076 Robinson Ca...|65198 Anderson Ex...|\n",
      "|     9.0|     2220.0|2024-06-24 00:00:00|      1779.0|2112 Jonathan Vil...|6689 Bullock Rest...|\n",
      "|    10.0|     4441.0|2022-05-10 00:00:00|      5785.0|5356 Ramirez Ligh...|561 Darren Loaf S...|\n",
      "|    11.0|     1557.0|2023-03-08 00:00:00|      5172.0|6895 Mary Course\\...|891 Jackson Strav...|\n",
      "|    12.0|     4147.0|2020-10-21 00:00:00|      3664.0|3479 Joseph Burg ...|601 Wilson Locks\\...|\n",
      "|    13.0|      653.0|2023-12-11 00:00:00|      1340.0|USNS Davidson\\nFP...|35260 Joseph Cour...|\n",
      "|    14.0|     1227.0|2020-08-31 00:00:00|      6007.0|705 Robert Light\\...|279 Jeffrey Mount...|\n",
      "|    15.0|     4327.0|2022-07-06 00:00:00|      2898.0|906 Frederick Pin...|42202 Smith Pines...|\n",
      "|    16.0|     3191.0|2021-08-10 00:00:00|      9095.0|151 John Loaf\\nLa...|405 Gregory Stree...|\n",
      "|    17.0|     3918.0|2021-08-05 00:00:00|      6038.0|4686 Andres Ville...|1349 Cox Circles ...|\n",
      "|    18.0|      615.0|2022-09-20 00:00:00|      1025.0|5572 David Causew...|7229 Lisa Rest Su...|\n",
      "|    19.0|     4936.0|2020-10-05 00:00:00|      3070.0|71029 Lewis Stree...|85591 Laura Terra...|\n",
      "|    20.0|     3574.0|2020-11-23 00:00:00|      1603.0|9940 Scott Mount ...|9258 Cassandra Hi...|\n",
      "+--------+-----------+-------------------+------------+--------------------+--------------------+\n",
      "only showing top 20 rows\n",
      "\n"
     ]
    }
   ],
   "source": [
    "dfs['df_data_data'].show()"
   ]
  },
  {
   "cell_type": "code",
   "execution_count": 8,
   "metadata": {},
   "outputs": [
    {
     "name": "stdout",
     "output_type": "stream",
     "text": [
      "+----------+-------------+---------+-----+--------------------+---------+\n",
      "|product_id| product_name| category|price|         description|inventory|\n",
      "+----------+-------------+---------+-----+--------------------+---------+\n",
      "|       1.0|          bag|       no|448.0|Summer now health...|    655.0|\n",
      "|       2.0|        happy|   answer|844.0|Employee discuss ...|    230.0|\n",
      "|       3.0|         same|      his|681.0|Million mother pu...|    831.0|\n",
      "|       4.0|      prevent|   around| 34.0|Because under mea...|    804.0|\n",
      "|       5.0|        quite|   summer|663.0|Approach Mr task ...|    351.0|\n",
      "|       6.0|        which|  purpose|386.0|Leave charge mode...|     10.0|\n",
      "|       7.0|       beyond|   beyond|879.0|Shoulder power in...|    282.0|\n",
      "|       8.0|     although|     home|650.0|Exactly continue ...|    818.0|\n",
      "|       9.0|environmental| although|  7.0|Really admit kind...|    128.0|\n",
      "|      10.0|       assume|professor|945.0|Bar truth here gr...|    168.0|\n",
      "|      11.0|      usually|   figure|434.0|                null|    155.0|\n",
      "|      12.0|        their| property|158.0|Run seat couple e...|    374.0|\n",
      "|      13.0|         fine|  usually|906.0|Rich ability impr...|    395.0|\n",
      "|      14.0|         risk|     away|128.0|Protect bill fall...|    175.0|\n",
      "|      15.0|     approach|       of|243.0|Adult kid way. Th...|    192.0|\n",
      "|      16.0|         mind|     tell|305.0|School home half ...|    389.0|\n",
      "|      17.0|  opportunity|      gun|956.0|Late like economy...|    535.0|\n",
      "|      18.0|         pull|       by|957.0|Player firm story...|    541.0|\n",
      "|      19.0|         step|    occur|227.0|Very follow elect...|    763.0|\n",
      "|      20.0|     physical|    money|253.0|See six religious...|    619.0|\n",
      "+----------+-------------+---------+-----+--------------------+---------+\n",
      "only showing top 20 rows\n",
      "\n"
     ]
    }
   ],
   "source": [
    "dfs['df_data_product'].show()"
   ]
  },
  {
   "cell_type": "markdown",
   "metadata": {},
   "source": [
    "### Cleaning df_customer"
   ]
  },
  {
   "cell_type": "code",
   "execution_count": 9,
   "metadata": {},
   "outputs": [],
   "source": [
    "df_customer = dfs['df_data_customer']"
   ]
  },
  {
   "cell_type": "code",
   "execution_count": 10,
   "metadata": {},
   "outputs": [
    {
     "name": "stdout",
     "output_type": "stream",
     "text": [
      "+-----------+-----------+---------+--------------------+--------------------+-----------------+-------------+--------+-------------------+\n",
      "|customer_id| first_name|last_name|               email|        phone_number|             city|        state|zip_code|         birth_date|\n",
      "+-----------+-----------+---------+--------------------+--------------------+-----------------+-------------+--------+-------------------+\n",
      "|        1.0|    Crystal|  Edwards|mcmahonemily@exam...|        511.782.4381|    Fergusonville|         Iowa| 91344.0|1995-02-28 00:00:00|\n",
      "|        2.0|   Jennifer|    Jones|douglasedwards@ex...|          9187202495|     Jenniferport|   New Jersey| 59371.0|1951-01-27 00:00:00|\n",
      "|        3.0|  Catherine|    Crane|douglaskevin@exam...|  (381)601-2272x7972|  Jenniferchester|West Virginia| 49812.0|1966-10-07 00:00:00|\n",
      "|        4.0|     Lauren|    Irwin|aguirresteven@exa...|    001-707-942-4829|      New Melissa|     Michigan| 17279.0|1936-07-28 00:00:00|\n",
      "|        5.0|Christopher|   Nelson|dustin50@example.org|  735.814.4145x28586|       Hannahberg|     Oklahoma| 33821.0|1944-02-15 00:00:00|\n",
      "|        6.0|     Robert|    Costa|natalie33@example...|       (210)333-4611|     Lauraborough| Rhode Island| 37454.0|1946-09-27 00:00:00|\n",
      "|        7.0|   Michelle|    Lewis|jamiesingh@exampl...|          9524191690|     Lake Whitney|     Oklahoma| 80306.0|1959-02-12 00:00:00|\n",
      "|        8.0|    Jeffrey|     Vang|kristen52@example...|             -1521.0| New Jeffreymouth|     Virginia| 58012.0|1981-01-20 00:00:00|\n",
      "|        9.0|    Roberto|  Johnson| ihughes@example.com| (505)895-7853x48550|         Jodifurt|    Louisiana| 13500.0|1918-02-05 00:00:00|\n",
      "|       10.0|    Richard|  Beltran|smithtyler@exampl...|001-679-615-9888x...|       East Barry|      Arizona| 89980.0|1925-05-19 00:00:00|\n",
      "|       11.0|       Jose|   Forbes|gjackson@example.com|   440-257-9768x4814|     Williamsfort|     New York| 74873.0|1935-04-19 00:00:00|\n",
      "|       12.0|     Thomas|   Murphy|nbarrett@example.org|          7486055651|        Adamsstad|     Maryland| 10853.0|2013-03-01 00:00:00|\n",
      "|       13.0|    Anthony|    Young|poncetonya@exampl...|    001-586-933-1496|    Port Evanside|    Louisiana|  3739.0|1950-12-10 00:00:00|\n",
      "|       14.0|     Lauren| Campbell|taylornancy@examp...|001-635-567-9354x...|     West Annaton| Pennsylvania|  1518.0|1925-04-04 00:00:00|\n",
      "|       15.0|     Martha|Underwood|pamelacrawford@ex...| +1-461-208-9197x538|     East Charles|         Utah|  3289.0|1922-11-27 00:00:00|\n",
      "|       16.0|    Natasha| Johnston|laurarichardson@e...|        901.251.8967|     Benjaminbury|     Arkansas| 21371.0|1971-11-11 00:00:00|\n",
      "|       17.0|       John|   Powell|figueroawilliam@e...|  698.504.0834x73636|    Port Kimberly|      Alabama| 13754.0|1997-08-29 00:00:00|\n",
      "|       18.0|     Daniel|   Barton|mooresamantha@exa...|        771-621-2990|West Claytonburgh|        Idaho|  3297.0|1973-12-08 00:00:00|\n",
      "|       19.0|    Michael|   Bishop|kimdavid@example.com|+1-935-742-8065x1...|       Craigmouth|     Maryland| 77716.0|1977-03-17 00:00:00|\n",
      "|       20.0|     Janice| Faulkner| brett63@example.net|             -4261.0|     Victoriabury|     Illinois| 58702.0|2004-04-05 00:00:00|\n",
      "+-----------+-----------+---------+--------------------+--------------------+-----------------+-------------+--------+-------------------+\n",
      "only showing top 20 rows\n",
      "\n"
     ]
    }
   ],
   "source": [
    "df_customer.show()"
   ]
  },
  {
   "cell_type": "code",
   "execution_count": 11,
   "metadata": {},
   "outputs": [
    {
     "name": "stderr",
     "output_type": "stream",
     "text": [
      "2024-08-30 15:57:19,086 - INFO - Successfully removed duplicate rows based on all columns.\n"
     ]
    }
   ],
   "source": [
    "#This is for when you want to apply this remove_duplicate on specific column of dataframe but it is optional\n",
    "# df_customer_demo = remove_duplicates(df_customer, columns=[\"customer_id\"]).show()\n",
    "\n",
    "#For remove Duplicates on df_customer dataframe\n",
    "df_customer_remove_duplicates = remove_duplicates(df_customer)"
   ]
  },
  {
   "cell_type": "code",
   "execution_count": 12,
   "metadata": {},
   "outputs": [
    {
     "name": "stderr",
     "output_type": "stream",
     "text": [
      "2024-08-30 15:57:19,334 - INFO - Successfully standardized date format in column 'birth_date' to 'yyyy-MM-dd'.\n"
     ]
    }
   ],
   "source": [
    "df_customer_correct_birthdate = standardize_date_format(df_customer_remove_duplicates, 'birth_date')\n"
   ]
  },
  {
   "cell_type": "code",
   "execution_count": 13,
   "metadata": {},
   "outputs": [
    {
     "name": "stderr",
     "output_type": "stream",
     "text": [
      "[Stage 9:>                                                        (0 + 12) / 12]\r"
     ]
    },
    {
     "name": "stdout",
     "output_type": "stream",
     "text": [
      "+-----------+----------+----------+--------------------+--------------------+------------------+--------------+--------+----------+\n",
      "|customer_id|first_name| last_name|               email|        phone_number|              city|         state|zip_code|birth_date|\n",
      "+-----------+----------+----------+--------------------+--------------------+------------------+--------------+--------+----------+\n",
      "|       25.0|     Heidi|Montgomery|rachel77@example.net|001-400-843-7979x...|       East Robert|North Carolina| 88566.0|2009-01-23|\n",
      "|      177.0|   Natalie|     Huynh|hector04@example.com| +1-882-707-3414x569|    West Markmouth|North Carolina| 47069.0|1936-09-17|\n",
      "|      295.0|       Amy|     Stone|deniseanderson@ex...|        909-267-3565|Port Christianstad|   Connecticut| 99042.0|1975-10-12|\n",
      "|      336.0|     Terri|    Warren| wmorrow@example.net|   473.898.3514x8669|   Lake Andrewport|  South Dakota| 79840.0|2020-01-05|\n",
      "|      130.0|   Suzanne|   Rowland|  nbrown@example.org|+1-445-450-7790x1...|           Tinaton|     Minnesota| 73325.0|2008-03-06|\n",
      "|      183.0|    Nicole|     Jones|robertbecker@exam...|001-453-822-6194x180|      Waltersville|        Nevada| 23732.0|1915-11-24|\n",
      "|      337.0|     Barry|    Austin| vmorgan@example.com| (909)959-3583x65784|    Jacquelineport|       Indiana| 32151.0|1931-07-20|\n",
      "|      126.0|   Gregory|     Baker|michelle79@exampl...|        373-414-5668|         Judyville|      Nebraska| 57016.0|2014-10-20|\n",
      "|       20.0|    Janice|  Faulkner| brett63@example.net|             -4261.0|      Victoriabury|      Illinois| 58702.0|2004-04-05|\n",
      "|      226.0|     Keith|   Schultz|  xavery@example.org|          5769271836|     South Bradley|     Louisiana| 30499.0|1909-02-18|\n",
      "|      360.0|     Peggy|   Sanchez|alvarezshawn@exam...| (672)313-1454x36919|    Gregoryborough|      Illinois| 79818.0|1942-08-31|\n",
      "|      413.0|     Keith|    Powell| craig69@example.net|          5839546173|        East Katie|      Nebraska| 47474.0|1971-09-24|\n",
      "|      103.0|      Ryan|    Medina|nicoledavis@examp...|001-379-700-3166x...|       Carlsonport|      Maryland| 12548.0|1911-06-23|\n",
      "|      275.0|   Spencer|   Cameron|       invalid_email|             -5152.0|       East Andrew|      Kentucky| 28387.0|1944-01-11|\n",
      "|       39.0|     Nancy|      Boyd|lanejerry@example...|    406-500-0327x895|         Josephton|  Rhode Island|  1878.0|1932-09-05|\n",
      "|      266.0|   Richard| Fernandez|       invalid_email|    799-452-7824x936|      West Bradley|   Connecticut|  2816.0|1927-08-24|\n",
      "|      361.0|    Robert|     Smith|  mary31@example.org|+1-287-940-2766x5936|     Yvonneborough|     Tennessee| 13838.0|1974-10-05|\n",
      "|       83.0|     Aaron|    Santos| bnguyen@example.net|   (579)901-1568x451|        Lake Jamie|     Tennessee|  9560.0|1913-03-12|\n",
      "|      219.0|     Kathy|     Wolfe| jamie58@example.org|        245.523.3536|        South Cole|    Washington| 83159.0|1987-11-29|\n",
      "|      358.0|    Daniel|   Beltran|sabrinamcneil@exa...|        489-900-6836|  West Cameronstad|        Alaska| 41500.0|1924-04-10|\n",
      "+-----------+----------+----------+--------------------+--------------------+------------------+--------------+--------+----------+\n",
      "only showing top 20 rows\n",
      "\n"
     ]
    },
    {
     "name": "stderr",
     "output_type": "stream",
     "text": [
      "                                                                                \r"
     ]
    }
   ],
   "source": [
    "df_customer_correct_birthdate.show()"
   ]
  },
  {
   "cell_type": "code",
   "execution_count": 14,
   "metadata": {},
   "outputs": [
    {
     "name": "stderr",
     "output_type": "stream",
     "text": [
      "2024-08-30 15:57:22,036 - INFO - Successfully removed decimal values from column 'zip_code'.\n"
     ]
    },
    {
     "name": "stderr",
     "output_type": "stream",
     "text": [
      "2024-08-30 15:57:22,077 - INFO - Successfully removed decimal values from column 'customer_id'.\n"
     ]
    }
   ],
   "source": [
    "df_customer_remove_decimal = remove_decimal(df_customer_correct_birthdate, columns=[\"zip_code\", \"customer_id\"])\n"
   ]
  },
  {
   "cell_type": "code",
   "execution_count": 15,
   "metadata": {},
   "outputs": [
    {
     "name": "stdout",
     "output_type": "stream",
     "text": [
      "+-----------+----------+----------+--------------------+--------------------+------------------+--------------+--------+----------+\n",
      "|customer_id|first_name| last_name|               email|        phone_number|              city|         state|zip_code|birth_date|\n",
      "+-----------+----------+----------+--------------------+--------------------+------------------+--------------+--------+----------+\n",
      "|         25|     Heidi|Montgomery|rachel77@example.net|001-400-843-7979x...|       East Robert|North Carolina|   88566|2009-01-23|\n",
      "|        177|   Natalie|     Huynh|hector04@example.com| +1-882-707-3414x569|    West Markmouth|North Carolina|   47069|1936-09-17|\n",
      "|        295|       Amy|     Stone|deniseanderson@ex...|        909-267-3565|Port Christianstad|   Connecticut|   99042|1975-10-12|\n",
      "|        336|     Terri|    Warren| wmorrow@example.net|   473.898.3514x8669|   Lake Andrewport|  South Dakota|   79840|2020-01-05|\n",
      "|        130|   Suzanne|   Rowland|  nbrown@example.org|+1-445-450-7790x1...|           Tinaton|     Minnesota|   73325|2008-03-06|\n",
      "|        183|    Nicole|     Jones|robertbecker@exam...|001-453-822-6194x180|      Waltersville|        Nevada|   23732|1915-11-24|\n",
      "|        337|     Barry|    Austin| vmorgan@example.com| (909)959-3583x65784|    Jacquelineport|       Indiana|   32151|1931-07-20|\n",
      "|        126|   Gregory|     Baker|michelle79@exampl...|        373-414-5668|         Judyville|      Nebraska|   57016|2014-10-20|\n",
      "|         20|    Janice|  Faulkner| brett63@example.net|             -4261.0|      Victoriabury|      Illinois|   58702|2004-04-05|\n",
      "|        226|     Keith|   Schultz|  xavery@example.org|          5769271836|     South Bradley|     Louisiana|   30499|1909-02-18|\n",
      "|        360|     Peggy|   Sanchez|alvarezshawn@exam...| (672)313-1454x36919|    Gregoryborough|      Illinois|   79818|1942-08-31|\n",
      "|        413|     Keith|    Powell| craig69@example.net|          5839546173|        East Katie|      Nebraska|   47474|1971-09-24|\n",
      "|        103|      Ryan|    Medina|nicoledavis@examp...|001-379-700-3166x...|       Carlsonport|      Maryland|   12548|1911-06-23|\n",
      "|        275|   Spencer|   Cameron|       invalid_email|             -5152.0|       East Andrew|      Kentucky|   28387|1944-01-11|\n",
      "|         39|     Nancy|      Boyd|lanejerry@example...|    406-500-0327x895|         Josephton|  Rhode Island|    1878|1932-09-05|\n",
      "|        266|   Richard| Fernandez|       invalid_email|    799-452-7824x936|      West Bradley|   Connecticut|    2816|1927-08-24|\n",
      "|        361|    Robert|     Smith|  mary31@example.org|+1-287-940-2766x5936|     Yvonneborough|     Tennessee|   13838|1974-10-05|\n",
      "|         83|     Aaron|    Santos| bnguyen@example.net|   (579)901-1568x451|        Lake Jamie|     Tennessee|    9560|1913-03-12|\n",
      "|        219|     Kathy|     Wolfe| jamie58@example.org|        245.523.3536|        South Cole|    Washington|   83159|1987-11-29|\n",
      "|        358|    Daniel|   Beltran|sabrinamcneil@exa...|        489-900-6836|  West Cameronstad|        Alaska|   41500|1924-04-10|\n",
      "+-----------+----------+----------+--------------------+--------------------+------------------+--------------+--------+----------+\n",
      "only showing top 20 rows\n",
      "\n"
     ]
    }
   ],
   "source": [
    "df_customer_remove_decimal.show()"
   ]
  },
  {
   "cell_type": "code",
   "execution_count": 16,
   "metadata": {},
   "outputs": [],
   "source": [
    "df_customer_clean_phone_numbers = clean_phone_numbers(df_customer_remove_decimal, 'phone_number')"
   ]
  },
  {
   "cell_type": "code",
   "execution_count": 17,
   "metadata": {},
   "outputs": [
    {
     "name": "stderr",
     "output_type": "stream",
     "text": [
      "[Stage 17:>                                                         (0 + 1) / 1]\r"
     ]
    },
    {
     "name": "stdout",
     "output_type": "stream",
     "text": [
      "+-----------+----------+----------+--------------------+--------------------+------------------+--------------+--------+----------+\n",
      "|customer_id|first_name| last_name|               email|        phone_number|              city|         state|zip_code|birth_date|\n",
      "+-----------+----------+----------+--------------------+--------------------+------------------+--------------+--------+----------+\n",
      "|         25|     Heidi|Montgomery|rachel77@example.net|Invalid phone number|       East Robert|North Carolina|   88566|2009-01-23|\n",
      "|        177|   Natalie|     Huynh|hector04@example.com|+1 (882) 707-3414...|    West Markmouth|North Carolina|   47069|1936-09-17|\n",
      "|        295|       Amy|     Stone|deniseanderson@ex...|   +1 (909) 267-3565|Port Christianstad|   Connecticut|   99042|1975-10-12|\n",
      "|        336|     Terri|    Warren| wmorrow@example.net|+1 (473) 898-3514...|   Lake Andrewport|  South Dakota|   79840|2020-01-05|\n",
      "|        130|   Suzanne|   Rowland|  nbrown@example.org|+1 (445) 450-7790...|           Tinaton|     Minnesota|   73325|2008-03-06|\n",
      "|        183|    Nicole|     Jones|robertbecker@exam...|Invalid phone number|      Waltersville|        Nevada|   23732|1915-11-24|\n",
      "|        337|     Barry|    Austin| vmorgan@example.com|+1 (909) 959-3583...|    Jacquelineport|       Indiana|   32151|1931-07-20|\n",
      "|        126|   Gregory|     Baker|michelle79@exampl...|   +1 (373) 414-5668|         Judyville|      Nebraska|   57016|2014-10-20|\n",
      "|         20|    Janice|  Faulkner| brett63@example.net|Invalid phone number|      Victoriabury|      Illinois|   58702|2004-04-05|\n",
      "|        226|     Keith|   Schultz|  xavery@example.org|   +1 (576) 927-1836|     South Bradley|     Louisiana|   30499|1909-02-18|\n",
      "|        360|     Peggy|   Sanchez|alvarezshawn@exam...|+1 (672) 313-1454...|    Gregoryborough|      Illinois|   79818|1942-08-31|\n",
      "|        413|     Keith|    Powell| craig69@example.net|   +1 (583) 954-6173|        East Katie|      Nebraska|   47474|1971-09-24|\n",
      "|        103|      Ryan|    Medina|nicoledavis@examp...|Invalid phone number|       Carlsonport|      Maryland|   12548|1911-06-23|\n",
      "|        275|   Spencer|   Cameron|       invalid_email|Invalid phone number|       East Andrew|      Kentucky|   28387|1944-01-11|\n",
      "|         39|     Nancy|      Boyd|lanejerry@example...|+1 (406) 500-0327...|         Josephton|  Rhode Island|    1878|1932-09-05|\n",
      "|        266|   Richard| Fernandez|       invalid_email|+1 (799) 452-7824...|      West Bradley|   Connecticut|    2816|1927-08-24|\n",
      "|        361|    Robert|     Smith|  mary31@example.org|+1 (287) 940-2766...|     Yvonneborough|     Tennessee|   13838|1974-10-05|\n",
      "|         83|     Aaron|    Santos| bnguyen@example.net|+1 (579) 901-1568...|        Lake Jamie|     Tennessee|    9560|1913-03-12|\n",
      "|        219|     Kathy|     Wolfe| jamie58@example.org|   +1 (245) 523-3536|        South Cole|    Washington|   83159|1987-11-29|\n",
      "|        358|    Daniel|   Beltran|sabrinamcneil@exa...|   +1 (489) 900-6836|  West Cameronstad|        Alaska|   41500|1924-04-10|\n",
      "+-----------+----------+----------+--------------------+--------------------+------------------+--------------+--------+----------+\n",
      "only showing top 20 rows\n",
      "\n"
     ]
    },
    {
     "name": "stderr",
     "output_type": "stream",
     "text": [
      "                                                                                \r"
     ]
    }
   ],
   "source": [
    "df_customer_clean_phone_numbers.show()"
   ]
  },
  {
   "cell_type": "code",
   "execution_count": 18,
   "metadata": {},
   "outputs": [
    {
     "name": "stdout",
     "output_type": "stream",
     "text": [
      "+-----------+----------+----------+--------------------+--------------------+------------------+--------------+--------+----------+\n",
      "|customer_id|first_name| last_name|               email|        phone_number|              city|         state|zip_code|birth_date|\n",
      "+-----------+----------+----------+--------------------+--------------------+------------------+--------------+--------+----------+\n",
      "|         25|     Heidi|Montgomery|rachel77@example.net|Invalid phone number|       East Robert|North Carolina|   88566|2009-01-23|\n",
      "|        177|   Natalie|     Huynh|hector04@example.com|+1 (882) 707-3414...|    West Markmouth|North Carolina|   47069|1936-09-17|\n",
      "|        295|       Amy|     Stone|deniseanderson@ex...|   +1 (909) 267-3565|Port Christianstad|   Connecticut|   99042|1975-10-12|\n",
      "|        336|     Terri|    Warren| wmorrow@example.net|+1 (473) 898-3514...|   Lake Andrewport|  South Dakota|   79840|2020-01-05|\n",
      "|        130|   Suzanne|   Rowland|  nbrown@example.org|+1 (445) 450-7790...|           Tinaton|     Minnesota|   73325|2008-03-06|\n",
      "|        183|    Nicole|     Jones|robertbecker@exam...|Invalid phone number|      Waltersville|        Nevada|   23732|1915-11-24|\n",
      "|        337|     Barry|    Austin| vmorgan@example.com|+1 (909) 959-3583...|    Jacquelineport|       Indiana|   32151|1931-07-20|\n",
      "|        126|   Gregory|     Baker|michelle79@exampl...|   +1 (373) 414-5668|         Judyville|      Nebraska|   57016|2014-10-20|\n",
      "|         20|    Janice|  Faulkner| brett63@example.net|Invalid phone number|      Victoriabury|      Illinois|   58702|2004-04-05|\n",
      "|        226|     Keith|   Schultz|  xavery@example.org|   +1 (576) 927-1836|     South Bradley|     Louisiana|   30499|1909-02-18|\n",
      "|        360|     Peggy|   Sanchez|alvarezshawn@exam...|+1 (672) 313-1454...|    Gregoryborough|      Illinois|   79818|1942-08-31|\n",
      "|        413|     Keith|    Powell| craig69@example.net|   +1 (583) 954-6173|        East Katie|      Nebraska|   47474|1971-09-24|\n",
      "|        103|      Ryan|    Medina|nicoledavis@examp...|Invalid phone number|       Carlsonport|      Maryland|   12548|1911-06-23|\n",
      "|        275|   Spencer|   Cameron|       invalid_email|Invalid phone number|       East Andrew|      Kentucky|   28387|1944-01-11|\n",
      "|         39|     Nancy|      Boyd|lanejerry@example...|+1 (406) 500-0327...|         Josephton|  Rhode Island|    1878|1932-09-05|\n",
      "|        266|   Richard| Fernandez|       invalid_email|+1 (799) 452-7824...|      West Bradley|   Connecticut|    2816|1927-08-24|\n",
      "|        361|    Robert|     Smith|  mary31@example.org|+1 (287) 940-2766...|     Yvonneborough|     Tennessee|   13838|1974-10-05|\n",
      "|         83|     Aaron|    Santos| bnguyen@example.net|+1 (579) 901-1568...|        Lake Jamie|     Tennessee|    9560|1913-03-12|\n",
      "|        219|     Kathy|     Wolfe| jamie58@example.org|   +1 (245) 523-3536|        South Cole|    Washington|   83159|1987-11-29|\n",
      "|        358|    Daniel|   Beltran|sabrinamcneil@exa...|   +1 (489) 900-6836|  West Cameronstad|        Alaska|   41500|1924-04-10|\n",
      "+-----------+----------+----------+--------------------+--------------------+------------------+--------------+--------+----------+\n",
      "only showing top 20 rows\n",
      "\n"
     ]
    }
   ],
   "source": [
    "df_customer_cleaned = df_customer_clean_phone_numbers\n",
    "df_customer_cleaned.show()"
   ]
  },
  {
   "cell_type": "code",
   "execution_count": 36,
   "metadata": {},
   "outputs": [
    {
     "name": "stderr",
     "output_type": "stream",
     "text": [
      "2024-08-30 16:08:28,901 - INFO - Saving DataFrame to temporary directory...\n",
      "2024-08-30 16:08:31,356 - INFO - DataFrame saved successfully to temporary directory.\n",
      "2024-08-30 16:08:31,358 - INFO - File moved to final output path: /spark-data/Cleaned_Csv_File/df_customer_cleaned.csv\n",
      "2024-08-30 16:08:31,360 - INFO - Temporary directory removed: /spark-data/Cleaned_Csv_File/temp_dir\n"
     ]
    },
    {
     "data": {
      "text/plain": [
       "'/spark-data/Cleaned_Csv_File/df_customer_cleaned.csv'"
      ]
     },
     "execution_count": 36,
     "metadata": {},
     "output_type": "execute_result"
    }
   ],
   "source": [
    "save_file(df_customer_cleaned, \"/spark-data/Cleaned_Csv_File\", \"df_customer_cleaned\")"
   ]
  },
  {
   "cell_type": "markdown",
   "metadata": {},
   "source": [
    "### Cleanining df_data_product table"
   ]
  },
  {
   "cell_type": "code",
   "execution_count": 19,
   "metadata": {},
   "outputs": [],
   "source": [
    "df_product = dfs['df_data_product']"
   ]
  },
  {
   "cell_type": "code",
   "execution_count": 20,
   "metadata": {},
   "outputs": [
    {
     "name": "stdout",
     "output_type": "stream",
     "text": [
      "+----------+-------------+---------+-----+--------------------+---------+\n",
      "|product_id| product_name| category|price|         description|inventory|\n",
      "+----------+-------------+---------+-----+--------------------+---------+\n",
      "|       1.0|          bag|       no|448.0|Summer now health...|    655.0|\n",
      "|       2.0|        happy|   answer|844.0|Employee discuss ...|    230.0|\n",
      "|       3.0|         same|      his|681.0|Million mother pu...|    831.0|\n",
      "|       4.0|      prevent|   around| 34.0|Because under mea...|    804.0|\n",
      "|       5.0|        quite|   summer|663.0|Approach Mr task ...|    351.0|\n",
      "|       6.0|        which|  purpose|386.0|Leave charge mode...|     10.0|\n",
      "|       7.0|       beyond|   beyond|879.0|Shoulder power in...|    282.0|\n",
      "|       8.0|     although|     home|650.0|Exactly continue ...|    818.0|\n",
      "|       9.0|environmental| although|  7.0|Really admit kind...|    128.0|\n",
      "|      10.0|       assume|professor|945.0|Bar truth here gr...|    168.0|\n",
      "|      11.0|      usually|   figure|434.0|                null|    155.0|\n",
      "|      12.0|        their| property|158.0|Run seat couple e...|    374.0|\n",
      "|      13.0|         fine|  usually|906.0|Rich ability impr...|    395.0|\n",
      "|      14.0|         risk|     away|128.0|Protect bill fall...|    175.0|\n",
      "|      15.0|     approach|       of|243.0|Adult kid way. Th...|    192.0|\n",
      "|      16.0|         mind|     tell|305.0|School home half ...|    389.0|\n",
      "|      17.0|  opportunity|      gun|956.0|Late like economy...|    535.0|\n",
      "|      18.0|         pull|       by|957.0|Player firm story...|    541.0|\n",
      "|      19.0|         step|    occur|227.0|Very follow elect...|    763.0|\n",
      "|      20.0|     physical|    money|253.0|See six religious...|    619.0|\n",
      "+----------+-------------+---------+-----+--------------------+---------+\n",
      "only showing top 20 rows\n",
      "\n"
     ]
    }
   ],
   "source": [
    "df_product.show()"
   ]
  },
  {
   "cell_type": "code",
   "execution_count": 21,
   "metadata": {},
   "outputs": [
    {
     "name": "stderr",
     "output_type": "stream",
     "text": [
      "2024-08-30 15:57:29,353 - INFO - Successfully removed decimal values from column 'product_id'.\n",
      "2024-08-30 15:57:29,378 - INFO - Successfully removed decimal values from column 'inventory'.\n"
     ]
    }
   ],
   "source": [
    "df_product_remove_decimals = remove_decimal(df_product, columns=[\"product_id\", \"inventory\"])"
   ]
  },
  {
   "cell_type": "code",
   "execution_count": 22,
   "metadata": {},
   "outputs": [
    {
     "name": "stdout",
     "output_type": "stream",
     "text": [
      "+----------+-------------+---------+-----+--------------------+---------+\n",
      "|product_id| product_name| category|price|         description|inventory|\n",
      "+----------+-------------+---------+-----+--------------------+---------+\n",
      "|         1|          bag|       no|448.0|Summer now health...|      655|\n",
      "|         2|        happy|   answer|844.0|Employee discuss ...|      230|\n",
      "|         3|         same|      his|681.0|Million mother pu...|      831|\n",
      "|         4|      prevent|   around| 34.0|Because under mea...|      804|\n",
      "|         5|        quite|   summer|663.0|Approach Mr task ...|      351|\n",
      "|         6|        which|  purpose|386.0|Leave charge mode...|       10|\n",
      "|         7|       beyond|   beyond|879.0|Shoulder power in...|      282|\n",
      "|         8|     although|     home|650.0|Exactly continue ...|      818|\n",
      "|         9|environmental| although|  7.0|Really admit kind...|      128|\n",
      "|        10|       assume|professor|945.0|Bar truth here gr...|      168|\n",
      "|        11|      usually|   figure|434.0|                null|      155|\n",
      "|        12|        their| property|158.0|Run seat couple e...|      374|\n",
      "|        13|         fine|  usually|906.0|Rich ability impr...|      395|\n",
      "|        14|         risk|     away|128.0|Protect bill fall...|      175|\n",
      "|        15|     approach|       of|243.0|Adult kid way. Th...|      192|\n",
      "|        16|         mind|     tell|305.0|School home half ...|      389|\n",
      "|        17|  opportunity|      gun|956.0|Late like economy...|      535|\n",
      "|        18|         pull|       by|957.0|Player firm story...|      541|\n",
      "|        19|         step|    occur|227.0|Very follow elect...|      763|\n",
      "|        20|     physical|    money|253.0|See six religious...|      619|\n",
      "+----------+-------------+---------+-----+--------------------+---------+\n",
      "only showing top 20 rows\n",
      "\n"
     ]
    }
   ],
   "source": [
    "df_product_remove_decimals.show()"
   ]
  },
  {
   "cell_type": "code",
   "execution_count": 23,
   "metadata": {},
   "outputs": [
    {
     "name": "stderr",
     "output_type": "stream",
     "text": [
      "2024-08-30 15:57:30,077 - INFO - Successfully handled negative values in column 'price' by converting to absolute values.\n"
     ]
    }
   ],
   "source": [
    "df_product_handling_negative_val = handle_negative_values(df_product_remove_decimals, columns=[\"price\"], operation=\"absolute\")"
   ]
  },
  {
   "cell_type": "code",
   "execution_count": 24,
   "metadata": {},
   "outputs": [
    {
     "name": "stdout",
     "output_type": "stream",
     "text": [
      "+----------+-------------+---------+-----+--------------------+---------+\n",
      "|product_id| product_name| category|price|         description|inventory|\n",
      "+----------+-------------+---------+-----+--------------------+---------+\n",
      "|         1|          bag|       no|448.0|Summer now health...|      655|\n",
      "|         2|        happy|   answer|844.0|Employee discuss ...|      230|\n",
      "|         3|         same|      his|681.0|Million mother pu...|      831|\n",
      "|         4|      prevent|   around| 34.0|Because under mea...|      804|\n",
      "|         5|        quite|   summer|663.0|Approach Mr task ...|      351|\n",
      "|         6|        which|  purpose|386.0|Leave charge mode...|       10|\n",
      "|         7|       beyond|   beyond|879.0|Shoulder power in...|      282|\n",
      "|         8|     although|     home|650.0|Exactly continue ...|      818|\n",
      "|         9|environmental| although|  7.0|Really admit kind...|      128|\n",
      "|        10|       assume|professor|945.0|Bar truth here gr...|      168|\n",
      "|        11|      usually|   figure|434.0|                null|      155|\n",
      "|        12|        their| property|158.0|Run seat couple e...|      374|\n",
      "|        13|         fine|  usually|906.0|Rich ability impr...|      395|\n",
      "|        14|         risk|     away|128.0|Protect bill fall...|      175|\n",
      "|        15|     approach|       of|243.0|Adult kid way. Th...|      192|\n",
      "|        16|         mind|     tell|305.0|School home half ...|      389|\n",
      "|        17|  opportunity|      gun|956.0|Late like economy...|      535|\n",
      "|        18|         pull|       by|957.0|Player firm story...|      541|\n",
      "|        19|         step|    occur|227.0|Very follow elect...|      763|\n",
      "|        20|     physical|    money|253.0|See six religious...|      619|\n",
      "+----------+-------------+---------+-----+--------------------+---------+\n",
      "only showing top 20 rows\n",
      "\n"
     ]
    }
   ],
   "source": [
    "df_product_handling_negative_val.show()"
   ]
  },
  {
   "cell_type": "code",
   "execution_count": 25,
   "metadata": {},
   "outputs": [
    {
     "name": "stderr",
     "output_type": "stream",
     "text": [
      "2024-08-30 15:57:30,942 - INFO - Successfully handled negative values in column 'inventory' by setting them to zero.\n"
     ]
    }
   ],
   "source": [
    "df_product_handling_negative_val = handle_negative_values(df_product_handling_negative_val, columns=[\"inventory\"], operation='zero')"
   ]
  },
  {
   "cell_type": "code",
   "execution_count": 31,
   "metadata": {},
   "outputs": [
    {
     "name": "stderr",
     "output_type": "stream",
     "text": [
      "2024-08-30 16:01:59,821 - INFO - Successfully removed '\n",
      "' from column 'description'.\n"
     ]
    }
   ],
   "source": [
    "df_product_desciption_filter = remove_string_from_column(df_product_handling_negative_val,\"description\", \"\\n\")"
   ]
  },
  {
   "cell_type": "code",
   "execution_count": 32,
   "metadata": {},
   "outputs": [],
   "source": [
    "df_cleaned_product = df_product_desciption_filter"
   ]
  },
  {
   "cell_type": "code",
   "execution_count": 33,
   "metadata": {},
   "outputs": [
    {
     "name": "stdout",
     "output_type": "stream",
     "text": [
      "+----------+-------------+---------+-----+--------------------+---------+\n",
      "|product_id| product_name| category|price|         description|inventory|\n",
      "+----------+-------------+---------+-----+--------------------+---------+\n",
      "|         1|          bag|       no|448.0|Summer now health...|      655|\n",
      "|         2|        happy|   answer|844.0|Employee discuss ...|      230|\n",
      "|         3|         same|      his|681.0|Million mother pu...|      831|\n",
      "|         4|      prevent|   around| 34.0|Because under mea...|      804|\n",
      "|         5|        quite|   summer|663.0|Approach Mr task ...|      351|\n",
      "|         6|        which|  purpose|386.0|Leave charge mode...|       10|\n",
      "|         7|       beyond|   beyond|879.0|Shoulder power in...|      282|\n",
      "|         8|     although|     home|650.0|Exactly continue ...|      818|\n",
      "|         9|environmental| although|  7.0|Really admit kind...|      128|\n",
      "|        10|       assume|professor|945.0|Bar truth here gr...|      168|\n",
      "|        11|      usually|   figure|434.0|                null|      155|\n",
      "|        12|        their| property|158.0|Run seat couple e...|      374|\n",
      "|        13|         fine|  usually|906.0|Rich ability impr...|      395|\n",
      "|        14|         risk|     away|128.0|Protect bill fall...|      175|\n",
      "|        15|     approach|       of|243.0|Adult kid way. Th...|      192|\n",
      "|        16|         mind|     tell|305.0|School home half ...|      389|\n",
      "|        17|  opportunity|      gun|956.0|Late like economy...|      535|\n",
      "|        18|         pull|       by|957.0|Player firm story...|      541|\n",
      "|        19|         step|    occur|227.0|Very follow elect...|      763|\n",
      "|        20|     physical|    money|253.0|See six religious...|      619|\n",
      "+----------+-------------+---------+-----+--------------------+---------+\n",
      "only showing top 20 rows\n",
      "\n"
     ]
    }
   ],
   "source": [
    "df_cleaned_product.show()"
   ]
  },
  {
   "cell_type": "code",
   "execution_count": 34,
   "metadata": {},
   "outputs": [
    {
     "name": "stdout",
     "output_type": "stream",
     "text": [
      "+-----------------------------------------------------------------------------------------------------------------------------------------------------------------------------------------------------+\n",
      "|description                                                                                                                                                                                          |\n",
      "+-----------------------------------------------------------------------------------------------------------------------------------------------------------------------------------------------------+\n",
      "|Summer now health each budget me.Before hard later nice for. Meet because door worry.Too be pick effect he wide. Network executive fight somebody discuss science under.                             |\n",
      "|Employee discuss society fly watch.Exactly affect seven physical big artist there.Into event still region thus left. Will tree box political popular force. Budget hold such as mind individual pick.|\n",
      "|Million mother purpose maintain section fine. First here management perhaps child. Bit sing agency movie safe whole money. Watch space fly side itself.                                              |\n",
      "|Because under mean ago capital account teach. Theory begin sport memory foot tell option religious. Visit understand career.                                                                         |\n",
      "|Approach Mr task research area necessary. Environment letter yard think author understand hair. Go sometimes eye.Professional behind bar participant read author. Popular evidence blood night send. |\n",
      "|Leave charge model home. Respond my certainly knowledge cultural black family. Their consider white case occur trial dark.                                                                           |\n",
      "|Shoulder power including.Role individual stop apply agency phone. Analysis after relate.Answer child how trouble church rest. Painting water six myself high cultural type girl.                     |\n",
      "|Exactly continue western. Also down care.Be agent clear hospital television. Wear environmental teacher lawyer energy forward admit everybody. Artist soldier analysis base peace.                   |\n",
      "|Really admit kind fast else. Middle about media by population guy. Probably picture last old actually often.Someone image clear side politics American sound accept. Spring eye mouth.               |\n",
      "|Bar truth here grow. Him station feeling remember others real. Fill play wide model marriage series.Nation one individual morning.                                                                   |\n",
      "|null                                                                                                                                                                                                 |\n",
      "|Run seat couple event seven baby. Wear audience heart doctor you because gun.Land art adult. Executive various word heart history approach parent.                                                   |\n",
      "|Rich ability improve common water once we beyond. Perhaps protect she Mr speak. You help scene authority tax.                                                                                        |\n",
      "|Protect bill fall add. Gun much house drug back worker believe share. Much stand day real build person.                                                                                              |\n",
      "|Adult kid way. That sound exist plan them. Dog race a guy population type.                                                                                                                           |\n",
      "|School home half future although increase none. Section vote relationship find rest wrong employee.                                                                                                  |\n",
      "|Late like economy skill perform rate. Imagine yourself kid me else discover show.                                                                                                                    |\n",
      "|Player firm story politics change natural age. Society stuff happy guess wall. Behind approach represent avoid another. Minute state cover long rise too possible.                                   |\n",
      "|Very follow election white long. Enter natural indeed discussion.Major artist challenge concern force bed. Economic professional record.                                                             |\n",
      "|See six religious. Effort tree serve suffer develop.Skin decision source pick test administration option. End you media war. Effort inside really present focus really growth.                       |\n",
      "+-----------------------------------------------------------------------------------------------------------------------------------------------------------------------------------------------------+\n",
      "only showing top 20 rows\n",
      "\n"
     ]
    }
   ],
   "source": [
    "df_cleaned_product.select(\"description\").show(truncate=False)"
   ]
  },
  {
   "cell_type": "code",
   "execution_count": 37,
   "metadata": {},
   "outputs": [
    {
     "name": "stderr",
     "output_type": "stream",
     "text": [
      "2024-08-30 16:10:39,051 - INFO - Saving DataFrame to temporary directory...\n",
      "24/08/30 16:10:40 WARN TaskSetManager: Stage 32 contains a task of very large size (1070 KiB). The maximum recommended task size is 1000 KiB.\n",
      "2024-08-30 16:10:40,376 - INFO - DataFrame saved successfully to temporary directory.\n",
      "2024-08-30 16:10:40,379 - INFO - File moved to final output path: /spark-data/Cleaned_Csv_File/df_product_cleaned.csv\n",
      "2024-08-30 16:10:40,381 - INFO - Temporary directory removed: /spark-data/Cleaned_Csv_File/temp_dir\n"
     ]
    },
    {
     "data": {
      "text/plain": [
       "'/spark-data/Cleaned_Csv_File/df_product_cleaned.csv'"
      ]
     },
     "execution_count": 37,
     "metadata": {},
     "output_type": "execute_result"
    }
   ],
   "source": [
    "save_file(df_cleaned_product, \"/spark-data/Cleaned_Csv_File\", \"df_product_cleaned\")"
   ]
  },
  {
   "cell_type": "markdown",
   "metadata": {},
   "source": [
    "### df_data_data table cleaning\n"
   ]
  },
  {
   "cell_type": "code",
   "execution_count": 38,
   "metadata": {},
   "outputs": [],
   "source": [
    "df_data = dfs['df_data_data']"
   ]
  },
  {
   "cell_type": "code",
   "execution_count": 39,
   "metadata": {},
   "outputs": [
    {
     "name": "stdout",
     "output_type": "stream",
     "text": [
      "+--------+-----------+-------------------+------------+--------------------+--------------------+\n",
      "|order_id|customer_id|         order_date|total_amount|    shipping_address|     billing_address|\n",
      "+--------+-----------+-------------------+------------+--------------------+--------------------+\n",
      "|     1.0|      462.0|2019-08-26 00:00:00|      4007.0|60585 Moore Overp...|775 Roberson Knol...|\n",
      "|     2.0|     2820.0|2021-04-22 00:00:00|      7240.0|3278 Price Isle\\n...|2055 Curry Street...|\n",
      "|     3.0|     1934.0|2024-02-21 00:00:00|      8318.0|Unit 8425 Box 079...|USNV Strong\\nFPO ...|\n",
      "|     4.0|     2694.0|2021-01-14 00:00:00|      4992.0|5566 Brittany Sta...|524 Allen Shoal S...|\n",
      "|     5.0|      134.0|2020-03-14 00:00:00|      5385.0|4289 Michael Esta...|38637 Cheryl Junc...|\n",
      "|     6.0|     4651.0|2020-12-30 00:00:00|      3512.0|83184 Shelly Land...|80329 Dawn Road S...|\n",
      "|     7.0|     1696.0|2023-05-30 00:00:00|      4592.0|7127 Arroyo Land\\...|787 Smith Islands...|\n",
      "|     8.0|     1969.0|2021-05-03 00:00:00|      6640.0|29076 Robinson Ca...|65198 Anderson Ex...|\n",
      "|     9.0|     2220.0|2024-06-24 00:00:00|      1779.0|2112 Jonathan Vil...|6689 Bullock Rest...|\n",
      "|    10.0|     4441.0|2022-05-10 00:00:00|      5785.0|5356 Ramirez Ligh...|561 Darren Loaf S...|\n",
      "|    11.0|     1557.0|2023-03-08 00:00:00|      5172.0|6895 Mary Course\\...|891 Jackson Strav...|\n",
      "|    12.0|     4147.0|2020-10-21 00:00:00|      3664.0|3479 Joseph Burg ...|601 Wilson Locks\\...|\n",
      "|    13.0|      653.0|2023-12-11 00:00:00|      1340.0|USNS Davidson\\nFP...|35260 Joseph Cour...|\n",
      "|    14.0|     1227.0|2020-08-31 00:00:00|      6007.0|705 Robert Light\\...|279 Jeffrey Mount...|\n",
      "|    15.0|     4327.0|2022-07-06 00:00:00|      2898.0|906 Frederick Pin...|42202 Smith Pines...|\n",
      "|    16.0|     3191.0|2021-08-10 00:00:00|      9095.0|151 John Loaf\\nLa...|405 Gregory Stree...|\n",
      "|    17.0|     3918.0|2021-08-05 00:00:00|      6038.0|4686 Andres Ville...|1349 Cox Circles ...|\n",
      "|    18.0|      615.0|2022-09-20 00:00:00|      1025.0|5572 David Causew...|7229 Lisa Rest Su...|\n",
      "|    19.0|     4936.0|2020-10-05 00:00:00|      3070.0|71029 Lewis Stree...|85591 Laura Terra...|\n",
      "|    20.0|     3574.0|2020-11-23 00:00:00|      1603.0|9940 Scott Mount ...|9258 Cassandra Hi...|\n",
      "+--------+-----------+-------------------+------------+--------------------+--------------------+\n",
      "only showing top 20 rows\n",
      "\n"
     ]
    }
   ],
   "source": [
    "df_data.show()"
   ]
  },
  {
   "cell_type": "code",
   "execution_count": 40,
   "metadata": {},
   "outputs": [
    {
     "name": "stderr",
     "output_type": "stream",
     "text": [
      "2024-08-30 16:43:23,363 - INFO - Successfully removed duplicate rows based on all columns.\n"
     ]
    }
   ],
   "source": [
    "df_data_removed_duplicate = remove_duplicates(df_data)"
   ]
  },
  {
   "cell_type": "code",
   "execution_count": 42,
   "metadata": {},
   "outputs": [
    {
     "name": "stderr",
     "output_type": "stream",
     "text": [
      "2024-08-30 16:45:16,276 - INFO - Successfully standardized date format in column 'order_date' to 'yyyy-MM-dd'.\n"
     ]
    }
   ],
   "source": [
    "df_data_date_formated = standardize_date_format(df_data_removed_duplicate, \"order_date\")"
   ]
  },
  {
   "cell_type": "code",
   "execution_count": 43,
   "metadata": {},
   "outputs": [
    {
     "name": "stderr",
     "output_type": "stream",
     "text": [
      "2024-08-30 16:46:37,618 - INFO - Successfully removed decimal values from column 'order_id'.\n",
      "2024-08-30 16:46:37,635 - INFO - Successfully removed decimal values from column 'customer_id'.\n",
      "2024-08-30 16:46:37,654 - INFO - Successfully removed decimal values from column 'total_amount'.\n"
     ]
    }
   ],
   "source": [
    "df_data_remove_decimals = remove_decimal(df_data_date_formated, columns=['order_id', 'customer_id', 'total_amount'])"
   ]
  },
  {
   "cell_type": "code",
   "execution_count": 44,
   "metadata": {},
   "outputs": [
    {
     "name": "stderr",
     "output_type": "stream",
     "text": [
      "2024-08-30 16:53:23,947 - INFO - Successfully handled negative values in column 'order_id' by converting to absolute values.\n",
      "2024-08-30 16:53:23,993 - INFO - Successfully handled negative values in column 'customer_id' by converting to absolute values.\n",
      "2024-08-30 16:53:24,045 - INFO - Successfully handled negative values in column 'total_amount' by converting to absolute values.\n"
     ]
    }
   ],
   "source": [
    "df_data_negative_handel = handle_negative_values(df_data_remove_decimals, columns=[\"order_id\", \"customer_id\", \"total_amount\"], operation=\"absolute\")"
   ]
  },
  {
   "cell_type": "code",
   "execution_count": 49,
   "metadata": {},
   "outputs": [
    {
     "name": "stderr",
     "output_type": "stream",
     "text": [
      "2024-08-30 16:57:32,794 - INFO - Successfully removed '\n",
      "' from column 'shipping_address'.\n",
      "2024-08-30 16:57:32,810 - INFO - Successfully removed '\n",
      "' from column 'billing_address'.\n"
     ]
    }
   ],
   "source": [
    "df_handel_address = remove_string_from_column(df_data_negative_handel, \"shipping_address\", \"\\n\")\n",
    "df_handel_address = remove_string_from_column(df_data_negative_handel, \"billing_address\", \"\\n\")"
   ]
  },
  {
   "cell_type": "code",
   "execution_count": 50,
   "metadata": {},
   "outputs": [],
   "source": [
    "df_data_cleaned = df_handel_address"
   ]
  },
  {
   "cell_type": "code",
   "execution_count": 51,
   "metadata": {},
   "outputs": [
    {
     "name": "stdout",
     "output_type": "stream",
     "text": [
      "+--------+-----------+----------+------------+--------------------+--------------------+\n",
      "|order_id|customer_id|order_date|total_amount|    shipping_address|     billing_address|\n",
      "+--------+-----------+----------+------------+--------------------+--------------------+\n",
      "|     131|       4958|2020-05-10|         569|7886 Higgins Moto...|14788 Robert Land...|\n",
      "|     297|         46|2020-03-11|        1331|PSC 4470, Box 299...|16387 Novak Shoal...|\n",
      "|     330|       1082|2025-05-03|        4010|758 Sarah Plaza\\n...|938 Brian RoadLak...|\n",
      "|      62|       2934|2024-06-01|        1727|7971 Vicki Key Ap...|465 Kramer Way Ap...|\n",
      "|     266|       3929|2022-05-30|         680|57853 Chen Way\\nL...|055 Butler Extens...|\n",
      "|      43|        118|2021-09-26|        4884|9822 Anne Trace A...|1511 Hill Keys Ap...|\n",
      "|      95|       4222|2023-08-27|        3765|Unit 4050 Box 161...|06811 Sean Crossi...|\n",
      "|     167|       3800|2022-12-09|        6259|16060 Mason Creek...|196 Joshua Meadow...|\n",
      "|     300|       1337|2022-01-02|         344|98835 Krista Isle...|98824 James MillH...|\n",
      "|      86|       2814|2022-09-17|        5699|3347 Fleming Trac...|5276 Smith Bypass...|\n",
      "|     399|       3813|2023-03-08|        3468|374 Harris Pike S...|824 Stanley Plaza...|\n",
      "|     274|       2829|2021-11-12|        8941|392 Hoffman Manor...|776 Bryant Camp A...|\n",
      "|     325|        959|2021-12-11|        9898|833 Jeffrey Junct...|33746 Gray LandJo...|\n",
      "|      20|       3574|2020-11-23|        1603|9940 Scott Mount ...|9258 Cassandra Hi...|\n",
      "|      65|       3354|2021-07-03|        7897|8050 Rodriguez Pi...|PSC 1629, Box 428...|\n",
      "|      92|        590|2020-08-25|        1752|78680 Lowery Isla...|0431 William Fall...|\n",
      "|     207|       2266|2023-11-15|        9902|59851 Tyler Passa...|115 Rivera Place ...|\n",
      "|      71|       2824|2023-07-31|        8488|3870 Hampton Vill...|05752 Hill FordsS...|\n",
      "|      78|       1483|2021-02-07|        5100|00838 Harvey Isla...|469 Berg LightBro...|\n",
      "|     140|        294|2024-05-07|        3102|Unit 2567 Box 290...|1202 Christopher ...|\n",
      "+--------+-----------+----------+------------+--------------------+--------------------+\n",
      "only showing top 20 rows\n",
      "\n"
     ]
    }
   ],
   "source": [
    "df_data_cleaned.show()"
   ]
  },
  {
   "cell_type": "code",
   "execution_count": 52,
   "metadata": {},
   "outputs": [
    {
     "name": "stderr",
     "output_type": "stream",
     "text": [
      "2024-08-30 17:04:04,507 - INFO - Saving DataFrame to temporary directory...\n",
      "2024-08-30 17:04:05,945 - INFO - DataFrame saved successfully to temporary directory.\n",
      "2024-08-30 17:04:05,949 - INFO - File moved to final output path: /spark-data/Cleaned_Csv_File/df_data_cleaned.csv\n",
      "2024-08-30 17:04:05,953 - INFO - Temporary directory removed: /spark-data/Cleaned_Csv_File/temp_dir\n"
     ]
    },
    {
     "data": {
      "text/plain": [
       "'/spark-data/Cleaned_Csv_File/df_data_cleaned.csv'"
      ]
     },
     "execution_count": 52,
     "metadata": {},
     "output_type": "execute_result"
    }
   ],
   "source": [
    "save_file(df_data_cleaned, \"/spark-data/Cleaned_Csv_File\",\"df_data_cleaned\")"
   ]
  },
  {
   "cell_type": "markdown",
   "metadata": {},
   "source": [
    "### df_data_reviews cleaning"
   ]
  },
  {
   "cell_type": "code",
   "execution_count": 53,
   "metadata": {},
   "outputs": [],
   "source": [
    "df_review = dfs[\"df_data_reviews\"]"
   ]
  },
  {
   "cell_type": "code",
   "execution_count": 54,
   "metadata": {},
   "outputs": [
    {
     "name": "stdout",
     "output_type": "stream",
     "text": [
      "+-----------+----------+------+-----------+---------+--------------------+\n",
      "|customer_id|product_id|rating|review_date|review_id|         review_text|\n",
      "+-----------+----------+------+-----------+---------+--------------------+\n",
      "|       2522|      4663|     3| 2022-12-20|        1|Home create anyon...|\n",
      "|       2181|      2645|     3| 2024-07-05|        2|Skill herself opt...|\n",
      "|       3935|      1699|     3| 2024-05-06|        3|Public everyone s...|\n",
      "|       3453|      1360|     1| 2023-11-05|        4|Level land majori...|\n",
      "|       2999|      4883|     3| 2024-03-03|        5|Treat fine now di...|\n",
      "|        863|      3544|     2| 2023-06-02|        6|Land despite buy ...|\n",
      "|       2348|      1853|     1| 2023-11-11|        7|Ground again goal...|\n",
      "|       2388|      1652|     3| 2022-11-29|        8|Community materia...|\n",
      "|       4486|       632|     4| 2023-03-31|        9|Goal after color ...|\n",
      "|       1379|      2399|     5| 2024-02-11|       10|Beyond coach meet...|\n",
      "|        309|      3241|     3| 2023-06-30|       11|Policy wish resou...|\n",
      "|       1733|      1939|     5| 2023-08-20|       12|Knowledge alone g...|\n",
      "|       3638|      3895|     1| 2024-05-20|       13|Performance value...|\n",
      "|       1840|      1387|     1| 2022-09-02|       14|Brother example o...|\n",
      "|       4211|      4380|     3| 2024-06-08|       15|Lay reach another...|\n",
      "|       1544|      4487|     1| 2024-07-31|       16|Be when stock act...|\n",
      "|       3378|       911|     4| 2022-08-30|       17|Wear east against...|\n",
      "|       3065|      4749|     4| 2023-01-10|       18|Election letter o...|\n",
      "|       1952|      1019|     1| 2023-07-27|       19|Around bit simila...|\n",
      "|       4543|      3904|     4| 2023-06-12|       20|Than key property...|\n",
      "+-----------+----------+------+-----------+---------+--------------------+\n",
      "only showing top 20 rows\n",
      "\n"
     ]
    }
   ],
   "source": [
    "df_review.show()"
   ]
  },
  {
   "cell_type": "code",
   "execution_count": 57,
   "metadata": {},
   "outputs": [
    {
     "name": "stderr",
     "output_type": "stream",
     "text": [
      "2024-08-30 17:07:47,777 - INFO - Successfully removed duplicate rows based on all columns.\n"
     ]
    }
   ],
   "source": [
    "df_review_remove_duplicate = remove_duplicates(df_review)"
   ]
  },
  {
   "cell_type": "code",
   "execution_count": 59,
   "metadata": {},
   "outputs": [],
   "source": [
    "df_review_null_handel = drop_nulls(df_review_remove_duplicate, \"any\",\"review_id\")"
   ]
  },
  {
   "cell_type": "code",
   "execution_count": 62,
   "metadata": {},
   "outputs": [
    {
     "data": {
      "text/plain": [
       "10000"
      ]
     },
     "execution_count": 62,
     "metadata": {},
     "output_type": "execute_result"
    }
   ],
   "source": [
    "df_review_null_handel.select(\"review_id\").count()"
   ]
  },
  {
   "cell_type": "code",
   "execution_count": 64,
   "metadata": {},
   "outputs": [
    {
     "name": "stderr",
     "output_type": "stream",
     "text": [
      "2024-08-30 17:32:06,216 - INFO - Successfully removed '\n",
      "' from column 'review_text'.\n"
     ]
    }
   ],
   "source": [
    "df_review_review_handel = remove_string_from_column(df_review_null_handel, \"review_text\", \"\\n\")"
   ]
  },
  {
   "cell_type": "code",
   "execution_count": 65,
   "metadata": {},
   "outputs": [
    {
     "name": "stdout",
     "output_type": "stream",
     "text": [
      "+-----------+----------+------+-----------+---------+--------------------+\n",
      "|customer_id|product_id|rating|review_date|review_id|         review_text|\n",
      "+-----------+----------+------+-----------+---------+--------------------+\n",
      "|        166|      3108|     1| 2024-02-12|      363|Realize option ap...|\n",
      "|       1662|      3924|     5| 2024-05-21|      493|Goal rich travel ...|\n",
      "|       4238|       281|     4| 2023-01-01|      619|Fish future kind ...|\n",
      "|        520|       498|     2| 2023-07-03|      678|Computer itself t...|\n",
      "|         58|      1360|     1| 2024-02-01|     1290|Into upon enough ...|\n",
      "|       2277|      3726|     3| 2023-12-11|     1580|Word peace race m...|\n",
      "|       3290|      2684|     5| 2024-06-20|     1627|Market process pr...|\n",
      "|       4476|      2171|     1| 2023-07-07|     1939|South song race p...|\n",
      "|         63|      4951|     2| 2022-12-29|     2547|Tv character seni...|\n",
      "|         84|       983|     2| 2024-03-12|     2572|Six the admit bes...|\n",
      "|        572|       416|     2| 2022-12-16|     2575|Wrong meeting suc...|\n",
      "|        108|      3892|     3| 2023-07-14|     2724|Clear make includ...|\n",
      "|        913|       716|     4| 2022-10-09|     3030|Present last base...|\n",
      "|       4518|      3837|     3| 2023-12-15|     3544|Trip true federal...|\n",
      "|       4015|      4954|     1| 2024-07-11|     3740|Day wear why mana...|\n",
      "|       4937|      3633|     3| 2023-10-26|     4097|Hit stage informa...|\n",
      "|        580|      2114|     5| 2024-01-17|     4377|None under close ...|\n",
      "|       2649|      4667|     4| 2023-06-02|     4673|Test four by memb...|\n",
      "|        937|      4024|     2| 2023-02-06|     4874|Five make real la...|\n",
      "|       3607|      3448|     0| 2022-12-24|     4989|Another say posit...|\n",
      "+-----------+----------+------+-----------+---------+--------------------+\n",
      "only showing top 20 rows\n",
      "\n"
     ]
    }
   ],
   "source": [
    "df_review_review_handel.show()"
   ]
  },
  {
   "cell_type": "code",
   "execution_count": 66,
   "metadata": {},
   "outputs": [],
   "source": [
    "df_review_cleaned = df_review_review_handel"
   ]
  },
  {
   "cell_type": "code",
   "execution_count": 67,
   "metadata": {},
   "outputs": [
    {
     "name": "stderr",
     "output_type": "stream",
     "text": [
      "2024-08-30 17:33:10,671 - INFO - Saving DataFrame to temporary directory...\n",
      "2024-08-30 17:33:11,277 - INFO - DataFrame saved successfully to temporary directory.\n",
      "2024-08-30 17:33:11,280 - INFO - File moved to final output path: /spark-data/Cleaned_Csv_File/df_review_cleaned.csv\n",
      "2024-08-30 17:33:11,292 - INFO - Temporary directory removed: /spark-data/Cleaned_Csv_File/temp_dir\n"
     ]
    },
    {
     "data": {
      "text/plain": [
       "'/spark-data/Cleaned_Csv_File/df_review_cleaned.csv'"
      ]
     },
     "execution_count": 67,
     "metadata": {},
     "output_type": "execute_result"
    }
   ],
   "source": [
    "save_file(df_review_cleaned, \"/spark-data/Cleaned_Csv_File\", \"df_review_cleaned\")"
   ]
  },
  {
   "cell_type": "markdown",
   "metadata": {},
   "source": [
    "### Cleaning df_orders"
   ]
  },
  {
   "cell_type": "code",
   "execution_count": 68,
   "metadata": {},
   "outputs": [],
   "source": [
    "df_order = dfs[\"df_data_orders\"]"
   ]
  },
  {
   "cell_type": "code",
   "execution_count": 69,
   "metadata": {},
   "outputs": [
    {
     "name": "stdout",
     "output_type": "stream",
     "text": [
      "+--------+-------------+-----+----------+--------+\n",
      "|order_id|order_item_id|price|product_id|quantity|\n",
      "+--------+-------------+-----+----------+--------+\n",
      "|     868|            1|   70|      1571|       7|\n",
      "|    3151|            2|    8|      3809|      -3|\n",
      "|    1582|            3|   32|      4896|       8|\n",
      "|    2578|            4|   64|      2712|       4|\n",
      "|    2792|            5|   53|      1111|       4|\n",
      "|    1257|            6|   69|      2874|       1|\n",
      "|    2389|            7|   40|      2670|       9|\n",
      "|    2013|            8|   39|      3779|       6|\n",
      "|    4272|            9|   15|      3109|       5|\n",
      "|    1260|           10|   21|      2110|       8|\n",
      "|    3617|           11|   27|      3350|       1|\n",
      "|    1479|           12|   96|      2917|       9|\n",
      "|    1405|           13|   61|      1480|       5|\n",
      "|    4526|           14|   69|      4686|       5|\n",
      "|    2513|           15|    8|      3146|       8|\n",
      "|    2346|           16|   92|      4182|       5|\n",
      "|    3988|           17|   88|        22|      10|\n",
      "|     972|           18|   16|       516|       1|\n",
      "|    3852|           19|   48|      4182|       4|\n",
      "|    4345|           20|   10|       961|       7|\n",
      "+--------+-------------+-----+----------+--------+\n",
      "only showing top 20 rows\n",
      "\n"
     ]
    }
   ],
   "source": [
    "df_order.show()"
   ]
  },
  {
   "cell_type": "code",
   "execution_count": 70,
   "metadata": {},
   "outputs": [
    {
     "name": "stderr",
     "output_type": "stream",
     "text": [
      "2024-08-30 17:41:34,136 - INFO - Successfully removed duplicate rows based on all columns.\n"
     ]
    }
   ],
   "source": [
    "df_order_remove_duplicates = remove_duplicates(df_order)"
   ]
  },
  {
   "cell_type": "code",
   "execution_count": 72,
   "metadata": {},
   "outputs": [
    {
     "name": "stderr",
     "output_type": "stream",
     "text": [
      "2024-08-30 17:51:03,754 - INFO - Successfully handled negative values in column 'quantity' by setting them to zero.\n"
     ]
    }
   ],
   "source": [
    "df_order_neg_handel = handle_negative_values(df_order_remove_duplicates, columns=[\"quantity\"], operation=\"zero\")"
   ]
  },
  {
   "cell_type": "code",
   "execution_count": null,
   "metadata": {},
   "outputs": [],
   "source": []
  }
 ],
 "metadata": {
  "kernelspec": {
   "display_name": "Python 3",
   "language": "python",
   "name": "python3"
  },
  "language_info": {
   "codemirror_mode": {
    "name": "ipython",
    "version": 3
   },
   "file_extension": ".py",
   "mimetype": "text/x-python",
   "name": "python",
   "nbconvert_exporter": "python",
   "pygments_lexer": "ipython3",
   "version": "3.11.9"
  }
 },
 "nbformat": 4,
 "nbformat_minor": 2
}
