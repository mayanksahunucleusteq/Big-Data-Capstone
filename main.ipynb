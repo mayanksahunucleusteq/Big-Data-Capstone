{
 "cells": [
  {
   "cell_type": "code",
   "execution_count": 3,
   "metadata": {},
   "outputs": [],
   "source": [
    "import sys, os\n",
    "sys.path.append(os.path.abspath('/spark-data'))"
   ]
  },
  {
   "cell_type": "code",
   "execution_count": 4,
   "metadata": {},
   "outputs": [],
   "source": [
    "#Importing Spark Session and important libraries that need to perform things in project\n",
    "from utils.Data_Ingestion.data_ingestion import load_files \n",
    "from utils.Data_Cleaning.data_cleaning import remove_duplicates, validate_emails\n",
    "from utils.Data_Cleaning.data_cleaning import standardize_date_format, remove_decimal, clean_phone_numbers, handle_negative_values, impute_nulls, drop_nulls, remove_string_from_columns\n",
    "from utils.save_dataframe_to_files import save_file\n",
    "from pyspark.sql import SparkSession"
   ]
  },
  {
   "cell_type": "code",
   "execution_count": 5,
   "metadata": {},
   "outputs": [
    {
     "name": "stdout",
     "output_type": "stream",
     "text": [
      ":: loading settings :: url = jar:file:/opt/bitnami/spark/jars/ivy-2.5.1.jar!/org/apache/ivy/core/settings/ivysettings.xml\n"
     ]
    },
    {
     "name": "stderr",
     "output_type": "stream",
     "text": [
      "Ivy Default Cache set to: /root/.ivy2/cache\n",
      "The jars for the packages stored in: /root/.ivy2/jars\n",
      "com.crealytics#spark-excel_2.12 added as a dependency\n",
      ":: resolving dependencies :: org.apache.spark#spark-submit-parent-367becf4-c82c-4225-801f-ddd5f653b8c4;1.0\n",
      "\tconfs: [default]\n",
      "\tfound com.crealytics#spark-excel_2.12;3.4.1_0.19.0 in central\n",
      "\tfound org.apache.poi#poi;5.2.3 in central\n",
      "\tfound commons-codec#commons-codec;1.15 in central\n",
      "\tfound org.apache.commons#commons-collections4;4.4 in central\n",
      "\tfound org.apache.commons#commons-math3;3.6.1 in central\n",
      "\tfound com.zaxxer#SparseBitSet;1.2 in central\n",
      "\tfound org.apache.poi#poi-ooxml;5.2.3 in central\n",
      "\tfound org.apache.poi#poi-ooxml-lite;5.2.3 in central\n",
      "\tfound org.apache.xmlbeans#xmlbeans;5.1.1 in central\n",
      "\tfound com.github.virtuald#curvesapi;1.07 in central\n",
      "\tfound com.norbitltd#spoiwo_2.12;2.2.1 in central\n",
      "\tfound com.github.tototoshi#scala-csv_2.12;1.3.10 in central\n",
      "\tfound com.github.pjfanning#excel-streaming-reader;4.0.5 in central\n",
      "\tfound com.github.pjfanning#poi-shared-strings;2.5.6 in central\n",
      "\tfound org.slf4j#slf4j-api;1.7.36 in central\n",
      "\tfound com.h2database#h2;2.1.214 in central\n",
      "\tfound org.apache.commons#commons-text;1.10.0 in central\n",
      "\tfound org.apache.commons#commons-lang3;3.12.0 in central\n",
      "\tfound commons-io#commons-io;2.13.0 in central\n",
      "\tfound org.apache.commons#commons-compress;1.23.0 in central\n",
      "\tfound org.apache.logging.log4j#log4j-api;2.20.0 in central\n",
      "\tfound org.scala-lang.modules#scala-collection-compat_2.12;2.10.0 in central\n",
      "\tfound org.apache.logging.log4j#log4j-core;2.20.0 in central\n",
      ":: resolution report :: resolve 524ms :: artifacts dl 18ms\n",
      "\t:: modules in use:\n",
      "\tcom.crealytics#spark-excel_2.12;3.4.1_0.19.0 from central in [default]\n",
      "\tcom.github.pjfanning#excel-streaming-reader;4.0.5 from central in [default]\n",
      "\tcom.github.pjfanning#poi-shared-strings;2.5.6 from central in [default]\n",
      "\tcom.github.tototoshi#scala-csv_2.12;1.3.10 from central in [default]\n",
      "\tcom.github.virtuald#curvesapi;1.07 from central in [default]\n",
      "\tcom.h2database#h2;2.1.214 from central in [default]\n",
      "\tcom.norbitltd#spoiwo_2.12;2.2.1 from central in [default]\n",
      "\tcom.zaxxer#SparseBitSet;1.2 from central in [default]\n",
      "\tcommons-codec#commons-codec;1.15 from central in [default]\n",
      "\tcommons-io#commons-io;2.13.0 from central in [default]\n",
      "\torg.apache.commons#commons-collections4;4.4 from central in [default]\n",
      "\torg.apache.commons#commons-compress;1.23.0 from central in [default]\n",
      "\torg.apache.commons#commons-lang3;3.12.0 from central in [default]\n",
      "\torg.apache.commons#commons-math3;3.6.1 from central in [default]\n",
      "\torg.apache.commons#commons-text;1.10.0 from central in [default]\n",
      "\torg.apache.logging.log4j#log4j-api;2.20.0 from central in [default]\n",
      "\torg.apache.logging.log4j#log4j-core;2.20.0 from central in [default]\n",
      "\torg.apache.poi#poi;5.2.3 from central in [default]\n",
      "\torg.apache.poi#poi-ooxml;5.2.3 from central in [default]\n",
      "\torg.apache.poi#poi-ooxml-lite;5.2.3 from central in [default]\n",
      "\torg.apache.xmlbeans#xmlbeans;5.1.1 from central in [default]\n",
      "\torg.scala-lang.modules#scala-collection-compat_2.12;2.10.0 from central in [default]\n",
      "\torg.slf4j#slf4j-api;1.7.36 from central in [default]\n",
      "\t:: evicted modules:\n",
      "\tcommons-io#commons-io;2.11.0 by [commons-io#commons-io;2.13.0] in [default]\n",
      "\torg.apache.logging.log4j#log4j-api;2.18.0 by [org.apache.logging.log4j#log4j-api;2.20.0] in [default]\n",
      "\torg.apache.commons#commons-compress;1.21 by [org.apache.commons#commons-compress;1.23.0] in [default]\n",
      "\torg.apache.poi#poi;5.2.1 by [org.apache.poi#poi;5.2.3] in [default]\n",
      "\torg.apache.poi#poi-ooxml;5.2.1 by [org.apache.poi#poi-ooxml;5.2.3] in [default]\n",
      "\t---------------------------------------------------------------------\n",
      "\t|                  |            modules            ||   artifacts   |\n",
      "\t|       conf       | number| search|dwnlded|evicted|| number|dwnlded|\n",
      "\t---------------------------------------------------------------------\n",
      "\t|      default     |   28  |   0   |   0   |   5   ||   23  |   0   |\n",
      "\t---------------------------------------------------------------------\n",
      ":: retrieving :: org.apache.spark#spark-submit-parent-367becf4-c82c-4225-801f-ddd5f653b8c4\n",
      "\tconfs: [default]\n",
      "\t0 artifacts copied, 23 already retrieved (0kB/12ms)\n",
      "24/09/01 09:43:17 WARN NativeCodeLoader: Unable to load native-hadoop library for your platform... using builtin-java classes where applicable\n",
      "Setting default log level to \"WARN\".\n",
      "To adjust logging level use sc.setLogLevel(newLevel). For SparkR, use setLogLevel(newLevel).\n"
     ]
    }
   ],
   "source": [
    "#Spark Session Builder that builds the Session in which we work upon\n",
    "\n",
    "spark = SparkSession.builder \\\n",
    "    .appName(\"ExceltoDataFrame\") \\\n",
    "    .config(\"spark.jars.packages\", \"com.crealytics:spark-excel_2.12:3.4.1_0.19.0\") \\\n",
    "    .getOrCreate()"
   ]
  },
  {
   "cell_type": "code",
   "execution_count": 96,
   "metadata": {},
   "outputs": [
    {
     "name": "stderr",
     "output_type": "stream",
     "text": [
      "2024-09-01 11:22:36,279 - INFO - Successfully processed nested JSON field 'orders' in file: /spark-data/Data_Files/data.json\n",
      "2024-09-01 11:22:36,297 - INFO - Successfully processed nested JSON field 'reviews' in file: /spark-data/Data_Files/data.json\n",
      "2024-09-01 11:22:37,225 - INFO - Successfully loaded sheet 'data' from Excel file: /spark-data/Data_Files/data.xlsx\n",
      "2024-09-01 11:22:37,652 - INFO - Successfully loaded sheet 'product' from Excel file: /spark-data/Data_Files/data.xlsx\n",
      "2024-09-01 11:22:38,072 - INFO - Successfully loaded sheet 'customer' from Excel file: /spark-data/Data_Files/data.xlsx\n"
     ]
    },
    {
     "name": "stdout",
     "output_type": "stream",
     "text": [
      "DataFrame Name: ('df_data_orders', DataFrame[order_id: bigint, order_item_id: bigint, price: bigint, product_id: bigint, quantity: bigint])\n",
      "DataFrame Name: ('df_data_reviews', DataFrame[customer_id: bigint, product_id: bigint, rating: bigint, review_date: string, review_id: bigint, review_text: string])\n",
      "DataFrame Name: ('df_data_data', DataFrame[order_id: double, customer_id: double, order_date: timestamp, total_amount: double, shipping_address: string, billing_address: string])\n",
      "DataFrame Name: ('df_data_product', DataFrame[product_id: double, product_name: string, category: string, price: double, description: string, inventory: double])\n",
      "DataFrame Name: ('df_data_customer', DataFrame[customer_id: double, first_name: string, last_name: string, email: string, phone_number: string, city: string, state: string, zip_code: double, birth_date: timestamp])\n"
     ]
    }
   ],
   "source": [
    "dfs = load_files(spark)\n",
    "for df_name, df in dfs.items():\n",
    "    print(f\"DataFrame Name: {df_name, df}\")"
   ]
  },
  {
   "cell_type": "code",
   "execution_count": 7,
   "metadata": {},
   "outputs": [
    {
     "name": "stdout",
     "output_type": "stream",
     "text": [
      "+--------+-------------+-----+----------+--------+\n",
      "|order_id|order_item_id|price|product_id|quantity|\n",
      "+--------+-------------+-----+----------+--------+\n",
      "|     868|            1|   70|      1571|       7|\n",
      "|    3151|            2|    8|      3809|      -3|\n",
      "|    1582|            3|   32|      4896|       8|\n",
      "|    2578|            4|   64|      2712|       4|\n",
      "|    2792|            5|   53|      1111|       4|\n",
      "|    1257|            6|   69|      2874|       1|\n",
      "|    2389|            7|   40|      2670|       9|\n",
      "|    2013|            8|   39|      3779|       6|\n",
      "|    4272|            9|   15|      3109|       5|\n",
      "|    1260|           10|   21|      2110|       8|\n",
      "|    3617|           11|   27|      3350|       1|\n",
      "|    1479|           12|   96|      2917|       9|\n",
      "|    1405|           13|   61|      1480|       5|\n",
      "|    4526|           14|   69|      4686|       5|\n",
      "|    2513|           15|    8|      3146|       8|\n",
      "|    2346|           16|   92|      4182|       5|\n",
      "|    3988|           17|   88|        22|      10|\n",
      "|     972|           18|   16|       516|       1|\n",
      "|    3852|           19|   48|      4182|       4|\n",
      "|    4345|           20|   10|       961|       7|\n",
      "+--------+-------------+-----+----------+--------+\n",
      "only showing top 20 rows\n",
      "\n"
     ]
    }
   ],
   "source": [
    "dfs['df_data_orders'].show()"
   ]
  },
  {
   "cell_type": "code",
   "execution_count": 8,
   "metadata": {},
   "outputs": [
    {
     "name": "stdout",
     "output_type": "stream",
     "text": [
      "+-----------+----------+------+-----------+---------+--------------------+\n",
      "|customer_id|product_id|rating|review_date|review_id|         review_text|\n",
      "+-----------+----------+------+-----------+---------+--------------------+\n",
      "|       2522|      4663|     3| 2022-12-20|        1|Home create anyon...|\n",
      "|       2181|      2645|     3| 2024-07-05|        2|Skill herself opt...|\n",
      "|       3935|      1699|     3| 2024-05-06|        3|Public everyone s...|\n",
      "|       3453|      1360|     1| 2023-11-05|        4|Level land majori...|\n",
      "|       2999|      4883|     3| 2024-03-03|        5|Treat fine now di...|\n",
      "|        863|      3544|     2| 2023-06-02|        6|Land despite buy ...|\n",
      "|       2348|      1853|     1| 2023-11-11|        7|Ground again goal...|\n",
      "|       2388|      1652|     3| 2022-11-29|        8|Community materia...|\n",
      "|       4486|       632|     4| 2023-03-31|        9|Goal after color ...|\n",
      "|       1379|      2399|     5| 2024-02-11|       10|Beyond coach meet...|\n",
      "|        309|      3241|     3| 2023-06-30|       11|Policy wish resou...|\n",
      "|       1733|      1939|     5| 2023-08-20|       12|Knowledge alone g...|\n",
      "|       3638|      3895|     1| 2024-05-20|       13|Performance value...|\n",
      "|       1840|      1387|     1| 2022-09-02|       14|Brother example o...|\n",
      "|       4211|      4380|     3| 2024-06-08|       15|Lay reach another...|\n",
      "|       1544|      4487|     1| 2024-07-31|       16|Be when stock act...|\n",
      "|       3378|       911|     4| 2022-08-30|       17|Wear east against...|\n",
      "|       3065|      4749|     4| 2023-01-10|       18|Election letter o...|\n",
      "|       1952|      1019|     1| 2023-07-27|       19|Around bit simila...|\n",
      "|       4543|      3904|     4| 2023-06-12|       20|Than key property...|\n",
      "+-----------+----------+------+-----------+---------+--------------------+\n",
      "only showing top 20 rows\n",
      "\n"
     ]
    }
   ],
   "source": [
    "dfs['df_data_reviews'].show()"
   ]
  },
  {
   "cell_type": "code",
   "execution_count": 9,
   "metadata": {},
   "outputs": [
    {
     "name": "stdout",
     "output_type": "stream",
     "text": [
      "+--------+-----------+-------------------+------------+--------------------+--------------------+\n",
      "|order_id|customer_id|         order_date|total_amount|    shipping_address|     billing_address|\n",
      "+--------+-----------+-------------------+------------+--------------------+--------------------+\n",
      "|     1.0|      462.0|2019-08-26 00:00:00|      4007.0|60585 Moore Overp...|775 Roberson Knol...|\n",
      "|     2.0|     2820.0|2021-04-22 00:00:00|      7240.0|3278 Price Isle\\n...|2055 Curry Street...|\n",
      "|     3.0|     1934.0|2024-02-21 00:00:00|      8318.0|Unit 8425 Box 079...|USNV Strong\\nFPO ...|\n",
      "|     4.0|     2694.0|2021-01-14 00:00:00|      4992.0|5566 Brittany Sta...|524 Allen Shoal S...|\n",
      "|     5.0|      134.0|2020-03-14 00:00:00|      5385.0|4289 Michael Esta...|38637 Cheryl Junc...|\n",
      "|     6.0|     4651.0|2020-12-30 00:00:00|      3512.0|83184 Shelly Land...|80329 Dawn Road S...|\n",
      "|     7.0|     1696.0|2023-05-30 00:00:00|      4592.0|7127 Arroyo Land\\...|787 Smith Islands...|\n",
      "|     8.0|     1969.0|2021-05-03 00:00:00|      6640.0|29076 Robinson Ca...|65198 Anderson Ex...|\n",
      "|     9.0|     2220.0|2024-06-24 00:00:00|      1779.0|2112 Jonathan Vil...|6689 Bullock Rest...|\n",
      "|    10.0|     4441.0|2022-05-10 00:00:00|      5785.0|5356 Ramirez Ligh...|561 Darren Loaf S...|\n",
      "|    11.0|     1557.0|2023-03-08 00:00:00|      5172.0|6895 Mary Course\\...|891 Jackson Strav...|\n",
      "|    12.0|     4147.0|2020-10-21 00:00:00|      3664.0|3479 Joseph Burg ...|601 Wilson Locks\\...|\n",
      "|    13.0|      653.0|2023-12-11 00:00:00|      1340.0|USNS Davidson\\nFP...|35260 Joseph Cour...|\n",
      "|    14.0|     1227.0|2020-08-31 00:00:00|      6007.0|705 Robert Light\\...|279 Jeffrey Mount...|\n",
      "|    15.0|     4327.0|2022-07-06 00:00:00|      2898.0|906 Frederick Pin...|42202 Smith Pines...|\n",
      "|    16.0|     3191.0|2021-08-10 00:00:00|      9095.0|151 John Loaf\\nLa...|405 Gregory Stree...|\n",
      "|    17.0|     3918.0|2021-08-05 00:00:00|      6038.0|4686 Andres Ville...|1349 Cox Circles ...|\n",
      "|    18.0|      615.0|2022-09-20 00:00:00|      1025.0|5572 David Causew...|7229 Lisa Rest Su...|\n",
      "|    19.0|     4936.0|2020-10-05 00:00:00|      3070.0|71029 Lewis Stree...|85591 Laura Terra...|\n",
      "|    20.0|     3574.0|2020-11-23 00:00:00|      1603.0|9940 Scott Mount ...|9258 Cassandra Hi...|\n",
      "+--------+-----------+-------------------+------------+--------------------+--------------------+\n",
      "only showing top 20 rows\n",
      "\n"
     ]
    }
   ],
   "source": [
    "dfs['df_data_data'].show()"
   ]
  },
  {
   "cell_type": "code",
   "execution_count": 10,
   "metadata": {},
   "outputs": [
    {
     "name": "stdout",
     "output_type": "stream",
     "text": [
      "+----------+-------------+---------+-----+--------------------+---------+\n",
      "|product_id| product_name| category|price|         description|inventory|\n",
      "+----------+-------------+---------+-----+--------------------+---------+\n",
      "|       1.0|          bag|       no|448.0|Summer now health...|    655.0|\n",
      "|       2.0|        happy|   answer|844.0|Employee discuss ...|    230.0|\n",
      "|       3.0|         same|      his|681.0|Million mother pu...|    831.0|\n",
      "|       4.0|      prevent|   around| 34.0|Because under mea...|    804.0|\n",
      "|       5.0|        quite|   summer|663.0|Approach Mr task ...|    351.0|\n",
      "|       6.0|        which|  purpose|386.0|Leave charge mode...|     10.0|\n",
      "|       7.0|       beyond|   beyond|879.0|Shoulder power in...|    282.0|\n",
      "|       8.0|     although|     home|650.0|Exactly continue ...|    818.0|\n",
      "|       9.0|environmental| although|  7.0|Really admit kind...|    128.0|\n",
      "|      10.0|       assume|professor|945.0|Bar truth here gr...|    168.0|\n",
      "|      11.0|      usually|   figure|434.0|                null|    155.0|\n",
      "|      12.0|        their| property|158.0|Run seat couple e...|    374.0|\n",
      "|      13.0|         fine|  usually|906.0|Rich ability impr...|    395.0|\n",
      "|      14.0|         risk|     away|128.0|Protect bill fall...|    175.0|\n",
      "|      15.0|     approach|       of|243.0|Adult kid way. Th...|    192.0|\n",
      "|      16.0|         mind|     tell|305.0|School home half ...|    389.0|\n",
      "|      17.0|  opportunity|      gun|956.0|Late like economy...|    535.0|\n",
      "|      18.0|         pull|       by|957.0|Player firm story...|    541.0|\n",
      "|      19.0|         step|    occur|227.0|Very follow elect...|    763.0|\n",
      "|      20.0|     physical|    money|253.0|See six religious...|    619.0|\n",
      "+----------+-------------+---------+-----+--------------------+---------+\n",
      "only showing top 20 rows\n",
      "\n"
     ]
    }
   ],
   "source": [
    "dfs['df_data_product'].show()"
   ]
  },
  {
   "cell_type": "markdown",
   "metadata": {},
   "source": [
    "### Cleaning df_customer"
   ]
  },
  {
   "cell_type": "code",
   "execution_count": 11,
   "metadata": {},
   "outputs": [],
   "source": [
    "df_customer = dfs['df_data_customer']"
   ]
  },
  {
   "cell_type": "code",
   "execution_count": 12,
   "metadata": {},
   "outputs": [
    {
     "name": "stdout",
     "output_type": "stream",
     "text": [
      "+-----------+-----------+---------+--------------------+--------------------+-----------------+-------------+--------+-------------------+\n",
      "|customer_id| first_name|last_name|               email|        phone_number|             city|        state|zip_code|         birth_date|\n",
      "+-----------+-----------+---------+--------------------+--------------------+-----------------+-------------+--------+-------------------+\n",
      "|        1.0|    Crystal|  Edwards|mcmahonemily@exam...|        511.782.4381|    Fergusonville|         Iowa| 91344.0|1995-02-28 00:00:00|\n",
      "|        2.0|   Jennifer|    Jones|douglasedwards@ex...|          9187202495|     Jenniferport|   New Jersey| 59371.0|1951-01-27 00:00:00|\n",
      "|        3.0|  Catherine|    Crane|douglaskevin@exam...|  (381)601-2272x7972|  Jenniferchester|West Virginia| 49812.0|1966-10-07 00:00:00|\n",
      "|        4.0|     Lauren|    Irwin|aguirresteven@exa...|    001-707-942-4829|      New Melissa|     Michigan| 17279.0|1936-07-28 00:00:00|\n",
      "|        5.0|Christopher|   Nelson|dustin50@example.org|  735.814.4145x28586|       Hannahberg|     Oklahoma| 33821.0|1944-02-15 00:00:00|\n",
      "|        6.0|     Robert|    Costa|natalie33@example...|       (210)333-4611|     Lauraborough| Rhode Island| 37454.0|1946-09-27 00:00:00|\n",
      "|        7.0|   Michelle|    Lewis|jamiesingh@exampl...|          9524191690|     Lake Whitney|     Oklahoma| 80306.0|1959-02-12 00:00:00|\n",
      "|        8.0|    Jeffrey|     Vang|kristen52@example...|             -1521.0| New Jeffreymouth|     Virginia| 58012.0|1981-01-20 00:00:00|\n",
      "|        9.0|    Roberto|  Johnson| ihughes@example.com| (505)895-7853x48550|         Jodifurt|    Louisiana| 13500.0|1918-02-05 00:00:00|\n",
      "|       10.0|    Richard|  Beltran|smithtyler@exampl...|001-679-615-9888x...|       East Barry|      Arizona| 89980.0|1925-05-19 00:00:00|\n",
      "|       11.0|       Jose|   Forbes|gjackson@example.com|   440-257-9768x4814|     Williamsfort|     New York| 74873.0|1935-04-19 00:00:00|\n",
      "|       12.0|     Thomas|   Murphy|nbarrett@example.org|          7486055651|        Adamsstad|     Maryland| 10853.0|2013-03-01 00:00:00|\n",
      "|       13.0|    Anthony|    Young|poncetonya@exampl...|    001-586-933-1496|    Port Evanside|    Louisiana|  3739.0|1950-12-10 00:00:00|\n",
      "|       14.0|     Lauren| Campbell|taylornancy@examp...|001-635-567-9354x...|     West Annaton| Pennsylvania|  1518.0|1925-04-04 00:00:00|\n",
      "|       15.0|     Martha|Underwood|pamelacrawford@ex...| +1-461-208-9197x538|     East Charles|         Utah|  3289.0|1922-11-27 00:00:00|\n",
      "|       16.0|    Natasha| Johnston|laurarichardson@e...|        901.251.8967|     Benjaminbury|     Arkansas| 21371.0|1971-11-11 00:00:00|\n",
      "|       17.0|       John|   Powell|figueroawilliam@e...|  698.504.0834x73636|    Port Kimberly|      Alabama| 13754.0|1997-08-29 00:00:00|\n",
      "|       18.0|     Daniel|   Barton|mooresamantha@exa...|        771-621-2990|West Claytonburgh|        Idaho|  3297.0|1973-12-08 00:00:00|\n",
      "|       19.0|    Michael|   Bishop|kimdavid@example.com|+1-935-742-8065x1...|       Craigmouth|     Maryland| 77716.0|1977-03-17 00:00:00|\n",
      "|       20.0|     Janice| Faulkner| brett63@example.net|             -4261.0|     Victoriabury|     Illinois| 58702.0|2004-04-05 00:00:00|\n",
      "+-----------+-----------+---------+--------------------+--------------------+-----------------+-------------+--------+-------------------+\n",
      "only showing top 20 rows\n",
      "\n"
     ]
    }
   ],
   "source": [
    "df_customer.show()"
   ]
  },
  {
   "cell_type": "code",
   "execution_count": 13,
   "metadata": {},
   "outputs": [
    {
     "name": "stderr",
     "output_type": "stream",
     "text": [
      "2024-09-01 09:43:29,177 - INFO - Successfully removed duplicate rows based on all columns.\n"
     ]
    }
   ],
   "source": [
    "#This is for when you want to apply this remove_duplicate on specific column of dataframe but it is optional\n",
    "# df_customer_demo = remove_duplicates(df_customer, columns=[\"customer_id\"]).show()\n",
    "\n",
    "#For remove Duplicates on df_customer dataframe\n",
    "df_customer_remove_duplicates = remove_duplicates(df_customer)"
   ]
  },
  {
   "cell_type": "code",
   "execution_count": 14,
   "metadata": {},
   "outputs": [
    {
     "name": "stderr",
     "output_type": "stream",
     "text": [
      "2024-09-01 09:43:29,485 - INFO - Dropped rows/columns with null values using method 'all'.\n",
      "2024-09-01 09:43:29,636 - INFO - Imputed nulls in column 'first_name' with constant value: Not Available\n",
      "2024-09-01 09:43:29,649 - INFO - Imputed nulls in column 'last_name' with constant value: Not Available\n",
      "2024-09-01 09:43:29,663 - INFO - Imputed nulls in column 'city' with constant value: Not Available\n",
      "2024-09-01 09:43:29,679 - INFO - Imputed nulls in column 'state' with constant value: Not Available\n",
      "2024-09-01 09:43:29,698 - INFO - Imputed nulls in column 'zip_code' with constant value: Not Available\n",
      "2024-09-01 09:43:29,712 - INFO - Imputed nulls in column 'birth_date' with constant value: Not Available\n"
     ]
    }
   ],
   "source": [
    "df_customer_handle_nulls = drop_nulls(df_customer, 'all', subset=[\"customer_id\"])\n",
    "df_customer_handle_nulls = impute_nulls(df_customer_handle_nulls, columns=[\"first_name\", \"last_name\", \"city\", \"state\", \"zip_code\", \"birth_date\"], method=\"constant\",value=\"Not Available\")"
   ]
  },
  {
   "cell_type": "code",
   "execution_count": 15,
   "metadata": {},
   "outputs": [
    {
     "name": "stdout",
     "output_type": "stream",
     "text": [
      "+-----------+-----------+---------+--------------------+--------------------+-----------------+-------------+--------+-------------------+\n",
      "|customer_id| first_name|last_name|               email|        phone_number|             city|        state|zip_code|         birth_date|\n",
      "+-----------+-----------+---------+--------------------+--------------------+-----------------+-------------+--------+-------------------+\n",
      "|        1.0|    Crystal|  Edwards|mcmahonemily@exam...|        511.782.4381|    Fergusonville|         Iowa| 91344.0|1995-02-28 00:00:00|\n",
      "|        2.0|   Jennifer|    Jones|douglasedwards@ex...|          9187202495|     Jenniferport|   New Jersey| 59371.0|1951-01-27 00:00:00|\n",
      "|        3.0|  Catherine|    Crane|douglaskevin@exam...|  (381)601-2272x7972|  Jenniferchester|West Virginia| 49812.0|1966-10-07 00:00:00|\n",
      "|        4.0|     Lauren|    Irwin|aguirresteven@exa...|    001-707-942-4829|      New Melissa|     Michigan| 17279.0|1936-07-28 00:00:00|\n",
      "|        5.0|Christopher|   Nelson|dustin50@example.org|  735.814.4145x28586|       Hannahberg|     Oklahoma| 33821.0|1944-02-15 00:00:00|\n",
      "|        6.0|     Robert|    Costa|natalie33@example...|       (210)333-4611|     Lauraborough| Rhode Island| 37454.0|1946-09-27 00:00:00|\n",
      "|        7.0|   Michelle|    Lewis|jamiesingh@exampl...|          9524191690|     Lake Whitney|     Oklahoma| 80306.0|1959-02-12 00:00:00|\n",
      "|        8.0|    Jeffrey|     Vang|kristen52@example...|             -1521.0| New Jeffreymouth|     Virginia| 58012.0|1981-01-20 00:00:00|\n",
      "|        9.0|    Roberto|  Johnson| ihughes@example.com| (505)895-7853x48550|         Jodifurt|    Louisiana| 13500.0|1918-02-05 00:00:00|\n",
      "|       10.0|    Richard|  Beltran|smithtyler@exampl...|001-679-615-9888x...|       East Barry|      Arizona| 89980.0|1925-05-19 00:00:00|\n",
      "|       11.0|       Jose|   Forbes|gjackson@example.com|   440-257-9768x4814|     Williamsfort|     New York| 74873.0|1935-04-19 00:00:00|\n",
      "|       12.0|     Thomas|   Murphy|nbarrett@example.org|          7486055651|        Adamsstad|     Maryland| 10853.0|2013-03-01 00:00:00|\n",
      "|       13.0|    Anthony|    Young|poncetonya@exampl...|    001-586-933-1496|    Port Evanside|    Louisiana|  3739.0|1950-12-10 00:00:00|\n",
      "|       14.0|     Lauren| Campbell|taylornancy@examp...|001-635-567-9354x...|     West Annaton| Pennsylvania|  1518.0|1925-04-04 00:00:00|\n",
      "|       15.0|     Martha|Underwood|pamelacrawford@ex...| +1-461-208-9197x538|     East Charles|         Utah|  3289.0|1922-11-27 00:00:00|\n",
      "|       16.0|    Natasha| Johnston|laurarichardson@e...|        901.251.8967|     Benjaminbury|     Arkansas| 21371.0|1971-11-11 00:00:00|\n",
      "|       17.0|       John|   Powell|figueroawilliam@e...|  698.504.0834x73636|    Port Kimberly|      Alabama| 13754.0|1997-08-29 00:00:00|\n",
      "|       18.0|     Daniel|   Barton|mooresamantha@exa...|        771-621-2990|West Claytonburgh|        Idaho|  3297.0|1973-12-08 00:00:00|\n",
      "|       19.0|    Michael|   Bishop|kimdavid@example.com|+1-935-742-8065x1...|       Craigmouth|     Maryland| 77716.0|1977-03-17 00:00:00|\n",
      "|       20.0|     Janice| Faulkner| brett63@example.net|             -4261.0|     Victoriabury|     Illinois| 58702.0|2004-04-05 00:00:00|\n",
      "+-----------+-----------+---------+--------------------+--------------------+-----------------+-------------+--------+-------------------+\n",
      "only showing top 20 rows\n",
      "\n"
     ]
    }
   ],
   "source": [
    "df_customer_handle_nulls.show()"
   ]
  },
  {
   "cell_type": "code",
   "execution_count": 16,
   "metadata": {},
   "outputs": [
    {
     "name": "stderr",
     "output_type": "stream",
     "text": [
      "2024-09-01 09:43:30,595 - INFO - Successfully standardized date format in column 'birth_date' to 'yyyy-MM-dd'.\n"
     ]
    }
   ],
   "source": [
    "df_customer_correct_birthdate = standardize_date_format(df_customer_handle_nulls, 'birth_date')\n"
   ]
  },
  {
   "cell_type": "code",
   "execution_count": 17,
   "metadata": {},
   "outputs": [
    {
     "name": "stdout",
     "output_type": "stream",
     "text": [
      "+-----------+-----------+---------+--------------------+--------------------+-----------------+-------------+--------+----------+\n",
      "|customer_id| first_name|last_name|               email|        phone_number|             city|        state|zip_code|birth_date|\n",
      "+-----------+-----------+---------+--------------------+--------------------+-----------------+-------------+--------+----------+\n",
      "|        1.0|    Crystal|  Edwards|mcmahonemily@exam...|        511.782.4381|    Fergusonville|         Iowa| 91344.0|1995-02-28|\n",
      "|        2.0|   Jennifer|    Jones|douglasedwards@ex...|          9187202495|     Jenniferport|   New Jersey| 59371.0|1951-01-27|\n",
      "|        3.0|  Catherine|    Crane|douglaskevin@exam...|  (381)601-2272x7972|  Jenniferchester|West Virginia| 49812.0|1966-10-07|\n",
      "|        4.0|     Lauren|    Irwin|aguirresteven@exa...|    001-707-942-4829|      New Melissa|     Michigan| 17279.0|1936-07-28|\n",
      "|        5.0|Christopher|   Nelson|dustin50@example.org|  735.814.4145x28586|       Hannahberg|     Oklahoma| 33821.0|1944-02-15|\n",
      "|        6.0|     Robert|    Costa|natalie33@example...|       (210)333-4611|     Lauraborough| Rhode Island| 37454.0|1946-09-27|\n",
      "|        7.0|   Michelle|    Lewis|jamiesingh@exampl...|          9524191690|     Lake Whitney|     Oklahoma| 80306.0|1959-02-12|\n",
      "|        8.0|    Jeffrey|     Vang|kristen52@example...|             -1521.0| New Jeffreymouth|     Virginia| 58012.0|1981-01-20|\n",
      "|        9.0|    Roberto|  Johnson| ihughes@example.com| (505)895-7853x48550|         Jodifurt|    Louisiana| 13500.0|1918-02-05|\n",
      "|       10.0|    Richard|  Beltran|smithtyler@exampl...|001-679-615-9888x...|       East Barry|      Arizona| 89980.0|1925-05-19|\n",
      "|       11.0|       Jose|   Forbes|gjackson@example.com|   440-257-9768x4814|     Williamsfort|     New York| 74873.0|1935-04-19|\n",
      "|       12.0|     Thomas|   Murphy|nbarrett@example.org|          7486055651|        Adamsstad|     Maryland| 10853.0|2013-03-01|\n",
      "|       13.0|    Anthony|    Young|poncetonya@exampl...|    001-586-933-1496|    Port Evanside|    Louisiana|  3739.0|1950-12-10|\n",
      "|       14.0|     Lauren| Campbell|taylornancy@examp...|001-635-567-9354x...|     West Annaton| Pennsylvania|  1518.0|1925-04-04|\n",
      "|       15.0|     Martha|Underwood|pamelacrawford@ex...| +1-461-208-9197x538|     East Charles|         Utah|  3289.0|1922-11-27|\n",
      "|       16.0|    Natasha| Johnston|laurarichardson@e...|        901.251.8967|     Benjaminbury|     Arkansas| 21371.0|1971-11-11|\n",
      "|       17.0|       John|   Powell|figueroawilliam@e...|  698.504.0834x73636|    Port Kimberly|      Alabama| 13754.0|1997-08-29|\n",
      "|       18.0|     Daniel|   Barton|mooresamantha@exa...|        771-621-2990|West Claytonburgh|        Idaho|  3297.0|1973-12-08|\n",
      "|       19.0|    Michael|   Bishop|kimdavid@example.com|+1-935-742-8065x1...|       Craigmouth|     Maryland| 77716.0|1977-03-17|\n",
      "|       20.0|     Janice| Faulkner| brett63@example.net|             -4261.0|     Victoriabury|     Illinois| 58702.0|2004-04-05|\n",
      "+-----------+-----------+---------+--------------------+--------------------+-----------------+-------------+--------+----------+\n",
      "only showing top 20 rows\n",
      "\n"
     ]
    }
   ],
   "source": [
    "df_customer_correct_birthdate.show()"
   ]
  },
  {
   "cell_type": "code",
   "execution_count": 18,
   "metadata": {},
   "outputs": [
    {
     "name": "stderr",
     "output_type": "stream",
     "text": [
      "2024-09-01 09:43:31,370 - INFO - Successfully removed decimal values from column 'zip_code'.\n",
      "2024-09-01 09:43:31,392 - INFO - Successfully removed decimal values from column 'customer_id'.\n"
     ]
    }
   ],
   "source": [
    "df_customer_remove_decimal = remove_decimal(df_customer_correct_birthdate, columns=[\"zip_code\", \"customer_id\"])\n"
   ]
  },
  {
   "cell_type": "code",
   "execution_count": 19,
   "metadata": {},
   "outputs": [
    {
     "name": "stdout",
     "output_type": "stream",
     "text": [
      "+-----------+-----------+---------+--------------------+--------------------+-----------------+-------------+--------+----------+\n",
      "|customer_id| first_name|last_name|               email|        phone_number|             city|        state|zip_code|birth_date|\n",
      "+-----------+-----------+---------+--------------------+--------------------+-----------------+-------------+--------+----------+\n",
      "|          1|    Crystal|  Edwards|mcmahonemily@exam...|        511.782.4381|    Fergusonville|         Iowa|   91344|1995-02-28|\n",
      "|          2|   Jennifer|    Jones|douglasedwards@ex...|          9187202495|     Jenniferport|   New Jersey|   59371|1951-01-27|\n",
      "|          3|  Catherine|    Crane|douglaskevin@exam...|  (381)601-2272x7972|  Jenniferchester|West Virginia|   49812|1966-10-07|\n",
      "|          4|     Lauren|    Irwin|aguirresteven@exa...|    001-707-942-4829|      New Melissa|     Michigan|   17279|1936-07-28|\n",
      "|          5|Christopher|   Nelson|dustin50@example.org|  735.814.4145x28586|       Hannahberg|     Oklahoma|   33821|1944-02-15|\n",
      "|          6|     Robert|    Costa|natalie33@example...|       (210)333-4611|     Lauraborough| Rhode Island|   37454|1946-09-27|\n",
      "|          7|   Michelle|    Lewis|jamiesingh@exampl...|          9524191690|     Lake Whitney|     Oklahoma|   80306|1959-02-12|\n",
      "|          8|    Jeffrey|     Vang|kristen52@example...|             -1521.0| New Jeffreymouth|     Virginia|   58012|1981-01-20|\n",
      "|          9|    Roberto|  Johnson| ihughes@example.com| (505)895-7853x48550|         Jodifurt|    Louisiana|   13500|1918-02-05|\n",
      "|         10|    Richard|  Beltran|smithtyler@exampl...|001-679-615-9888x...|       East Barry|      Arizona|   89980|1925-05-19|\n",
      "|         11|       Jose|   Forbes|gjackson@example.com|   440-257-9768x4814|     Williamsfort|     New York|   74873|1935-04-19|\n",
      "|         12|     Thomas|   Murphy|nbarrett@example.org|          7486055651|        Adamsstad|     Maryland|   10853|2013-03-01|\n",
      "|         13|    Anthony|    Young|poncetonya@exampl...|    001-586-933-1496|    Port Evanside|    Louisiana|    3739|1950-12-10|\n",
      "|         14|     Lauren| Campbell|taylornancy@examp...|001-635-567-9354x...|     West Annaton| Pennsylvania|    1518|1925-04-04|\n",
      "|         15|     Martha|Underwood|pamelacrawford@ex...| +1-461-208-9197x538|     East Charles|         Utah|    3289|1922-11-27|\n",
      "|         16|    Natasha| Johnston|laurarichardson@e...|        901.251.8967|     Benjaminbury|     Arkansas|   21371|1971-11-11|\n",
      "|         17|       John|   Powell|figueroawilliam@e...|  698.504.0834x73636|    Port Kimberly|      Alabama|   13754|1997-08-29|\n",
      "|         18|     Daniel|   Barton|mooresamantha@exa...|        771-621-2990|West Claytonburgh|        Idaho|    3297|1973-12-08|\n",
      "|         19|    Michael|   Bishop|kimdavid@example.com|+1-935-742-8065x1...|       Craigmouth|     Maryland|   77716|1977-03-17|\n",
      "|         20|     Janice| Faulkner| brett63@example.net|             -4261.0|     Victoriabury|     Illinois|   58702|2004-04-05|\n",
      "+-----------+-----------+---------+--------------------+--------------------+-----------------+-------------+--------+----------+\n",
      "only showing top 20 rows\n",
      "\n"
     ]
    }
   ],
   "source": [
    "df_customer_remove_decimal.show()"
   ]
  },
  {
   "cell_type": "code",
   "execution_count": 20,
   "metadata": {},
   "outputs": [
    {
     "name": "stderr",
     "output_type": "stream",
     "text": [
      "2024-09-01 09:43:32,233 - INFO - Phone numbers in column 'phone_number' cleaned successfully.\n"
     ]
    }
   ],
   "source": [
    "df_customer_clean_phone_numbers = clean_phone_numbers(df_customer_remove_decimal, 'phone_number')"
   ]
  },
  {
   "cell_type": "code",
   "execution_count": 21,
   "metadata": {},
   "outputs": [
    {
     "name": "stderr",
     "output_type": "stream",
     "text": [
      "[Stage 12:>                                                         (0 + 1) / 1]\r"
     ]
    },
    {
     "name": "stdout",
     "output_type": "stream",
     "text": [
      "+-----------+-----------+---------+--------------------+--------------------+-----------------+-------------+--------+----------+\n",
      "|customer_id| first_name|last_name|               email|        phone_number|             city|        state|zip_code|birth_date|\n",
      "+-----------+-----------+---------+--------------------+--------------------+-----------------+-------------+--------+----------+\n",
      "|          1|    Crystal|  Edwards|mcmahonemily@exam...|   +1 (511) 782-4381|    Fergusonville|         Iowa|   91344|1995-02-28|\n",
      "|          2|   Jennifer|    Jones|douglasedwards@ex...|   +1 (918) 720-2495|     Jenniferport|   New Jersey|   59371|1951-01-27|\n",
      "|          3|  Catherine|    Crane|douglaskevin@exam...|+1 (381) 601-2272...|  Jenniferchester|West Virginia|   49812|1966-10-07|\n",
      "|          4|     Lauren|    Irwin|aguirresteven@exa...|Invalid phone number|      New Melissa|     Michigan|   17279|1936-07-28|\n",
      "|          5|Christopher|   Nelson|dustin50@example.org|+1 (735) 814-4145...|       Hannahberg|     Oklahoma|   33821|1944-02-15|\n",
      "|          6|     Robert|    Costa|natalie33@example...|   +1 (210) 333-4611|     Lauraborough| Rhode Island|   37454|1946-09-27|\n",
      "|          7|   Michelle|    Lewis|jamiesingh@exampl...|   +1 (952) 419-1690|     Lake Whitney|     Oklahoma|   80306|1959-02-12|\n",
      "|          8|    Jeffrey|     Vang|kristen52@example...|Invalid phone number| New Jeffreymouth|     Virginia|   58012|1981-01-20|\n",
      "|          9|    Roberto|  Johnson| ihughes@example.com|+1 (505) 895-7853...|         Jodifurt|    Louisiana|   13500|1918-02-05|\n",
      "|         10|    Richard|  Beltran|smithtyler@exampl...|Invalid phone number|       East Barry|      Arizona|   89980|1925-05-19|\n",
      "|         11|       Jose|   Forbes|gjackson@example.com|+1 (440) 257-9768...|     Williamsfort|     New York|   74873|1935-04-19|\n",
      "|         12|     Thomas|   Murphy|nbarrett@example.org|   +1 (748) 605-5651|        Adamsstad|     Maryland|   10853|2013-03-01|\n",
      "|         13|    Anthony|    Young|poncetonya@exampl...|Invalid phone number|    Port Evanside|    Louisiana|    3739|1950-12-10|\n",
      "|         14|     Lauren| Campbell|taylornancy@examp...|Invalid phone number|     West Annaton| Pennsylvania|    1518|1925-04-04|\n",
      "|         15|     Martha|Underwood|pamelacrawford@ex...|+1 (461) 208-9197...|     East Charles|         Utah|    3289|1922-11-27|\n",
      "|         16|    Natasha| Johnston|laurarichardson@e...|   +1 (901) 251-8967|     Benjaminbury|     Arkansas|   21371|1971-11-11|\n",
      "|         17|       John|   Powell|figueroawilliam@e...|+1 (698) 504-0834...|    Port Kimberly|      Alabama|   13754|1997-08-29|\n",
      "|         18|     Daniel|   Barton|mooresamantha@exa...|   +1 (771) 621-2990|West Claytonburgh|        Idaho|    3297|1973-12-08|\n",
      "|         19|    Michael|   Bishop|kimdavid@example.com|+1 (935) 742-8065...|       Craigmouth|     Maryland|   77716|1977-03-17|\n",
      "|         20|     Janice| Faulkner| brett63@example.net|Invalid phone number|     Victoriabury|     Illinois|   58702|2004-04-05|\n",
      "+-----------+-----------+---------+--------------------+--------------------+-----------------+-------------+--------+----------+\n",
      "only showing top 20 rows\n",
      "\n"
     ]
    },
    {
     "name": "stderr",
     "output_type": "stream",
     "text": [
      "WARNING:root:Phone number '0017079424829' is invalid after cleaning.\n",
      "WARNING:root:Phone number '15210' is invalid after cleaning.\n",
      "WARNING:root:Phone number '0016796159888' is invalid after cleaning.\n",
      "WARNING:root:Phone number '0015869331496' is invalid after cleaning.\n",
      "WARNING:root:Phone number '0016355679354' is invalid after cleaning.\n",
      "WARNING:root:Phone number '42610' is invalid after cleaning.\n",
      "                                                                                \r"
     ]
    }
   ],
   "source": [
    "df_customer_clean_phone_numbers.show()"
   ]
  },
  {
   "cell_type": "code",
   "execution_count": 22,
   "metadata": {},
   "outputs": [
    {
     "name": "stderr",
     "output_type": "stream",
     "text": [
      "2024-09-01 09:43:33,985 - INFO - Successfully validated email addresses in column 'email'.\n"
     ]
    }
   ],
   "source": [
    "df_customer_invalid_email_handel = validate_emails(df_customer_clean_phone_numbers, \"email\", \"Invalid Email\")"
   ]
  },
  {
   "cell_type": "code",
   "execution_count": 23,
   "metadata": {},
   "outputs": [
    {
     "name": "stdout",
     "output_type": "stream",
     "text": [
      "+-----------+-----------+---------+--------------------+--------------------+-----------------+-------------+--------+----------+\n",
      "|customer_id| first_name|last_name|               email|        phone_number|             city|        state|zip_code|birth_date|\n",
      "+-----------+-----------+---------+--------------------+--------------------+-----------------+-------------+--------+----------+\n",
      "|          1|    Crystal|  Edwards|mcmahonemily@exam...|   +1 (511) 782-4381|    Fergusonville|         Iowa|   91344|1995-02-28|\n",
      "|          2|   Jennifer|    Jones|douglasedwards@ex...|   +1 (918) 720-2495|     Jenniferport|   New Jersey|   59371|1951-01-27|\n",
      "|          3|  Catherine|    Crane|douglaskevin@exam...|+1 (381) 601-2272...|  Jenniferchester|West Virginia|   49812|1966-10-07|\n",
      "|          4|     Lauren|    Irwin|aguirresteven@exa...|Invalid phone number|      New Melissa|     Michigan|   17279|1936-07-28|\n",
      "|          5|Christopher|   Nelson|dustin50@example.org|+1 (735) 814-4145...|       Hannahberg|     Oklahoma|   33821|1944-02-15|\n",
      "|          6|     Robert|    Costa|natalie33@example...|   +1 (210) 333-4611|     Lauraborough| Rhode Island|   37454|1946-09-27|\n",
      "|          7|   Michelle|    Lewis|jamiesingh@exampl...|   +1 (952) 419-1690|     Lake Whitney|     Oklahoma|   80306|1959-02-12|\n",
      "|          8|    Jeffrey|     Vang|kristen52@example...|Invalid phone number| New Jeffreymouth|     Virginia|   58012|1981-01-20|\n",
      "|          9|    Roberto|  Johnson| ihughes@example.com|+1 (505) 895-7853...|         Jodifurt|    Louisiana|   13500|1918-02-05|\n",
      "|         10|    Richard|  Beltran|smithtyler@exampl...|Invalid phone number|       East Barry|      Arizona|   89980|1925-05-19|\n",
      "|         11|       Jose|   Forbes|gjackson@example.com|+1 (440) 257-9768...|     Williamsfort|     New York|   74873|1935-04-19|\n",
      "|         12|     Thomas|   Murphy|nbarrett@example.org|   +1 (748) 605-5651|        Adamsstad|     Maryland|   10853|2013-03-01|\n",
      "|         13|    Anthony|    Young|poncetonya@exampl...|Invalid phone number|    Port Evanside|    Louisiana|    3739|1950-12-10|\n",
      "|         14|     Lauren| Campbell|taylornancy@examp...|Invalid phone number|     West Annaton| Pennsylvania|    1518|1925-04-04|\n",
      "|         15|     Martha|Underwood|pamelacrawford@ex...|+1 (461) 208-9197...|     East Charles|         Utah|    3289|1922-11-27|\n",
      "|         16|    Natasha| Johnston|laurarichardson@e...|   +1 (901) 251-8967|     Benjaminbury|     Arkansas|   21371|1971-11-11|\n",
      "|         17|       John|   Powell|figueroawilliam@e...|+1 (698) 504-0834...|    Port Kimberly|      Alabama|   13754|1997-08-29|\n",
      "|         18|     Daniel|   Barton|mooresamantha@exa...|   +1 (771) 621-2990|West Claytonburgh|        Idaho|    3297|1973-12-08|\n",
      "|         19|    Michael|   Bishop|kimdavid@example.com|+1 (935) 742-8065...|       Craigmouth|     Maryland|   77716|1977-03-17|\n",
      "|         20|     Janice| Faulkner| brett63@example.net|Invalid phone number|     Victoriabury|     Illinois|   58702|2004-04-05|\n",
      "+-----------+-----------+---------+--------------------+--------------------+-----------------+-------------+--------+----------+\n",
      "only showing top 20 rows\n",
      "\n"
     ]
    },
    {
     "name": "stderr",
     "output_type": "stream",
     "text": [
      "WARNING:root:Phone number '0017079424829' is invalid after cleaning.\n",
      "WARNING:root:Phone number '15210' is invalid after cleaning.\n",
      "WARNING:root:Phone number '0016796159888' is invalid after cleaning.\n",
      "WARNING:root:Phone number '0015869331496' is invalid after cleaning.\n",
      "WARNING:root:Phone number '0016355679354' is invalid after cleaning.\n",
      "WARNING:root:Phone number '42610' is invalid after cleaning.\n"
     ]
    }
   ],
   "source": [
    "df_customer_cleaned = df_customer_invalid_email_handel\n",
    "df_customer_cleaned.show()"
   ]
  },
  {
   "cell_type": "code",
   "execution_count": 24,
   "metadata": {},
   "outputs": [
    {
     "name": "stderr",
     "output_type": "stream",
     "text": [
      "2024-09-01 09:43:35,092 - INFO - Saving DataFrame to temporary directory...\n",
      "WARNING:root:Phone number '0017079424829' is invalid after cleaning.\n",
      "WARNING:root:Phone number '15210' is invalid after cleaning.\n",
      "WARNING:root:Phone number '0016796159888' is invalid after cleaning.\n",
      "WARNING:root:Phone number '0015869331496' is invalid after cleaning.\n",
      "WARNING:root:Phone number '0016355679354' is invalid after cleaning.\n",
      "WARNING:root:Phone number '42610' is invalid after cleaning.\n",
      "WARNING:root:Phone number '0019485075446' is invalid after cleaning.\n",
      "WARNING:root:Phone number '0014008437979' is invalid after cleaning.\n",
      "ERROR:root:Error cleaning phone number 'None': expected string or bytes-like object, got 'NoneType'\n",
      "WARNING:root:Phone number '0015712091502' is invalid after cleaning.\n",
      "WARNING:root:Phone number '0013763071201' is invalid after cleaning.\n",
      "WARNING:root:Phone number '0016549695239' is invalid after cleaning.\n",
      "ERROR:root:Error cleaning phone number 'None': expected string or bytes-like object, got 'NoneType'\n",
      "WARNING:root:Phone number '0016922184249' is invalid after cleaning.\n",
      "ERROR:root:Error cleaning phone number 'None': expected string or bytes-like object, got 'NoneType'\n",
      "ERROR:root:Error cleaning phone number 'None': expected string or bytes-like object, got 'NoneType'\n",
      "ERROR:root:Error cleaning phone number 'None': expected string or bytes-like object, got 'NoneType'\n",
      "WARNING:root:Phone number '95460' is invalid after cleaning.\n",
      "WARNING:root:Phone number '79240' is invalid after cleaning.\n",
      "WARNING:root:Phone number '0012177872811' is invalid after cleaning.\n",
      "WARNING:root:Phone number '0012878025495' is invalid after cleaning.\n",
      "WARNING:root:Phone number '0012518766495' is invalid after cleaning.\n",
      "WARNING:root:Phone number '0017975546343' is invalid after cleaning.\n",
      "ERROR:root:Error cleaning phone number 'None': expected string or bytes-like object, got 'NoneType'\n",
      "ERROR:root:Error cleaning phone number 'None': expected string or bytes-like object, got 'NoneType'\n",
      "WARNING:root:Phone number '0013797003166' is invalid after cleaning.\n",
      "WARNING:root:Phone number '0012214570497' is invalid after cleaning.\n",
      "WARNING:root:Phone number '0018179560913' is invalid after cleaning.\n",
      "WARNING:root:Phone number '0012982050986' is invalid after cleaning.\n",
      "ERROR:root:Error cleaning phone number 'None': expected string or bytes-like object, got 'NoneType'\n",
      "ERROR:root:Error cleaning phone number 'None': expected string or bytes-like object, got 'NoneType'\n",
      "WARNING:root:Phone number '0013334517768' is invalid after cleaning.\n",
      "WARNING:root:Phone number '0013555569209' is invalid after cleaning.\n",
      "WARNING:root:Phone number '81620' is invalid after cleaning.\n",
      "WARNING:root:Phone number '0015839718415' is invalid after cleaning.\n",
      "WARNING:root:Phone number '78190' is invalid after cleaning.\n",
      "WARNING:root:Phone number '0013814661369' is invalid after cleaning.\n",
      "ERROR:root:Error cleaning phone number 'None': expected string or bytes-like object, got 'NoneType'\n",
      "WARNING:root:Phone number '0014524979781' is invalid after cleaning.\n",
      "WARNING:root:Phone number '0013965683066' is invalid after cleaning.\n",
      "WARNING:root:Phone number '0018142272907' is invalid after cleaning.\n",
      "ERROR:root:Error cleaning phone number 'None': expected string or bytes-like object, got 'NoneType'\n",
      "WARNING:root:Phone number '0019382750127' is invalid after cleaning.\n",
      "WARNING:root:Phone number '0019665552106' is invalid after cleaning.\n",
      "WARNING:root:Phone number '0012513374674' is invalid after cleaning.\n",
      "WARNING:root:Phone number '0014538226194' is invalid after cleaning.\n",
      "ERROR:root:Error cleaning phone number 'None': expected string or bytes-like object, got 'NoneType'\n",
      "WARNING:root:Phone number '0018557648361' is invalid after cleaning.\n",
      "WARNING:root:Phone number '0016875071986' is invalid after cleaning.\n",
      "ERROR:root:Error cleaning phone number 'None': expected string or bytes-like object, got 'NoneType'\n",
      "WARNING:root:Phone number '0018238819100' is invalid after cleaning.\n",
      "WARNING:root:Phone number '0015464210605' is invalid after cleaning.\n",
      "WARNING:root:Phone number '91120' is invalid after cleaning.\n",
      "WARNING:root:Phone number '0013572358044' is invalid after cleaning.\n",
      "ERROR:root:Error cleaning phone number 'None': expected string or bytes-like object, got 'NoneType'\n",
      "WARNING:root:Phone number '0017514878631' is invalid after cleaning.\n",
      "WARNING:root:Phone number '0018276633323' is invalid after cleaning.\n",
      "WARNING:root:Phone number '0017306640855' is invalid after cleaning.\n",
      "WARNING:root:Phone number '0014237591279' is invalid after cleaning.\n",
      "WARNING:root:Phone number '0016975423216' is invalid after cleaning.\n",
      "WARNING:root:Phone number '0012462257994' is invalid after cleaning.\n",
      "WARNING:root:Phone number '91890' is invalid after cleaning.\n",
      "ERROR:root:Error cleaning phone number 'None': expected string or bytes-like object, got 'NoneType'\n",
      "ERROR:root:Error cleaning phone number 'None': expected string or bytes-like object, got 'NoneType'\n",
      "WARNING:root:Phone number '0019149306671' is invalid after cleaning.\n",
      "WARNING:root:Phone number '0017447311866' is invalid after cleaning.\n",
      "WARNING:root:Phone number '0018892176114' is invalid after cleaning.\n",
      "WARNING:root:Phone number '0012173579917' is invalid after cleaning.\n",
      "WARNING:root:Phone number '0015127249362' is invalid after cleaning.\n",
      "WARNING:root:Phone number '0012327627206' is invalid after cleaning.\n",
      "WARNING:root:Phone number '0017009434258' is invalid after cleaning.\n",
      "WARNING:root:Phone number '51520' is invalid after cleaning.\n",
      "WARNING:root:Phone number '107660' is invalid after cleaning.\n",
      "WARNING:root:Phone number '0018655246365' is invalid after cleaning.\n",
      "WARNING:root:Phone number '0018002401989' is invalid after cleaning.\n",
      "WARNING:root:Phone number '0014827478560' is invalid after cleaning.\n",
      "ERROR:root:Error cleaning phone number 'None': expected string or bytes-like object, got 'NoneType'\n",
      "ERROR:root:Error cleaning phone number 'None': expected string or bytes-like object, got 'NoneType'\n",
      "WARNING:root:Phone number '0015693592499' is invalid after cleaning.\n",
      "WARNING:root:Phone number '0012615362320' is invalid after cleaning.\n",
      "WARNING:root:Phone number '91630' is invalid after cleaning.\n",
      "WARNING:root:Phone number '0012086643702' is invalid after cleaning.\n",
      "ERROR:root:Error cleaning phone number 'None': expected string or bytes-like object, got 'NoneType'\n",
      "WARNING:root:Phone number '0017986439920' is invalid after cleaning.\n",
      "WARNING:root:Phone number '0019988942689' is invalid after cleaning.\n",
      "WARNING:root:Phone number '0017884930799' is invalid after cleaning.\n",
      "WARNING:root:Phone number '0016986952666' is invalid after cleaning.\n",
      "WARNING:root:Phone number '0014763056224' is invalid after cleaning.\n",
      "WARNING:root:Phone number '48390' is invalid after cleaning.\n",
      "WARNING:root:Phone number '13180' is invalid after cleaning.\n",
      "WARNING:root:Phone number '91870' is invalid after cleaning.\n",
      "ERROR:root:Error cleaning phone number 'None': expected string or bytes-like object, got 'NoneType'\n",
      "WARNING:root:Phone number '96140' is invalid after cleaning.\n",
      "WARNING:root:Phone number '0017603179923' is invalid after cleaning.\n",
      "WARNING:root:Phone number '77360' is invalid after cleaning.\n",
      "WARNING:root:Phone number '0019454910667' is invalid after cleaning.\n",
      "WARNING:root:Phone number '0013666659544' is invalid after cleaning.\n",
      "WARNING:root:Phone number '0015894098751' is invalid after cleaning.\n",
      "WARNING:root:Phone number '0015243012271' is invalid after cleaning.\n",
      "WARNING:root:Phone number '0012525121296' is invalid after cleaning.\n",
      "WARNING:root:Phone number '74490' is invalid after cleaning.\n",
      "WARNING:root:Phone number '0019838664634' is invalid after cleaning.(0 + 1) / 1]\n",
      "WARNING:root:Phone number '0015603974009' is invalid after cleaning.\n",
      "WARNING:root:Phone number '0012439540012' is invalid after cleaning.\n",
      "WARNING:root:Phone number '0016493068807' is invalid after cleaning.\n",
      "WARNING:root:Phone number '42130' is invalid after cleaning.\n",
      "ERROR:root:Error cleaning phone number 'None': expected string or bytes-like object, got 'NoneType'\n",
      "WARNING:root:Phone number '0015917554021' is invalid after cleaning.\n",
      "WARNING:root:Phone number '0018719218004' is invalid after cleaning.\n",
      "WARNING:root:Phone number '0012837234548' is invalid after cleaning.\n",
      "WARNING:root:Phone number '0016399131436' is invalid after cleaning.\n",
      "WARNING:root:Phone number '0012728645481' is invalid after cleaning.\n",
      "WARNING:root:Phone number '31840' is invalid after cleaning.\n",
      "ERROR:root:Error cleaning phone number 'None': expected string or bytes-like object, got 'NoneType'\n",
      "ERROR:root:Error cleaning phone number 'None': expected string or bytes-like object, got 'NoneType'\n",
      "WARNING:root:Phone number '0012619501885' is invalid after cleaning.\n",
      "WARNING:root:Phone number '0015224493418' is invalid after cleaning.\n",
      "WARNING:root:Phone number '28040' is invalid after cleaning.\n",
      "ERROR:root:Error cleaning phone number 'None': expected string or bytes-like object, got 'NoneType'\n",
      "WARNING:root:Phone number '0019369872197' is invalid after cleaning.\n",
      "WARNING:root:Phone number '0014888653043' is invalid after cleaning.\n",
      "WARNING:root:Phone number '88390' is invalid after cleaning.\n",
      "WARNING:root:Phone number '0016192723944' is invalid after cleaning.\n",
      "ERROR:root:Error cleaning phone number 'None': expected string or bytes-like object, got 'NoneType'\n",
      "WARNING:root:Phone number '0013032058913' is invalid after cleaning.\n",
      "ERROR:root:Error cleaning phone number 'None': expected string or bytes-like object, got 'NoneType'\n",
      "WARNING:root:Phone number '0014178590924' is invalid after cleaning.\n",
      "WARNING:root:Phone number '65200' is invalid after cleaning.\n",
      "ERROR:root:Error cleaning phone number 'None': expected string or bytes-like object, got 'NoneType'\n",
      "WARNING:root:Phone number '0017636332400' is invalid after cleaning.\n",
      "WARNING:root:Phone number '0016176401786' is invalid after cleaning.\n",
      "WARNING:root:Phone number '0018342041155' is invalid after cleaning.\n",
      "WARNING:root:Phone number '0012758071397' is invalid after cleaning.\n",
      "WARNING:root:Phone number '0014149600855' is invalid after cleaning.\n",
      "WARNING:root:Phone number '0013665890309' is invalid after cleaning.\n",
      "WARNING:root:Phone number '0018063657859' is invalid after cleaning.\n",
      "WARNING:root:Phone number '108090' is invalid after cleaning.\n",
      "WARNING:root:Phone number '0018274077780' is invalid after cleaning.\n",
      "WARNING:root:Phone number '0013496250363' is invalid after cleaning.\n",
      "ERROR:root:Error cleaning phone number 'None': expected string or bytes-like object, got 'NoneType'\n",
      "WARNING:root:Phone number '0018619739695' is invalid after cleaning.\n",
      "WARNING:root:Phone number '0012676313414' is invalid after cleaning.\n",
      "WARNING:root:Phone number '0017535585368' is invalid after cleaning.\n",
      "ERROR:root:Error cleaning phone number 'None': expected string or bytes-like object, got 'NoneType'\n",
      "WARNING:root:Phone number '0018652205708' is invalid after cleaning.\n",
      "WARNING:root:Phone number '0014356193907' is invalid after cleaning.\n",
      "ERROR:root:Error cleaning phone number 'None': expected string or bytes-like object, got 'NoneType'\n",
      "WARNING:root:Phone number '0016086855650' is invalid after cleaning.\n",
      "WARNING:root:Phone number '0018133533524' is invalid after cleaning.\n",
      "WARNING:root:Phone number '99080' is invalid after cleaning.\n",
      "WARNING:root:Phone number '0014899420963' is invalid after cleaning.\n",
      "ERROR:root:Error cleaning phone number 'None': expected string or bytes-like object, got 'NoneType'\n",
      "WARNING:root:Phone number '0015824468702' is invalid after cleaning.\n",
      "ERROR:root:Error cleaning phone number 'None': expected string or bytes-like object, got 'NoneType'\n",
      "WARNING:root:Phone number '0016942754762' is invalid after cleaning.\n",
      "WARNING:root:Phone number '0014279387950' is invalid after cleaning.\n",
      "WARNING:root:Phone number '25670' is invalid after cleaning.\n",
      "WARNING:root:Phone number '73400' is invalid after cleaning.\n",
      "WARNING:root:Phone number '0019307026378' is invalid after cleaning.\n",
      "WARNING:root:Phone number '0014149239513' is invalid after cleaning.\n",
      "WARNING:root:Phone number '0016244563844' is invalid after cleaning.\n",
      "WARNING:root:Phone number '75440' is invalid after cleaning.\n",
      "WARNING:root:Phone number '0017685406109' is invalid after cleaning.\n",
      "WARNING:root:Phone number '99380' is invalid after cleaning.\n",
      "WARNING:root:Phone number '0016112988289' is invalid after cleaning.\n",
      "ERROR:root:Error cleaning phone number 'None': expected string or bytes-like object, got 'NoneType'\n",
      "ERROR:root:Error cleaning phone number 'None': expected string or bytes-like object, got 'NoneType'\n",
      "WARNING:root:Phone number '104720' is invalid after cleaning.\n",
      "WARNING:root:Phone number '0014577613182' is invalid after cleaning.\n",
      "WARNING:root:Phone number '0019204363166' is invalid after cleaning.\n",
      "ERROR:root:Error cleaning phone number 'None': expected string or bytes-like object, got 'NoneType'\n",
      "WARNING:root:Phone number '61800' is invalid after cleaning.\n",
      "WARNING:root:Phone number '0013526880509' is invalid after cleaning.\n",
      "ERROR:root:Error cleaning phone number 'None': expected string or bytes-like object, got 'NoneType'\n",
      "WARNING:root:Phone number '0018477252480' is invalid after cleaning.\n",
      "WARNING:root:Phone number '0018614604252' is invalid after cleaning.\n",
      "WARNING:root:Phone number '0015403702722' is invalid after cleaning.\n",
      "WARNING:root:Phone number '0017415136242' is invalid after cleaning.\n",
      "WARNING:root:Phone number '0014517876983' is invalid after cleaning.\n",
      "WARNING:root:Phone number '0013906578007' is invalid after cleaning.\n",
      "WARNING:root:Phone number '0015529794941' is invalid after cleaning.\n",
      "WARNING:root:Phone number '0016354962189' is invalid after cleaning.\n",
      "ERROR:root:Error cleaning phone number 'None': expected string or bytes-like object, got 'NoneType'\n",
      "WARNING:root:Phone number '0014948139232' is invalid after cleaning.\n",
      "WARNING:root:Phone number '87170' is invalid after cleaning.\n",
      "WARNING:root:Phone number '0014529957628' is invalid after cleaning.\n",
      "WARNING:root:Phone number '0019706064297' is invalid after cleaning.\n",
      "WARNING:root:Phone number '0018145133418' is invalid after cleaning.\n",
      "WARNING:root:Phone number '52880' is invalid after cleaning.\n",
      "WARNING:root:Phone number '0013634564870' is invalid after cleaning.\n",
      "WARNING:root:Phone number '77450' is invalid after cleaning.\n",
      "WARNING:root:Phone number '0014044915334' is invalid after cleaning.\n",
      "WARNING:root:Phone number '0016545265458' is invalid after cleaning.\n",
      "WARNING:root:Phone number '61530' is invalid after cleaning.\n",
      "WARNING:root:Phone number '0016969529451' is invalid after cleaning.\n",
      "WARNING:root:Phone number '0019964553307' is invalid after cleaning.\n",
      "WARNING:root:Phone number '0016626470043' is invalid after cleaning.\n",
      "ERROR:root:Error cleaning phone number 'None': expected string or bytes-like object, got 'NoneType'\n",
      "WARNING:root:Phone number '0012717432325' is invalid after cleaning.\n",
      "WARNING:root:Phone number '0012776094214' is invalid after cleaning.\n",
      "WARNING:root:Phone number '0015093577796' is invalid after cleaning.\n",
      "WARNING:root:Phone number '0019368402904' is invalid after cleaning.\n",
      "ERROR:root:Error cleaning phone number 'None': expected string or bytes-like object, got 'NoneType'\n",
      "WARNING:root:Phone number '0016059556668' is invalid after cleaning.\n",
      "WARNING:root:Phone number '0017098909210' is invalid after cleaning.\n",
      "WARNING:root:Phone number '15610' is invalid after cleaning.\n",
      "ERROR:root:Error cleaning phone number 'None': expected string or bytes-like object, got 'NoneType'\n",
      "ERROR:root:Error cleaning phone number 'None': expected string or bytes-like object, got 'NoneType'\n",
      "WARNING:root:Phone number '11840' is invalid after cleaning.\n",
      "WARNING:root:Phone number '116840' is invalid after cleaning.\n",
      "WARNING:root:Phone number '0019289756410' is invalid after cleaning.\n",
      "WARNING:root:Phone number '0016676367251' is invalid after cleaning.\n",
      "WARNING:root:Phone number '0017699353447' is invalid after cleaning.\n",
      "WARNING:root:Phone number '22620' is invalid after cleaning.\n",
      "WARNING:root:Phone number '0013738568926' is invalid after cleaning.\n",
      "WARNING:root:Phone number '0015368757617' is invalid after cleaning.\n",
      "ERROR:root:Error cleaning phone number 'None': expected string or bytes-like object, got 'NoneType'\n",
      "ERROR:root:Error cleaning phone number 'None': expected string or bytes-like object, got 'NoneType'\n",
      "WARNING:root:Phone number '0012922878194' is invalid after cleaning.\n",
      "WARNING:root:Phone number '0015759113060' is invalid after cleaning.\n",
      "ERROR:root:Error cleaning phone number 'None': expected string or bytes-like object, got 'NoneType'\n",
      "WARNING:root:Phone number '0014217046249' is invalid after cleaning.\n",
      "WARNING:root:Phone number '0014798096341' is invalid after cleaning.\n",
      "WARNING:root:Phone number '44390' is invalid after cleaning.\n",
      "ERROR:root:Error cleaning phone number 'None': expected string or bytes-like object, got 'NoneType'\n",
      "WARNING:root:Phone number '0018229608200' is invalid after cleaning.\n",
      "WARNING:root:Phone number '83010' is invalid after cleaning.\n",
      "WARNING:root:Phone number '0012738723728' is invalid after cleaning.\n",
      "ERROR:root:Error cleaning phone number 'None': expected string or bytes-like object, got 'NoneType'\n",
      "WARNING:root:Phone number '0017586548275' is invalid after cleaning.\n",
      "WARNING:root:Phone number '0012524845618' is invalid after cleaning.\n",
      "WARNING:root:Phone number '0013973984777' is invalid after cleaning.\n",
      "WARNING:root:Phone number '0017267644664' is invalid after cleaning.\n",
      "WARNING:root:Phone number '0015457774886' is invalid after cleaning.\n",
      "WARNING:root:Phone number '0015377449714' is invalid after cleaning.\n",
      "WARNING:root:Phone number '0016108403912' is invalid after cleaning.\n",
      "WARNING:root:Phone number '0014616813752' is invalid after cleaning.\n",
      "WARNING:root:Phone number '0016596338001' is invalid after cleaning.\n",
      "WARNING:root:Phone number '0016699915780' is invalid after cleaning.\n",
      "WARNING:root:Phone number '0012949402457' is invalid after cleaning.\n",
      "WARNING:root:Phone number '0018442286188' is invalid after cleaning.\n",
      "WARNING:root:Phone number '0019706107237' is invalid after cleaning.\n",
      "WARNING:root:Phone number '0015689087467' is invalid after cleaning.\n",
      "ERROR:root:Error cleaning phone number 'None': expected string or bytes-like object, got 'NoneType'\n",
      "WARNING:root:Phone number '0019698496149' is invalid after cleaning.\n",
      "WARNING:root:Phone number '0016286765576' is invalid after cleaning.\n",
      "WARNING:root:Phone number '0012503058883' is invalid after cleaning.\n",
      "WARNING:root:Phone number '0018612832711' is invalid after cleaning.\n",
      "ERROR:root:Error cleaning phone number 'None': expected string or bytes-like object, got 'NoneType'\n",
      "WARNING:root:Phone number '0019196639170' is invalid after cleaning.\n",
      "WARNING:root:Phone number '0019166326141' is invalid after cleaning.\n",
      "WARNING:root:Phone number '0015666858216' is invalid after cleaning.\n",
      "ERROR:root:Error cleaning phone number 'None': expected string or bytes-like object, got 'NoneType'\n",
      "WARNING:root:Phone number '0012519028124' is invalid after cleaning.\n",
      "WARNING:root:Phone number '0017473049008' is invalid after cleaning.\n",
      "WARNING:root:Phone number '0012034255563' is invalid after cleaning.\n",
      "WARNING:root:Phone number '0014299284116' is invalid after cleaning.\n",
      "ERROR:root:Error cleaning phone number 'None': expected string or bytes-like object, got 'NoneType'\n",
      "ERROR:root:Error cleaning phone number 'None': expected string or bytes-like object, got 'NoneType'\n",
      "WARNING:root:Phone number '0018449371509' is invalid after cleaning.\n",
      "WARNING:root:Phone number '0012523981890' is invalid after cleaning.\n",
      "ERROR:root:Error cleaning phone number 'None': expected string or bytes-like object, got 'NoneType'\n",
      "WARNING:root:Phone number '0014886889366' is invalid after cleaning.\n",
      "WARNING:root:Phone number '0018092390037' is invalid after cleaning.\n",
      "WARNING:root:Phone number '14190' is invalid after cleaning.\n",
      "WARNING:root:Phone number '0015919391117' is invalid after cleaning.\n",
      "WARNING:root:Phone number '97780' is invalid after cleaning.\n",
      "WARNING:root:Phone number '0012474026167' is invalid after cleaning.\n",
      "WARNING:root:Phone number '0018537453469' is invalid after cleaning.\n",
      "ERROR:root:Error cleaning phone number 'None': expected string or bytes-like object, got 'NoneType'\n",
      "WARNING:root:Phone number '90350' is invalid after cleaning.\n",
      "ERROR:root:Error cleaning phone number 'None': expected string or bytes-like object, got 'NoneType'\n",
      "ERROR:root:Error cleaning phone number 'None': expected string or bytes-like object, got 'NoneType'\n",
      "WARNING:root:Phone number '0015989833772' is invalid after cleaning.\n",
      "WARNING:root:Phone number '0016723416427' is invalid after cleaning.\n",
      "WARNING:root:Phone number '0012534576571' is invalid after cleaning.\n",
      "WARNING:root:Phone number '0017515024578' is invalid after cleaning.\n",
      "WARNING:root:Phone number '0015467664639' is invalid after cleaning.\n",
      "ERROR:root:Error cleaning phone number 'None': expected string or bytes-like object, got 'NoneType'\n",
      "WARNING:root:Phone number '0017216101472' is invalid after cleaning.\n",
      "WARNING:root:Phone number '0012038935245' is invalid after cleaning.\n",
      "WARNING:root:Phone number '55830' is invalid after cleaning.\n",
      "WARNING:root:Phone number '0012862470147' is invalid after cleaning.\n",
      "WARNING:root:Phone number '0014635404368' is invalid after cleaning.\n",
      "WARNING:root:Phone number '0019005059702' is invalid after cleaning.\n",
      "WARNING:root:Phone number '106380' is invalid after cleaning.\n",
      "ERROR:root:Error cleaning phone number 'None': expected string or bytes-like object, got 'NoneType'\n",
      "ERROR:root:Error cleaning phone number 'None': expected string or bytes-like object, got 'NoneType'\n",
      "ERROR:root:Error cleaning phone number 'None': expected string or bytes-like object, got 'NoneType'\n",
      "WARNING:root:Phone number '104820' is invalid after cleaning.\n",
      "ERROR:root:Error cleaning phone number 'None': expected string or bytes-like object, got 'NoneType'\n",
      "ERROR:root:Error cleaning phone number 'None': expected string or bytes-like object, got 'NoneType'\n",
      "WARNING:root:Phone number '0015469657552' is invalid after cleaning.\n",
      "ERROR:root:Error cleaning phone number 'None': expected string or bytes-like object, got 'NoneType'\n",
      "WARNING:root:Phone number '0019257403951' is invalid after cleaning.\n",
      "ERROR:root:Error cleaning phone number 'None': expected string or bytes-like object, got 'NoneType'\n",
      "WARNING:root:Phone number '0019274508399' is invalid after cleaning.\n",
      "WARNING:root:Phone number '0014449008649' is invalid after cleaning.\n",
      "WARNING:root:Phone number '0013868535900' is invalid after cleaning.\n",
      "WARNING:root:Phone number '94560' is invalid after cleaning.\n",
      "WARNING:root:Phone number '0013928582188' is invalid after cleaning.\n",
      "WARNING:root:Phone number '85360' is invalid after cleaning.\n",
      "WARNING:root:Phone number '0019975521357' is invalid after cleaning.\n",
      "WARNING:root:Phone number '0013304951987' is invalid after cleaning.\n",
      "WARNING:root:Phone number '0016126087643' is invalid after cleaning.\n",
      "WARNING:root:Phone number '70110' is invalid after cleaning.\n",
      "ERROR:root:Error cleaning phone number 'None': expected string or bytes-like object, got 'NoneType'\n",
      "ERROR:root:Error cleaning phone number 'None': expected string or bytes-like object, got 'NoneType'\n",
      "ERROR:root:Error cleaning phone number 'None': expected string or bytes-like object, got 'NoneType'\n",
      "WARNING:root:Phone number '0019814366308' is invalid after cleaning.\n",
      "WARNING:root:Phone number '0016887154297' is invalid after cleaning.\n",
      "WARNING:root:Phone number '0018953856563' is invalid after cleaning.\n",
      "WARNING:root:Phone number '0018546132029' is invalid after cleaning.\n",
      "WARNING:root:Phone number '0014537906381' is invalid after cleaning.\n",
      "WARNING:root:Phone number '0014154403441' is invalid after cleaning.\n",
      "ERROR:root:Error cleaning phone number 'None': expected string or bytes-like object, got 'NoneType'\n",
      "WARNING:root:Phone number '0015575760563' is invalid after cleaning.\n",
      "WARNING:root:Phone number '11440' is invalid after cleaning.\n",
      "WARNING:root:Phone number '0012847637921' is invalid after cleaning.\n",
      "WARNING:root:Phone number '0018688292557' is invalid after cleaning.\n",
      "WARNING:root:Phone number '0018525897181' is invalid after cleaning.\n",
      "WARNING:root:Phone number '66740' is invalid after cleaning.\n",
      "WARNING:root:Phone number '0014425568185' is invalid after cleaning.\n",
      "ERROR:root:Error cleaning phone number 'None': expected string or bytes-like object, got 'NoneType'\n",
      "ERROR:root:Error cleaning phone number 'None': expected string or bytes-like object, got 'NoneType'\n",
      "WARNING:root:Phone number '0019184786219' is invalid after cleaning.\n",
      "WARNING:root:Phone number '0014085135548' is invalid after cleaning.\n",
      "WARNING:root:Phone number '41990' is invalid after cleaning.\n",
      "WARNING:root:Phone number '108530' is invalid after cleaning.\n",
      "WARNING:root:Phone number '49330' is invalid after cleaning.\n",
      "WARNING:root:Phone number '0015516173884' is invalid after cleaning.\n",
      "WARNING:root:Phone number '0013059926119' is invalid after cleaning.\n",
      "WARNING:root:Phone number '0013672815665' is invalid after cleaning.\n",
      "ERROR:root:Error cleaning phone number 'None': expected string or bytes-like object, got 'NoneType'\n",
      "WARNING:root:Phone number '0014198968388' is invalid after cleaning.\n",
      "WARNING:root:Phone number '81040' is invalid after cleaning.\n",
      "WARNING:root:Phone number '0016422209515' is invalid after cleaning.\n",
      "WARNING:root:Phone number '0018165367521' is invalid after cleaning.\n",
      "ERROR:root:Error cleaning phone number 'None': expected string or bytes-like object, got 'NoneType'\n",
      "WARNING:root:Phone number '0018756698338' is invalid after cleaning.\n",
      "WARNING:root:Phone number '0019223979939' is invalid after cleaning.\n",
      "ERROR:root:Error cleaning phone number 'None': expected string or bytes-like object, got 'NoneType'\n",
      "WARNING:root:Phone number '0016652157916' is invalid after cleaning.\n",
      "ERROR:root:Error cleaning phone number 'None': expected string or bytes-like object, got 'NoneType'\n",
      "WARNING:root:Phone number '0017657491242' is invalid after cleaning.\n",
      "WARNING:root:Phone number '24960' is invalid after cleaning.\n",
      "WARNING:root:Phone number '0014655225205' is invalid after cleaning.\n",
      "WARNING:root:Phone number '0012763245469' is invalid after cleaning.\n",
      "WARNING:root:Phone number '0018692804275' is invalid after cleaning.\n",
      "WARNING:root:Phone number '59530' is invalid after cleaning.\n",
      "WARNING:root:Phone number '0016725595740' is invalid after cleaning.\n",
      "WARNING:root:Phone number '0014333113456' is invalid after cleaning.\n",
      "WARNING:root:Phone number '0015172143706' is invalid after cleaning.\n",
      "ERROR:root:Error cleaning phone number 'None': expected string or bytes-like object, got 'NoneType'\n",
      "WARNING:root:Phone number '0019615813721' is invalid after cleaning.\n",
      "WARNING:root:Phone number '0017378710726' is invalid after cleaning.\n",
      "WARNING:root:Phone number '101810' is invalid after cleaning.\n",
      "WARNING:root:Phone number '39290' is invalid after cleaning.\n",
      "WARNING:root:Phone number '0012974550545' is invalid after cleaning.\n",
      "ERROR:root:Error cleaning phone number 'None': expected string or bytes-like object, got 'NoneType'\n",
      "WARNING:root:Phone number '0018863223160' is invalid after cleaning.\n",
      "WARNING:root:Phone number '0018285715741' is invalid after cleaning.\n",
      "ERROR:root:Error cleaning phone number 'None': expected string or bytes-like object, got 'NoneType'\n",
      "WARNING:root:Phone number '0019072507512' is invalid after cleaning.\n",
      "ERROR:root:Error cleaning phone number 'None': expected string or bytes-like object, got 'NoneType'\n",
      "WARNING:root:Phone number '38960' is invalid after cleaning.\n",
      "WARNING:root:Phone number '0018586286921' is invalid after cleaning.\n",
      "WARNING:root:Phone number '0017965284080' is invalid after cleaning.\n",
      "ERROR:root:Error cleaning phone number 'None': expected string or bytes-like object, got 'NoneType'\n",
      "WARNING:root:Phone number '0017894954654' is invalid after cleaning.\n",
      "WARNING:root:Phone number '0013418781712' is invalid after cleaning.\n",
      "ERROR:root:Error cleaning phone number 'None': expected string or bytes-like object, got 'NoneType'\n",
      "WARNING:root:Phone number '0017297241169' is invalid after cleaning.\n",
      "WARNING:root:Phone number '0015012070092' is invalid after cleaning.\n",
      "WARNING:root:Phone number '0014256378360' is invalid after cleaning.\n",
      "WARNING:root:Phone number '0015137770345' is invalid after cleaning.\n",
      "WARNING:root:Phone number '0012848020409' is invalid after cleaning.\n",
      "WARNING:root:Phone number '0014553653626' is invalid after cleaning.\n",
      "WARNING:root:Phone number '0016898333377' is invalid after cleaning.\n",
      "WARNING:root:Phone number '0017082701242' is invalid after cleaning.\n",
      "WARNING:root:Phone number '0013044603464' is invalid after cleaning.\n",
      "WARNING:root:Phone number '0017973411330' is invalid after cleaning.\n",
      "WARNING:root:Phone number '0017922287351' is invalid after cleaning.\n",
      "ERROR:root:Error cleaning phone number 'None': expected string or bytes-like object, got 'NoneType'\n",
      "WARNING:root:Phone number '0019375576386' is invalid after cleaning.\n",
      "ERROR:root:Error cleaning phone number 'None': expected string or bytes-like object, got 'NoneType'\n",
      "WARNING:root:Phone number '0013823420810' is invalid after cleaning.\n",
      "WARNING:root:Phone number '0012995575121' is invalid after cleaning.\n",
      "ERROR:root:Error cleaning phone number 'None': expected string or bytes-like object, got 'NoneType'\n",
      "WARNING:root:Phone number '0013272460036' is invalid after cleaning.\n",
      "WARNING:root:Phone number '0018568747779' is invalid after cleaning.\n",
      "WARNING:root:Phone number '56860' is invalid after cleaning.\n",
      "WARNING:root:Phone number '27810' is invalid after cleaning.\n",
      "WARNING:root:Phone number '0016577801077' is invalid after cleaning.\n",
      "ERROR:root:Error cleaning phone number 'None': expected string or bytes-like object, got 'NoneType'\n",
      "ERROR:root:Error cleaning phone number 'None': expected string or bytes-like object, got 'NoneType'\n",
      "WARNING:root:Phone number '0016688197004' is invalid after cleaning.\n",
      "WARNING:root:Phone number '0013576316640' is invalid after cleaning.\n",
      "WARNING:root:Phone number '0015344219987' is invalid after cleaning.\n",
      "ERROR:root:Error cleaning phone number 'None': expected string or bytes-like object, got 'NoneType'\n",
      "WARNING:root:Phone number '0018907896068' is invalid after cleaning.\n",
      "WARNING:root:Phone number '73520' is invalid after cleaning.\n",
      "ERROR:root:Error cleaning phone number 'None': expected string or bytes-like object, got 'NoneType'\n",
      "ERROR:root:Error cleaning phone number 'None': expected string or bytes-like object, got 'NoneType'\n",
      "ERROR:root:Error cleaning phone number 'None': expected string or bytes-like object, got 'NoneType'\n",
      "WARNING:root:Phone number '0015089485102' is invalid after cleaning.\n",
      "WARNING:root:Phone number '0017956741632' is invalid after cleaning.\n",
      "WARNING:root:Phone number '0016844286459' is invalid after cleaning.\n",
      "WARNING:root:Phone number '0015127643387' is invalid after cleaning.\n",
      "WARNING:root:Phone number '0015095599495' is invalid after cleaning.\n",
      "WARNING:root:Phone number '0014477602837' is invalid after cleaning.\n",
      "WARNING:root:Phone number '0015327081278' is invalid after cleaning.\n",
      "WARNING:root:Phone number '0016888210687' is invalid after cleaning.\n",
      "WARNING:root:Phone number '84530' is invalid after cleaning.\n",
      "WARNING:root:Phone number '0019789269266' is invalid after cleaning.\n",
      "ERROR:root:Error cleaning phone number 'None': expected string or bytes-like object, got 'NoneType'\n",
      "WARNING:root:Phone number '86350' is invalid after cleaning.\n",
      "WARNING:root:Phone number '57380' is invalid after cleaning.\n",
      "WARNING:root:Phone number '0016408205720' is invalid after cleaning.\n",
      "WARNING:root:Phone number '0012603744501' is invalid after cleaning.\n",
      "WARNING:root:Phone number '0018086576667' is invalid after cleaning.\n",
      "WARNING:root:Phone number '0017297672194' is invalid after cleaning.\n",
      "ERROR:root:Error cleaning phone number 'None': expected string or bytes-like object, got 'NoneType'\n",
      "WARNING:root:Phone number '0013964859752' is invalid after cleaning.\n",
      "WARNING:root:Phone number '107020' is invalid after cleaning.\n",
      "WARNING:root:Phone number '0018284187187' is invalid after cleaning.\n",
      "WARNING:root:Phone number '0018813405643' is invalid after cleaning.\n",
      "WARNING:root:Phone number '0019768985262' is invalid after cleaning.\n",
      "ERROR:root:Error cleaning phone number 'None': expected string or bytes-like object, got 'NoneType'\n",
      "WARNING:root:Phone number '58720' is invalid after cleaning.\n",
      "WARNING:root:Phone number '0016799605906' is invalid after cleaning.\n",
      "WARNING:root:Phone number '0013198033486' is invalid after cleaning.\n",
      "WARNING:root:Phone number '0017037905316' is invalid after cleaning.\n",
      "WARNING:root:Phone number '0016298435364' is invalid after cleaning.\n",
      "WARNING:root:Phone number '0012778406373' is invalid after cleaning.\n",
      "WARNING:root:Phone number '0015823880684' is invalid after cleaning.\n",
      "WARNING:root:Phone number '0017502670496' is invalid after cleaning.\n",
      "WARNING:root:Phone number '0014678765386' is invalid after cleaning.\n",
      "ERROR:root:Error cleaning phone number 'None': expected string or bytes-like object, got 'NoneType'\n",
      "WARNING:root:Phone number '0018116459548' is invalid after cleaning.\n",
      "WARNING:root:Phone number '0013459843827' is invalid after cleaning.\n",
      "ERROR:root:Error cleaning phone number 'None': expected string or bytes-like object, got 'NoneType'\n",
      "WARNING:root:Phone number '0016673274137' is invalid after cleaning.\n",
      "ERROR:root:Error cleaning phone number 'None': expected string or bytes-like object, got 'NoneType'\n",
      "WARNING:root:Phone number '0017866862454' is invalid after cleaning.\n",
      "WARNING:root:Phone number '0015789215710' is invalid after cleaning.\n",
      "WARNING:root:Phone number '105880' is invalid after cleaning.\n",
      "WARNING:root:Phone number '0012812307396' is invalid after cleaning.\n",
      "WARNING:root:Phone number '0015708187651' is invalid after cleaning.\n",
      "WARNING:root:Phone number '0019645077257' is invalid after cleaning.\n",
      "WARNING:root:Phone number '0014442398454' is invalid after cleaning.\n",
      "WARNING:root:Phone number '0013697723945' is invalid after cleaning.\n",
      "WARNING:root:Phone number '0018233866356' is invalid after cleaning.\n",
      "WARNING:root:Phone number '0013929723270' is invalid after cleaning.\n",
      "ERROR:root:Error cleaning phone number 'None': expected string or bytes-like object, got 'NoneType'\n",
      "WARNING:root:Phone number '0017402496322' is invalid after cleaning.\n",
      "WARNING:root:Phone number '0018056794189' is invalid after cleaning.\n",
      "WARNING:root:Phone number '0013768893319' is invalid after cleaning.\n",
      "WARNING:root:Phone number '0018912904612' is invalid after cleaning.\n",
      "ERROR:root:Error cleaning phone number 'None': expected string or bytes-like object, got 'NoneType'\n",
      "WARNING:root:Phone number '0019667061656' is invalid after cleaning.\n",
      "WARNING:root:Phone number '0015442801199' is invalid after cleaning.\n",
      "WARNING:root:Phone number '0012069335711' is invalid after cleaning.\n",
      "WARNING:root:Phone number '13800' is invalid after cleaning.\n",
      "WARNING:root:Phone number '47940' is invalid after cleaning.\n",
      "WARNING:root:Phone number '0013484851400' is invalid after cleaning.\n",
      "WARNING:root:Phone number '0016285735004' is invalid after cleaning.\n",
      "WARNING:root:Phone number '0018586384802' is invalid after cleaning.\n",
      "ERROR:root:Error cleaning phone number 'None': expected string or bytes-like object, got 'NoneType'\n",
      "WARNING:root:Phone number '0019094212315' is invalid after cleaning.\n",
      "WARNING:root:Phone number '0018447213958' is invalid after cleaning.\n",
      "WARNING:root:Phone number '0017482706040' is invalid after cleaning.\n",
      "ERROR:root:Error cleaning phone number 'None': expected string or bytes-like object, got 'NoneType'\n",
      "WARNING:root:Phone number '0015327691776' is invalid after cleaning.\n",
      "WARNING:root:Phone number '0016812203102' is invalid after cleaning.\n",
      "WARNING:root:Phone number '0016224663058' is invalid after cleaning.\n",
      "ERROR:root:Error cleaning phone number 'None': expected string or bytes-like object, got 'NoneType'\n",
      "WARNING:root:Phone number '95680' is invalid after cleaning.\n",
      "WARNING:root:Phone number '0016274350627' is invalid after cleaning.\n",
      "WARNING:root:Phone number '0013483257591' is invalid after cleaning.\n",
      "ERROR:root:Error cleaning phone number 'None': expected string or bytes-like object, got 'NoneType'\n",
      "WARNING:root:Phone number '0016619450690' is invalid after cleaning.\n",
      "WARNING:root:Phone number '62870' is invalid after cleaning.\n",
      "WARNING:root:Phone number '0014053233294' is invalid after cleaning.\n",
      "WARNING:root:Phone number '27440' is invalid after cleaning.\n",
      "WARNING:root:Phone number '0012456176096' is invalid after cleaning.\n",
      "WARNING:root:Phone number '0013555385242' is invalid after cleaning.\n",
      "ERROR:root:Error cleaning phone number 'None': expected string or bytes-like object, got 'NoneType'\n",
      "ERROR:root:Error cleaning phone number 'None': expected string or bytes-like object, got 'NoneType'\n",
      "WARNING:root:Phone number '0016888863689' is invalid after cleaning.\n",
      "ERROR:root:Error cleaning phone number 'None': expected string or bytes-like object, got 'NoneType'\n",
      "WARNING:root:Phone number '0015722007020' is invalid after cleaning.\n",
      "WARNING:root:Phone number '0018744327012' is invalid after cleaning.\n",
      "ERROR:root:Error cleaning phone number 'None': expected string or bytes-like object, got 'NoneType'\n",
      "WARNING:root:Phone number '0017656668508' is invalid after cleaning.\n",
      "WARNING:root:Phone number '42260' is invalid after cleaning.\n",
      "WARNING:root:Phone number '90050' is invalid after cleaning.\n",
      "ERROR:root:Error cleaning phone number 'None': expected string or bytes-like object, got 'NoneType'\n",
      "ERROR:root:Error cleaning phone number 'None': expected string or bytes-like object, got 'NoneType'\n",
      "WARNING:root:Phone number '0018292041988' is invalid after cleaning.\n",
      "WARNING:root:Phone number '0015725851695' is invalid after cleaning.\n",
      "WARNING:root:Phone number '0014592411692' is invalid after cleaning.\n",
      "ERROR:root:Error cleaning phone number 'None': expected string or bytes-like object, got 'NoneType'\n",
      "WARNING:root:Phone number '0014204100264' is invalid after cleaning.\n",
      "WARNING:root:Phone number '0014165343591' is invalid after cleaning.\n",
      "WARNING:root:Phone number '84480' is invalid after cleaning.\n",
      "WARNING:root:Phone number '0014643311540' is invalid after cleaning.\n",
      "WARNING:root:Phone number '0017985474008' is invalid after cleaning.\n",
      "WARNING:root:Phone number '0013548613673' is invalid after cleaning.\n",
      "WARNING:root:Phone number '17230' is invalid after cleaning.\n",
      "ERROR:root:Error cleaning phone number 'None': expected string or bytes-like object, got 'NoneType'\n",
      "ERROR:root:Error cleaning phone number 'None': expected string or bytes-like object, got 'NoneType'\n",
      "WARNING:root:Phone number '84520' is invalid after cleaning.\n",
      "WARNING:root:Phone number '25330' is invalid after cleaning.\n",
      "WARNING:root:Phone number '0012114103184' is invalid after cleaning.\n",
      "WARNING:root:Phone number '0017448493783' is invalid after cleaning.\n",
      "WARNING:root:Phone number '0012649151787' is invalid after cleaning.\n",
      "WARNING:root:Phone number '0015464330444' is invalid after cleaning.\n",
      "ERROR:root:Error cleaning phone number 'None': expected string or bytes-like object, got 'NoneType'\n",
      "WARNING:root:Phone number '0014854106862' is invalid after cleaning.\n",
      "WARNING:root:Phone number '0015783449819' is invalid after cleaning.\n",
      "ERROR:root:Error cleaning phone number 'None': expected string or bytes-like object, got 'NoneType'\n",
      "ERROR:root:Error cleaning phone number 'None': expected string or bytes-like object, got 'NoneType'\n",
      "WARNING:root:Phone number '0013885173376' is invalid after cleaning.\n",
      "WARNING:root:Phone number '0016795945069' is invalid after cleaning.\n",
      "WARNING:root:Phone number '0012659815964' is invalid after cleaning.\n",
      "WARNING:root:Phone number '0017618580075' is invalid after cleaning.\n",
      "WARNING:root:Phone number '0014307106897' is invalid after cleaning.\n",
      "ERROR:root:Error cleaning phone number 'None': expected string or bytes-like object, got 'NoneType'\n",
      "WARNING:root:Phone number '109660' is invalid after cleaning.\n",
      "WARNING:root:Phone number '0017998532377' is invalid after cleaning.\n",
      "WARNING:root:Phone number '72550' is invalid after cleaning.\n",
      "WARNING:root:Phone number '0017784550687' is invalid after cleaning.\n",
      "WARNING:root:Phone number '54900' is invalid after cleaning.\n",
      "WARNING:root:Phone number '71980' is invalid after cleaning.\n",
      "WARNING:root:Phone number '0012499426333' is invalid after cleaning.\n",
      "WARNING:root:Phone number '0012568481536' is invalid after cleaning.\n",
      "ERROR:root:Error cleaning phone number 'None': expected string or bytes-like object, got 'NoneType'\n",
      "WARNING:root:Phone number '0013293848617' is invalid after cleaning.\n",
      "WARNING:root:Phone number '0013632799227' is invalid after cleaning.\n",
      "WARNING:root:Phone number '0017527054666' is invalid after cleaning.\n",
      "WARNING:root:Phone number '0015247695516' is invalid after cleaning.\n",
      "WARNING:root:Phone number '42370' is invalid after cleaning.\n",
      "WARNING:root:Phone number '0012403969382' is invalid after cleaning.\n",
      "WARNING:root:Phone number '0012719726549' is invalid after cleaning.\n",
      "WARNING:root:Phone number '0016779901490' is invalid after cleaning.\n",
      "WARNING:root:Phone number '0017777396039' is invalid after cleaning.\n",
      "ERROR:root:Error cleaning phone number 'None': expected string or bytes-like object, got 'NoneType'\n",
      "WARNING:root:Phone number '0019274637200' is invalid after cleaning.\n",
      "WARNING:root:Phone number '0018603653918' is invalid after cleaning.\n",
      "WARNING:root:Phone number '0019735074872' is invalid after cleaning.\n",
      "WARNING:root:Phone number '0018606968077' is invalid after cleaning.\n",
      "WARNING:root:Phone number '0016415941089' is invalid after cleaning.\n",
      "WARNING:root:Phone number '0012607279174' is invalid after cleaning.\n",
      "ERROR:root:Error cleaning phone number 'None': expected string or bytes-like object, got 'NoneType'\n",
      "WARNING:root:Phone number '0015352263838' is invalid after cleaning.\n",
      "WARNING:root:Phone number '0017773946055' is invalid after cleaning.\n",
      "ERROR:root:Error cleaning phone number 'None': expected string or bytes-like object, got 'NoneType'\n",
      "WARNING:root:Phone number '0014235591341' is invalid after cleaning.\n",
      "ERROR:root:Error cleaning phone number 'None': expected string or bytes-like object, got 'NoneType'\n",
      "WARNING:root:Phone number '0012847837235' is invalid after cleaning.\n",
      "WARNING:root:Phone number '0012852422076' is invalid after cleaning.\n",
      "WARNING:root:Phone number '0015324566521' is invalid after cleaning.\n",
      "ERROR:root:Error cleaning phone number 'None': expected string or bytes-like object, got 'NoneType'\n",
      "WARNING:root:Phone number '0014742662746' is invalid after cleaning.\n",
      "WARNING:root:Phone number '78040' is invalid after cleaning.\n",
      "WARNING:root:Phone number '0012377997346' is invalid after cleaning.\n",
      "ERROR:root:Error cleaning phone number 'None': expected string or bytes-like object, got 'NoneType'\n",
      "WARNING:root:Phone number '0018486898169' is invalid after cleaning.\n",
      "ERROR:root:Error cleaning phone number 'None': expected string or bytes-like object, got 'NoneType'\n",
      "WARNING:root:Phone number '0019649622195' is invalid after cleaning.\n",
      "WARNING:root:Phone number '0015739143744' is invalid after cleaning.\n",
      "WARNING:root:Phone number '0018389910819' is invalid after cleaning.\n",
      "WARNING:root:Phone number '0017009587217' is invalid after cleaning.\n",
      "WARNING:root:Phone number '0018253175081' is invalid after cleaning.\n",
      "WARNING:root:Phone number '0018442787775' is invalid after cleaning.\n",
      "WARNING:root:Phone number '0015103645032' is invalid after cleaning.\n",
      "ERROR:root:Error cleaning phone number 'None': expected string or bytes-like object, got 'NoneType'\n",
      "WARNING:root:Phone number '64540' is invalid after cleaning.\n",
      "WARNING:root:Phone number '0017339291776' is invalid after cleaning.\n",
      "WARNING:root:Phone number '0012173399501' is invalid after cleaning.\n",
      "WARNING:root:Phone number '0019504974172' is invalid after cleaning.\n",
      "WARNING:root:Phone number '0013982417883' is invalid after cleaning.\n",
      "WARNING:root:Phone number '0018102018252' is invalid after cleaning.\n",
      "WARNING:root:Phone number '0018862634763' is invalid after cleaning.\n",
      "WARNING:root:Phone number '0015866806802' is invalid after cleaning.\n",
      "WARNING:root:Phone number '0019927119187' is invalid after cleaning.\n",
      "WARNING:root:Phone number '0017815607690' is invalid after cleaning.\n",
      "WARNING:root:Phone number '96860' is invalid after cleaning.\n",
      "WARNING:root:Phone number '0019935925179' is invalid after cleaning.\n",
      "WARNING:root:Phone number '0016085633771' is invalid after cleaning.\n",
      "WARNING:root:Phone number '0014755218275' is invalid after cleaning.\n",
      "WARNING:root:Phone number '0018627861750' is invalid after cleaning.\n",
      "WARNING:root:Phone number '48180' is invalid after cleaning.\n",
      "WARNING:root:Phone number '0016322291437' is invalid after cleaning.\n",
      "WARNING:root:Phone number '0017796956747' is invalid after cleaning.\n",
      "ERROR:root:Error cleaning phone number 'None': expected string or bytes-like object, got 'NoneType'\n",
      "WARNING:root:Phone number '0018022142595' is invalid after cleaning.\n",
      "ERROR:root:Error cleaning phone number 'None': expected string or bytes-like object, got 'NoneType'\n",
      "WARNING:root:Phone number '0018156054348' is invalid after cleaning.\n",
      "WARNING:root:Phone number '0016634223870' is invalid after cleaning.\n",
      "WARNING:root:Phone number '0014356315324' is invalid after cleaning.\n",
      "WARNING:root:Phone number '0017449200642' is invalid after cleaning.\n",
      "WARNING:root:Phone number '0013672825162' is invalid after cleaning.\n",
      "WARNING:root:Phone number '0017349485429' is invalid after cleaning.\n",
      "WARNING:root:Phone number '0015818451651' is invalid after cleaning.\n",
      "WARNING:root:Phone number '0017108145225' is invalid after cleaning.\n",
      "WARNING:root:Phone number '0018704591717' is invalid after cleaning.\n",
      "WARNING:root:Phone number '0017038527488' is invalid after cleaning.\n",
      "WARNING:root:Phone number '0017693137834' is invalid after cleaning.\n",
      "WARNING:root:Phone number '0012105488005' is invalid after cleaning.\n",
      "ERROR:root:Error cleaning phone number 'None': expected string or bytes-like object, got 'NoneType'\n",
      "WARNING:root:Phone number '0014127397911' is invalid after cleaning.\n",
      "ERROR:root:Error cleaning phone number 'None': expected string or bytes-like object, got 'NoneType'\n",
      "WARNING:root:Phone number '0013734307881' is invalid after cleaning.\n",
      "WARNING:root:Phone number '0013155966948' is invalid after cleaning.\n",
      "ERROR:root:Error cleaning phone number 'None': expected string or bytes-like object, got 'NoneType'\n",
      "ERROR:root:Error cleaning phone number 'None': expected string or bytes-like object, got 'NoneType'\n",
      "WARNING:root:Phone number '0012357119639' is invalid after cleaning.\n",
      "WARNING:root:Phone number '0017409041282' is invalid after cleaning.\n",
      "WARNING:root:Phone number '0016364675118' is invalid after cleaning.\n",
      "ERROR:root:Error cleaning phone number 'None': expected string or bytes-like object, got 'NoneType'\n",
      "ERROR:root:Error cleaning phone number 'None': expected string or bytes-like object, got 'NoneType'\n",
      "WARNING:root:Phone number '0018048314881' is invalid after cleaning.\n",
      "WARNING:root:Phone number '0013776945409' is invalid after cleaning.\n",
      "ERROR:root:Error cleaning phone number 'None': expected string or bytes-like object, got 'NoneType'\n",
      "ERROR:root:Error cleaning phone number 'None': expected string or bytes-like object, got 'NoneType'\n",
      "ERROR:root:Error cleaning phone number 'None': expected string or bytes-like object, got 'NoneType'\n",
      "WARNING:root:Phone number '93850' is invalid after cleaning.\n",
      "WARNING:root:Phone number '0012369193335' is invalid after cleaning.\n",
      "WARNING:root:Phone number '0013399150305' is invalid after cleaning.\n",
      "WARNING:root:Phone number '31780' is invalid after cleaning.\n",
      "WARNING:root:Phone number '0018922177513' is invalid after cleaning.\n",
      "ERROR:root:Error cleaning phone number 'None': expected string or bytes-like object, got 'NoneType'\n",
      "WARNING:root:Phone number '0014445060510' is invalid after cleaning.\n",
      "WARNING:root:Phone number '0014232551891' is invalid after cleaning.\n",
      "WARNING:root:Phone number '0017909114721' is invalid after cleaning.\n",
      "WARNING:root:Phone number '0018735186211' is invalid after cleaning.\n",
      "WARNING:root:Phone number '18310' is invalid after cleaning.\n",
      "WARNING:root:Phone number '0012389333207' is invalid after cleaning.\n",
      "WARNING:root:Phone number '0019833118786' is invalid after cleaning.\n",
      "WARNING:root:Phone number '0019182118790' is invalid after cleaning.\n",
      "WARNING:root:Phone number '80750' is invalid after cleaning.\n",
      "ERROR:root:Error cleaning phone number 'None': expected string or bytes-like object, got 'NoneType'\n",
      "WARNING:root:Phone number '0018994889550' is invalid after cleaning.\n",
      "WARNING:root:Phone number '0018554821647' is invalid after cleaning.\n",
      "WARNING:root:Phone number '0013127440845' is invalid after cleaning.\n",
      "WARNING:root:Phone number '0018585370798' is invalid after cleaning.\n",
      "WARNING:root:Phone number '36190' is invalid after cleaning.\n",
      "ERROR:root:Error cleaning phone number 'None': expected string or bytes-like object, got 'NoneType'\n",
      "WARNING:root:Phone number '0014308655256' is invalid after cleaning.\n",
      "WARNING:root:Phone number '0019914986022' is invalid after cleaning.\n",
      "WARNING:root:Phone number '0017366184841' is invalid after cleaning.\n",
      "WARNING:root:Phone number '0016715672079' is invalid after cleaning.\n",
      "WARNING:root:Phone number '0014663821068' is invalid after cleaning.\n",
      "WARNING:root:Phone number '0017853435780' is invalid after cleaning.\n",
      "WARNING:root:Phone number '19580' is invalid after cleaning.\n",
      "WARNING:root:Phone number '0016182118295' is invalid after cleaning.\n",
      "WARNING:root:Phone number '0018268290255' is invalid after cleaning.\n",
      "WARNING:root:Phone number '0019115012902' is invalid after cleaning.\n",
      "WARNING:root:Phone number '0013398909344' is invalid after cleaning.\n",
      "WARNING:root:Phone number '0018418908625' is invalid after cleaning.\n",
      "WARNING:root:Phone number '95850' is invalid after cleaning.\n",
      "WARNING:root:Phone number '0019035692101' is invalid after cleaning.\n",
      "WARNING:root:Phone number '56300' is invalid after cleaning.\n",
      "ERROR:root:Error cleaning phone number 'None': expected string or bytes-like object, got 'NoneType'\n",
      "ERROR:root:Error cleaning phone number 'None': expected string or bytes-like object, got 'NoneType'\n",
      "WARNING:root:Phone number '0016195282817' is invalid after cleaning.\n",
      "WARNING:root:Phone number '0012188882086' is invalid after cleaning.\n",
      "WARNING:root:Phone number '0017014975981' is invalid after cleaning.\n",
      "ERROR:root:Error cleaning phone number 'None': expected string or bytes-like object, got 'NoneType'\n",
      "WARNING:root:Phone number '0016709226624' is invalid after cleaning.\n",
      "WARNING:root:Phone number '0014336181028' is invalid after cleaning.\n",
      "WARNING:root:Phone number '0016206817364' is invalid after cleaning.\n",
      "WARNING:root:Phone number '0013753938403' is invalid after cleaning.\n",
      "WARNING:root:Phone number '0016018759786' is invalid after cleaning.\n",
      "WARNING:root:Phone number '0013363307577' is invalid after cleaning.\n",
      "WARNING:root:Phone number '0014044819089' is invalid after cleaning.\n",
      "WARNING:root:Phone number '30500' is invalid after cleaning.\n",
      "WARNING:root:Phone number '0019217105586' is invalid after cleaning.\n",
      "WARNING:root:Phone number '0017554653895' is invalid after cleaning.\n",
      "WARNING:root:Phone number '46030' is invalid after cleaning.\n",
      "WARNING:root:Phone number '0017265689276' is invalid after cleaning.\n",
      "WARNING:root:Phone number '0017905179794' is invalid after cleaning.\n",
      "WARNING:root:Phone number '0012506270670' is invalid after cleaning.\n",
      "WARNING:root:Phone number '0014419399098' is invalid after cleaning.\n",
      "WARNING:root:Phone number '0013236600434' is invalid after cleaning.\n",
      "WARNING:root:Phone number '0014345349805' is invalid after cleaning.\n",
      "WARNING:root:Phone number '35950' is invalid after cleaning.\n",
      "ERROR:root:Error cleaning phone number 'None': expected string or bytes-like object, got 'NoneType'\n",
      "WARNING:root:Phone number '0019526418787' is invalid after cleaning.\n",
      "ERROR:root:Error cleaning phone number 'None': expected string or bytes-like object, got 'NoneType'\n",
      "WARNING:root:Phone number '0017973548224' is invalid after cleaning.\n",
      "WARNING:root:Phone number '0017152487183' is invalid after cleaning.\n",
      "ERROR:root:Error cleaning phone number 'None': expected string or bytes-like object, got 'NoneType'\n",
      "WARNING:root:Phone number '0013168218893' is invalid after cleaning.\n",
      "WARNING:root:Phone number '0014314265770' is invalid after cleaning.\n",
      "WARNING:root:Phone number '90790' is invalid after cleaning.\n",
      "WARNING:root:Phone number '0012132207661' is invalid after cleaning.\n",
      "ERROR:root:Error cleaning phone number 'None': expected string or bytes-like object, got 'NoneType'\n",
      "WARNING:root:Phone number '0018936651143' is invalid after cleaning.\n",
      "WARNING:root:Phone number '0016377705067' is invalid after cleaning.\n",
      "WARNING:root:Phone number '87620' is invalid after cleaning.\n",
      "WARNING:root:Phone number '0015966029015' is invalid after cleaning.\n",
      "ERROR:root:Error cleaning phone number 'None': expected string or bytes-like object, got 'NoneType'\n",
      "WARNING:root:Phone number '26740' is invalid after cleaning.\n",
      "WARNING:root:Phone number '0019225225042' is invalid after cleaning.\n",
      "WARNING:root:Phone number '0016106138424' is invalid after cleaning.\n",
      "WARNING:root:Phone number '0014892241669' is invalid after cleaning.\n",
      "WARNING:root:Phone number '102200' is invalid after cleaning.\n",
      "WARNING:root:Phone number '0015414535337' is invalid after cleaning.\n",
      "ERROR:root:Error cleaning phone number 'None': expected string or bytes-like object, got 'NoneType'\n",
      "WARNING:root:Phone number '0018058124083' is invalid after cleaning.\n",
      "WARNING:root:Phone number '0013125759734' is invalid after cleaning.\n",
      "WARNING:root:Phone number '0013428293120' is invalid after cleaning.\n",
      "WARNING:root:Phone number '0017812603985' is invalid after cleaning.\n",
      "ERROR:root:Error cleaning phone number 'None': expected string or bytes-like object, got 'NoneType'\n",
      "WARNING:root:Phone number '0018516533034' is invalid after cleaning.\n",
      "ERROR:root:Error cleaning phone number 'None': expected string or bytes-like object, got 'NoneType'\n",
      "WARNING:root:Phone number '0013447515772' is invalid after cleaning.\n",
      "WARNING:root:Phone number '0016175956284' is invalid after cleaning.\n",
      "WARNING:root:Phone number '83320' is invalid after cleaning.\n",
      "ERROR:root:Error cleaning phone number 'None': expected string or bytes-like object, got 'NoneType'\n",
      "WARNING:root:Phone number '0016519501280' is invalid after cleaning.\n",
      "WARNING:root:Phone number '78180' is invalid after cleaning.\n",
      "WARNING:root:Phone number '54530' is invalid after cleaning.\n",
      "WARNING:root:Phone number '0015453438014' is invalid after cleaning.\n",
      "ERROR:root:Error cleaning phone number 'None': expected string or bytes-like object, got 'NoneType'\n",
      "WARNING:root:Phone number '0013357291230' is invalid after cleaning.\n",
      "WARNING:root:Phone number '0013757259573' is invalid after cleaning.\n",
      "WARNING:root:Phone number '69100' is invalid after cleaning.\n",
      "WARNING:root:Phone number '90520' is invalid after cleaning.\n",
      "WARNING:root:Phone number '0019675623006' is invalid after cleaning.\n",
      "WARNING:root:Phone number '0015968265095' is invalid after cleaning.\n",
      "WARNING:root:Phone number '0019026319215' is invalid after cleaning.\n",
      "WARNING:root:Phone number '0015315986320' is invalid after cleaning.\n",
      "ERROR:root:Error cleaning phone number 'None': expected string or bytes-like object, got 'NoneType'\n",
      "WARNING:root:Phone number '0018034869624' is invalid after cleaning.\n",
      "WARNING:root:Phone number '0016857979228' is invalid after cleaning.\n",
      "WARNING:root:Phone number '54870' is invalid after cleaning.\n",
      "ERROR:root:Error cleaning phone number 'None': expected string or bytes-like object, got 'NoneType'\n",
      "WARNING:root:Phone number '0016177670160' is invalid after cleaning.\n",
      "WARNING:root:Phone number '0012437877392' is invalid after cleaning.\n",
      "WARNING:root:Phone number '0015323147807' is invalid after cleaning.\n",
      "WARNING:root:Phone number '69120' is invalid after cleaning.\n",
      "WARNING:root:Phone number '0018736979653' is invalid after cleaning.\n",
      "ERROR:root:Error cleaning phone number 'None': expected string or bytes-like object, got 'NoneType'\n",
      "ERROR:root:Error cleaning phone number 'None': expected string or bytes-like object, got 'NoneType'\n",
      "ERROR:root:Error cleaning phone number 'None': expected string or bytes-like object, got 'NoneType'\n",
      "WARNING:root:Phone number '0013694459385' is invalid after cleaning.\n",
      "ERROR:root:Error cleaning phone number 'None': expected string or bytes-like object, got 'NoneType'\n",
      "WARNING:root:Phone number '0012225442572' is invalid after cleaning.\n",
      "WARNING:root:Phone number '0013986027720' is invalid after cleaning.\n",
      "ERROR:root:Error cleaning phone number 'None': expected string or bytes-like object, got 'NoneType'\n",
      "WARNING:root:Phone number '25050' is invalid after cleaning.\n",
      "WARNING:root:Phone number '0015626865118' is invalid after cleaning.\n",
      "WARNING:root:Phone number '0019145534991' is invalid after cleaning.\n",
      "ERROR:root:Error cleaning phone number 'None': expected string or bytes-like object, got 'NoneType'\n",
      "WARNING:root:Phone number '0013997250440' is invalid after cleaning.\n",
      "ERROR:root:Error cleaning phone number 'None': expected string or bytes-like object, got 'NoneType'\n",
      "WARNING:root:Phone number '0015677216567' is invalid after cleaning.\n",
      "WARNING:root:Phone number '0017325463829' is invalid after cleaning.\n",
      "WARNING:root:Phone number '0016673067756' is invalid after cleaning.\n",
      "WARNING:root:Phone number '72670' is invalid after cleaning.\n",
      "WARNING:root:Phone number '0019685583956' is invalid after cleaning.\n",
      "WARNING:root:Phone number '0016127320363' is invalid after cleaning.\n",
      "WARNING:root:Phone number '0019865783568' is invalid after cleaning.\n",
      "WARNING:root:Phone number '87190' is invalid after cleaning.\n",
      "WARNING:root:Phone number '0019854765547' is invalid after cleaning.\n",
      "WARNING:root:Phone number '0015807105151' is invalid after cleaning.\n",
      "WARNING:root:Phone number '0015606947852' is invalid after cleaning.\n",
      "WARNING:root:Phone number '67690' is invalid after cleaning.\n",
      "WARNING:root:Phone number '0013963433222' is invalid after cleaning.\n",
      "WARNING:root:Phone number '0013116729875' is invalid after cleaning.\n",
      "WARNING:root:Phone number '0012782752668' is invalid after cleaning.\n",
      "WARNING:root:Phone number '0016238609266' is invalid after cleaning.\n",
      "WARNING:root:Phone number '0019337143334' is invalid after cleaning.\n",
      "WARNING:root:Phone number '77810' is invalid after cleaning.\n",
      "WARNING:root:Phone number '0019426786868' is invalid after cleaning.\n",
      "WARNING:root:Phone number '71460' is invalid after cleaning.\n",
      "ERROR:root:Error cleaning phone number 'None': expected string or bytes-like object, got 'NoneType'\n",
      "WARNING:root:Phone number '0017792943752' is invalid after cleaning.\n",
      "WARNING:root:Phone number '0019847270077' is invalid after cleaning.\n",
      "WARNING:root:Phone number '0018404252027' is invalid after cleaning.\n",
      "WARNING:root:Phone number '0014548473108' is invalid after cleaning.\n",
      "ERROR:root:Error cleaning phone number 'None': expected string or bytes-like object, got 'NoneType'\n",
      "WARNING:root:Phone number '78710' is invalid after cleaning.\n",
      "WARNING:root:Phone number '0019989337193' is invalid after cleaning.\n",
      "WARNING:root:Phone number '0014883154106' is invalid after cleaning.\n",
      "WARNING:root:Phone number '0019343858451' is invalid after cleaning.\n",
      "WARNING:root:Phone number '0017462425483' is invalid after cleaning.\n",
      "WARNING:root:Phone number '0016535146637' is invalid after cleaning.\n",
      "WARNING:root:Phone number '0012928510148' is invalid after cleaning.\n",
      "WARNING:root:Phone number '0018069402723' is invalid after cleaning.\n",
      "WARNING:root:Phone number '116720' is invalid after cleaning.\n",
      "WARNING:root:Phone number '0015522275816' is invalid after cleaning.\n",
      "WARNING:root:Phone number '0012075577862' is invalid after cleaning.\n",
      "WARNING:root:Phone number '0015676183527' is invalid after cleaning.\n",
      "ERROR:root:Error cleaning phone number 'None': expected string or bytes-like object, got 'NoneType'\n",
      "WARNING:root:Phone number '93610' is invalid after cleaning.\n",
      "WARNING:root:Phone number '0018707402026' is invalid after cleaning.\n",
      "WARNING:root:Phone number '34360' is invalid after cleaning.\n",
      "ERROR:root:Error cleaning phone number 'None': expected string or bytes-like object, got 'NoneType'\n",
      "WARNING:root:Phone number '0014854787558' is invalid after cleaning.\n",
      "WARNING:root:Phone number '0014992929173' is invalid after cleaning.\n",
      "WARNING:root:Phone number '0012506388805' is invalid after cleaning.\n",
      "WARNING:root:Phone number '0012672060535' is invalid after cleaning.\n",
      "WARNING:root:Phone number '0012012001553' is invalid after cleaning.\n",
      "WARNING:root:Phone number '0013724596672' is invalid after cleaning.\n",
      "ERROR:root:Error cleaning phone number 'None': expected string or bytes-like object, got 'NoneType'\n",
      "WARNING:root:Phone number '71910' is invalid after cleaning.\n",
      "WARNING:root:Phone number '0017073988675' is invalid after cleaning.\n",
      "ERROR:root:Error cleaning phone number 'None': expected string or bytes-like object, got 'NoneType'\n",
      "ERROR:root:Error cleaning phone number 'None': expected string or bytes-like object, got 'NoneType'\n",
      "WARNING:root:Phone number '0016537362147' is invalid after cleaning.\n",
      "WARNING:root:Phone number '0014492557881' is invalid after cleaning.\n",
      "WARNING:root:Phone number '0017133502126' is invalid after cleaning.\n",
      "WARNING:root:Phone number '0018486647123' is invalid after cleaning.\n",
      "WARNING:root:Phone number '0013032144421' is invalid after cleaning.\n",
      "WARNING:root:Phone number '59380' is invalid after cleaning.\n",
      "WARNING:root:Phone number '0012173947482' is invalid after cleaning.\n",
      "WARNING:root:Phone number '0012745068900' is invalid after cleaning.\n",
      "WARNING:root:Phone number '0012342888928' is invalid after cleaning.\n",
      "WARNING:root:Phone number '0017178886752' is invalid after cleaning.\n",
      "WARNING:root:Phone number '13560' is invalid after cleaning.\n",
      "WARNING:root:Phone number '0016659076801' is invalid after cleaning.\n",
      "ERROR:root:Error cleaning phone number 'None': expected string or bytes-like object, got 'NoneType'\n",
      "WARNING:root:Phone number '0016306265330' is invalid after cleaning.\n",
      "WARNING:root:Phone number '105050' is invalid after cleaning.\n",
      "WARNING:root:Phone number '0015746984394' is invalid after cleaning.\n",
      "WARNING:root:Phone number '0012827702566' is invalid after cleaning.\n",
      "ERROR:root:Error cleaning phone number 'None': expected string or bytes-like object, got 'NoneType'\n",
      "WARNING:root:Phone number '0012757788786' is invalid after cleaning.\n",
      "WARNING:root:Phone number '90000' is invalid after cleaning.\n",
      "WARNING:root:Phone number '0017755996369' is invalid after cleaning.\n",
      "WARNING:root:Phone number '89450' is invalid after cleaning.\n",
      "WARNING:root:Phone number '0019857538190' is invalid after cleaning.\n",
      "WARNING:root:Phone number '0014985943399' is invalid after cleaning.\n",
      "WARNING:root:Phone number '0019337598232' is invalid after cleaning.\n",
      "WARNING:root:Phone number '0016083378026' is invalid after cleaning.\n",
      "WARNING:root:Phone number '20980' is invalid after cleaning.\n",
      "WARNING:root:Phone number '0015893873790' is invalid after cleaning.\n",
      "WARNING:root:Phone number '0015599627419' is invalid after cleaning.\n",
      "WARNING:root:Phone number '0016998261907' is invalid after cleaning.\n",
      "WARNING:root:Phone number '113660' is invalid after cleaning.\n",
      "ERROR:root:Error cleaning phone number 'None': expected string or bytes-like object, got 'NoneType'\n",
      "WARNING:root:Phone number '0013593019431' is invalid after cleaning.\n",
      "WARNING:root:Phone number '0012553858138' is invalid after cleaning.\n",
      "WARNING:root:Phone number '0017405307057' is invalid after cleaning.\n",
      "WARNING:root:Phone number '0013355190752' is invalid after cleaning.\n",
      "WARNING:root:Phone number '0013617676762' is invalid after cleaning.\n",
      "WARNING:root:Phone number '0014785232766' is invalid after cleaning.\n",
      "WARNING:root:Phone number '0014723968124' is invalid after cleaning.\n",
      "WARNING:root:Phone number '47450' is invalid after cleaning.\n",
      "WARNING:root:Phone number '90900' is invalid after cleaning.\n",
      "WARNING:root:Phone number '0019508857051' is invalid after cleaning.\n",
      "WARNING:root:Phone number '0016214408175' is invalid after cleaning.\n",
      "WARNING:root:Phone number '0012014063649' is invalid after cleaning.\n",
      "WARNING:root:Phone number '0014177416224' is invalid after cleaning.\n",
      "ERROR:root:Error cleaning phone number 'None': expected string or bytes-like object, got 'NoneType'\n",
      "ERROR:root:Error cleaning phone number 'None': expected string or bytes-like object, got 'NoneType'\n",
      "ERROR:root:Error cleaning phone number 'None': expected string or bytes-like object, got 'NoneType'\n",
      "WARNING:root:Phone number '0014765591484' is invalid after cleaning.\n",
      "WARNING:root:Phone number '0017892321335' is invalid after cleaning.\n",
      "WARNING:root:Phone number '0014085705636' is invalid after cleaning.\n",
      "ERROR:root:Error cleaning phone number 'None': expected string or bytes-like object, got 'NoneType'\n",
      "WARNING:root:Phone number '88460' is invalid after cleaning.\n",
      "WARNING:root:Phone number '0015412549339' is invalid after cleaning.\n",
      "WARNING:root:Phone number '0015613211426' is invalid after cleaning.\n",
      "ERROR:root:Error cleaning phone number 'None': expected string or bytes-like object, got 'NoneType'\n",
      "ERROR:root:Error cleaning phone number 'None': expected string or bytes-like object, got 'NoneType'\n",
      "WARNING:root:Phone number '41240' is invalid after cleaning.\n",
      "WARNING:root:Phone number '0019434240241' is invalid after cleaning.\n",
      "WARNING:root:Phone number '0017933100153' is invalid after cleaning.\n",
      "WARNING:root:Phone number '100520' is invalid after cleaning.\n",
      "WARNING:root:Phone number '0019515767756' is invalid after cleaning.\n",
      "WARNING:root:Phone number '0015773170570' is invalid after cleaning.\n",
      "WARNING:root:Phone number '0019083226418' is invalid after cleaning.\n",
      "WARNING:root:Phone number '0017357197627' is invalid after cleaning.\n",
      "ERROR:root:Error cleaning phone number 'None': expected string or bytes-like object, got 'NoneType'\n",
      "WARNING:root:Phone number '0012549470040' is invalid after cleaning.\n",
      "WARNING:root:Phone number '0016504237272' is invalid after cleaning.\n",
      "WARNING:root:Phone number '0013014515996' is invalid after cleaning.\n",
      "WARNING:root:Phone number '0015456647416' is invalid after cleaning.\n",
      "ERROR:root:Error cleaning phone number 'None': expected string or bytes-like object, got 'NoneType'\n",
      "WARNING:root:Phone number '77840' is invalid after cleaning.\n",
      "WARNING:root:Phone number '0016198310331' is invalid after cleaning.\n",
      "WARNING:root:Phone number '0017273479785' is invalid after cleaning.\n",
      "WARNING:root:Phone number '0012273242516' is invalid after cleaning.\n",
      "WARNING:root:Phone number '0018674425839' is invalid after cleaning.\n",
      "WARNING:root:Phone number '0015145531153' is invalid after cleaning.\n",
      "WARNING:root:Phone number '0017235154028' is invalid after cleaning.\n",
      "WARNING:root:Phone number '20700' is invalid after cleaning.\n",
      "WARNING:root:Phone number '0013327654469' is invalid after cleaning.\n",
      "WARNING:root:Phone number '0019246971758' is invalid after cleaning.\n",
      "WARNING:root:Phone number '0016909412583' is invalid after cleaning.\n",
      "WARNING:root:Phone number '0016218780656' is invalid after cleaning.\n",
      "WARNING:root:Phone number '0018804370675' is invalid after cleaning.\n",
      "WARNING:root:Phone number '0014179530306' is invalid after cleaning.\n",
      "WARNING:root:Phone number '0017804332999' is invalid after cleaning.\n",
      "WARNING:root:Phone number '0019889428193' is invalid after cleaning.\n",
      "WARNING:root:Phone number '0014308198332' is invalid after cleaning.\n",
      "WARNING:root:Phone number '0018096375431' is invalid after cleaning.\n",
      "ERROR:root:Error cleaning phone number 'None': expected string or bytes-like object, got 'NoneType'\n",
      "WARNING:root:Phone number '83190' is invalid after cleaning.\n",
      "WARNING:root:Phone number '0016087550246' is invalid after cleaning.\n",
      "WARNING:root:Phone number '71030' is invalid after cleaning.\n",
      "WARNING:root:Phone number '0014984897896' is invalid after cleaning.\n",
      "WARNING:root:Phone number '0017052169885' is invalid after cleaning.\n",
      "WARNING:root:Phone number '0013145492505' is invalid after cleaning.\n",
      "WARNING:root:Phone number '0013469338548' is invalid after cleaning.\n",
      "WARNING:root:Phone number '0012089589611' is invalid after cleaning.\n",
      "ERROR:root:Error cleaning phone number 'None': expected string or bytes-like object, got 'NoneType'\n",
      "WARNING:root:Phone number '0014156820948' is invalid after cleaning.\n",
      "WARNING:root:Phone number '0018827822386' is invalid after cleaning.\n",
      "WARNING:root:Phone number '76420' is invalid after cleaning.\n",
      "WARNING:root:Phone number '32750' is invalid after cleaning.\n",
      "WARNING:root:Phone number '0012032343865' is invalid after cleaning.\n",
      "WARNING:root:Phone number '0016057547482' is invalid after cleaning.\n",
      "ERROR:root:Error cleaning phone number 'None': expected string or bytes-like object, got 'NoneType'\n",
      "WARNING:root:Phone number '0018093714244' is invalid after cleaning.\n",
      "WARNING:root:Phone number '79570' is invalid after cleaning.\n",
      "WARNING:root:Phone number '0013278489813' is invalid after cleaning.\n",
      "WARNING:root:Phone number '0014506541240' is invalid after cleaning.\n",
      "WARNING:root:Phone number '25070' is invalid after cleaning.\n",
      "WARNING:root:Phone number '0013418945442' is invalid after cleaning.\n",
      "ERROR:root:Error cleaning phone number 'None': expected string or bytes-like object, got 'NoneType'\n",
      "WARNING:root:Phone number '19510' is invalid after cleaning.\n",
      "WARNING:root:Phone number '0016915223392' is invalid after cleaning.\n",
      "WARNING:root:Phone number '0013479328718' is invalid after cleaning.\n",
      "WARNING:root:Phone number '0017917283298' is invalid after cleaning.\n",
      "WARNING:root:Phone number '0018948686218' is invalid after cleaning.\n",
      "WARNING:root:Phone number '73860' is invalid after cleaning.\n",
      "WARNING:root:Phone number '114690' is invalid after cleaning.\n",
      "ERROR:root:Error cleaning phone number 'None': expected string or bytes-like object, got 'NoneType'\n",
      "ERROR:root:Error cleaning phone number 'None': expected string or bytes-like object, got 'NoneType'\n",
      "WARNING:root:Phone number '0018832576951' is invalid after cleaning.\n",
      "WARNING:root:Phone number '0013209012423' is invalid after cleaning.\n",
      "ERROR:root:Error cleaning phone number 'None': expected string or bytes-like object, got 'NoneType'\n",
      "WARNING:root:Phone number '0015339314822' is invalid after cleaning.\n",
      "WARNING:root:Phone number '0014699888830' is invalid after cleaning.\n",
      "WARNING:root:Phone number '0012976147571' is invalid after cleaning.\n",
      "WARNING:root:Phone number '0014065167408' is invalid after cleaning.\n",
      "WARNING:root:Phone number '0018826587579' is invalid after cleaning.\n",
      "WARNING:root:Phone number '0013964106677' is invalid after cleaning.\n",
      "WARNING:root:Phone number '77290' is invalid after cleaning.\n",
      "WARNING:root:Phone number '0015002305488' is invalid after cleaning.\n",
      "WARNING:root:Phone number '14860' is invalid after cleaning.\n",
      "WARNING:root:Phone number '0018735990240' is invalid after cleaning.\n",
      "WARNING:root:Phone number '0015515318539' is invalid after cleaning.\n",
      "ERROR:root:Error cleaning phone number 'None': expected string or bytes-like object, got 'NoneType'\n",
      "WARNING:root:Phone number '0016158620317' is invalid after cleaning.\n",
      "WARNING:root:Phone number '0015174133037' is invalid after cleaning.\n",
      "WARNING:root:Phone number '40580' is invalid after cleaning.\n",
      "WARNING:root:Phone number '0016227402544' is invalid after cleaning.\n",
      "WARNING:root:Phone number '69650' is invalid after cleaning.\n",
      "WARNING:root:Phone number '0014529953219' is invalid after cleaning.\n",
      "ERROR:root:Error cleaning phone number 'None': expected string or bytes-like object, got 'NoneType'\n",
      "WARNING:root:Phone number '0012788614674' is invalid after cleaning.\n",
      "ERROR:root:Error cleaning phone number 'None': expected string or bytes-like object, got 'NoneType'\n",
      "WARNING:root:Phone number '0012643956248' is invalid after cleaning.\n",
      "WARNING:root:Phone number '0014066260213' is invalid after cleaning.\n",
      "ERROR:root:Error cleaning phone number 'None': expected string or bytes-like object, got 'NoneType'\n",
      "ERROR:root:Error cleaning phone number 'None': expected string or bytes-like object, got 'NoneType'\n",
      "ERROR:root:Error cleaning phone number 'None': expected string or bytes-like object, got 'NoneType'\n",
      "WARNING:root:Phone number '58480' is invalid after cleaning.\n",
      "WARNING:root:Phone number '0013075453228' is invalid after cleaning.\n",
      "WARNING:root:Phone number '0017566461352' is invalid after cleaning.\n",
      "WARNING:root:Phone number '0013716969079' is invalid after cleaning.\n",
      "WARNING:root:Phone number '0013295437258' is invalid after cleaning.\n",
      "WARNING:root:Phone number '0015755097804' is invalid after cleaning.\n",
      "WARNING:root:Phone number '0014015803954' is invalid after cleaning.\n",
      "WARNING:root:Phone number '0012075647142' is invalid after cleaning.\n",
      "WARNING:root:Phone number '0012482374675' is invalid after cleaning.\n",
      "ERROR:root:Error cleaning phone number 'None': expected string or bytes-like object, got 'NoneType'\n",
      "WARNING:root:Phone number '0017148559515' is invalid after cleaning.\n",
      "WARNING:root:Phone number '0014492291675' is invalid after cleaning.\n",
      "WARNING:root:Phone number '0016066974160' is invalid after cleaning.\n",
      "ERROR:root:Error cleaning phone number 'None': expected string or bytes-like object, got 'NoneType'\n",
      "WARNING:root:Phone number '0018253544094' is invalid after cleaning.\n",
      "ERROR:root:Error cleaning phone number 'None': expected string or bytes-like object, got 'NoneType'\n",
      "WARNING:root:Phone number '0013245229296' is invalid after cleaning.\n",
      "WARNING:root:Phone number '60180' is invalid after cleaning.\n",
      "ERROR:root:Error cleaning phone number 'None': expected string or bytes-like object, got 'NoneType'\n",
      "WARNING:root:Phone number '0013354329225' is invalid after cleaning.\n",
      "WARNING:root:Phone number '0014982401776' is invalid after cleaning.\n",
      "WARNING:root:Phone number '0013338366762' is invalid after cleaning.\n",
      "WARNING:root:Phone number '0017729171599' is invalid after cleaning.\n",
      "WARNING:root:Phone number '24230' is invalid after cleaning.\n",
      "WARNING:root:Phone number '0016965123619' is invalid after cleaning.\n",
      "WARNING:root:Phone number '0018448081696' is invalid after cleaning.\n",
      "WARNING:root:Phone number '0019056711268' is invalid after cleaning.\n",
      "WARNING:root:Phone number '49770' is invalid after cleaning.\n",
      "WARNING:root:Phone number '0016097320090' is invalid after cleaning.\n",
      "WARNING:root:Phone number '0013638387634' is invalid after cleaning.\n",
      "WARNING:root:Phone number '0019253776957' is invalid after cleaning.\n",
      "ERROR:root:Error cleaning phone number 'None': expected string or bytes-like object, got 'NoneType'\n",
      "WARNING:root:Phone number '0018953443991' is invalid after cleaning.\n",
      "WARNING:root:Phone number '0012908115784' is invalid after cleaning.\n",
      "WARNING:root:Phone number '70900' is invalid after cleaning.\n",
      "WARNING:root:Phone number '106060' is invalid after cleaning.\n",
      "WARNING:root:Phone number '0016656871098' is invalid after cleaning.\n",
      "ERROR:root:Error cleaning phone number 'None': expected string or bytes-like object, got 'NoneType'\n",
      "WARNING:root:Phone number '0018929795663' is invalid after cleaning.\n",
      "WARNING:root:Phone number '0014358343917' is invalid after cleaning.\n",
      "WARNING:root:Phone number '0018736147604' is invalid after cleaning.\n",
      "WARNING:root:Phone number '36200' is invalid after cleaning.\n",
      "WARNING:root:Phone number '0017475188341' is invalid after cleaning.\n",
      "WARNING:root:Phone number '12640' is invalid after cleaning.\n",
      "WARNING:root:Phone number '57260' is invalid after cleaning.\n",
      "WARNING:root:Phone number '0018238074830' is invalid after cleaning.\n",
      "WARNING:root:Phone number '0015066065787' is invalid after cleaning.\n",
      "ERROR:root:Error cleaning phone number 'None': expected string or bytes-like object, got 'NoneType'\n",
      "WARNING:root:Phone number '0012234162295' is invalid after cleaning.\n",
      "WARNING:root:Phone number '0012564736290' is invalid after cleaning.\n",
      "WARNING:root:Phone number '0015783710391' is invalid after cleaning.\n",
      "WARNING:root:Phone number '0016747788070' is invalid after cleaning.\n",
      "WARNING:root:Phone number '0015888890046' is invalid after cleaning.\n",
      "WARNING:root:Phone number '0013493257657' is invalid after cleaning.\n",
      "WARNING:root:Phone number '0017085160444' is invalid after cleaning.\n",
      "WARNING:root:Phone number '0016244491118' is invalid after cleaning.\n",
      "WARNING:root:Phone number '94600' is invalid after cleaning.\n",
      "WARNING:root:Phone number '0013866927235' is invalid after cleaning.\n",
      "ERROR:root:Error cleaning phone number 'None': expected string or bytes-like object, got 'NoneType'\n",
      "WARNING:root:Phone number '0012039708377' is invalid after cleaning.\n",
      "WARNING:root:Phone number '0016409477697' is invalid after cleaning.\n",
      "WARNING:root:Phone number '0016782503356' is invalid after cleaning.\n",
      "WARNING:root:Phone number '0012752151110' is invalid after cleaning.\n",
      "ERROR:root:Error cleaning phone number 'None': expected string or bytes-like object, got 'NoneType'\n",
      "WARNING:root:Phone number '0012464014458' is invalid after cleaning.\n",
      "WARNING:root:Phone number '0012988971132' is invalid after cleaning.\n",
      "WARNING:root:Phone number '64970' is invalid after cleaning.\n",
      "WARNING:root:Phone number '0014292169498' is invalid after cleaning.\n",
      "WARNING:root:Phone number '0013498148412' is invalid after cleaning.\n",
      "WARNING:root:Phone number '81260' is invalid after cleaning.\n",
      "WARNING:root:Phone number '0014133362785' is invalid after cleaning.\n",
      "WARNING:root:Phone number '0013055187419' is invalid after cleaning.\n",
      "WARNING:root:Phone number '0015803976591' is invalid after cleaning.\n",
      "WARNING:root:Phone number '0016007703084' is invalid after cleaning.\n",
      "WARNING:root:Phone number '92200' is invalid after cleaning.\n",
      "ERROR:root:Error cleaning phone number 'None': expected string or bytes-like object, got 'NoneType'\n",
      "ERROR:root:Error cleaning phone number 'None': expected string or bytes-like object, got 'NoneType'\n",
      "ERROR:root:Error cleaning phone number 'None': expected string or bytes-like object, got 'NoneType'\n",
      "WARNING:root:Phone number '0019895148921' is invalid after cleaning.\n",
      "WARNING:root:Phone number '0012445930616' is invalid after cleaning.\n",
      "ERROR:root:Error cleaning phone number 'None': expected string or bytes-like object, got 'NoneType'\n",
      "WARNING:root:Phone number '0017774900102' is invalid after cleaning.\n",
      "WARNING:root:Phone number '0015765744818' is invalid after cleaning.\n",
      "WARNING:root:Phone number '0012618469029' is invalid after cleaning.\n",
      "WARNING:root:Phone number '0014442304727' is invalid after cleaning.\n",
      "WARNING:root:Phone number '103660' is invalid after cleaning.\n",
      "WARNING:root:Phone number '0017345009571' is invalid after cleaning.\n",
      "WARNING:root:Phone number '0019083005244' is invalid after cleaning.\n",
      "WARNING:root:Phone number '0015042698819' is invalid after cleaning.\n",
      "WARNING:root:Phone number '90320' is invalid after cleaning.\n",
      "ERROR:root:Error cleaning phone number 'None': expected string or bytes-like object, got 'NoneType'\n",
      "WARNING:root:Phone number '0019065120734' is invalid after cleaning.\n",
      "WARNING:root:Phone number '21300' is invalid after cleaning.\n",
      "WARNING:root:Phone number '0015258523982' is invalid after cleaning.\n",
      "WARNING:root:Phone number '0014435915211' is invalid after cleaning.\n",
      "ERROR:root:Error cleaning phone number 'None': expected string or bytes-like object, got 'NoneType'\n",
      "WARNING:root:Phone number '0017924512710' is invalid after cleaning.\n",
      "WARNING:root:Phone number '0018076879974' is invalid after cleaning.\n",
      "WARNING:root:Phone number '0016432567671' is invalid after cleaning.\n",
      "WARNING:root:Phone number '46200' is invalid after cleaning.\n",
      "ERROR:root:Error cleaning phone number 'None': expected string or bytes-like object, got 'NoneType'\n",
      "WARNING:root:Phone number '0015678028790' is invalid after cleaning.\n",
      "WARNING:root:Phone number '0015414587707' is invalid after cleaning.\n",
      "WARNING:root:Phone number '0015459748767' is invalid after cleaning.\n",
      "WARNING:root:Phone number '0013887947616' is invalid after cleaning.\n",
      "WARNING:root:Phone number '94640' is invalid after cleaning.\n",
      "WARNING:root:Phone number '0012126016396' is invalid after cleaning.\n",
      "ERROR:root:Error cleaning phone number 'None': expected string or bytes-like object, got 'NoneType'\n",
      "WARNING:root:Phone number '0019476837756' is invalid after cleaning.\n",
      "WARNING:root:Phone number '0014406759027' is invalid after cleaning.\n",
      "WARNING:root:Phone number '0016919804250' is invalid after cleaning.\n",
      "ERROR:root:Error cleaning phone number 'None': expected string or bytes-like object, got 'NoneType'\n",
      "WARNING:root:Phone number '0016799048347' is invalid after cleaning.\n",
      "WARNING:root:Phone number '0015974895451' is invalid after cleaning.\n",
      "ERROR:root:Error cleaning phone number 'None': expected string or bytes-like object, got 'NoneType'\n",
      "WARNING:root:Phone number '0018537669805' is invalid after cleaning.\n",
      "ERROR:root:Error cleaning phone number 'None': expected string or bytes-like object, got 'NoneType'\n",
      "WARNING:root:Phone number '0016096851129' is invalid after cleaning.\n",
      "ERROR:root:Error cleaning phone number 'None': expected string or bytes-like object, got 'NoneType'\n",
      "WARNING:root:Phone number '0014882234171' is invalid after cleaning.\n",
      "WARNING:root:Phone number '0016158843137' is invalid after cleaning.\n",
      "WARNING:root:Phone number '0014778995620' is invalid after cleaning.\n",
      "ERROR:root:Error cleaning phone number 'None': expected string or bytes-like object, got 'NoneType'\n",
      "WARNING:root:Phone number '0013088667341' is invalid after cleaning.\n",
      "WARNING:root:Phone number '0012942478657' is invalid after cleaning.\n",
      "ERROR:root:Error cleaning phone number 'None': expected string or bytes-like object, got 'NoneType'\n",
      "ERROR:root:Error cleaning phone number 'None': expected string or bytes-like object, got 'NoneType'\n",
      "WARNING:root:Phone number '0014527788779' is invalid after cleaning.\n",
      "WARNING:root:Phone number '0014387842549' is invalid after cleaning.\n",
      "WARNING:root:Phone number '0014024819313' is invalid after cleaning.\n",
      "WARNING:root:Phone number '0013968628526' is invalid after cleaning.\n",
      "ERROR:root:Error cleaning phone number 'None': expected string or bytes-like object, got 'NoneType'\n",
      "ERROR:root:Error cleaning phone number 'None': expected string or bytes-like object, got 'NoneType'\n",
      "WARNING:root:Phone number '0012928686889' is invalid after cleaning.\n",
      "WARNING:root:Phone number '68120' is invalid after cleaning.\n",
      "WARNING:root:Phone number '0015102183068' is invalid after cleaning.\n",
      "WARNING:root:Phone number '0013522486448' is invalid after cleaning.\n",
      "WARNING:root:Phone number '0012934346292' is invalid after cleaning.\n",
      "WARNING:root:Phone number '54050' is invalid after cleaning.\n",
      "WARNING:root:Phone number '0014497136525' is invalid after cleaning.\n",
      "ERROR:root:Error cleaning phone number 'None': expected string or bytes-like object, got 'NoneType'\n",
      "ERROR:root:Error cleaning phone number 'None': expected string or bytes-like object, got 'NoneType'\n",
      "WARNING:root:Phone number '88660' is invalid after cleaning.\n",
      "ERROR:root:Error cleaning phone number 'None': expected string or bytes-like object, got 'NoneType'\n",
      "WARNING:root:Phone number '77250' is invalid after cleaning.\n",
      "WARNING:root:Phone number '0018583714550' is invalid after cleaning.\n",
      "WARNING:root:Phone number '49190' is invalid after cleaning.\n",
      "WARNING:root:Phone number '0014805240150' is invalid after cleaning.\n",
      "WARNING:root:Phone number '0016519797566' is invalid after cleaning.\n",
      "WARNING:root:Phone number '0016049874803' is invalid after cleaning.\n",
      "WARNING:root:Phone number '0016932718388' is invalid after cleaning.\n",
      "WARNING:root:Phone number '56840' is invalid after cleaning.\n",
      "WARNING:root:Phone number '0014355772097' is invalid after cleaning.\n",
      "WARNING:root:Phone number '0018296736749' is invalid after cleaning.\n",
      "WARNING:root:Phone number '0017862385620' is invalid after cleaning.\n",
      "ERROR:root:Error cleaning phone number 'None': expected string or bytes-like object, got 'NoneType'\n",
      "WARNING:root:Phone number '0015374215982' is invalid after cleaning.\n",
      "ERROR:root:Error cleaning phone number 'None': expected string or bytes-like object, got 'NoneType'\n",
      "WARNING:root:Phone number '0013293618914' is invalid after cleaning.\n",
      "ERROR:root:Error cleaning phone number 'None': expected string or bytes-like object, got 'NoneType'\n",
      "WARNING:root:Phone number '0016285382713' is invalid after cleaning.\n",
      "ERROR:root:Error cleaning phone number 'None': expected string or bytes-like object, got 'NoneType'\n",
      "WARNING:root:Phone number '0013652485321' is invalid after cleaning.\n",
      "WARNING:root:Phone number '0017694121580' is invalid after cleaning.\n",
      "WARNING:root:Phone number '0014529043088' is invalid after cleaning.\n",
      "WARNING:root:Phone number '0019564358216' is invalid after cleaning.\n",
      "WARNING:root:Phone number '0016019195242' is invalid after cleaning.\n",
      "WARNING:root:Phone number '0014432588264' is invalid after cleaning.\n",
      "ERROR:root:Error cleaning phone number 'None': expected string or bytes-like object, got 'NoneType'\n",
      "WARNING:root:Phone number '0014362364396' is invalid after cleaning.\n",
      "WARNING:root:Phone number '0017192673680' is invalid after cleaning.\n",
      "WARNING:root:Phone number '0014057409872' is invalid after cleaning.\n",
      "WARNING:root:Phone number '0012425053732' is invalid after cleaning.\n",
      "ERROR:root:Error cleaning phone number 'None': expected string or bytes-like object, got 'NoneType'\n",
      "WARNING:root:Phone number '0017028690341' is invalid after cleaning.\n",
      "WARNING:root:Phone number '94150' is invalid after cleaning.\n",
      "WARNING:root:Phone number '0013187522827' is invalid after cleaning.\n",
      "WARNING:root:Phone number '0015369050788' is invalid after cleaning.\n",
      "WARNING:root:Phone number '41200' is invalid after cleaning.\n",
      "WARNING:root:Phone number '0014337458797' is invalid after cleaning.\n",
      "WARNING:root:Phone number '0017205882603' is invalid after cleaning.\n",
      "WARNING:root:Phone number '0018783787236' is invalid after cleaning.\n",
      "ERROR:root:Error cleaning phone number 'None': expected string or bytes-like object, got 'NoneType'\n",
      "WARNING:root:Phone number '0013554451698' is invalid after cleaning.\n",
      "WARNING:root:Phone number '0016002206762' is invalid after cleaning.\n",
      "WARNING:root:Phone number '100510' is invalid after cleaning.\n",
      "WARNING:root:Phone number '0016615148140' is invalid after cleaning.\n",
      "ERROR:root:Error cleaning phone number 'None': expected string or bytes-like object, got 'NoneType'\n",
      "WARNING:root:Phone number '0018488444103' is invalid after cleaning.\n",
      "ERROR:root:Error cleaning phone number 'None': expected string or bytes-like object, got 'NoneType'\n",
      "ERROR:root:Error cleaning phone number 'None': expected string or bytes-like object, got 'NoneType'\n",
      "WARNING:root:Phone number '0017659162176' is invalid after cleaning.\n",
      "WARNING:root:Phone number '105610' is invalid after cleaning.\n",
      "WARNING:root:Phone number '0019873035670' is invalid after cleaning.\n",
      "WARNING:root:Phone number '0019889883600' is invalid after cleaning.\n",
      "WARNING:root:Phone number '0018185551218' is invalid after cleaning.\n",
      "WARNING:root:Phone number '0019947389216' is invalid after cleaning.\n",
      "WARNING:root:Phone number '56860' is invalid after cleaning.\n",
      "ERROR:root:Error cleaning phone number 'None': expected string or bytes-like object, got 'NoneType'\n",
      "WARNING:root:Phone number '0019038916147' is invalid after cleaning.\n",
      "ERROR:root:Error cleaning phone number 'None': expected string or bytes-like object, got 'NoneType'\n",
      "ERROR:root:Error cleaning phone number 'None': expected string or bytes-like object, got 'NoneType'\n",
      "WARNING:root:Phone number '0018538767520' is invalid after cleaning.\n",
      "WARNING:root:Phone number '0012427760767' is invalid after cleaning.\n",
      "WARNING:root:Phone number '0019487622950' is invalid after cleaning.\n",
      "WARNING:root:Phone number '29600' is invalid after cleaning.\n",
      "ERROR:root:Error cleaning phone number 'None': expected string or bytes-like object, got 'NoneType'\n",
      "WARNING:root:Phone number '0014442295335' is invalid after cleaning.\n",
      "WARNING:root:Phone number '0018916988601' is invalid after cleaning.\n",
      "ERROR:root:Error cleaning phone number 'None': expected string or bytes-like object, got 'NoneType'\n",
      "WARNING:root:Phone number '0019726510766' is invalid after cleaning.\n",
      "WARNING:root:Phone number '47160' is invalid after cleaning.\n",
      "WARNING:root:Phone number '0015455858271' is invalid after cleaning.\n",
      "WARNING:root:Phone number '0019917688517' is invalid after cleaning.\n",
      "ERROR:root:Error cleaning phone number 'None': expected string or bytes-like object, got 'NoneType'\n",
      "WARNING:root:Phone number '0019039236690' is invalid after cleaning.\n",
      "WARNING:root:Phone number '0012792244297' is invalid after cleaning.\n",
      "WARNING:root:Phone number '0018556141884' is invalid after cleaning.\n",
      "WARNING:root:Phone number '0019474384626' is invalid after cleaning.\n",
      "WARNING:root:Phone number '0018123178700' is invalid after cleaning.\n",
      "WARNING:root:Phone number '0017445101750' is invalid after cleaning.\n",
      "WARNING:root:Phone number '0016335071939' is invalid after cleaning.\n",
      "WARNING:root:Phone number '0016849113064' is invalid after cleaning.\n",
      "WARNING:root:Phone number '0015268819664' is invalid after cleaning.\n",
      "ERROR:root:Error cleaning phone number 'None': expected string or bytes-like object, got 'NoneType'\n",
      "ERROR:root:Error cleaning phone number 'None': expected string or bytes-like object, got 'NoneType'\n",
      "ERROR:root:Error cleaning phone number 'None': expected string or bytes-like object, got 'NoneType'\n",
      "WARNING:root:Phone number '0016508310637' is invalid after cleaning.\n",
      "WARNING:root:Phone number '0018069067014' is invalid after cleaning.\n",
      "ERROR:root:Error cleaning phone number 'None': expected string or bytes-like object, got 'NoneType'\n",
      "WARNING:root:Phone number '0012922345784' is invalid after cleaning.\n",
      "WARNING:root:Phone number '0016556128682' is invalid after cleaning.\n",
      "WARNING:root:Phone number '0014216892462' is invalid after cleaning.\n",
      "ERROR:root:Error cleaning phone number 'None': expected string or bytes-like object, got 'NoneType'\n",
      "ERROR:root:Error cleaning phone number 'None': expected string or bytes-like object, got 'NoneType'\n",
      "WARNING:root:Phone number '0012906783476' is invalid after cleaning.\n",
      "WARNING:root:Phone number '110090' is invalid after cleaning.\n",
      "WARNING:root:Phone number '0019764313478' is invalid after cleaning.\n",
      "WARNING:root:Phone number '0015134360678' is invalid after cleaning.\n",
      "2024-09-01 09:43:38,950 - INFO - DataFrame saved successfully to temporary directory.\n",
      "2024-09-01 09:43:38,952 - INFO - File moved to final output path: /spark-data/Cleaned_Csv_File/df_customer_cleaned.csv\n",
      "2024-09-01 09:43:38,953 - INFO - Temporary directory removed: /spark-data/Cleaned_Csv_File/temp_dir\n"
     ]
    },
    {
     "data": {
      "text/plain": [
       "'/spark-data/Cleaned_Csv_File/df_customer_cleaned.csv'"
      ]
     },
     "execution_count": 24,
     "metadata": {},
     "output_type": "execute_result"
    }
   ],
   "source": [
    "save_file(df_customer_cleaned, \"/spark-data/Cleaned_Csv_File\", \"df_customer_cleaned\")"
   ]
  },
  {
   "cell_type": "markdown",
   "metadata": {},
   "source": [
    "### Cleanining df_data_product table"
   ]
  },
  {
   "cell_type": "code",
   "execution_count": 25,
   "metadata": {},
   "outputs": [],
   "source": [
    "df_product = dfs['df_data_product']"
   ]
  },
  {
   "cell_type": "code",
   "execution_count": 26,
   "metadata": {},
   "outputs": [
    {
     "name": "stdout",
     "output_type": "stream",
     "text": [
      "+----------+-------------+---------+-----+--------------------+---------+\n",
      "|product_id| product_name| category|price|         description|inventory|\n",
      "+----------+-------------+---------+-----+--------------------+---------+\n",
      "|       1.0|          bag|       no|448.0|Summer now health...|    655.0|\n",
      "|       2.0|        happy|   answer|844.0|Employee discuss ...|    230.0|\n",
      "|       3.0|         same|      his|681.0|Million mother pu...|    831.0|\n",
      "|       4.0|      prevent|   around| 34.0|Because under mea...|    804.0|\n",
      "|       5.0|        quite|   summer|663.0|Approach Mr task ...|    351.0|\n",
      "|       6.0|        which|  purpose|386.0|Leave charge mode...|     10.0|\n",
      "|       7.0|       beyond|   beyond|879.0|Shoulder power in...|    282.0|\n",
      "|       8.0|     although|     home|650.0|Exactly continue ...|    818.0|\n",
      "|       9.0|environmental| although|  7.0|Really admit kind...|    128.0|\n",
      "|      10.0|       assume|professor|945.0|Bar truth here gr...|    168.0|\n",
      "|      11.0|      usually|   figure|434.0|                null|    155.0|\n",
      "|      12.0|        their| property|158.0|Run seat couple e...|    374.0|\n",
      "|      13.0|         fine|  usually|906.0|Rich ability impr...|    395.0|\n",
      "|      14.0|         risk|     away|128.0|Protect bill fall...|    175.0|\n",
      "|      15.0|     approach|       of|243.0|Adult kid way. Th...|    192.0|\n",
      "|      16.0|         mind|     tell|305.0|School home half ...|    389.0|\n",
      "|      17.0|  opportunity|      gun|956.0|Late like economy...|    535.0|\n",
      "|      18.0|         pull|       by|957.0|Player firm story...|    541.0|\n",
      "|      19.0|         step|    occur|227.0|Very follow elect...|    763.0|\n",
      "|      20.0|     physical|    money|253.0|See six religious...|    619.0|\n",
      "+----------+-------------+---------+-----+--------------------+---------+\n",
      "only showing top 20 rows\n",
      "\n"
     ]
    }
   ],
   "source": [
    "df_product.show()"
   ]
  },
  {
   "cell_type": "code",
   "execution_count": 27,
   "metadata": {},
   "outputs": [
    {
     "name": "stderr",
     "output_type": "stream",
     "text": [
      "2024-09-01 09:43:39,499 - INFO - Successfully removed duplicate rows based on all columns.\n"
     ]
    }
   ],
   "source": [
    "df_product_remove_duplicate = remove_duplicates(df_product)"
   ]
  },
  {
   "cell_type": "code",
   "execution_count": 28,
   "metadata": {},
   "outputs": [
    {
     "name": "stderr",
     "output_type": "stream",
     "text": [
      "2024-09-01 09:43:39,528 - INFO - Successfully removed decimal values from column 'product_id'.\n"
     ]
    },
    {
     "name": "stderr",
     "output_type": "stream",
     "text": [
      "2024-09-01 09:43:39,545 - INFO - Successfully removed decimal values from column 'inventory'.\n"
     ]
    }
   ],
   "source": [
    "df_product_remove_decimals = remove_decimal(df_product, columns=[\"product_id\", \"inventory\"])"
   ]
  },
  {
   "cell_type": "code",
   "execution_count": 29,
   "metadata": {},
   "outputs": [
    {
     "name": "stdout",
     "output_type": "stream",
     "text": [
      "+----------+-------------+---------+-----+--------------------+---------+\n",
      "|product_id| product_name| category|price|         description|inventory|\n",
      "+----------+-------------+---------+-----+--------------------+---------+\n",
      "|         1|          bag|       no|448.0|Summer now health...|      655|\n",
      "|         2|        happy|   answer|844.0|Employee discuss ...|      230|\n",
      "|         3|         same|      his|681.0|Million mother pu...|      831|\n",
      "|         4|      prevent|   around| 34.0|Because under mea...|      804|\n",
      "|         5|        quite|   summer|663.0|Approach Mr task ...|      351|\n",
      "|         6|        which|  purpose|386.0|Leave charge mode...|       10|\n",
      "|         7|       beyond|   beyond|879.0|Shoulder power in...|      282|\n",
      "|         8|     although|     home|650.0|Exactly continue ...|      818|\n",
      "|         9|environmental| although|  7.0|Really admit kind...|      128|\n",
      "|        10|       assume|professor|945.0|Bar truth here gr...|      168|\n",
      "|        11|      usually|   figure|434.0|                null|      155|\n",
      "|        12|        their| property|158.0|Run seat couple e...|      374|\n",
      "|        13|         fine|  usually|906.0|Rich ability impr...|      395|\n",
      "|        14|         risk|     away|128.0|Protect bill fall...|      175|\n",
      "|        15|     approach|       of|243.0|Adult kid way. Th...|      192|\n",
      "|        16|         mind|     tell|305.0|School home half ...|      389|\n",
      "|        17|  opportunity|      gun|956.0|Late like economy...|      535|\n",
      "|        18|         pull|       by|957.0|Player firm story...|      541|\n",
      "|        19|         step|    occur|227.0|Very follow elect...|      763|\n",
      "|        20|     physical|    money|253.0|See six religious...|      619|\n",
      "+----------+-------------+---------+-----+--------------------+---------+\n",
      "only showing top 20 rows\n",
      "\n"
     ]
    }
   ],
   "source": [
    "df_product_remove_decimals.show()"
   ]
  },
  {
   "cell_type": "code",
   "execution_count": 30,
   "metadata": {},
   "outputs": [
    {
     "name": "stderr",
     "output_type": "stream",
     "text": [
      "2024-09-01 09:43:40,159 - INFO - Successfully handled negative values in column 'price' by converting to absolute values.\n"
     ]
    }
   ],
   "source": [
    "df_product_handling_negative_val = handle_negative_values(df_product_remove_decimals, columns=[\"price\"], operation=\"absolute\")"
   ]
  },
  {
   "cell_type": "code",
   "execution_count": 31,
   "metadata": {},
   "outputs": [
    {
     "name": "stdout",
     "output_type": "stream",
     "text": [
      "+----------+-------------+---------+-----+--------------------+---------+\n",
      "|product_id| product_name| category|price|         description|inventory|\n",
      "+----------+-------------+---------+-----+--------------------+---------+\n",
      "|         1|          bag|       no|448.0|Summer now health...|      655|\n",
      "|         2|        happy|   answer|844.0|Employee discuss ...|      230|\n",
      "|         3|         same|      his|681.0|Million mother pu...|      831|\n",
      "|         4|      prevent|   around| 34.0|Because under mea...|      804|\n",
      "|         5|        quite|   summer|663.0|Approach Mr task ...|      351|\n",
      "|         6|        which|  purpose|386.0|Leave charge mode...|       10|\n",
      "|         7|       beyond|   beyond|879.0|Shoulder power in...|      282|\n",
      "|         8|     although|     home|650.0|Exactly continue ...|      818|\n",
      "|         9|environmental| although|  7.0|Really admit kind...|      128|\n",
      "|        10|       assume|professor|945.0|Bar truth here gr...|      168|\n",
      "|        11|      usually|   figure|434.0|                null|      155|\n",
      "|        12|        their| property|158.0|Run seat couple e...|      374|\n",
      "|        13|         fine|  usually|906.0|Rich ability impr...|      395|\n",
      "|        14|         risk|     away|128.0|Protect bill fall...|      175|\n",
      "|        15|     approach|       of|243.0|Adult kid way. Th...|      192|\n",
      "|        16|         mind|     tell|305.0|School home half ...|      389|\n",
      "|        17|  opportunity|      gun|956.0|Late like economy...|      535|\n",
      "|        18|         pull|       by|957.0|Player firm story...|      541|\n",
      "|        19|         step|    occur|227.0|Very follow elect...|      763|\n",
      "|        20|     physical|    money|253.0|See six religious...|      619|\n",
      "+----------+-------------+---------+-----+--------------------+---------+\n",
      "only showing top 20 rows\n",
      "\n"
     ]
    }
   ],
   "source": [
    "df_product_handling_negative_val.show()"
   ]
  },
  {
   "cell_type": "code",
   "execution_count": 97,
   "metadata": {},
   "outputs": [
    {
     "name": "stderr",
     "output_type": "stream",
     "text": [
      "2024-09-01 11:23:32,650 - INFO - Successfully handled negative values in column 'inventory' by setting them to zero.\n"
     ]
    }
   ],
   "source": [
    "df_product_handling_negative_val = handle_negative_values(df_product_handling_negative_val, columns=[\"inventory\"], operation='zero')"
   ]
  },
  {
   "cell_type": "code",
   "execution_count": 33,
   "metadata": {},
   "outputs": [
    {
     "name": "stderr",
     "output_type": "stream",
     "text": [
      "2024-09-01 09:43:40,945 - INFO - Dropped rows/columns with null values using method 'all'.\n",
      "2024-09-01 09:43:40,989 - INFO - Imputed nulls in column 'category' with constant value: Not Available\n",
      "2024-09-01 09:43:40,999 - INFO - Imputed nulls in column 'description' with constant value: Not Available\n",
      "2024-09-01 09:43:42,554 - INFO - Imputed nulls in column 'price' with mode value: 637.0\n"
     ]
    }
   ],
   "source": [
    "df_product_handle_nulls = drop_nulls(df_product_handling_negative_val, \"all\", subset=[\"product_id\", \"product_name\"])\n",
    "df_product_handle_nulls = impute_nulls(df_product_handle_nulls, columns=[\"category\", \"description\"], method=\"constant\", value=\"Not Available\")\n",
    "df_product_handle_nulls = impute_nulls(df_product_handle_nulls, columns=[\"price\"], method=\"mode\")"
   ]
  },
  {
   "cell_type": "code",
   "execution_count": 37,
   "metadata": {},
   "outputs": [
    {
     "name": "stderr",
     "output_type": "stream",
     "text": [
      "2024-09-01 09:45:08,357 - INFO - Successfully removed '\n",
      "' from column 'description'.\n"
     ]
    }
   ],
   "source": [
    "df_product_desciption_filter = remove_string_from_columns(df_product_handle_nulls, columns=[\"description\"], string_to_remove=\"\\n\")"
   ]
  },
  {
   "cell_type": "code",
   "execution_count": 38,
   "metadata": {},
   "outputs": [],
   "source": [
    "df_cleaned_product = df_product_desciption_filter"
   ]
  },
  {
   "cell_type": "code",
   "execution_count": 39,
   "metadata": {},
   "outputs": [
    {
     "name": "stdout",
     "output_type": "stream",
     "text": [
      "+----------+-------------+---------+-----+--------------------+---------+\n",
      "|product_id| product_name| category|price|         description|inventory|\n",
      "+----------+-------------+---------+-----+--------------------+---------+\n",
      "|         1|          bag|       no|448.0|Summer now health...|      655|\n",
      "|         2|        happy|   answer|844.0|Employee discuss ...|      230|\n",
      "|         3|         same|      his|681.0|Million mother pu...|      831|\n",
      "|         4|      prevent|   around| 34.0|Because under mea...|      804|\n",
      "|         5|        quite|   summer|663.0|Approach Mr task ...|      351|\n",
      "|         6|        which|  purpose|386.0|Leave charge mode...|       10|\n",
      "|         7|       beyond|   beyond|879.0|Shoulder power in...|      282|\n",
      "|         8|     although|     home|650.0|Exactly continue ...|      818|\n",
      "|         9|environmental| although|  7.0|Really admit kind...|      128|\n",
      "|        10|       assume|professor|945.0|Bar truth here gr...|      168|\n",
      "|        11|      usually|   figure|434.0|       Not Available|      155|\n",
      "|        12|        their| property|158.0|Run seat couple e...|      374|\n",
      "|        13|         fine|  usually|906.0|Rich ability impr...|      395|\n",
      "|        14|         risk|     away|128.0|Protect bill fall...|      175|\n",
      "|        15|     approach|       of|243.0|Adult kid way. Th...|      192|\n",
      "|        16|         mind|     tell|305.0|School home half ...|      389|\n",
      "|        17|  opportunity|      gun|956.0|Late like economy...|      535|\n",
      "|        18|         pull|       by|957.0|Player firm story...|      541|\n",
      "|        19|         step|    occur|227.0|Very follow elect...|      763|\n",
      "|        20|     physical|    money|253.0|See six religious...|      619|\n",
      "+----------+-------------+---------+-----+--------------------+---------+\n",
      "only showing top 20 rows\n",
      "\n"
     ]
    }
   ],
   "source": [
    "df_cleaned_product.show()"
   ]
  },
  {
   "cell_type": "code",
   "execution_count": 40,
   "metadata": {},
   "outputs": [
    {
     "name": "stdout",
     "output_type": "stream",
     "text": [
      "+-------------------------------------------------------------------------------------------------------------------------------------------------------------------------------------------------------+\n",
      "|description                                                                                                                                                                                            |\n",
      "+-------------------------------------------------------------------------------------------------------------------------------------------------------------------------------------------------------+\n",
      "|Summer now health each budget me. Before hard later nice for. Meet because door worry. Too be pick effect he wide. Network executive fight somebody discuss science under.                             |\n",
      "|Employee discuss society fly watch. Exactly affect seven physical big artist there. Into event still region thus left. Will tree box political popular force. Budget hold such as mind individual pick.|\n",
      "|Million mother purpose maintain section fine. First here management perhaps child. Bit sing agency movie safe whole money. Watch space fly side itself.                                                |\n",
      "|Because under mean ago capital account teach. Theory begin sport memory foot tell option religious. Visit understand career.                                                                           |\n",
      "|Approach Mr task research area necessary. Environment letter yard think author understand hair. Go sometimes eye. Professional behind bar participant read author. Popular evidence blood night send.  |\n",
      "|Leave charge model home. Respond my certainly knowledge cultural black family. Their consider white case occur trial dark.                                                                             |\n",
      "|Shoulder power including. Role individual stop apply agency phone. Analysis after relate. Answer child how trouble church rest. Painting water six myself high cultural type girl.                     |\n",
      "|Exactly continue western. Also down care. Be agent clear hospital television. Wear environmental teacher lawyer energy forward admit everybody. Artist soldier analysis base peace.                    |\n",
      "|Really admit kind fast else. Middle about media by population guy. Probably picture last old actually often. Someone image clear side politics American sound accept. Spring eye mouth.                |\n",
      "|Bar truth here grow. Him station feeling remember others real. Fill play wide model marriage series. Nation one individual morning.                                                                    |\n",
      "|Not Available                                                                                                                                                                                          |\n",
      "|Run seat couple event seven baby. Wear audience heart doctor you because gun. Land art adult. Executive various word heart history approach parent.                                                    |\n",
      "|Rich ability improve common water once we beyond. Perhaps protect she Mr speak. You help scene authority tax.                                                                                          |\n",
      "|Protect bill fall add. Gun much house drug back worker believe share. Much stand day real build person.                                                                                                |\n",
      "|Adult kid way. That sound exist plan them. Dog race a guy population type.                                                                                                                             |\n",
      "|School home half future although increase none. Section vote relationship find rest wrong employee.                                                                                                    |\n",
      "|Late like economy skill perform rate. Imagine yourself kid me else discover show.                                                                                                                      |\n",
      "|Player firm story politics change natural age. Society stuff happy guess wall. Behind approach represent avoid another. Minute state cover long rise too possible.                                     |\n",
      "|Very follow election white long. Enter natural indeed discussion. Major artist challenge concern force bed. Economic professional record.                                                              |\n",
      "|See six religious. Effort tree serve suffer develop. Skin decision source pick test administration option. End you media war. Effort inside really present focus really growth.                        |\n",
      "+-------------------------------------------------------------------------------------------------------------------------------------------------------------------------------------------------------+\n",
      "only showing top 20 rows\n",
      "\n"
     ]
    }
   ],
   "source": [
    "df_cleaned_product.select(\"description\").show(truncate=False)"
   ]
  },
  {
   "cell_type": "code",
   "execution_count": 41,
   "metadata": {},
   "outputs": [
    {
     "name": "stderr",
     "output_type": "stream",
     "text": [
      "2024-09-01 09:45:23,615 - INFO - Saving DataFrame to temporary directory...\n",
      "24/09/01 09:45:24 WARN TaskSetManager: Stage 23 contains a task of very large size (1070 KiB). The maximum recommended task size is 1000 KiB.\n",
      "2024-09-01 09:45:24,414 - INFO - DataFrame saved successfully to temporary directory.\n",
      "2024-09-01 09:45:24,417 - INFO - File moved to final output path: /spark-data/Cleaned_Csv_File/df_product_cleaned.csv\n",
      "2024-09-01 09:45:24,419 - INFO - Temporary directory removed: /spark-data/Cleaned_Csv_File/temp_dir\n"
     ]
    },
    {
     "data": {
      "text/plain": [
       "'/spark-data/Cleaned_Csv_File/df_product_cleaned.csv'"
      ]
     },
     "execution_count": 41,
     "metadata": {},
     "output_type": "execute_result"
    }
   ],
   "source": [
    "save_file(df_cleaned_product, \"/spark-data/Cleaned_Csv_File\", \"df_product_cleaned\")"
   ]
  },
  {
   "cell_type": "markdown",
   "metadata": {},
   "source": [
    "### df_data_data table cleaning\n"
   ]
  },
  {
   "cell_type": "code",
   "execution_count": 42,
   "metadata": {},
   "outputs": [],
   "source": [
    "df_data = dfs['df_data_data']"
   ]
  },
  {
   "cell_type": "code",
   "execution_count": 43,
   "metadata": {},
   "outputs": [
    {
     "name": "stdout",
     "output_type": "stream",
     "text": [
      "+--------+-----------+-------------------+------------+--------------------+--------------------+\n",
      "|order_id|customer_id|         order_date|total_amount|    shipping_address|     billing_address|\n",
      "+--------+-----------+-------------------+------------+--------------------+--------------------+\n",
      "|     1.0|      462.0|2019-08-26 00:00:00|      4007.0|60585 Moore Overp...|775 Roberson Knol...|\n",
      "|     2.0|     2820.0|2021-04-22 00:00:00|      7240.0|3278 Price Isle\\n...|2055 Curry Street...|\n",
      "|     3.0|     1934.0|2024-02-21 00:00:00|      8318.0|Unit 8425 Box 079...|USNV Strong\\nFPO ...|\n",
      "|     4.0|     2694.0|2021-01-14 00:00:00|      4992.0|5566 Brittany Sta...|524 Allen Shoal S...|\n",
      "|     5.0|      134.0|2020-03-14 00:00:00|      5385.0|4289 Michael Esta...|38637 Cheryl Junc...|\n",
      "|     6.0|     4651.0|2020-12-30 00:00:00|      3512.0|83184 Shelly Land...|80329 Dawn Road S...|\n",
      "|     7.0|     1696.0|2023-05-30 00:00:00|      4592.0|7127 Arroyo Land\\...|787 Smith Islands...|\n",
      "|     8.0|     1969.0|2021-05-03 00:00:00|      6640.0|29076 Robinson Ca...|65198 Anderson Ex...|\n",
      "|     9.0|     2220.0|2024-06-24 00:00:00|      1779.0|2112 Jonathan Vil...|6689 Bullock Rest...|\n",
      "|    10.0|     4441.0|2022-05-10 00:00:00|      5785.0|5356 Ramirez Ligh...|561 Darren Loaf S...|\n",
      "|    11.0|     1557.0|2023-03-08 00:00:00|      5172.0|6895 Mary Course\\...|891 Jackson Strav...|\n",
      "|    12.0|     4147.0|2020-10-21 00:00:00|      3664.0|3479 Joseph Burg ...|601 Wilson Locks\\...|\n",
      "|    13.0|      653.0|2023-12-11 00:00:00|      1340.0|USNS Davidson\\nFP...|35260 Joseph Cour...|\n",
      "|    14.0|     1227.0|2020-08-31 00:00:00|      6007.0|705 Robert Light\\...|279 Jeffrey Mount...|\n",
      "|    15.0|     4327.0|2022-07-06 00:00:00|      2898.0|906 Frederick Pin...|42202 Smith Pines...|\n",
      "|    16.0|     3191.0|2021-08-10 00:00:00|      9095.0|151 John Loaf\\nLa...|405 Gregory Stree...|\n",
      "|    17.0|     3918.0|2021-08-05 00:00:00|      6038.0|4686 Andres Ville...|1349 Cox Circles ...|\n",
      "|    18.0|      615.0|2022-09-20 00:00:00|      1025.0|5572 David Causew...|7229 Lisa Rest Su...|\n",
      "|    19.0|     4936.0|2020-10-05 00:00:00|      3070.0|71029 Lewis Stree...|85591 Laura Terra...|\n",
      "|    20.0|     3574.0|2020-11-23 00:00:00|      1603.0|9940 Scott Mount ...|9258 Cassandra Hi...|\n",
      "+--------+-----------+-------------------+------------+--------------------+--------------------+\n",
      "only showing top 20 rows\n",
      "\n"
     ]
    }
   ],
   "source": [
    "df_data.show()"
   ]
  },
  {
   "cell_type": "code",
   "execution_count": 44,
   "metadata": {},
   "outputs": [
    {
     "name": "stderr",
     "output_type": "stream",
     "text": [
      "2024-09-01 09:45:36,547 - INFO - Successfully removed duplicate rows based on all columns.\n"
     ]
    }
   ],
   "source": [
    "df_data_removed_duplicate = remove_duplicates(df_data)"
   ]
  },
  {
   "cell_type": "code",
   "execution_count": 45,
   "metadata": {},
   "outputs": [
    {
     "name": "stderr",
     "output_type": "stream",
     "text": [
      "2024-09-01 09:45:38,623 - INFO - Dropped rows/columns with null values using method 'all'.\n",
      "2024-09-01 09:45:38,684 - INFO - Imputed nulls in column 'order_date' with constant value: Not Available\n",
      "2024-09-01 09:45:38,692 - INFO - Imputed nulls in column 'shipping_address' with constant value: Not Available\n",
      "2024-09-01 09:45:38,706 - INFO - Imputed nulls in column 'billing_address' with constant value: Not Available\n",
      "2024-09-01 09:45:39,823 - INFO - Imputed nulls in column 'total_amount' with mean value: 4976.722\n"
     ]
    }
   ],
   "source": [
    "df_data_handle_nulls = drop_nulls(df_data_removed_duplicate, \"all\", subset=[\"order_id\", \"customer_id\"])\n",
    "df_data_handle_nulls = impute_nulls(df_data_handle_nulls, columns=[\"order_date\", \"shipping_address\", \"billing_address\"], method=\"constant\",value=\"Not Available\")\n",
    "df_data_handle_nulls = impute_nulls(df_data_handle_nulls, columns=[\"total_amount\"], method=\"mean\")\n"
   ]
  },
  {
   "cell_type": "code",
   "execution_count": 46,
   "metadata": {},
   "outputs": [
    {
     "name": "stdout",
     "output_type": "stream",
     "text": [
      "+--------+-----------+-------------------+------------+--------------------+--------------------+\n",
      "|order_id|customer_id|         order_date|total_amount|    shipping_address|     billing_address|\n",
      "+--------+-----------+-------------------+------------+--------------------+--------------------+\n",
      "|   131.0|     4958.0|2020-05-10 00:00:00|       569.0|7886 Higgins Moto...|14788 Robert Land...|\n",
      "|   297.0|       46.0|2020-03-11 00:00:00|      1331.0|PSC 4470, Box 299...|16387 Novak Shoal...|\n",
      "|   330.0|     1082.0|2025-05-03 00:00:00|      4010.0|758 Sarah Plaza\\n...|938 Brian Road\\nL...|\n",
      "|    62.0|     2934.0|2024-06-01 00:00:00|      1727.0|7971 Vicki Key Ap...|465 Kramer Way Ap...|\n",
      "|   266.0|     3929.0|2022-05-30 00:00:00|       680.0|57853 Chen Way\\nL...|055 Butler Extens...|\n",
      "|    43.0|      118.0|2021-09-26 00:00:00|      4884.0|9822 Anne Trace A...|1511 Hill Keys Ap...|\n",
      "|    95.0|     4222.0|2023-08-27 00:00:00|      3765.0|Unit 4050 Box 161...|06811 Sean Crossi...|\n",
      "|   167.0|     3800.0|2022-12-09 00:00:00|      6259.0|16060 Mason Creek...|196 Joshua Meadow...|\n",
      "|   300.0|     1337.0|2022-01-02 00:00:00|       344.0|98835 Krista Isle...|98824 James Mill\\...|\n",
      "|    86.0|     2814.0|2022-09-17 00:00:00|      5699.0|3347 Fleming Trac...|5276 Smith Bypass...|\n",
      "|   399.0|     3813.0|2023-03-08 00:00:00|      3468.0|374 Harris Pike S...|824 Stanley Plaza...|\n",
      "|   274.0|     2829.0|2021-11-12 00:00:00|      8941.0|392 Hoffman Manor...|776 Bryant Camp A...|\n",
      "|   325.0|      959.0|2021-12-11 00:00:00|      9898.0|833 Jeffrey Junct...|33746 Gray Land\\n...|\n",
      "|    20.0|     3574.0|2020-11-23 00:00:00|      1603.0|9940 Scott Mount ...|9258 Cassandra Hi...|\n",
      "|    65.0|     3354.0|2021-07-03 00:00:00|      7897.0|8050 Rodriguez Pi...|PSC 1629, Box 428...|\n",
      "|    92.0|      590.0|2020-08-25 00:00:00|      1752.0|78680 Lowery Isla...|0431 William Fall...|\n",
      "|   207.0|     2266.0|2023-11-15 00:00:00|      9902.0|59851 Tyler Passa...|115 Rivera Place ...|\n",
      "|    71.0|     2824.0|2023-07-31 00:00:00|      8488.0|3870 Hampton Vill...|05752 Hill Fords\\...|\n",
      "|    78.0|     1483.0|2021-02-07 00:00:00|      5100.0|00838 Harvey Isla...|469 Berg Light\\nB...|\n",
      "|   140.0|      294.0|2024-05-07 00:00:00|      3102.0|Unit 2567 Box 290...|1202 Christopher ...|\n",
      "+--------+-----------+-------------------+------------+--------------------+--------------------+\n",
      "only showing top 20 rows\n",
      "\n"
     ]
    }
   ],
   "source": [
    "df_data_handle_nulls.show()"
   ]
  },
  {
   "cell_type": "code",
   "execution_count": 47,
   "metadata": {},
   "outputs": [
    {
     "name": "stderr",
     "output_type": "stream",
     "text": [
      "2024-09-01 09:45:44,125 - INFO - Successfully standardized date format in column 'order_date' to 'yyyy-MM-dd'.\n"
     ]
    }
   ],
   "source": [
    "df_data_date_formated = standardize_date_format(df_data_handle_nulls, \"order_date\")"
   ]
  },
  {
   "cell_type": "code",
   "execution_count": 48,
   "metadata": {},
   "outputs": [
    {
     "name": "stderr",
     "output_type": "stream",
     "text": [
      "2024-09-01 09:45:46,298 - INFO - Successfully removed decimal values from column 'order_id'.\n"
     ]
    },
    {
     "name": "stderr",
     "output_type": "stream",
     "text": [
      "2024-09-01 09:45:46,314 - INFO - Successfully removed decimal values from column 'customer_id'.\n",
      "2024-09-01 09:45:46,332 - INFO - Successfully removed decimal values from column 'total_amount'.\n"
     ]
    }
   ],
   "source": [
    "df_data_remove_decimals = remove_decimal(df_data_date_formated, columns=['order_id', 'customer_id', 'total_amount'])"
   ]
  },
  {
   "cell_type": "code",
   "execution_count": 49,
   "metadata": {},
   "outputs": [
    {
     "name": "stderr",
     "output_type": "stream",
     "text": [
      "2024-09-01 09:45:49,352 - INFO - Successfully handled negative values in column 'order_id' by converting to absolute values.\n"
     ]
    },
    {
     "name": "stderr",
     "output_type": "stream",
     "text": [
      "2024-09-01 09:45:49,375 - INFO - Successfully handled negative values in column 'customer_id' by converting to absolute values.\n",
      "2024-09-01 09:45:49,396 - INFO - Successfully handled negative values in column 'total_amount' by converting to absolute values.\n"
     ]
    }
   ],
   "source": [
    "df_data_negative_handel = handle_negative_values(df_data_remove_decimals, columns=[\"order_id\", \"customer_id\", \"total_amount\"], operation=\"absolute\")"
   ]
  },
  {
   "cell_type": "code",
   "execution_count": 53,
   "metadata": {},
   "outputs": [
    {
     "name": "stderr",
     "output_type": "stream",
     "text": [
      "2024-09-01 09:47:07,951 - INFO - Successfully removed '\n",
      "' from column 'shipping_address'.\n"
     ]
    },
    {
     "name": "stderr",
     "output_type": "stream",
     "text": [
      "2024-09-01 09:47:07,968 - INFO - Successfully removed '\n",
      "' from column 'billing_address'.\n"
     ]
    }
   ],
   "source": [
    "df_handel_address = remove_string_from_columns(df_data_negative_handel, columns=[\"shipping_address\", \"billing_address\"], string_to_remove=\"\\n\")"
   ]
  },
  {
   "cell_type": "code",
   "execution_count": 69,
   "metadata": {},
   "outputs": [],
   "source": [
    "df_order_cleaned = df_handel_address"
   ]
  },
  {
   "cell_type": "code",
   "execution_count": 70,
   "metadata": {},
   "outputs": [
    {
     "name": "stdout",
     "output_type": "stream",
     "text": [
      "+--------+-----------+----------+------------+--------------------+--------------------+\n",
      "|order_id|customer_id|order_date|total_amount|    shipping_address|     billing_address|\n",
      "+--------+-----------+----------+------------+--------------------+--------------------+\n",
      "|     131|       4958|2020-05-10|         569|7886 Higgins Moto...|14788 Robert Land...|\n",
      "|     297|         46|2020-03-11|        1331|PSC 4470, Box 299...|16387 Novak Shoal...|\n",
      "|     330|       1082|2025-05-03|        4010|758 Sarah Plaza P...|938 Brian Road La...|\n",
      "|      62|       2934|2024-06-01|        1727|7971 Vicki Key Ap...|465 Kramer Way Ap...|\n",
      "|     266|       3929|2022-05-30|         680|57853 Chen Way La...|055 Butler Extens...|\n",
      "|      43|        118|2021-09-26|        4884|9822 Anne Trace A...|1511 Hill Keys Ap...|\n",
      "|      95|       4222|2023-08-27|        3765|Unit 4050 Box 161...|06811 Sean Crossi...|\n",
      "|     167|       3800|2022-12-09|        6259|16060 Mason Creek...|196 Joshua Meadow...|\n",
      "|     300|       1337|2022-01-02|         344|98835 Krista Isle...|98824 James Mill ...|\n",
      "|      86|       2814|2022-09-17|        5699|3347 Fleming Trac...|5276 Smith Bypass...|\n",
      "|     399|       3813|2023-03-08|        3468|374 Harris Pike S...|824 Stanley Plaza...|\n",
      "|     274|       2829|2021-11-12|        8941|392 Hoffman Manor...|776 Bryant Camp A...|\n",
      "|     325|        959|2021-12-11|        9898|833 Jeffrey Junct...|33746 Gray Land J...|\n",
      "|      20|       3574|2020-11-23|        1603|9940 Scott Mount ...|9258 Cassandra Hi...|\n",
      "|      65|       3354|2021-07-03|        7897|8050 Rodriguez Pi...|PSC 1629, Box 428...|\n",
      "|      92|        590|2020-08-25|        1752|78680 Lowery Isla...|0431 William Fall...|\n",
      "|     207|       2266|2023-11-15|        9902|59851 Tyler Passa...|115 Rivera Place ...|\n",
      "|      71|       2824|2023-07-31|        8488|3870 Hampton Vill...|05752 Hill Fords ...|\n",
      "|      78|       1483|2021-02-07|        5100|00838 Harvey Isla...|469 Berg Light Br...|\n",
      "|     140|        294|2024-05-07|        3102|Unit 2567 Box 290...|1202 Christopher ...|\n",
      "+--------+-----------+----------+------------+--------------------+--------------------+\n",
      "only showing top 20 rows\n",
      "\n"
     ]
    }
   ],
   "source": [
    "df_order_cleaned.show()"
   ]
  },
  {
   "cell_type": "code",
   "execution_count": 91,
   "metadata": {},
   "outputs": [
    {
     "name": "stderr",
     "output_type": "stream",
     "text": [
      "2024-09-01 11:10:39,524 - INFO - Saving DataFrame to temporary directory...\n",
      "2024-09-01 11:10:40,338 - INFO - DataFrame saved successfully to temporary directory.\n",
      "2024-09-01 11:10:40,339 - INFO - File moved to final output path: /spark-data/Cleaned_Csv_File/df_order_cleaned.csv\n",
      "2024-09-01 11:10:40,340 - INFO - Temporary directory removed: /spark-data/Cleaned_Csv_File/temp_dir\n"
     ]
    },
    {
     "data": {
      "text/plain": [
       "'/spark-data/Cleaned_Csv_File/df_order_cleaned.csv'"
      ]
     },
     "execution_count": 91,
     "metadata": {},
     "output_type": "execute_result"
    }
   ],
   "source": [
    "save_file(df_order_cleaned, \"/spark-data/Cleaned_Csv_File\",\"df_order_cleaned\")"
   ]
  },
  {
   "cell_type": "markdown",
   "metadata": {},
   "source": [
    "### df_data_reviews cleaning"
   ]
  },
  {
   "cell_type": "code",
   "execution_count": 57,
   "metadata": {},
   "outputs": [],
   "source": [
    "df_review = dfs[\"df_data_reviews\"]"
   ]
  },
  {
   "cell_type": "code",
   "execution_count": 58,
   "metadata": {},
   "outputs": [
    {
     "name": "stdout",
     "output_type": "stream",
     "text": [
      "+-----------+----------+------+-----------+---------+--------------------+\n",
      "|customer_id|product_id|rating|review_date|review_id|         review_text|\n",
      "+-----------+----------+------+-----------+---------+--------------------+\n",
      "|       2522|      4663|     3| 2022-12-20|        1|Home create anyon...|\n",
      "|       2181|      2645|     3| 2024-07-05|        2|Skill herself opt...|\n",
      "|       3935|      1699|     3| 2024-05-06|        3|Public everyone s...|\n",
      "|       3453|      1360|     1| 2023-11-05|        4|Level land majori...|\n",
      "|       2999|      4883|     3| 2024-03-03|        5|Treat fine now di...|\n",
      "|        863|      3544|     2| 2023-06-02|        6|Land despite buy ...|\n",
      "|       2348|      1853|     1| 2023-11-11|        7|Ground again goal...|\n",
      "|       2388|      1652|     3| 2022-11-29|        8|Community materia...|\n",
      "|       4486|       632|     4| 2023-03-31|        9|Goal after color ...|\n",
      "|       1379|      2399|     5| 2024-02-11|       10|Beyond coach meet...|\n",
      "|        309|      3241|     3| 2023-06-30|       11|Policy wish resou...|\n",
      "|       1733|      1939|     5| 2023-08-20|       12|Knowledge alone g...|\n",
      "|       3638|      3895|     1| 2024-05-20|       13|Performance value...|\n",
      "|       1840|      1387|     1| 2022-09-02|       14|Brother example o...|\n",
      "|       4211|      4380|     3| 2024-06-08|       15|Lay reach another...|\n",
      "|       1544|      4487|     1| 2024-07-31|       16|Be when stock act...|\n",
      "|       3378|       911|     4| 2022-08-30|       17|Wear east against...|\n",
      "|       3065|      4749|     4| 2023-01-10|       18|Election letter o...|\n",
      "|       1952|      1019|     1| 2023-07-27|       19|Around bit simila...|\n",
      "|       4543|      3904|     4| 2023-06-12|       20|Than key property...|\n",
      "+-----------+----------+------+-----------+---------+--------------------+\n",
      "only showing top 20 rows\n",
      "\n"
     ]
    }
   ],
   "source": [
    "df_review.show()"
   ]
  },
  {
   "cell_type": "code",
   "execution_count": 60,
   "metadata": {},
   "outputs": [
    {
     "name": "stderr",
     "output_type": "stream",
     "text": [
      "2024-09-01 10:02:05,865 - INFO - Successfully removed duplicate rows based on all columns.\n"
     ]
    }
   ],
   "source": [
    "df_review_remove_duplicate = remove_duplicates(df_review)"
   ]
  },
  {
   "cell_type": "code",
   "execution_count": 61,
   "metadata": {},
   "outputs": [
    {
     "name": "stderr",
     "output_type": "stream",
     "text": [
      "2024-09-01 10:11:51,486 - INFO - Dropped rows/columns with null values using method 'all'.\n",
      "2024-09-01 10:11:51,552 - INFO - Imputed nulls in column 'customer_id' with constant value: Not Available\n",
      "2024-09-01 10:11:51,561 - INFO - Imputed nulls in column 'review_date' with constant value: Not Available\n",
      "2024-09-01 10:11:51,572 - INFO - Imputed nulls in column 'review_id' with constant value: Not Available\n",
      "2024-09-01 10:11:51,581 - INFO - Imputed nulls in column 'review_text' with constant value: Not Available\n"
     ]
    }
   ],
   "source": [
    "df_review_drop_nulls = drop_nulls(df_review_remove_duplicate, \"all\", subset=[\"product_id\", \"rating\"])\n",
    "df_review_impute_nulls = impute_nulls(df_review_drop_nulls, columns=[\"customer_id\", \"review_date\", \"review_id\", \"review_text\"], method=\"constant\", value=\"Not Available\")"
   ]
  },
  {
   "cell_type": "code",
   "execution_count": 62,
   "metadata": {},
   "outputs": [
    {
     "name": "stderr",
     "output_type": "stream",
     "text": [
      "2024-09-01 10:13:07,095 - INFO - Successfully removed '\n",
      "' from column 'review_text'.\n"
     ]
    }
   ],
   "source": [
    "df_review_review_handel = remove_string_from_columns(df_review_impute_nulls, columns=[\"review_text\"], string_to_remove=\"\\n\")"
   ]
  },
  {
   "cell_type": "code",
   "execution_count": 63,
   "metadata": {},
   "outputs": [
    {
     "name": "stdout",
     "output_type": "stream",
     "text": [
      "+-----------+----------+------+-----------+---------+--------------------+\n",
      "|customer_id|product_id|rating|review_date|review_id|         review_text|\n",
      "+-----------+----------+------+-----------+---------+--------------------+\n",
      "|        166|      3108|     1| 2024-02-12|      363|Realize option ap...|\n",
      "|       1662|      3924|     5| 2024-05-21|      493|Goal rich travel ...|\n",
      "|       4238|       281|     4| 2023-01-01|      619|Fish future kind ...|\n",
      "|        520|       498|     2| 2023-07-03|      678|Computer itself t...|\n",
      "|         58|      1360|     1| 2024-02-01|     1290|Into upon enough ...|\n",
      "|       2277|      3726|     3| 2023-12-11|     1580|Word peace race m...|\n",
      "|       3290|      2684|     5| 2024-06-20|     1627|Market process pr...|\n",
      "|       4476|      2171|     1| 2023-07-07|     1939|South song race p...|\n",
      "|         63|      4951|     2| 2022-12-29|     2547|Tv character seni...|\n",
      "|         84|       983|     2| 2024-03-12|     2572|Six the admit bes...|\n",
      "|        572|       416|     2| 2022-12-16|     2575|Wrong meeting suc...|\n",
      "|        108|      3892|     3| 2023-07-14|     2724|Clear make includ...|\n",
      "|        913|       716|     4| 2022-10-09|     3030|Present last base...|\n",
      "|       4518|      3837|     3| 2023-12-15|     3544|Trip true federal...|\n",
      "|       4015|      4954|     1| 2024-07-11|     3740|Day wear why mana...|\n",
      "|       4937|      3633|     3| 2023-10-26|     4097|Hit stage informa...|\n",
      "|        580|      2114|     5| 2024-01-17|     4377|None under close ...|\n",
      "|       2649|      4667|     4| 2023-06-02|     4673|Test four by memb...|\n",
      "|        937|      4024|     2| 2023-02-06|     4874|Five make real la...|\n",
      "|       3607|      3448|     0| 2022-12-24|     4989|Another say posit...|\n",
      "+-----------+----------+------+-----------+---------+--------------------+\n",
      "only showing top 20 rows\n",
      "\n"
     ]
    }
   ],
   "source": [
    "df_review_review_handel.show()"
   ]
  },
  {
   "cell_type": "code",
   "execution_count": 64,
   "metadata": {},
   "outputs": [
    {
     "name": "stderr",
     "output_type": "stream",
     "text": [
      "2024-09-01 10:14:12,554 - INFO - Successfully standardized date format in column 'review_date' to 'yyyy-MM-dd'.\n"
     ]
    }
   ],
   "source": [
    "df_review_review_date_handel = standardize_date_format(df_review_review_handel, \"review_date\")"
   ]
  },
  {
   "cell_type": "code",
   "execution_count": 65,
   "metadata": {},
   "outputs": [],
   "source": [
    "df_review_cleaned = df_review_review_date_handel"
   ]
  },
  {
   "cell_type": "code",
   "execution_count": 66,
   "metadata": {},
   "outputs": [
    {
     "name": "stderr",
     "output_type": "stream",
     "text": [
      "2024-09-01 10:14:29,869 - INFO - Saving DataFrame to temporary directory...\n",
      "2024-09-01 10:14:30,744 - INFO - DataFrame saved successfully to temporary directory.\n",
      "2024-09-01 10:14:30,748 - INFO - File moved to final output path: /spark-data/Cleaned_Csv_File/df_review_cleaned.csv\n",
      "2024-09-01 10:14:30,750 - INFO - Temporary directory removed: /spark-data/Cleaned_Csv_File/temp_dir\n"
     ]
    },
    {
     "data": {
      "text/plain": [
       "'/spark-data/Cleaned_Csv_File/df_review_cleaned.csv'"
      ]
     },
     "execution_count": 66,
     "metadata": {},
     "output_type": "execute_result"
    }
   ],
   "source": [
    "save_file(df_review_cleaned, \"/spark-data/Cleaned_Csv_File\", \"df_review_cleaned\")"
   ]
  },
  {
   "cell_type": "markdown",
   "metadata": {},
   "source": [
    "### Cleaning df_orders"
   ]
  },
  {
   "cell_type": "code",
   "execution_count": 77,
   "metadata": {},
   "outputs": [],
   "source": [
    "df_order_items = dfs[\"df_data_orders\"]"
   ]
  },
  {
   "cell_type": "code",
   "execution_count": 78,
   "metadata": {},
   "outputs": [
    {
     "name": "stdout",
     "output_type": "stream",
     "text": [
      "+--------+-------------+-----+----------+--------+\n",
      "|order_id|order_item_id|price|product_id|quantity|\n",
      "+--------+-------------+-----+----------+--------+\n",
      "|     868|            1|   70|      1571|       7|\n",
      "|    3151|            2|    8|      3809|      -3|\n",
      "|    1582|            3|   32|      4896|       8|\n",
      "|    2578|            4|   64|      2712|       4|\n",
      "|    2792|            5|   53|      1111|       4|\n",
      "|    1257|            6|   69|      2874|       1|\n",
      "|    2389|            7|   40|      2670|       9|\n",
      "|    2013|            8|   39|      3779|       6|\n",
      "|    4272|            9|   15|      3109|       5|\n",
      "|    1260|           10|   21|      2110|       8|\n",
      "|    3617|           11|   27|      3350|       1|\n",
      "|    1479|           12|   96|      2917|       9|\n",
      "|    1405|           13|   61|      1480|       5|\n",
      "|    4526|           14|   69|      4686|       5|\n",
      "|    2513|           15|    8|      3146|       8|\n",
      "|    2346|           16|   92|      4182|       5|\n",
      "|    3988|           17|   88|        22|      10|\n",
      "|     972|           18|   16|       516|       1|\n",
      "|    3852|           19|   48|      4182|       4|\n",
      "|    4345|           20|   10|       961|       7|\n",
      "+--------+-------------+-----+----------+--------+\n",
      "only showing top 20 rows\n",
      "\n"
     ]
    }
   ],
   "source": [
    "df_order_items.show()"
   ]
  },
  {
   "cell_type": "code",
   "execution_count": 76,
   "metadata": {},
   "outputs": [
    {
     "name": "stderr",
     "output_type": "stream",
     "text": [
      "2024-09-01 10:17:45,598 - INFO - Successfully removed duplicate rows based on all columns.\n"
     ]
    }
   ],
   "source": [
    "df_order_remove_duplicates = remove_duplicates(df_order_items)"
   ]
  },
  {
   "cell_type": "code",
   "execution_count": 94,
   "metadata": {},
   "outputs": [
    {
     "name": "stderr",
     "output_type": "stream",
     "text": [
      "2024-09-01 11:19:32,546 - INFO - Successfully handled negative values in column 'quantity' by setting them to zero.\n"
     ]
    }
   ],
   "source": [
    "df_order_neg_handel = handle_negative_values(df_order_remove_duplicates, columns=[\"quantity\"], operation=\"zero\")"
   ]
  },
  {
   "cell_type": "code",
   "execution_count": 95,
   "metadata": {},
   "outputs": [
    {
     "name": "stderr",
     "output_type": "stream",
     "text": [
      "2024-09-01 11:22:09,177 - INFO - Successfully handled negative values in column 'order_id' by converting to absolute values.\n"
     ]
    },
    {
     "name": "stderr",
     "output_type": "stream",
     "text": [
      "2024-09-01 11:22:09,198 - INFO - Successfully handled negative values in column 'order_item_id' by converting to absolute values.\n",
      "2024-09-01 11:22:09,220 - INFO - Successfully handled negative values in column 'price' by converting to absolute values.\n",
      "2024-09-01 11:22:09,239 - INFO - Successfully handled negative values in column 'product_id' by converting to absolute values.\n"
     ]
    }
   ],
   "source": [
    "df_order_neg_handel = handle_negative_values(df_order_neg_handel, columns=[\"order_id\", \"order_item_id\", \"price\", \"product_id\"], operation=\"absolute\")"
   ]
  },
  {
   "cell_type": "code",
   "execution_count": 87,
   "metadata": {},
   "outputs": [],
   "source": [
    "df_order_items_cleaned = df_order_neg_handel"
   ]
  },
  {
   "cell_type": "code",
   "execution_count": 90,
   "metadata": {},
   "outputs": [
    {
     "name": "stderr",
     "output_type": "stream",
     "text": [
      "2024-09-01 11:10:13,364 - INFO - Saving DataFrame to temporary directory...\n"
     ]
    },
    {
     "name": "stderr",
     "output_type": "stream",
     "text": [
      "2024-09-01 11:10:13,661 - INFO - DataFrame saved successfully to temporary directory.\n",
      "2024-09-01 11:10:13,664 - INFO - File moved to final output path: /spark-data/Cleaned_Csv_File/df_order_item_cleaned.csv\n",
      "2024-09-01 11:10:13,666 - INFO - Temporary directory removed: /spark-data/Cleaned_Csv_File/temp_dir\n"
     ]
    },
    {
     "data": {
      "text/plain": [
       "'/spark-data/Cleaned_Csv_File/df_order_item_cleaned.csv'"
      ]
     },
     "execution_count": 90,
     "metadata": {},
     "output_type": "execute_result"
    }
   ],
   "source": [
    "save_file(df_order_items_cleaned, \"/spark-data/Cleaned_Csv_File\", \"df_order_item_cleaned\")"
   ]
  },
  {
   "cell_type": "code",
   "execution_count": null,
   "metadata": {},
   "outputs": [],
   "source": []
  },
  {
   "cell_type": "code",
   "execution_count": null,
   "metadata": {},
   "outputs": [
    {
     "name": "stderr",
     "output_type": "stream",
     "text": [
      "2024-09-01 09:18:52,066 - ERROR - Error imputing nulls in columns 'description' using method 'constant': [UNRESOLVED_COLUMN.WITH_SUGGESTION] A column or function parameter with name `d` cannot be resolved. Did you mean one of the following? [`price`, `category`, `inventory`, `product_id`, `description`].;\n",
      "'Project [product_id#47, product_name#48, category#49, price#50, description#51, inventory#52, CASE WHEN (isnull('d) OR ('d = null)) THEN null ELSE 'd END AS d#1573]\n",
      "+- Relation [product_id#47,product_name#48,category#49,price#50,description#51,inventory#52] ExcelRelation(com.crealytics.spark.excel.CellRangeAddressDataLocator@542594aa,true,false,false,true,false,false,None,None,10,com.crealytics.spark.excel.DefaultWorkbookReader@2b4410ca)\n",
      "\n",
      "                                                                                \r"
     ]
    },
    {
     "name": "stdout",
     "output_type": "stream",
     "text": [
      "+--------------------+------+-----+----------+\n",
      "|              Metric|Before|After|Difference|\n",
      "+--------------------+------+-----+----------+\n",
      "|           row_count|  5000| 5000|         0|\n",
      "| product_id_distinct|  5000| 5000|         0|\n",
      "|product_id_null_c...|     0|    0|         0|\n",
      "|product_name_dist...|   967|  967|         0|\n",
      "|product_name_null...|     0|    0|         0|\n",
      "|   category_distinct|   967|  967|         0|\n",
      "| category_null_count|     0|    0|         0|\n",
      "|      price_distinct|  1068| 1068|         0|\n",
      "|    price_null_count|     0|    0|         0|\n",
      "|description_distinct|  4958| 4958|         0|\n",
      "|description_null_...|     0|    0|         0|\n",
      "|  inventory_distinct|   996|  996|         0|\n",
      "|inventory_null_count|     0|    0|         0|\n",
      "+--------------------+------+-----+----------+\n",
      "\n"
     ]
    }
   ],
   "source": [
    "from pyspark.sql import DataFrame\n",
    "from pyspark.sql.functions import count, col\n",
    "\n",
    "def profile_data(df: DataFrame, profile_name: str) -> dict:\n",
    "    \"\"\"\n",
    "    Profiles the data by calculating basic metrics like row count, distinct count, and null count.\n",
    "    \n",
    "    :param df: DataFrame to profile.\n",
    "    :param profile_name: Name of the profile (e.g., 'Before Cleaning', 'After Cleaning').\n",
    "    :return: Dictionary containing the profile metrics.\n",
    "    \"\"\"\n",
    "    profile = {}\n",
    "    profile['profile_name'] = profile_name\n",
    "    profile['row_count'] = df.count()\n",
    "    \n",
    "    for column in df.columns:\n",
    "        profile[f'{column}_distinct'] = df.select(column).distinct().count()\n",
    "        profile[f'{column}_null_count'] = df.filter(col(column).isNull()).count()\n",
    "    \n",
    "    return profile\n",
    "\n",
    "def generate_quality_report(before_profile: dict, after_profile: dict):\n",
    "    \"\"\"\n",
    "    Generates a quality report by comparing the before and after profiles.\n",
    "    \n",
    "    :param before_profile: Dictionary containing the profile metrics before cleaning.\n",
    "    :param after_profile: Dictionary containing the profile metrics after cleaning.\n",
    "    :return: A dictionary summarizing the changes.\n",
    "    \"\"\"\n",
    "    report = {}\n",
    "    report['profile_name'] = f\"Comparison Report: {before_profile['profile_name']} vs {after_profile['profile_name']}\"\n",
    "    \n",
    "    for key in before_profile:\n",
    "        if key != 'profile_name':\n",
    "            before_value = before_profile[key]\n",
    "            after_value = after_profile[key]\n",
    "            report[key] = {\n",
    "                'before': before_value,\n",
    "                'after': after_value,\n",
    "                'difference': before_value - after_value\n",
    "            }\n",
    "    \n",
    "    return report\n",
    "\n",
    "# Example usage:\n",
    "before_profile = profile_data(dfs[\"df_data_product\"], \"Before Cleaning\")\n",
    "\n",
    "demo = impute_nulls(dfs[\"df_data_product\"], \"description\", method=\"constant\", value=\"Not Available\")\n",
    "# Apply your data cleaning functions here\n",
    "after_profile = profile_data(demo, \"After Cleaning\")\n",
    "\n",
    "quality_report = generate_quality_report(before_profile, after_profile)\n",
    "\n",
    "# Convert report to a DataFrame for better readability\n",
    "report_df = spark.createDataFrame([\n",
    "    (k, v['before'], v['after'], v['difference']) for k, v in quality_report.items() if k != 'profile_name'\n",
    "], ['Metric', 'Before', 'After', 'Difference'])\n",
    "\n",
    "report_df.show()\n"
   ]
  },
  {
   "cell_type": "code",
   "execution_count": null,
   "metadata": {},
   "outputs": [
    {
     "name": "stdout",
     "output_type": "stream",
     "text": [
      "+----------+-------------+---------+-----+--------------------+---------+\n",
      "|product_id| product_name| category|price|         description|inventory|\n",
      "+----------+-------------+---------+-----+--------------------+---------+\n",
      "|       1.0|          bag|       no|448.0|Summer now health...|    655.0|\n",
      "|       2.0|        happy|   answer|844.0|Employee discuss ...|    230.0|\n",
      "|       3.0|         same|      his|681.0|Million mother pu...|    831.0|\n",
      "|       4.0|      prevent|   around| 34.0|Because under mea...|    804.0|\n",
      "|       5.0|        quite|   summer|663.0|Approach Mr task ...|    351.0|\n",
      "|       6.0|        which|  purpose|386.0|Leave charge mode...|     10.0|\n",
      "|       7.0|       beyond|   beyond|879.0|Shoulder power in...|    282.0|\n",
      "|       8.0|     although|     home|650.0|Exactly continue ...|    818.0|\n",
      "|       9.0|environmental| although|  7.0|Really admit kind...|    128.0|\n",
      "|      10.0|       assume|professor|945.0|Bar truth here gr...|    168.0|\n",
      "|      11.0|      usually|   figure|434.0|                null|    155.0|\n",
      "|      12.0|        their| property|158.0|Run seat couple e...|    374.0|\n",
      "|      13.0|         fine|  usually|906.0|Rich ability impr...|    395.0|\n",
      "|      14.0|         risk|     away|128.0|Protect bill fall...|    175.0|\n",
      "|      15.0|     approach|       of|243.0|Adult kid way. Th...|    192.0|\n",
      "|      16.0|         mind|     tell|305.0|School home half ...|    389.0|\n",
      "|      17.0|  opportunity|      gun|956.0|Late like economy...|    535.0|\n",
      "|      18.0|         pull|       by|957.0|Player firm story...|    541.0|\n",
      "|      19.0|         step|    occur|227.0|Very follow elect...|    763.0|\n",
      "|      20.0|     physical|    money|253.0|See six religious...|    619.0|\n",
      "+----------+-------------+---------+-----+--------------------+---------+\n",
      "only showing top 20 rows\n",
      "\n"
     ]
    }
   ],
   "source": [
    "demo.show()"
   ]
  },
  {
   "cell_type": "code",
   "execution_count": null,
   "metadata": {},
   "outputs": [],
   "source": []
  }
 ],
 "metadata": {
  "kernelspec": {
   "display_name": "Python 3",
   "language": "python",
   "name": "python3"
  },
  "language_info": {
   "codemirror_mode": {
    "name": "ipython",
    "version": 3
   },
   "file_extension": ".py",
   "mimetype": "text/x-python",
   "name": "python",
   "nbconvert_exporter": "python",
   "pygments_lexer": "ipython3",
   "version": "3.11.9"
  }
 },
 "nbformat": 4,
 "nbformat_minor": 2
}
