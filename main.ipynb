{
 "cells": [
  {
   "cell_type": "code",
   "execution_count": 25,
   "metadata": {},
   "outputs": [],
   "source": [
    "import sys, os\n",
    "sys.path.append(os.path.abspath('/spark-data'))"
   ]
  },
  {
   "cell_type": "code",
   "execution_count": 26,
   "metadata": {},
   "outputs": [],
   "source": [
    "#Importing Spark Session and important libraries that need to perform things in project\n",
    "from utils.Data_Ingestion.data_ingestion import load_files \n",
    "from pyspark.sql import SparkSession\n",
    "from pyspark.sql import DataFrame\n",
    "from pyspark.sql.types import StringType\n",
    "from pyspark.sql.functions import col, date_format, regexp_replace, when, udf, year"
   ]
  },
  {
   "cell_type": "code",
   "execution_count": 27,
   "metadata": {},
   "outputs": [],
   "source": [
    "#Spark Session Builder that builds the Session in which we work upon\n",
    "\n",
    "spark = SparkSession.builder \\\n",
    "    .appName(\"ExceltoDataFrame\") \\\n",
    "    .config(\"spark.jars.packages\", \"com.crealytics:spark-excel_2.12:3.4.1_0.19.0\") \\\n",
    "    .getOrCreate()"
   ]
  },
  {
   "cell_type": "code",
   "execution_count": 28,
   "metadata": {},
   "outputs": [
    {
     "name": "stdout",
     "output_type": "stream",
     "text": [
      "DataFrame Name: ('df_json_data_orders', DataFrame[order_id: bigint, order_item_id: bigint, price: bigint, product_id: bigint, quantity: bigint])\n",
      "DataFrame Name: ('df_json_data_reviews', DataFrame[customer_id: bigint, product_id: bigint, rating: bigint, review_date: string, review_id: bigint, review_text: string])\n",
      "DataFrame Name: ('df_data_data', DataFrame[order_id: double, customer_id: double, order_date: timestamp, total_amount: double, shipping_address: string, billing_address: string])\n",
      "DataFrame Name: ('df_data_product', DataFrame[product_id: double, product_name: string, category: string, price: double, description: string, inventory: double])\n",
      "DataFrame Name: ('df_data_customer', DataFrame[customer_id: double, first_name: string, last_name: string, email: string, phone_number: string, city: string, state: string, zip_code: double, birth_date: timestamp])\n",
      "DataFrame Name: ('df_csv_demo', DataFrame[Series_reference: string, Period: double, Data_value: double, Suppressed: string, STATUS: string, UNITS: string, Magnitude: int, Subject: string, Group: string, Series_title_1: string, Series_title_2: string, Series_title_3: string, Series_title_4: string, Series_title_5: string])\n"
     ]
    }
   ],
   "source": [
    "dfs = load_files(spark)\n",
    "for df_name, df in dfs.items():\n",
    "    print(f\"DataFrame Name: {df_name, df}\")"
   ]
  },
  {
   "cell_type": "code",
   "execution_count": 30,
   "metadata": {},
   "outputs": [
    {
     "name": "stdout",
     "output_type": "stream",
     "text": [
      "+--------+-------------+-----+----------+--------+\n",
      "|order_id|order_item_id|price|product_id|quantity|\n",
      "+--------+-------------+-----+----------+--------+\n",
      "|     868|            1|   70|      1571|       7|\n",
      "|    3151|            2|    8|      3809|      -3|\n",
      "|    1582|            3|   32|      4896|       8|\n",
      "|    2578|            4|   64|      2712|       4|\n",
      "|    2792|            5|   53|      1111|       4|\n",
      "|    1257|            6|   69|      2874|       1|\n",
      "|    2389|            7|   40|      2670|       9|\n",
      "|    2013|            8|   39|      3779|       6|\n",
      "|    4272|            9|   15|      3109|       5|\n",
      "|    1260|           10|   21|      2110|       8|\n",
      "|    3617|           11|   27|      3350|       1|\n",
      "|    1479|           12|   96|      2917|       9|\n",
      "|    1405|           13|   61|      1480|       5|\n",
      "|    4526|           14|   69|      4686|       5|\n",
      "|    2513|           15|    8|      3146|       8|\n",
      "|    2346|           16|   92|      4182|       5|\n",
      "|    3988|           17|   88|        22|      10|\n",
      "|     972|           18|   16|       516|       1|\n",
      "|    3852|           19|   48|      4182|       4|\n",
      "|    4345|           20|   10|       961|       7|\n",
      "+--------+-------------+-----+----------+--------+\n",
      "only showing top 20 rows\n",
      "\n"
     ]
    }
   ],
   "source": [
    "dfs['df_json_data_orders'].show()"
   ]
  },
  {
   "cell_type": "code",
   "execution_count": null,
   "metadata": {},
   "outputs": [],
   "source": []
  }
 ],
 "metadata": {
  "kernelspec": {
   "display_name": "Python 3",
   "language": "python",
   "name": "python3"
  },
  "language_info": {
   "codemirror_mode": {
    "name": "ipython",
    "version": 3
   },
   "file_extension": ".py",
   "mimetype": "text/x-python",
   "name": "python",
   "nbconvert_exporter": "python",
   "pygments_lexer": "ipython3",
   "version": "3.11.9"
  }
 },
 "nbformat": 4,
 "nbformat_minor": 2
}
