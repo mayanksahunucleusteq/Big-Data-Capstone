{
 "cells": [
  {
   "cell_type": "code",
   "execution_count": 20,
   "metadata": {},
   "outputs": [],
   "source": [
    "import sys, os\n",
    "sys.path.append(os.path.abspath('/spark-data'))\n",
    "from pyspark.sql import SparkSession\n",
    "from utils.Data_Ingestion.data_ingestion import load_files\n",
    "from utils.Data_Transformation.transformation import add_age_column\n",
    "from utils.Data_Transformation.transformation import add_state_columns\n",
    "from utils.postgres_setup import save_dfs_to_postgres_upsert"
   ]
  },
  {
   "cell_type": "code",
   "execution_count": 21,
   "metadata": {},
   "outputs": [],
   "source": [
    "# Initialize Spark session with both configurations\n",
    "spark = SparkSession.builder \\\n",
    "    .appName(\"Tranfromations\") \\\n",
    "    .config(\"spark.driver.memory\", \"4g\") \\\n",
    "    .config(\"spark.executor.memory\", \"4g\") \\\n",
    "    .config(\"spark.jars.packages\", \"org.postgresql:postgresql:42.2.20,com.crealytics:spark-excel_2.12:3.4.1_0.19.0\") \\\n",
    "    .getOrCreate()\n"
   ]
  },
  {
   "cell_type": "code",
   "execution_count": 22,
   "metadata": {},
   "outputs": [
    {
     "name": "stderr",
     "output_type": "stream",
     "text": [
      "2024-09-09 07:51:51,338 - INFO - Successfully loaded CSV file: /spark-data/Cleaned_Csv_File/df_review_cleaned.csv\n",
      "2024-09-09 07:51:51,529 - INFO - Successfully loaded CSV file: /spark-data/Cleaned_Csv_File/df_product_cleaned.csv\n",
      "2024-09-09 07:51:51,706 - INFO - Successfully loaded CSV file: /spark-data/Cleaned_Csv_File/df_order_item_cleaned.csv\n",
      "2024-09-09 07:51:51,885 - INFO - Successfully loaded CSV file: /spark-data/Cleaned_Csv_File/df_customer_cleaned.csv\n",
      "2024-09-09 07:51:52,064 - INFO - Successfully loaded CSV file: /spark-data/Cleaned_Csv_File/df_order_cleaned.csv\n"
     ]
    }
   ],
   "source": [
    "dfs = load_files(spark, \"/spark-data/Cleaned_Csv_File\")"
   ]
  },
  {
   "cell_type": "code",
   "execution_count": 23,
   "metadata": {},
   "outputs": [],
   "source": [
    "df_customer = dfs[\"df_df_customer_cleaned\"]\n",
    "df_product = dfs[\"df_df_product_cleaned\"]\n",
    "df_order = dfs[\"df_df_order_cleaned\"]\n",
    "df_review = dfs[\"df_df_review_cleaned\"]\n",
    "df_order_item =dfs[\"df_df_order_item_cleaned\"]"
   ]
  },
  {
   "cell_type": "code",
   "execution_count": 24,
   "metadata": {},
   "outputs": [
    {
     "name": "stdout",
     "output_type": "stream",
     "text": [
      "+-----------+-----------+---------+--------------------+--------------------+-----------------+-------------+--------+----------+\n",
      "|customer_id| first_name|last_name|               email|        phone_number|             city|        state|zip_code|birth_date|\n",
      "+-----------+-----------+---------+--------------------+--------------------+-----------------+-------------+--------+----------+\n",
      "|          1|    Crystal|  Edwards|mcmahonemily@exam...|   +1 (511) 782-4381|    Fergusonville|         Iowa|   91344|1995-02-28|\n",
      "|          2|   Jennifer|    Jones|douglasedwards@ex...|   +1 (918) 720-2495|     Jenniferport|   New Jersey|   59371|1951-01-27|\n",
      "|          3|  Catherine|    Crane|douglaskevin@exam...|+1 (381) 601-2272...|  Jenniferchester|West Virginia|   49812|1966-10-07|\n",
      "|          4|     Lauren|    Irwin|aguirresteven@exa...|Invalid phone number|      New Melissa|     Michigan|   17279|1936-07-28|\n",
      "|          5|Christopher|   Nelson|dustin50@example.org|+1 (735) 814-4145...|       Hannahberg|     Oklahoma|   33821|1944-02-15|\n",
      "|          6|     Robert|    Costa|natalie33@example...|   +1 (210) 333-4611|     Lauraborough| Rhode Island|   37454|1946-09-27|\n",
      "|          7|   Michelle|    Lewis|jamiesingh@exampl...|   +1 (952) 419-1690|     Lake Whitney|     Oklahoma|   80306|1959-02-12|\n",
      "|          8|    Jeffrey|     Vang|kristen52@example...|Invalid phone number| New Jeffreymouth|     Virginia|   58012|1981-01-20|\n",
      "|          9|    Roberto|  Johnson| ihughes@example.com|+1 (505) 895-7853...|         Jodifurt|    Louisiana|   13500|1918-02-05|\n",
      "|         10|    Richard|  Beltran|smithtyler@exampl...|Invalid phone number|       East Barry|      Arizona|   89980|1925-05-19|\n",
      "|         11|       Jose|   Forbes|gjackson@example.com|+1 (440) 257-9768...|     Williamsfort|     New York|   74873|1935-04-19|\n",
      "|         12|     Thomas|   Murphy|nbarrett@example.org|   +1 (748) 605-5651|        Adamsstad|     Maryland|   10853|2013-03-01|\n",
      "|         13|    Anthony|    Young|poncetonya@exampl...|Invalid phone number|    Port Evanside|    Louisiana|    3739|1950-12-10|\n",
      "|         14|     Lauren| Campbell|taylornancy@examp...|Invalid phone number|     West Annaton| Pennsylvania|    1518|1925-04-04|\n",
      "|         15|     Martha|Underwood|pamelacrawford@ex...|+1 (461) 208-9197...|     East Charles|         Utah|    3289|1922-11-27|\n",
      "|         16|    Natasha| Johnston|laurarichardson@e...|   +1 (901) 251-8967|     Benjaminbury|     Arkansas|   21371|1971-11-11|\n",
      "|         17|       John|   Powell|figueroawilliam@e...|+1 (698) 504-0834...|    Port Kimberly|      Alabama|   13754|1997-08-29|\n",
      "|         18|     Daniel|   Barton|mooresamantha@exa...|   +1 (771) 621-2990|West Claytonburgh|        Idaho|    3297|1973-12-08|\n",
      "|         19|    Michael|   Bishop|kimdavid@example.com|+1 (935) 742-8065...|       Craigmouth|     Maryland|   77716|1977-03-17|\n",
      "|         20|     Janice| Faulkner| brett63@example.net|Invalid phone number|     Victoriabury|     Illinois|   58702|2004-04-05|\n",
      "+-----------+-----------+---------+--------------------+--------------------+-----------------+-------------+--------+----------+\n",
      "only showing top 20 rows\n",
      "\n"
     ]
    }
   ],
   "source": [
    "df_customer.show()"
   ]
  },
  {
   "cell_type": "code",
   "execution_count": 25,
   "metadata": {},
   "outputs": [
    {
     "name": "stderr",
     "output_type": "stream",
     "text": [
      "2024-09-09 07:51:52,221 - INFO - Starting to add 'age' column based on the birth date column.\n",
      "2024-09-09 07:51:52,226 - INFO - Column 'birth_date' found. Calculating age and also ensure that birth date column is date type if it is a string type then convert this into date type\n",
      "2024-09-09 07:51:52,263 - INFO - Age column added successfully.\n"
     ]
    }
   ],
   "source": [
    "age_added_customer_df = add_age_column(df_customer, \"birth_date\")"
   ]
  },
  {
   "cell_type": "code",
   "execution_count": 26,
   "metadata": {},
   "outputs": [
    {
     "name": "stdout",
     "output_type": "stream",
     "text": [
      "+-----------+-----------+---------+--------------------+--------------------+-----------------+-------------+--------+----------+---+\n",
      "|customer_id| first_name|last_name|               email|        phone_number|             city|        state|zip_code|birth_date|age|\n",
      "+-----------+-----------+---------+--------------------+--------------------+-----------------+-------------+--------+----------+---+\n",
      "|          1|    Crystal|  Edwards|mcmahonemily@exam...|   +1 (511) 782-4381|    Fergusonville|         Iowa|   91344|1995-02-28| 29|\n",
      "|          2|   Jennifer|    Jones|douglasedwards@ex...|   +1 (918) 720-2495|     Jenniferport|   New Jersey|   59371|1951-01-27| 73|\n",
      "|          3|  Catherine|    Crane|douglaskevin@exam...|+1 (381) 601-2272...|  Jenniferchester|West Virginia|   49812|1966-10-07| 57|\n",
      "|          4|     Lauren|    Irwin|aguirresteven@exa...|Invalid phone number|      New Melissa|     Michigan|   17279|1936-07-28| 88|\n",
      "|          5|Christopher|   Nelson|dustin50@example.org|+1 (735) 814-4145...|       Hannahberg|     Oklahoma|   33821|1944-02-15| 80|\n",
      "|          6|     Robert|    Costa|natalie33@example...|   +1 (210) 333-4611|     Lauraborough| Rhode Island|   37454|1946-09-27| 77|\n",
      "|          7|   Michelle|    Lewis|jamiesingh@exampl...|   +1 (952) 419-1690|     Lake Whitney|     Oklahoma|   80306|1959-02-12| 65|\n",
      "|          8|    Jeffrey|     Vang|kristen52@example...|Invalid phone number| New Jeffreymouth|     Virginia|   58012|1981-01-20| 43|\n",
      "|          9|    Roberto|  Johnson| ihughes@example.com|+1 (505) 895-7853...|         Jodifurt|    Louisiana|   13500|1918-02-05|106|\n",
      "|         10|    Richard|  Beltran|smithtyler@exampl...|Invalid phone number|       East Barry|      Arizona|   89980|1925-05-19| 99|\n",
      "|         11|       Jose|   Forbes|gjackson@example.com|+1 (440) 257-9768...|     Williamsfort|     New York|   74873|1935-04-19| 89|\n",
      "|         12|     Thomas|   Murphy|nbarrett@example.org|   +1 (748) 605-5651|        Adamsstad|     Maryland|   10853|2013-03-01| 11|\n",
      "|         13|    Anthony|    Young|poncetonya@exampl...|Invalid phone number|    Port Evanside|    Louisiana|    3739|1950-12-10| 73|\n",
      "|         14|     Lauren| Campbell|taylornancy@examp...|Invalid phone number|     West Annaton| Pennsylvania|    1518|1925-04-04| 99|\n",
      "|         15|     Martha|Underwood|pamelacrawford@ex...|+1 (461) 208-9197...|     East Charles|         Utah|    3289|1922-11-27|101|\n",
      "|         16|    Natasha| Johnston|laurarichardson@e...|   +1 (901) 251-8967|     Benjaminbury|     Arkansas|   21371|1971-11-11| 52|\n",
      "|         17|       John|   Powell|figueroawilliam@e...|+1 (698) 504-0834...|    Port Kimberly|      Alabama|   13754|1997-08-29| 27|\n",
      "|         18|     Daniel|   Barton|mooresamantha@exa...|   +1 (771) 621-2990|West Claytonburgh|        Idaho|    3297|1973-12-08| 50|\n",
      "|         19|    Michael|   Bishop|kimdavid@example.com|+1 (935) 742-8065...|       Craigmouth|     Maryland|   77716|1977-03-17| 47|\n",
      "|         20|     Janice| Faulkner| brett63@example.net|Invalid phone number|     Victoriabury|     Illinois|   58702|2004-04-05| 20|\n",
      "+-----------+-----------+---------+--------------------+--------------------+-----------------+-------------+--------+----------+---+\n",
      "only showing top 20 rows\n",
      "\n"
     ]
    }
   ],
   "source": [
    "age_added_customer_df.show()"
   ]
  },
  {
   "cell_type": "code",
   "execution_count": 27,
   "metadata": {},
   "outputs": [],
   "source": [
    "df_customer = age_added_customer_df"
   ]
  },
  {
   "cell_type": "code",
   "execution_count": 28,
   "metadata": {},
   "outputs": [
    {
     "name": "stdout",
     "output_type": "stream",
     "text": [
      "+--------+-----------+----------+------------+--------------------+--------------------+\n",
      "|order_id|customer_id|order_date|total_amount|    shipping_address|     billing_address|\n",
      "+--------+-----------+----------+------------+--------------------+--------------------+\n",
      "|     131|       4958|2020-05-10|         569|7886 Higgins Moto...|14788 Robert Land...|\n",
      "|     297|         46|2020-03-11|        1331|PSC 4470, Box 299...|16387 Novak Shoal...|\n",
      "|     330|       1082|2025-05-03|        4010|758 Sarah Plaza P...|938 Brian Road La...|\n",
      "|      62|       2934|2024-06-01|        1727|7971 Vicki Key Ap...|465 Kramer Way Ap...|\n",
      "|     266|       3929|2022-05-30|         680|57853 Chen Way La...|055 Butler Extens...|\n",
      "|      43|        118|2021-09-26|        4884|9822 Anne Trace A...|1511 Hill Keys Ap...|\n",
      "|      95|       4222|2023-08-27|        3765|Unit 4050 Box 161...|06811 Sean Crossi...|\n",
      "|     167|       3800|2022-12-09|        6259|16060 Mason Creek...|196 Joshua Meadow...|\n",
      "|     300|       1337|2022-01-02|         344|98835 Krista Isle...|98824 James Mill ...|\n",
      "|      86|       2814|2022-09-17|        5699|3347 Fleming Trac...|5276 Smith Bypass...|\n",
      "|     399|       3813|2023-03-08|        3468|374 Harris Pike S...|824 Stanley Plaza...|\n",
      "|     274|       2829|2021-11-12|        8941|392 Hoffman Manor...|776 Bryant Camp A...|\n",
      "|     325|        959|2021-12-11|        9898|833 Jeffrey Junct...|33746 Gray Land J...|\n",
      "|      20|       3574|2020-11-23|        1603|9940 Scott Mount ...|9258 Cassandra Hi...|\n",
      "|      65|       3354|2021-07-03|        7897|8050 Rodriguez Pi...|PSC 1629, Box 428...|\n",
      "|      92|        590|2020-08-25|        1752|78680 Lowery Isla...|0431 William Fall...|\n",
      "|     207|       2266|2023-11-15|        9902|59851 Tyler Passa...|115 Rivera Place ...|\n",
      "|      71|       2824|2023-07-31|        8488|3870 Hampton Vill...|05752 Hill Fords ...|\n",
      "|      78|       1483|2021-02-07|        5100|00838 Harvey Isla...|469 Berg Light Br...|\n",
      "|     140|        294|2024-05-07|        3102|Unit 2567 Box 290...|1202 Christopher ...|\n",
      "+--------+-----------+----------+------------+--------------------+--------------------+\n",
      "only showing top 20 rows\n",
      "\n"
     ]
    }
   ],
   "source": [
    "df_order.show()"
   ]
  },
  {
   "cell_type": "code",
   "execution_count": 29,
   "metadata": {},
   "outputs": [
    {
     "name": "stderr",
     "output_type": "stream",
     "text": [
      "2024-09-09 07:51:52,570 - INFO - Starting to add state columns based on the specified address columns.\n",
      "2024-09-09 07:51:52,576 - INFO - Columns 'shipping_address' and 'billing_address' found. Extracting state abbreviations...\n",
      "2024-09-09 07:51:52,596 - INFO - Extracted 'shipping_state' from column 'shipping_address'.\n",
      "2024-09-09 07:51:52,615 - INFO - Extracted 'billing_state' from column 'billing_address'.\n",
      "2024-09-09 07:51:52,617 - INFO - State columns added successfully.\n"
     ]
    }
   ],
   "source": [
    "df_order_add_states = add_state_columns(df_order, shipping_col=\"shipping_address\", billing_col=\"billing_address\")"
   ]
  },
  {
   "cell_type": "code",
   "execution_count": 30,
   "metadata": {},
   "outputs": [
    {
     "name": "stdout",
     "output_type": "stream",
     "text": [
      "+--------+-----------+----------+------------+--------------------+--------------------+--------------+-------------+\n",
      "|order_id|customer_id|order_date|total_amount|    shipping_address|     billing_address|shipping_state|billing_state|\n",
      "+--------+-----------+----------+------------+--------------------+--------------------+--------------+-------------+\n",
      "|     131|       4958|2020-05-10|         569|7886 Higgins Moto...|14788 Robert Land...|            MP|           CO|\n",
      "|     297|         46|2020-03-11|        1331|PSC 4470, Box 299...|16387 Novak Shoal...|            AP|           IA|\n",
      "|     330|       1082|2025-05-03|        4010|758 Sarah Plaza P...|938 Brian Road La...|            FM|           FL|\n",
      "|      62|       2934|2024-06-01|        1727|7971 Vicki Key Ap...|465 Kramer Way Ap...|            CT|           VA|\n",
      "|     266|       3929|2022-05-30|         680|57853 Chen Way La...|055 Butler Extens...|            MO|           OR|\n",
      "|      43|        118|2021-09-26|        4884|9822 Anne Trace A...|1511 Hill Keys Ap...|            FM|           UT|\n",
      "|      95|       4222|2023-08-27|        3765|Unit 4050 Box 161...|06811 Sean Crossi...|            AA|           UT|\n",
      "|     167|       3800|2022-12-09|        6259|16060 Mason Creek...|196 Joshua Meadow...|            MI|           WY|\n",
      "|     300|       1337|2022-01-02|         344|98835 Krista Isle...|98824 James Mill ...|            VI|           PA|\n",
      "|      86|       2814|2022-09-17|        5699|3347 Fleming Trac...|5276 Smith Bypass...|            OR|           LA|\n",
      "|     399|       3813|2023-03-08|        3468|374 Harris Pike S...|824 Stanley Plaza...|            KY|           VI|\n",
      "|     274|       2829|2021-11-12|        8941|392 Hoffman Manor...|776 Bryant Camp A...|            AL|           CT|\n",
      "|     325|        959|2021-12-11|        9898|833 Jeffrey Junct...|33746 Gray Land J...|            NM|           MN|\n",
      "|      20|       3574|2020-11-23|        1603|9940 Scott Mount ...|9258 Cassandra Hi...|            SD|           IA|\n",
      "|      65|       3354|2021-07-03|        7897|8050 Rodriguez Pi...|PSC 1629, Box 428...|            FL|           AE|\n",
      "|      92|        590|2020-08-25|        1752|78680 Lowery Isla...|0431 William Fall...|            MI|           TX|\n",
      "|     207|       2266|2023-11-15|        9902|59851 Tyler Passa...|115 Rivera Place ...|            ID|           AS|\n",
      "|      71|       2824|2023-07-31|        8488|3870 Hampton Vill...|05752 Hill Fords ...|            OR|           CO|\n",
      "|      78|       1483|2021-02-07|        5100|00838 Harvey Isla...|469 Berg Light Br...|            OR|           NH|\n",
      "|     140|        294|2024-05-07|        3102|Unit 2567 Box 290...|1202 Christopher ...|            AE|           PW|\n",
      "+--------+-----------+----------+------------+--------------------+--------------------+--------------+-------------+\n",
      "only showing top 20 rows\n",
      "\n"
     ]
    }
   ],
   "source": [
    "df_order_add_states.show()"
   ]
  },
  {
   "cell_type": "code",
   "execution_count": 31,
   "metadata": {},
   "outputs": [],
   "source": [
    "df_order = df_order_add_states"
   ]
  },
  {
   "cell_type": "code",
   "execution_count": 32,
   "metadata": {},
   "outputs": [
    {
     "name": "stdout",
     "output_type": "stream",
     "text": [
      "+--------+-------------+-----+----------+--------+\n",
      "|order_id|order_item_id|price|product_id|quantity|\n",
      "+--------+-------------+-----+----------+--------+\n",
      "|    1493|          618|   28|      2098|       3|\n",
      "|    4734|          766|   21|      2864|       9|\n",
      "|    2582|          809|   19|      1622|       6|\n",
      "|    4589|         1181|    8|      2274|       8|\n",
      "|    4954|         1258|   32|      3693|       8|\n",
      "|     114|         1321|   45|      1739|       7|\n",
      "|     381|         1717|   91|       429|       9|\n",
      "|    2697|         1903|   24|      3119|       9|\n",
      "|    2807|         2003|   83|      4378|       8|\n",
      "|     652|         2139|    1|      2086|       6|\n",
      "|    3399|         2255|   84|      2035|       1|\n",
      "|    1419|         2263|   99|      4911|       6|\n",
      "|    4270|         2354|   98|      1845|       3|\n",
      "|    3523|         2374|   32|      1740|       2|\n",
      "|    1453|         2590|   49|      1694|       0|\n",
      "|    3588|         2768|   15|      4873|       0|\n",
      "|    3554|         3147|   98|       215|       7|\n",
      "|    2873|         3976|  326|      3648|       6|\n",
      "|    4878|         4386|   34|      2219|       2|\n",
      "|     695|         4851|   82|      1062|       6|\n",
      "+--------+-------------+-----+----------+--------+\n",
      "only showing top 20 rows\n",
      "\n"
     ]
    }
   ],
   "source": [
    "df_order_item.show()"
   ]
  },
  {
   "cell_type": "code",
   "execution_count": 33,
   "metadata": {},
   "outputs": [
    {
     "name": "stdout",
     "output_type": "stream",
     "text": [
      "+----------+-------------+---------+-----+--------------------+---------+\n",
      "|product_id| product_name| category|price|         description|inventory|\n",
      "+----------+-------------+---------+-----+--------------------+---------+\n",
      "|         1|          bag|       no|448.0|Summer now health...|      655|\n",
      "|         2|        happy|   answer|844.0|Employee discuss ...|      230|\n",
      "|         3|         same|      his|681.0|Million mother pu...|      831|\n",
      "|         4|      prevent|   around| 34.0|Because under mea...|      804|\n",
      "|         5|        quite|   summer|663.0|Approach Mr task ...|      351|\n",
      "|         6|        which|  purpose|386.0|Leave charge mode...|       10|\n",
      "|         7|       beyond|   beyond|879.0|Shoulder power in...|      282|\n",
      "|         8|     although|     home|650.0|Exactly continue ...|      818|\n",
      "|         9|environmental| although|  7.0|Really admit kind...|      128|\n",
      "|        10|       assume|professor|945.0|Bar truth here gr...|      168|\n",
      "|        11|      usually|   figure|434.0|       Not Available|      155|\n",
      "|        12|        their| property|158.0|Run seat couple e...|      374|\n",
      "|        13|         fine|  usually|906.0|Rich ability impr...|      395|\n",
      "|        14|         risk|     away|128.0|Protect bill fall...|      175|\n",
      "|        15|     approach|       of|243.0|Adult kid way. Th...|      192|\n",
      "|        16|         mind|     tell|305.0|School home half ...|      389|\n",
      "|        17|  opportunity|      gun|956.0|Late like economy...|      535|\n",
      "|        18|         pull|       by|957.0|Player firm story...|      541|\n",
      "|        19|         step|    occur|227.0|Very follow elect...|      763|\n",
      "|        20|     physical|    money|253.0|See six religious...|      619|\n",
      "+----------+-------------+---------+-----+--------------------+---------+\n",
      "only showing top 20 rows\n",
      "\n"
     ]
    }
   ],
   "source": [
    "df_product.show()"
   ]
  },
  {
   "cell_type": "code",
   "execution_count": 34,
   "metadata": {},
   "outputs": [
    {
     "name": "stdout",
     "output_type": "stream",
     "text": [
      "+--------+-------------+-----+----------+--------+\n",
      "|order_id|order_item_id|price|product_id|quantity|\n",
      "+--------+-------------+-----+----------+--------+\n",
      "|    1493|          618|   28|      2098|       3|\n",
      "|    4734|          766|   21|      2864|       9|\n",
      "|    2582|          809|   19|      1622|       6|\n",
      "|    4589|         1181|    8|      2274|       8|\n",
      "|    4954|         1258|   32|      3693|       8|\n",
      "|     114|         1321|   45|      1739|       7|\n",
      "|     381|         1717|   91|       429|       9|\n",
      "|    2697|         1903|   24|      3119|       9|\n",
      "|    2807|         2003|   83|      4378|       8|\n",
      "|     652|         2139|    1|      2086|       6|\n",
      "|    3399|         2255|   84|      2035|       1|\n",
      "|    1419|         2263|   99|      4911|       6|\n",
      "|    4270|         2354|   98|      1845|       3|\n",
      "|    3523|         2374|   32|      1740|       2|\n",
      "|    1453|         2590|   49|      1694|       0|\n",
      "|    3588|         2768|   15|      4873|       0|\n",
      "|    3554|         3147|   98|       215|       7|\n",
      "|    2873|         3976|  326|      3648|       6|\n",
      "|    4878|         4386|   34|      2219|       2|\n",
      "|     695|         4851|   82|      1062|       6|\n",
      "+--------+-------------+-----+----------+--------+\n",
      "only showing top 20 rows\n",
      "\n"
     ]
    }
   ],
   "source": [
    "df_order_item.show()"
   ]
  },
  {
   "cell_type": "code",
   "execution_count": 35,
   "metadata": {},
   "outputs": [
    {
     "name": "stdout",
     "output_type": "stream",
     "text": [
      "+-----------+----------+------+-----------+---------+--------------------+\n",
      "|customer_id|product_id|rating|review_date|review_id|         review_text|\n",
      "+-----------+----------+------+-----------+---------+--------------------+\n",
      "|        166|      3108|     1| 2024-02-12|      363|Realize option ap...|\n",
      "|       1662|      3924|     5| 2024-05-21|      493|Goal rich travel ...|\n",
      "|       4238|       281|     4| 2023-01-01|      619|Fish future kind ...|\n",
      "|        520|       498|     2| 2023-07-03|      678|Computer itself t...|\n",
      "|         58|      1360|     1| 2024-02-01|     1290|Into upon enough ...|\n",
      "|       2277|      3726|     3| 2023-12-11|     1580|Word peace race m...|\n",
      "|       3290|      2684|     5| 2024-06-20|     1627|Market process pr...|\n",
      "|       4476|      2171|     1| 2023-07-07|     1939|South song race p...|\n",
      "|         63|      4951|     2| 2022-12-29|     2547|Tv character seni...|\n",
      "|         84|       983|     2| 2024-03-12|     2572|Six the admit bes...|\n",
      "|        572|       416|     2| 2022-12-16|     2575|Wrong meeting suc...|\n",
      "|        108|      3892|     3| 2023-07-14|     2724|Clear make includ...|\n",
      "|        913|       716|     4| 2022-10-09|     3030|Present last base...|\n",
      "|       4518|      3837|     3| 2023-12-15|     3544|Trip true federal...|\n",
      "|       4015|      4954|     1| 2024-07-11|     3740|Day wear why mana...|\n",
      "|       4937|      3633|     3| 2023-10-26|     4097|Hit stage informa...|\n",
      "|        580|      2114|     5| 2024-01-17|     4377|None under close ...|\n",
      "|       2649|      4667|     4| 2023-06-02|     4673|Test four by memb...|\n",
      "|        937|      4024|     2| 2023-02-06|     4874|Five make real la...|\n",
      "|       3607|      3448|     0| 2022-12-24|     4989|Another say posit...|\n",
      "+-----------+----------+------+-----------+---------+--------------------+\n",
      "only showing top 20 rows\n",
      "\n"
     ]
    }
   ],
   "source": [
    "df_review.show()"
   ]
  },
  {
   "cell_type": "markdown",
   "metadata": {},
   "source": [
    "# Save This all transformed dataframes to the Postgres Database "
   ]
  },
  {
   "cell_type": "code",
   "execution_count": 36,
   "metadata": {},
   "outputs": [],
   "source": [
    "# PostgreSQL connection details\n",
    "jdbc_url = \"jdbc:postgresql://host.docker.internal:5432/spark_data\"\n",
    "properties = {\n",
    "    \"user\": \"postgres\",\n",
    "    \"password\": \"Mayank@123\",\n",
    "    \"driver\": \"org.postgresql.Driver\"\n",
    "}"
   ]
  },
  {
   "cell_type": "code",
   "execution_count": 37,
   "metadata": {},
   "outputs": [],
   "source": [
    "unique_keys = {\n",
    "    'review': ['review_id'],\n",
    "    'product': ['product_id'],\n",
    "    'order_item' : ['order_item_id'],\n",
    "    'customer' : ['customer_id'],\n",
    "    'orders': ['order_id']\n",
    "}\n"
   ]
  },
  {
   "cell_type": "code",
   "execution_count": 38,
   "metadata": {},
   "outputs": [
    {
     "name": "stdout",
     "output_type": "stream",
     "text": [
      "DataFrame review upserted into PostgreSQL.\n",
      "DataFrame product upserted into PostgreSQL.\n",
      "DataFrame order_item upserted into PostgreSQL.\n",
      "DataFrame customer upserted into PostgreSQL.\n",
      "DataFrame orders upserted into PostgreSQL.\n"
     ]
    }
   ],
   "source": [
    "save_dfs_to_postgres_upsert(spark, jdbc_url, properties, unique_key_columns=unique_keys, review = df_review, product = df_product, order_item = df_order_item, customer = df_customer, orders = df_order)"
   ]
  }
 ],
 "metadata": {
  "kernelspec": {
   "display_name": "Python 3",
   "language": "python",
   "name": "python3"
  },
  "language_info": {
   "codemirror_mode": {
    "name": "ipython",
    "version": 3
   },
   "file_extension": ".py",
   "mimetype": "text/x-python",
   "name": "python",
   "nbconvert_exporter": "python",
   "pygments_lexer": "ipython3",
   "version": "3.11.9"
  }
 },
 "nbformat": 4,
 "nbformat_minor": 2
}
