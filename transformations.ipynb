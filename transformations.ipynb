{
 "cells": [
  {
   "cell_type": "code",
   "execution_count": 1,
   "metadata": {},
   "outputs": [],
   "source": [
    "import sys, os\n",
    "sys.path.append(os.path.abspath('/spark-data'))"
   ]
  },
  {
   "cell_type": "code",
   "execution_count": 2,
   "metadata": {},
   "outputs": [],
   "source": [
    "from utils.Data_Ingestion.data_ingestion import load_files"
   ]
  },
  {
   "cell_type": "code",
   "execution_count": 3,
   "metadata": {},
   "outputs": [],
   "source": [
    "from pyspark.sql import SparkSession"
   ]
  },
  {
   "cell_type": "code",
   "execution_count": 4,
   "metadata": {},
   "outputs": [
    {
     "name": "stdout",
     "output_type": "stream",
     "text": [
      ":: loading settings :: url = jar:file:/opt/bitnami/spark/jars/ivy-2.5.1.jar!/org/apache/ivy/core/settings/ivysettings.xml\n"
     ]
    },
    {
     "name": "stderr",
     "output_type": "stream",
     "text": [
      "Ivy Default Cache set to: /root/.ivy2/cache\n",
      "The jars for the packages stored in: /root/.ivy2/jars\n",
      "com.crealytics#spark-excel_2.12 added as a dependency\n",
      ":: resolving dependencies :: org.apache.spark#spark-submit-parent-3c361c0f-dac0-46af-93cf-3c26e9303b8f;1.0\n",
      "\tconfs: [default]\n",
      "\tfound com.crealytics#spark-excel_2.12;3.4.1_0.19.0 in central\n",
      "\tfound org.apache.poi#poi;5.2.3 in central\n",
      "\tfound commons-codec#commons-codec;1.15 in central\n",
      "\tfound org.apache.commons#commons-collections4;4.4 in central\n",
      "\tfound org.apache.commons#commons-math3;3.6.1 in central\n",
      "\tfound com.zaxxer#SparseBitSet;1.2 in central\n",
      "\tfound org.apache.poi#poi-ooxml;5.2.3 in central\n",
      "\tfound org.apache.poi#poi-ooxml-lite;5.2.3 in central\n",
      "\tfound org.apache.xmlbeans#xmlbeans;5.1.1 in central\n",
      "\tfound com.github.virtuald#curvesapi;1.07 in central\n",
      "\tfound com.norbitltd#spoiwo_2.12;2.2.1 in central\n",
      "\tfound com.github.tototoshi#scala-csv_2.12;1.3.10 in central\n",
      "\tfound com.github.pjfanning#excel-streaming-reader;4.0.5 in central\n",
      "\tfound com.github.pjfanning#poi-shared-strings;2.5.6 in central\n",
      "\tfound org.slf4j#slf4j-api;1.7.36 in central\n",
      "\tfound com.h2database#h2;2.1.214 in central\n",
      "\tfound org.apache.commons#commons-text;1.10.0 in central\n",
      "\tfound org.apache.commons#commons-lang3;3.12.0 in central\n",
      "\tfound commons-io#commons-io;2.13.0 in central\n",
      "\tfound org.apache.commons#commons-compress;1.23.0 in central\n",
      "\tfound org.apache.logging.log4j#log4j-api;2.20.0 in central\n",
      "\tfound org.scala-lang.modules#scala-collection-compat_2.12;2.10.0 in central\n",
      "\tfound org.apache.logging.log4j#log4j-core;2.20.0 in central\n",
      ":: resolution report :: resolve 918ms :: artifacts dl 20ms\n",
      "\t:: modules in use:\n",
      "\tcom.crealytics#spark-excel_2.12;3.4.1_0.19.0 from central in [default]\n",
      "\tcom.github.pjfanning#excel-streaming-reader;4.0.5 from central in [default]\n",
      "\tcom.github.pjfanning#poi-shared-strings;2.5.6 from central in [default]\n",
      "\tcom.github.tototoshi#scala-csv_2.12;1.3.10 from central in [default]\n",
      "\tcom.github.virtuald#curvesapi;1.07 from central in [default]\n",
      "\tcom.h2database#h2;2.1.214 from central in [default]\n",
      "\tcom.norbitltd#spoiwo_2.12;2.2.1 from central in [default]\n",
      "\tcom.zaxxer#SparseBitSet;1.2 from central in [default]\n",
      "\tcommons-codec#commons-codec;1.15 from central in [default]\n",
      "\tcommons-io#commons-io;2.13.0 from central in [default]\n",
      "\torg.apache.commons#commons-collections4;4.4 from central in [default]\n",
      "\torg.apache.commons#commons-compress;1.23.0 from central in [default]\n",
      "\torg.apache.commons#commons-lang3;3.12.0 from central in [default]\n",
      "\torg.apache.commons#commons-math3;3.6.1 from central in [default]\n",
      "\torg.apache.commons#commons-text;1.10.0 from central in [default]\n",
      "\torg.apache.logging.log4j#log4j-api;2.20.0 from central in [default]\n",
      "\torg.apache.logging.log4j#log4j-core;2.20.0 from central in [default]\n",
      "\torg.apache.poi#poi;5.2.3 from central in [default]\n",
      "\torg.apache.poi#poi-ooxml;5.2.3 from central in [default]\n",
      "\torg.apache.poi#poi-ooxml-lite;5.2.3 from central in [default]\n",
      "\torg.apache.xmlbeans#xmlbeans;5.1.1 from central in [default]\n",
      "\torg.scala-lang.modules#scala-collection-compat_2.12;2.10.0 from central in [default]\n",
      "\torg.slf4j#slf4j-api;1.7.36 from central in [default]\n",
      "\t:: evicted modules:\n",
      "\tcommons-io#commons-io;2.11.0 by [commons-io#commons-io;2.13.0] in [default]\n",
      "\torg.apache.logging.log4j#log4j-api;2.18.0 by [org.apache.logging.log4j#log4j-api;2.20.0] in [default]\n",
      "\torg.apache.commons#commons-compress;1.21 by [org.apache.commons#commons-compress;1.23.0] in [default]\n",
      "\torg.apache.poi#poi;5.2.1 by [org.apache.poi#poi;5.2.3] in [default]\n",
      "\torg.apache.poi#poi-ooxml;5.2.1 by [org.apache.poi#poi-ooxml;5.2.3] in [default]\n",
      "\t---------------------------------------------------------------------\n",
      "\t|                  |            modules            ||   artifacts   |\n",
      "\t|       conf       | number| search|dwnlded|evicted|| number|dwnlded|\n",
      "\t---------------------------------------------------------------------\n",
      "\t|      default     |   28  |   0   |   0   |   5   ||   23  |   0   |\n",
      "\t---------------------------------------------------------------------\n",
      ":: retrieving :: org.apache.spark#spark-submit-parent-3c361c0f-dac0-46af-93cf-3c26e9303b8f\n",
      "\tconfs: [default]\n",
      "\t0 artifacts copied, 23 already retrieved (0kB/16ms)\n",
      "24/09/03 05:15:54 WARN NativeCodeLoader: Unable to load native-hadoop library for your platform... using builtin-java classes where applicable\n",
      "Setting default log level to \"WARN\".\n",
      "To adjust logging level use sc.setLogLevel(newLevel). For SparkR, use setLogLevel(newLevel).\n"
     ]
    }
   ],
   "source": [
    "#Spark Session Builder that builds the Session in which we work upon\n",
    "\n",
    "spark = SparkSession.builder \\\n",
    "    .appName(\"ExceltoDataFrame\") \\\n",
    "    .config(\"spark.jars.packages\", \"com.crealytics:spark-excel_2.12:3.4.1_0.19.0\") \\\n",
    "    .getOrCreate()"
   ]
  },
  {
   "cell_type": "code",
   "execution_count": 5,
   "metadata": {},
   "outputs": [
    {
     "name": "stderr",
     "output_type": "stream",
     "text": [
      "2024-09-03 05:16:04,512 - INFO - Successfully loaded CSV file: /spark-data/Cleaned_Csv_File/df_review_cleaned.csv\n",
      "2024-09-03 05:16:04,923 - INFO - Successfully loaded CSV file: /spark-data/Cleaned_Csv_File/df_product_cleaned.csv\n",
      "2024-09-03 05:16:05,250 - INFO - Successfully loaded CSV file: /spark-data/Cleaned_Csv_File/df_order_item_cleaned.csv\n",
      "2024-09-03 05:16:05,548 - INFO - Successfully loaded CSV file: /spark-data/Cleaned_Csv_File/df_customer_cleaned.csv\n",
      "2024-09-03 05:16:05,879 - INFO - Successfully loaded CSV file: /spark-data/Cleaned_Csv_File/df_order_cleaned.csv\n"
     ]
    }
   ],
   "source": [
    "dfs = load_files(spark, \"/spark-data/Cleaned_Csv_File\")"
   ]
  },
  {
   "cell_type": "code",
   "execution_count": 6,
   "metadata": {},
   "outputs": [],
   "source": [
    "df_customer = dfs[\"df_df_customer_cleaned\"]\n",
    "df_product = dfs[\"df_df_product_cleaned\"]\n",
    "df_order = dfs[\"df_df_order_cleaned\"]\n",
    "df_review = dfs[\"df_df_review_cleaned\"]\n",
    "df_order_item =dfs[\"df_df_order_item_cleaned\"]"
   ]
  },
  {
   "cell_type": "code",
   "execution_count": 7,
   "metadata": {},
   "outputs": [
    {
     "name": "stdout",
     "output_type": "stream",
     "text": [
      "+-----------+-----------+---------+--------------------+--------------------+-----------------+-------------+--------+----------+\n",
      "|customer_id| first_name|last_name|               email|        phone_number|             city|        state|zip_code|birth_date|\n",
      "+-----------+-----------+---------+--------------------+--------------------+-----------------+-------------+--------+----------+\n",
      "|          1|    Crystal|  Edwards|mcmahonemily@exam...|   +1 (511) 782-4381|    Fergusonville|         Iowa|   91344|1995-02-28|\n",
      "|          2|   Jennifer|    Jones|douglasedwards@ex...|   +1 (918) 720-2495|     Jenniferport|   New Jersey|   59371|1951-01-27|\n",
      "|          3|  Catherine|    Crane|douglaskevin@exam...|+1 (381) 601-2272...|  Jenniferchester|West Virginia|   49812|1966-10-07|\n",
      "|          4|     Lauren|    Irwin|aguirresteven@exa...|Invalid phone number|      New Melissa|     Michigan|   17279|1936-07-28|\n",
      "|          5|Christopher|   Nelson|dustin50@example.org|+1 (735) 814-4145...|       Hannahberg|     Oklahoma|   33821|1944-02-15|\n",
      "|          6|     Robert|    Costa|natalie33@example...|   +1 (210) 333-4611|     Lauraborough| Rhode Island|   37454|1946-09-27|\n",
      "|          7|   Michelle|    Lewis|jamiesingh@exampl...|   +1 (952) 419-1690|     Lake Whitney|     Oklahoma|   80306|1959-02-12|\n",
      "|          8|    Jeffrey|     Vang|kristen52@example...|Invalid phone number| New Jeffreymouth|     Virginia|   58012|1981-01-20|\n",
      "|          9|    Roberto|  Johnson| ihughes@example.com|+1 (505) 895-7853...|         Jodifurt|    Louisiana|   13500|1918-02-05|\n",
      "|         10|    Richard|  Beltran|smithtyler@exampl...|Invalid phone number|       East Barry|      Arizona|   89980|1925-05-19|\n",
      "|         11|       Jose|   Forbes|gjackson@example.com|+1 (440) 257-9768...|     Williamsfort|     New York|   74873|1935-04-19|\n",
      "|         12|     Thomas|   Murphy|nbarrett@example.org|   +1 (748) 605-5651|        Adamsstad|     Maryland|   10853|2013-03-01|\n",
      "|         13|    Anthony|    Young|poncetonya@exampl...|Invalid phone number|    Port Evanside|    Louisiana|    3739|1950-12-10|\n",
      "|         14|     Lauren| Campbell|taylornancy@examp...|Invalid phone number|     West Annaton| Pennsylvania|    1518|1925-04-04|\n",
      "|         15|     Martha|Underwood|pamelacrawford@ex...|+1 (461) 208-9197...|     East Charles|         Utah|    3289|1922-11-27|\n",
      "|         16|    Natasha| Johnston|laurarichardson@e...|   +1 (901) 251-8967|     Benjaminbury|     Arkansas|   21371|1971-11-11|\n",
      "|         17|       John|   Powell|figueroawilliam@e...|+1 (698) 504-0834...|    Port Kimberly|      Alabama|   13754|1997-08-29|\n",
      "|         18|     Daniel|   Barton|mooresamantha@exa...|   +1 (771) 621-2990|West Claytonburgh|        Idaho|    3297|1973-12-08|\n",
      "|         19|    Michael|   Bishop|kimdavid@example.com|+1 (935) 742-8065...|       Craigmouth|     Maryland|   77716|1977-03-17|\n",
      "|         20|     Janice| Faulkner| brett63@example.net|Invalid phone number|     Victoriabury|     Illinois|   58702|2004-04-05|\n",
      "+-----------+-----------+---------+--------------------+--------------------+-----------------+-------------+--------+----------+\n",
      "only showing top 20 rows\n",
      "\n"
     ]
    }
   ],
   "source": [
    "df_customer.show()"
   ]
  },
  {
   "cell_type": "code",
   "execution_count": 8,
   "metadata": {},
   "outputs": [
    {
     "name": "stdout",
     "output_type": "stream",
     "text": [
      "+--------+-----------+----------+------------+--------------------+--------------------+\n",
      "|order_id|customer_id|order_date|total_amount|    shipping_address|     billing_address|\n",
      "+--------+-----------+----------+------------+--------------------+--------------------+\n",
      "|     131|       4958|2020-05-10|         569|7886 Higgins Moto...|14788 Robert Land...|\n",
      "|     297|         46|2020-03-11|        1331|PSC 4470, Box 299...|16387 Novak Shoal...|\n",
      "|     330|       1082|2025-05-03|        4010|758 Sarah Plaza P...|938 Brian Road La...|\n",
      "|      62|       2934|2024-06-01|        1727|7971 Vicki Key Ap...|465 Kramer Way Ap...|\n",
      "|     266|       3929|2022-05-30|         680|57853 Chen Way La...|055 Butler Extens...|\n",
      "|      43|        118|2021-09-26|        4884|9822 Anne Trace A...|1511 Hill Keys Ap...|\n",
      "|      95|       4222|2023-08-27|        3765|Unit 4050 Box 161...|06811 Sean Crossi...|\n",
      "|     167|       3800|2022-12-09|        6259|16060 Mason Creek...|196 Joshua Meadow...|\n",
      "|     300|       1337|2022-01-02|         344|98835 Krista Isle...|98824 James Mill ...|\n",
      "|      86|       2814|2022-09-17|        5699|3347 Fleming Trac...|5276 Smith Bypass...|\n",
      "|     399|       3813|2023-03-08|        3468|374 Harris Pike S...|824 Stanley Plaza...|\n",
      "|     274|       2829|2021-11-12|        8941|392 Hoffman Manor...|776 Bryant Camp A...|\n",
      "|     325|        959|2021-12-11|        9898|833 Jeffrey Junct...|33746 Gray Land J...|\n",
      "|      20|       3574|2020-11-23|        1603|9940 Scott Mount ...|9258 Cassandra Hi...|\n",
      "|      65|       3354|2021-07-03|        7897|8050 Rodriguez Pi...|PSC 1629, Box 428...|\n",
      "|      92|        590|2020-08-25|        1752|78680 Lowery Isla...|0431 William Fall...|\n",
      "|     207|       2266|2023-11-15|        9902|59851 Tyler Passa...|115 Rivera Place ...|\n",
      "|      71|       2824|2023-07-31|        8488|3870 Hampton Vill...|05752 Hill Fords ...|\n",
      "|      78|       1483|2021-02-07|        5100|00838 Harvey Isla...|469 Berg Light Br...|\n",
      "|     140|        294|2024-05-07|        3102|Unit 2567 Box 290...|1202 Christopher ...|\n",
      "+--------+-----------+----------+------------+--------------------+--------------------+\n",
      "only showing top 20 rows\n",
      "\n"
     ]
    }
   ],
   "source": [
    "df_order.show()"
   ]
  },
  {
   "cell_type": "code",
   "execution_count": 9,
   "metadata": {},
   "outputs": [],
   "source": [
    "from utils.Data_Transformation.transformation import add_age_column, add_clv_column"
   ]
  },
  {
   "cell_type": "code",
   "execution_count": 10,
   "metadata": {},
   "outputs": [
    {
     "name": "stderr",
     "output_type": "stream",
     "text": [
      "2024-09-03 05:16:23,532 - INFO - Starting to add 'age' column based on the birth date column.\n",
      "2024-09-03 05:16:23,567 - INFO - Column 'birth_date' found. Calculating age...\n",
      "2024-09-03 05:16:23,651 - INFO - Age column added successfully.\n"
     ]
    }
   ],
   "source": [
    "age_added_customer_df = add_age_column(df_customer, \"birth_date\")"
   ]
  },
  {
   "cell_type": "code",
   "execution_count": 11,
   "metadata": {},
   "outputs": [
    {
     "name": "stdout",
     "output_type": "stream",
     "text": [
      "+-----------+-----------+---------+--------------------+--------------------+-----------------+-------------+--------+----------+---+\n",
      "|customer_id| first_name|last_name|               email|        phone_number|             city|        state|zip_code|birth_date|age|\n",
      "+-----------+-----------+---------+--------------------+--------------------+-----------------+-------------+--------+----------+---+\n",
      "|          1|    Crystal|  Edwards|mcmahonemily@exam...|   +1 (511) 782-4381|    Fergusonville|         Iowa|   91344|1995-02-28| 29|\n",
      "|          2|   Jennifer|    Jones|douglasedwards@ex...|   +1 (918) 720-2495|     Jenniferport|   New Jersey|   59371|1951-01-27| 73|\n",
      "|          3|  Catherine|    Crane|douglaskevin@exam...|+1 (381) 601-2272...|  Jenniferchester|West Virginia|   49812|1966-10-07| 57|\n",
      "|          4|     Lauren|    Irwin|aguirresteven@exa...|Invalid phone number|      New Melissa|     Michigan|   17279|1936-07-28| 88|\n",
      "|          5|Christopher|   Nelson|dustin50@example.org|+1 (735) 814-4145...|       Hannahberg|     Oklahoma|   33821|1944-02-15| 80|\n",
      "|          6|     Robert|    Costa|natalie33@example...|   +1 (210) 333-4611|     Lauraborough| Rhode Island|   37454|1946-09-27| 77|\n",
      "|          7|   Michelle|    Lewis|jamiesingh@exampl...|   +1 (952) 419-1690|     Lake Whitney|     Oklahoma|   80306|1959-02-12| 65|\n",
      "|          8|    Jeffrey|     Vang|kristen52@example...|Invalid phone number| New Jeffreymouth|     Virginia|   58012|1981-01-20| 43|\n",
      "|          9|    Roberto|  Johnson| ihughes@example.com|+1 (505) 895-7853...|         Jodifurt|    Louisiana|   13500|1918-02-05|106|\n",
      "|         10|    Richard|  Beltran|smithtyler@exampl...|Invalid phone number|       East Barry|      Arizona|   89980|1925-05-19| 99|\n",
      "|         11|       Jose|   Forbes|gjackson@example.com|+1 (440) 257-9768...|     Williamsfort|     New York|   74873|1935-04-19| 89|\n",
      "|         12|     Thomas|   Murphy|nbarrett@example.org|   +1 (748) 605-5651|        Adamsstad|     Maryland|   10853|2013-03-01| 11|\n",
      "|         13|    Anthony|    Young|poncetonya@exampl...|Invalid phone number|    Port Evanside|    Louisiana|    3739|1950-12-10| 73|\n",
      "|         14|     Lauren| Campbell|taylornancy@examp...|Invalid phone number|     West Annaton| Pennsylvania|    1518|1925-04-04| 99|\n",
      "|         15|     Martha|Underwood|pamelacrawford@ex...|+1 (461) 208-9197...|     East Charles|         Utah|    3289|1922-11-27|101|\n",
      "|         16|    Natasha| Johnston|laurarichardson@e...|   +1 (901) 251-8967|     Benjaminbury|     Arkansas|   21371|1971-11-11| 52|\n",
      "|         17|       John|   Powell|figueroawilliam@e...|+1 (698) 504-0834...|    Port Kimberly|      Alabama|   13754|1997-08-29| 27|\n",
      "|         18|     Daniel|   Barton|mooresamantha@exa...|   +1 (771) 621-2990|West Claytonburgh|        Idaho|    3297|1973-12-08| 50|\n",
      "|         19|    Michael|   Bishop|kimdavid@example.com|+1 (935) 742-8065...|       Craigmouth|     Maryland|   77716|1977-03-17| 47|\n",
      "|         20|     Janice| Faulkner| brett63@example.net|Invalid phone number|     Victoriabury|     Illinois|   58702|2004-04-05| 20|\n",
      "+-----------+-----------+---------+--------------------+--------------------+-----------------+-------------+--------+----------+---+\n",
      "only showing top 20 rows\n",
      "\n"
     ]
    }
   ],
   "source": [
    "age_added_customer_df.show()"
   ]
  },
  {
   "cell_type": "code",
   "execution_count": 12,
   "metadata": {},
   "outputs": [
    {
     "name": "stderr",
     "output_type": "stream",
     "text": [
      "2024-09-03 05:16:27,822 - INFO - Starting to add 'CLV' column to the customers DataFrame.\n",
      "2024-09-03 05:16:27,840 - INFO - Columns validated. Proceeding with CLV calculation.\n",
      "2024-09-03 05:16:28,010 - INFO - 'CLV' column added successfully, with null values replaced by 0.\n"
     ]
    }
   ],
   "source": [
    "df_customer_add_clv = add_clv_column(age_added_customer_df, df_order, \"total_amount\", \"customer_id\")"
   ]
  },
  {
   "cell_type": "code",
   "execution_count": 13,
   "metadata": {},
   "outputs": [
    {
     "name": "stdout",
     "output_type": "stream",
     "text": [
      "+-----------+-----------+---------+--------------------+--------------------+-----------------+-------------+--------+----------+---+----+\n",
      "|customer_id| first_name|last_name|               email|        phone_number|             city|        state|zip_code|birth_date|age| CLV|\n",
      "+-----------+-----------+---------+--------------------+--------------------+-----------------+-------------+--------+----------+---+----+\n",
      "|          1|    Crystal|  Edwards|mcmahonemily@exam...|   +1 (511) 782-4381|    Fergusonville|         Iowa|   91344|1995-02-28| 29|   0|\n",
      "|          2|   Jennifer|    Jones|douglasedwards@ex...|   +1 (918) 720-2495|     Jenniferport|   New Jersey|   59371|1951-01-27| 73|8766|\n",
      "|          3|  Catherine|    Crane|douglaskevin@exam...|+1 (381) 601-2272...|  Jenniferchester|West Virginia|   49812|1966-10-07| 57|   0|\n",
      "|          4|     Lauren|    Irwin|aguirresteven@exa...|Invalid phone number|      New Melissa|     Michigan|   17279|1936-07-28| 88|   0|\n",
      "|          5|Christopher|   Nelson|dustin50@example.org|+1 (735) 814-4145...|       Hannahberg|     Oklahoma|   33821|1944-02-15| 80|   0|\n",
      "|          6|     Robert|    Costa|natalie33@example...|   +1 (210) 333-4611|     Lauraborough| Rhode Island|   37454|1946-09-27| 77|   0|\n",
      "|          7|   Michelle|    Lewis|jamiesingh@exampl...|   +1 (952) 419-1690|     Lake Whitney|     Oklahoma|   80306|1959-02-12| 65|   0|\n",
      "|          8|    Jeffrey|     Vang|kristen52@example...|Invalid phone number| New Jeffreymouth|     Virginia|   58012|1981-01-20| 43|   0|\n",
      "|          9|    Roberto|  Johnson| ihughes@example.com|+1 (505) 895-7853...|         Jodifurt|    Louisiana|   13500|1918-02-05|106|3908|\n",
      "|         10|    Richard|  Beltran|smithtyler@exampl...|Invalid phone number|       East Barry|      Arizona|   89980|1925-05-19| 99|9382|\n",
      "|         11|       Jose|   Forbes|gjackson@example.com|+1 (440) 257-9768...|     Williamsfort|     New York|   74873|1935-04-19| 89|   0|\n",
      "|         12|     Thomas|   Murphy|nbarrett@example.org|   +1 (748) 605-5651|        Adamsstad|     Maryland|   10853|2013-03-01| 11|   0|\n",
      "|         13|    Anthony|    Young|poncetonya@exampl...|Invalid phone number|    Port Evanside|    Louisiana|    3739|1950-12-10| 73|3191|\n",
      "|         14|     Lauren| Campbell|taylornancy@examp...|Invalid phone number|     West Annaton| Pennsylvania|    1518|1925-04-04| 99|1851|\n",
      "|         15|     Martha|Underwood|pamelacrawford@ex...|+1 (461) 208-9197...|     East Charles|         Utah|    3289|1922-11-27|101|6553|\n",
      "|         16|    Natasha| Johnston|laurarichardson@e...|   +1 (901) 251-8967|     Benjaminbury|     Arkansas|   21371|1971-11-11| 52|9985|\n",
      "|         17|       John|   Powell|figueroawilliam@e...|+1 (698) 504-0834...|    Port Kimberly|      Alabama|   13754|1997-08-29| 27|   0|\n",
      "|         18|     Daniel|   Barton|mooresamantha@exa...|   +1 (771) 621-2990|West Claytonburgh|        Idaho|    3297|1973-12-08| 50|8065|\n",
      "|         19|    Michael|   Bishop|kimdavid@example.com|+1 (935) 742-8065...|       Craigmouth|     Maryland|   77716|1977-03-17| 47|8966|\n",
      "|         20|     Janice| Faulkner| brett63@example.net|Invalid phone number|     Victoriabury|     Illinois|   58702|2004-04-05| 20|3677|\n",
      "+-----------+-----------+---------+--------------------+--------------------+-----------------+-------------+--------+----------+---+----+\n",
      "only showing top 20 rows\n",
      "\n"
     ]
    }
   ],
   "source": [
    "df_customer_add_clv.show()"
   ]
  },
  {
   "cell_type": "code",
   "execution_count": null,
   "metadata": {},
   "outputs": [],
   "source": []
  }
 ],
 "metadata": {
  "kernelspec": {
   "display_name": "Python 3",
   "language": "python",
   "name": "python3"
  },
  "language_info": {
   "codemirror_mode": {
    "name": "ipython",
    "version": 3
   },
   "file_extension": ".py",
   "mimetype": "text/x-python",
   "name": "python",
   "nbconvert_exporter": "python",
   "pygments_lexer": "ipython3",
   "version": "3.11.9"
  }
 },
 "nbformat": 4,
 "nbformat_minor": 2
}
