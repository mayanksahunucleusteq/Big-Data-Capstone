{
 "cells": [
  {
   "cell_type": "markdown",
   "metadata": {},
   "source": [
    "### PySparkSession Creation"
   ]
  },
  {
   "cell_type": "code",
   "execution_count": 4,
   "metadata": {},
   "outputs": [],
   "source": [
    "#Importing Spark Session and important libraries that need to perform things in project\n",
    "\n",
    "from pyspark.sql import SparkSession\n",
    "from pyspark.sql import DataFrame\n",
    "from pyspark.sql.types import StringType\n",
    "from pyspark.sql.functions import col, date_format, regexp_replace, when, udf, year\n",
    "\n"
   ]
  },
  {
   "cell_type": "markdown",
   "metadata": {},
   "source": [
    "### Session Builder"
   ]
  },
  {
   "cell_type": "code",
   "execution_count": 5,
   "metadata": {},
   "outputs": [
    {
     "name": "stdout",
     "output_type": "stream",
     "text": [
      ":: loading settings :: url = jar:file:/opt/bitnami/spark/jars/ivy-2.5.1.jar!/org/apache/ivy/core/settings/ivysettings.xml\n"
     ]
    },
    {
     "name": "stderr",
     "output_type": "stream",
     "text": [
      "Ivy Default Cache set to: /root/.ivy2/cache\n",
      "The jars for the packages stored in: /root/.ivy2/jars\n",
      "com.crealytics#spark-excel_2.12 added as a dependency\n",
      ":: resolving dependencies :: org.apache.spark#spark-submit-parent-c7e0ecf7-947d-4ef7-9f2c-4df8a326d4e6;1.0\n",
      "\tconfs: [default]\n",
      "\tfound com.crealytics#spark-excel_2.12;3.4.1_0.19.0 in central\n",
      "\tfound org.apache.poi#poi;5.2.3 in central\n",
      "\tfound commons-codec#commons-codec;1.15 in central\n",
      "\tfound org.apache.commons#commons-collections4;4.4 in central\n",
      "\tfound org.apache.commons#commons-math3;3.6.1 in central\n",
      "\tfound com.zaxxer#SparseBitSet;1.2 in central\n",
      "\tfound org.apache.poi#poi-ooxml;5.2.3 in central\n",
      "\tfound org.apache.poi#poi-ooxml-lite;5.2.3 in central\n",
      "\tfound org.apache.xmlbeans#xmlbeans;5.1.1 in central\n",
      "\tfound com.github.virtuald#curvesapi;1.07 in central\n",
      "\tfound com.norbitltd#spoiwo_2.12;2.2.1 in central\n",
      "\tfound com.github.tototoshi#scala-csv_2.12;1.3.10 in central\n",
      "\tfound com.github.pjfanning#excel-streaming-reader;4.0.5 in central\n",
      "\tfound com.github.pjfanning#poi-shared-strings;2.5.6 in central\n",
      "\tfound org.slf4j#slf4j-api;1.7.36 in central\n",
      "\tfound com.h2database#h2;2.1.214 in central\n",
      "\tfound org.apache.commons#commons-text;1.10.0 in central\n",
      "\tfound org.apache.commons#commons-lang3;3.12.0 in central\n",
      "\tfound commons-io#commons-io;2.13.0 in central\n",
      "\tfound org.apache.commons#commons-compress;1.23.0 in central\n",
      "\tfound org.apache.logging.log4j#log4j-api;2.20.0 in central\n",
      "\tfound org.scala-lang.modules#scala-collection-compat_2.12;2.10.0 in central\n",
      "\tfound org.apache.logging.log4j#log4j-core;2.20.0 in central\n",
      ":: resolution report :: resolve 901ms :: artifacts dl 34ms\n",
      "\t:: modules in use:\n",
      "\tcom.crealytics#spark-excel_2.12;3.4.1_0.19.0 from central in [default]\n",
      "\tcom.github.pjfanning#excel-streaming-reader;4.0.5 from central in [default]\n",
      "\tcom.github.pjfanning#poi-shared-strings;2.5.6 from central in [default]\n",
      "\tcom.github.tototoshi#scala-csv_2.12;1.3.10 from central in [default]\n",
      "\tcom.github.virtuald#curvesapi;1.07 from central in [default]\n",
      "\tcom.h2database#h2;2.1.214 from central in [default]\n",
      "\tcom.norbitltd#spoiwo_2.12;2.2.1 from central in [default]\n",
      "\tcom.zaxxer#SparseBitSet;1.2 from central in [default]\n",
      "\tcommons-codec#commons-codec;1.15 from central in [default]\n",
      "\tcommons-io#commons-io;2.13.0 from central in [default]\n",
      "\torg.apache.commons#commons-collections4;4.4 from central in [default]\n",
      "\torg.apache.commons#commons-compress;1.23.0 from central in [default]\n",
      "\torg.apache.commons#commons-lang3;3.12.0 from central in [default]\n",
      "\torg.apache.commons#commons-math3;3.6.1 from central in [default]\n",
      "\torg.apache.commons#commons-text;1.10.0 from central in [default]\n",
      "\torg.apache.logging.log4j#log4j-api;2.20.0 from central in [default]\n",
      "\torg.apache.logging.log4j#log4j-core;2.20.0 from central in [default]\n",
      "\torg.apache.poi#poi;5.2.3 from central in [default]\n",
      "\torg.apache.poi#poi-ooxml;5.2.3 from central in [default]\n",
      "\torg.apache.poi#poi-ooxml-lite;5.2.3 from central in [default]\n",
      "\torg.apache.xmlbeans#xmlbeans;5.1.1 from central in [default]\n",
      "\torg.scala-lang.modules#scala-collection-compat_2.12;2.10.0 from central in [default]\n",
      "\torg.slf4j#slf4j-api;1.7.36 from central in [default]\n",
      "\t:: evicted modules:\n",
      "\tcommons-io#commons-io;2.11.0 by [commons-io#commons-io;2.13.0] in [default]\n",
      "\torg.apache.logging.log4j#log4j-api;2.18.0 by [org.apache.logging.log4j#log4j-api;2.20.0] in [default]\n",
      "\torg.apache.commons#commons-compress;1.21 by [org.apache.commons#commons-compress;1.23.0] in [default]\n",
      "\torg.apache.poi#poi;5.2.1 by [org.apache.poi#poi;5.2.3] in [default]\n",
      "\torg.apache.poi#poi-ooxml;5.2.1 by [org.apache.poi#poi-ooxml;5.2.3] in [default]\n",
      "\t---------------------------------------------------------------------\n",
      "\t|                  |            modules            ||   artifacts   |\n",
      "\t|       conf       | number| search|dwnlded|evicted|| number|dwnlded|\n",
      "\t---------------------------------------------------------------------\n",
      "\t|      default     |   28  |   0   |   0   |   5   ||   23  |   0   |\n",
      "\t---------------------------------------------------------------------\n",
      ":: retrieving :: org.apache.spark#spark-submit-parent-c7e0ecf7-947d-4ef7-9f2c-4df8a326d4e6\n",
      "\tconfs: [default]\n",
      "\t0 artifacts copied, 23 already retrieved (0kB/11ms)\n",
      "24/08/27 17:13:41 WARN NativeCodeLoader: Unable to load native-hadoop library for your platform... using builtin-java classes where applicable\n",
      "Setting default log level to \"WARN\".\n",
      "To adjust logging level use sc.setLogLevel(newLevel). For SparkR, use setLogLevel(newLevel).\n"
     ]
    }
   ],
   "source": [
    "#Spark Session Builder that builds the Session in which we work upon\n",
    "\n",
    "spark = SparkSession.builder \\\n",
    "    .appName(\"ExceltoDataFrame\") \\\n",
    "    .config(\"spark.jars.packages\", \"com.crealytics:spark-excel_2.12:3.4.1_0.19.0\") \\\n",
    "    .getOrCreate()"
   ]
  },
  {
   "cell_type": "markdown",
   "metadata": {},
   "source": [
    "# There are two Different Source files for different tables data one is excel and other is JSON"
   ]
  },
  {
   "cell_type": "code",
   "execution_count": 6,
   "metadata": {},
   "outputs": [],
   "source": [
    "#Things for Excel file\n",
    "\n",
    "# File path to the Excel file\n",
    "excel_file = \"/spark-data/Capstone_Project/data.xlsx\"\n",
    "\n",
    "# Sheet names (replace these with your actual sheet names)\n",
    "sheet_names = [\"data\", \"product\", \"customer\"]\n",
    "\n",
    "# Dictionary to hold DataFrames\n",
    "dfs = {}"
   ]
  },
  {
   "cell_type": "code",
   "execution_count": 7,
   "metadata": {},
   "outputs": [],
   "source": [
    "#This is the logic for getting all the sheets into dataframe that are present into a excel file\n",
    "\n",
    "# Loop through each sheet and create a DataFrame\n",
    "for sheet in sheet_names:\n",
    "    df = spark.read.format(\"com.crealytics.spark.excel\") \\\n",
    "        .option(\"header\", \"true\") \\\n",
    "        .option(\"inferSchema\", \"true\") \\\n",
    "        .option(\"dataAddress\", f\"'{sheet}'!A1\") \\\n",
    "        .load(excel_file)\n",
    "    # Store DataFrame in the dictionary with the sheet name as the key\n",
    "    dfs[sheet] = df\n",
    "# Access the DataFrames by sheet name\n",
    "df_data = dfs[\"data\"]\n",
    "df_product = dfs[\"product\"]\n",
    "df_customer = dfs[\"customer\"]"
   ]
  },
  {
   "cell_type": "code",
   "execution_count": 8,
   "metadata": {},
   "outputs": [],
   "source": [
    "df_customer = dfs[\"customer\"]"
   ]
  },
  {
   "cell_type": "code",
   "execution_count": 9,
   "metadata": {},
   "outputs": [
    {
     "name": "stderr",
     "output_type": "stream",
     "text": [
      "[Stage 3:>                                                          (0 + 1) / 1]\r"
     ]
    },
    {
     "name": "stdout",
     "output_type": "stream",
     "text": [
      "+--------+-----------+-------------------+------------+--------------------+--------------------+\n",
      "|order_id|customer_id|         order_date|total_amount|    shipping_address|     billing_address|\n",
      "+--------+-----------+-------------------+------------+--------------------+--------------------+\n",
      "|     1.0|      462.0|2019-08-26 00:00:00|      4007.0|60585 Moore Overp...|775 Roberson Knol...|\n",
      "|     2.0|     2820.0|2021-04-22 00:00:00|      7240.0|3278 Price Isle\\n...|2055 Curry Street...|\n",
      "|     3.0|     1934.0|2024-02-21 00:00:00|      8318.0|Unit 8425 Box 079...|USNV Strong\\nFPO ...|\n",
      "|     4.0|     2694.0|2021-01-14 00:00:00|      4992.0|5566 Brittany Sta...|524 Allen Shoal S...|\n",
      "|     5.0|      134.0|2020-03-14 00:00:00|      5385.0|4289 Michael Esta...|38637 Cheryl Junc...|\n",
      "|     6.0|     4651.0|2020-12-30 00:00:00|      3512.0|83184 Shelly Land...|80329 Dawn Road S...|\n",
      "|     7.0|     1696.0|2023-05-30 00:00:00|      4592.0|7127 Arroyo Land\\...|787 Smith Islands...|\n",
      "|     8.0|     1969.0|2021-05-03 00:00:00|      6640.0|29076 Robinson Ca...|65198 Anderson Ex...|\n",
      "|     9.0|     2220.0|2024-06-24 00:00:00|      1779.0|2112 Jonathan Vil...|6689 Bullock Rest...|\n",
      "|    10.0|     4441.0|2022-05-10 00:00:00|      5785.0|5356 Ramirez Ligh...|561 Darren Loaf S...|\n",
      "|    11.0|     1557.0|2023-03-08 00:00:00|      5172.0|6895 Mary Course\\...|891 Jackson Strav...|\n",
      "|    12.0|     4147.0|2020-10-21 00:00:00|      3664.0|3479 Joseph Burg ...|601 Wilson Locks\\...|\n",
      "|    13.0|      653.0|2023-12-11 00:00:00|      1340.0|USNS Davidson\\nFP...|35260 Joseph Cour...|\n",
      "|    14.0|     1227.0|2020-08-31 00:00:00|      6007.0|705 Robert Light\\...|279 Jeffrey Mount...|\n",
      "|    15.0|     4327.0|2022-07-06 00:00:00|      2898.0|906 Frederick Pin...|42202 Smith Pines...|\n",
      "|    16.0|     3191.0|2021-08-10 00:00:00|      9095.0|151 John Loaf\\nLa...|405 Gregory Stree...|\n",
      "|    17.0|     3918.0|2021-08-05 00:00:00|      6038.0|4686 Andres Ville...|1349 Cox Circles ...|\n",
      "|    18.0|      615.0|2022-09-20 00:00:00|      1025.0|5572 David Causew...|7229 Lisa Rest Su...|\n",
      "|    19.0|     4936.0|2020-10-05 00:00:00|      3070.0|71029 Lewis Stree...|85591 Laura Terra...|\n",
      "|    20.0|     3574.0|2020-11-23 00:00:00|      1603.0|9940 Scott Mount ...|9258 Cassandra Hi...|\n",
      "+--------+-----------+-------------------+------------+--------------------+--------------------+\n",
      "only showing top 20 rows\n",
      "\n"
     ]
    },
    {
     "name": "stderr",
     "output_type": "stream",
     "text": [
      "                                                                                \r"
     ]
    }
   ],
   "source": [
    "df_data.show(20)"
   ]
  },
  {
   "cell_type": "code",
   "execution_count": 8,
   "metadata": {},
   "outputs": [
    {
     "name": "stdout",
     "output_type": "stream",
     "text": [
      "+----------+-------------+---------+-----+--------------------+---------+\n",
      "|product_id| product_name| category|price|         description|inventory|\n",
      "+----------+-------------+---------+-----+--------------------+---------+\n",
      "|       1.0|          bag|       no|448.0|Summer now health...|    655.0|\n",
      "|       2.0|        happy|   answer|844.0|Employee discuss ...|    230.0|\n",
      "|       3.0|         same|      his|681.0|Million mother pu...|    831.0|\n",
      "|       4.0|      prevent|   around| 34.0|Because under mea...|    804.0|\n",
      "|       5.0|        quite|   summer|663.0|Approach Mr task ...|    351.0|\n",
      "|       6.0|        which|  purpose|386.0|Leave charge mode...|     10.0|\n",
      "|       7.0|       beyond|   beyond|879.0|Shoulder power in...|    282.0|\n",
      "|       8.0|     although|     home|650.0|Exactly continue ...|    818.0|\n",
      "|       9.0|environmental| although|  7.0|Really admit kind...|    128.0|\n",
      "|      10.0|       assume|professor|945.0|Bar truth here gr...|    168.0|\n",
      "|      11.0|      usually|   figure|434.0|                null|    155.0|\n",
      "|      12.0|        their| property|158.0|Run seat couple e...|    374.0|\n",
      "|      13.0|         fine|  usually|906.0|Rich ability impr...|    395.0|\n",
      "|      14.0|         risk|     away|128.0|Protect bill fall...|    175.0|\n",
      "|      15.0|     approach|       of|243.0|Adult kid way. Th...|    192.0|\n",
      "|      16.0|         mind|     tell|305.0|School home half ...|    389.0|\n",
      "|      17.0|  opportunity|      gun|956.0|Late like economy...|    535.0|\n",
      "|      18.0|         pull|       by|957.0|Player firm story...|    541.0|\n",
      "|      19.0|         step|    occur|227.0|Very follow elect...|    763.0|\n",
      "|      20.0|     physical|    money|253.0|See six religious...|    619.0|\n",
      "+----------+-------------+---------+-----+--------------------+---------+\n",
      "only showing top 20 rows\n",
      "\n"
     ]
    }
   ],
   "source": [
    "df_product.show()"
   ]
  },
  {
   "cell_type": "code",
   "execution_count": 9,
   "metadata": {},
   "outputs": [
    {
     "name": "stdout",
     "output_type": "stream",
     "text": [
      "+-----------+-----------+---------+--------------------+--------------------+-----------------+-------------+--------+-------------------+\n",
      "|customer_id| first_name|last_name|               email|        phone_number|             city|        state|zip_code|         birth_date|\n",
      "+-----------+-----------+---------+--------------------+--------------------+-----------------+-------------+--------+-------------------+\n",
      "|        1.0|    Crystal|  Edwards|mcmahonemily@exam...|        511.782.4381|    Fergusonville|         Iowa| 91344.0|1995-02-28 00:00:00|\n",
      "|        2.0|   Jennifer|    Jones|douglasedwards@ex...|          9187202495|     Jenniferport|   New Jersey| 59371.0|1951-01-27 00:00:00|\n",
      "|        3.0|  Catherine|    Crane|douglaskevin@exam...|  (381)601-2272x7972|  Jenniferchester|West Virginia| 49812.0|1966-10-07 00:00:00|\n",
      "|        4.0|     Lauren|    Irwin|aguirresteven@exa...|    001-707-942-4829|      New Melissa|     Michigan| 17279.0|1936-07-28 00:00:00|\n",
      "|        5.0|Christopher|   Nelson|dustin50@example.org|  735.814.4145x28586|       Hannahberg|     Oklahoma| 33821.0|1944-02-15 00:00:00|\n",
      "|        6.0|     Robert|    Costa|natalie33@example...|       (210)333-4611|     Lauraborough| Rhode Island| 37454.0|1946-09-27 00:00:00|\n",
      "|        7.0|   Michelle|    Lewis|jamiesingh@exampl...|          9524191690|     Lake Whitney|     Oklahoma| 80306.0|1959-02-12 00:00:00|\n",
      "|        8.0|    Jeffrey|     Vang|kristen52@example...|             -1521.0| New Jeffreymouth|     Virginia| 58012.0|1981-01-20 00:00:00|\n",
      "|        9.0|    Roberto|  Johnson| ihughes@example.com| (505)895-7853x48550|         Jodifurt|    Louisiana| 13500.0|1918-02-05 00:00:00|\n",
      "|       10.0|    Richard|  Beltran|smithtyler@exampl...|001-679-615-9888x...|       East Barry|      Arizona| 89980.0|1925-05-19 00:00:00|\n",
      "|       11.0|       Jose|   Forbes|gjackson@example.com|   440-257-9768x4814|     Williamsfort|     New York| 74873.0|1935-04-19 00:00:00|\n",
      "|       12.0|     Thomas|   Murphy|nbarrett@example.org|          7486055651|        Adamsstad|     Maryland| 10853.0|2013-03-01 00:00:00|\n",
      "|       13.0|    Anthony|    Young|poncetonya@exampl...|    001-586-933-1496|    Port Evanside|    Louisiana|  3739.0|1950-12-10 00:00:00|\n",
      "|       14.0|     Lauren| Campbell|taylornancy@examp...|001-635-567-9354x...|     West Annaton| Pennsylvania|  1518.0|1925-04-04 00:00:00|\n",
      "|       15.0|     Martha|Underwood|pamelacrawford@ex...| +1-461-208-9197x538|     East Charles|         Utah|  3289.0|1922-11-27 00:00:00|\n",
      "|       16.0|    Natasha| Johnston|laurarichardson@e...|        901.251.8967|     Benjaminbury|     Arkansas| 21371.0|1971-11-11 00:00:00|\n",
      "|       17.0|       John|   Powell|figueroawilliam@e...|  698.504.0834x73636|    Port Kimberly|      Alabama| 13754.0|1997-08-29 00:00:00|\n",
      "|       18.0|     Daniel|   Barton|mooresamantha@exa...|        771-621-2990|West Claytonburgh|        Idaho|  3297.0|1973-12-08 00:00:00|\n",
      "|       19.0|    Michael|   Bishop|kimdavid@example.com|+1-935-742-8065x1...|       Craigmouth|     Maryland| 77716.0|1977-03-17 00:00:00|\n",
      "|       20.0|     Janice| Faulkner| brett63@example.net|             -4261.0|     Victoriabury|     Illinois| 58702.0|2004-04-05 00:00:00|\n",
      "+-----------+-----------+---------+--------------------+--------------------+-----------------+-------------+--------+-------------------+\n",
      "only showing top 20 rows\n",
      "\n"
     ]
    }
   ],
   "source": [
    "df_customer.show()"
   ]
  },
  {
   "cell_type": "markdown",
   "metadata": {},
   "source": [
    "### Json Files Loading in df"
   ]
  },
  {
   "cell_type": "code",
   "execution_count": 10,
   "metadata": {},
   "outputs": [],
   "source": [
    "json_file = \"/spark-data/Capstone_Project/data.json\""
   ]
  },
  {
   "cell_type": "code",
   "execution_count": 11,
   "metadata": {},
   "outputs": [],
   "source": [
    "# Load the JSON data into a single Spark DataFrame, handling multiline JSON\n",
    "df_json = spark.read.format(\"json\") \\\n",
    "    .option(\"multiline\", \"true\") \\\n",
    "    .json(json_file)\n"
   ]
  },
  {
   "cell_type": "code",
   "execution_count": 12,
   "metadata": {},
   "outputs": [],
   "source": [
    "#Extracting both tables from json file\n",
    "\n",
    "# Extract 'orders' and 'reviews' into separate DataFrames\n",
    "df_order = df_json.selectExpr(\"explode(orders) as order\").select(\"order.*\")\n",
    "df_review = df_json.selectExpr(\"explode(reviews) as review\").select(\"review.*\")"
   ]
  },
  {
   "cell_type": "code",
   "execution_count": 13,
   "metadata": {},
   "outputs": [],
   "source": [
    "columns_order = [\"order_item_id\", \"order_id\", \"product_id\", \"quantity\", \"price\"]\n",
    "columns_review = [\"review_id\", \"customer_id\", \"product_id\", \"rating\", \"review_text\", \"review_date\"]\n",
    "\n",
    "df_order = df_order.select(*columns_order)\n",
    "df_review = df_review.select(*columns_review)"
   ]
  },
  {
   "cell_type": "code",
   "execution_count": 14,
   "metadata": {},
   "outputs": [
    {
     "name": "stdout",
     "output_type": "stream",
     "text": [
      "+-------------+--------+----------+--------+-----+\n",
      "|order_item_id|order_id|product_id|quantity|price|\n",
      "+-------------+--------+----------+--------+-----+\n",
      "|            1|     868|      1571|       7|   70|\n",
      "|            2|    3151|      3809|      -3|    8|\n",
      "|            3|    1582|      4896|       8|   32|\n",
      "|            4|    2578|      2712|       4|   64|\n",
      "|            5|    2792|      1111|       4|   53|\n",
      "|            6|    1257|      2874|       1|   69|\n",
      "|            7|    2389|      2670|       9|   40|\n",
      "|            8|    2013|      3779|       6|   39|\n",
      "|            9|    4272|      3109|       5|   15|\n",
      "|           10|    1260|      2110|       8|   21|\n",
      "|           11|    3617|      3350|       1|   27|\n",
      "|           12|    1479|      2917|       9|   96|\n",
      "|           13|    1405|      1480|       5|   61|\n",
      "|           14|    4526|      4686|       5|   69|\n",
      "|           15|    2513|      3146|       8|    8|\n",
      "|           16|    2346|      4182|       5|   92|\n",
      "|           17|    3988|        22|      10|   88|\n",
      "|           18|     972|       516|       1|   16|\n",
      "|           19|    3852|      4182|       4|   48|\n",
      "|           20|    4345|       961|       7|   10|\n",
      "+-------------+--------+----------+--------+-----+\n",
      "only showing top 20 rows\n",
      "\n"
     ]
    }
   ],
   "source": [
    "df_order.show()"
   ]
  },
  {
   "cell_type": "code",
   "execution_count": 18,
   "metadata": {},
   "outputs": [
    {
     "name": "stdout",
     "output_type": "stream",
     "text": [
      "+---------+-----------+----------+------+--------------------+-----------+\n",
      "|review_id|customer_id|product_id|rating|         review_text|review_date|\n",
      "+---------+-----------+----------+------+--------------------+-----------+\n",
      "|        1|       2522|      4663|     3|Home create anyon...| 2022-12-20|\n",
      "|        2|       2181|      2645|     3|Skill herself opt...| 2024-07-05|\n",
      "|        3|       3935|      1699|     3|Public everyone s...| 2024-05-06|\n",
      "|        4|       3453|      1360|     1|Level land majori...| 2023-11-05|\n",
      "|        5|       2999|      4883|     3|Treat fine now di...| 2024-03-03|\n",
      "|        6|        863|      3544|     2|Land despite buy ...| 2023-06-02|\n",
      "|        7|       2348|      1853|     1|Ground again goal...| 2023-11-11|\n",
      "|        8|       2388|      1652|     3|Community materia...| 2022-11-29|\n",
      "|        9|       4486|       632|     4|Goal after color ...| 2023-03-31|\n",
      "|       10|       1379|      2399|     5|Beyond coach meet...| 2024-02-11|\n",
      "|       11|        309|      3241|     3|Policy wish resou...| 2023-06-30|\n",
      "|       12|       1733|      1939|     5|Knowledge alone g...| 2023-08-20|\n",
      "|       13|       3638|      3895|     1|Performance value...| 2024-05-20|\n",
      "|       14|       1840|      1387|     1|Brother example o...| 2022-09-02|\n",
      "|       15|       4211|      4380|     3|Lay reach another...| 2024-06-08|\n",
      "|       16|       1544|      4487|     1|Be when stock act...| 2024-07-31|\n",
      "|       17|       3378|       911|     4|Wear east against...| 2022-08-30|\n",
      "|       18|       3065|      4749|     4|Election letter o...| 2023-01-10|\n",
      "|       19|       1952|      1019|     1|Around bit simila...| 2023-07-27|\n",
      "|       20|       4543|      3904|     4|Than key property...| 2023-06-12|\n",
      "+---------+-----------+----------+------+--------------------+-----------+\n",
      "only showing top 20 rows\n",
      "\n"
     ]
    }
   ],
   "source": [
    "df_review.show()"
   ]
  },
  {
   "cell_type": "markdown",
   "metadata": {},
   "source": [
    "### All DataFrames\n",
    "\n",
    "1. df_data\n",
    "2. df_product \n",
    "3. df_customer\n",
    "4. df_review\n",
    "5. df_order"
   ]
  },
  {
   "cell_type": "markdown",
   "metadata": {},
   "source": [
    "# Now Performing Transformation on All DataFrames"
   ]
  },
  {
   "cell_type": "markdown",
   "metadata": {},
   "source": [
    "# Transforming df_data"
   ]
  },
  {
   "cell_type": "markdown",
   "metadata": {},
   "source": [
    "### Handling some basic commam operation on all dataframe like Null value, duplicates records"
   ]
  },
  {
   "cell_type": "markdown",
   "metadata": {},
   "source": []
  },
  {
   "cell_type": "code",
   "execution_count": 15,
   "metadata": {},
   "outputs": [],
   "source": [
    "#Function for removing Null values and \"null\" string from the dataframe on all column\n",
    "\n",
    "\n",
    "def replace_nulls_with_na(df):\n",
    "    \n",
    "    df = df.na.fill(\"Not Available\")\n",
    "        \n",
    "    # Replace \"null\" strings with \"Not Available\"\n",
    "    for col_name in df.columns:\n",
    "        df = df.withColumn(\n",
    "            col_name, \n",
    "            when(col(col_name) == \"null\", \"Not Available\")\n",
    "            .otherwise(col(col_name))\n",
    "        )   \n",
    "    \n",
    "    return df\n",
    "\n"
   ]
  },
  {
   "cell_type": "code",
   "execution_count": 20,
   "metadata": {},
   "outputs": [],
   "source": [
    "# df_customer = replace_nulls_with_na(df_customer)"
   ]
  },
  {
   "cell_type": "code",
   "execution_count": 16,
   "metadata": {},
   "outputs": [],
   "source": [
    "#Appling null value replace function on all df\n",
    "df_customer = replace_nulls_with_na(df_customer)\n",
    "df_data = replace_nulls_with_na(df_data)\n",
    "df_order = replace_nulls_with_na(df_order)\n",
    "df_product = replace_nulls_with_na(df_product)\n",
    "df_review = replace_nulls_with_na(df_review)"
   ]
  },
  {
   "cell_type": "code",
   "execution_count": 17,
   "metadata": {},
   "outputs": [],
   "source": [
    "#Removing Duplicates Records from the dataframe for ensuring data is not redundent \n",
    "\n",
    "def remove_duplicates(df: DataFrame) -> DataFrame:\n",
    "    # Remove duplicate records\n",
    "    df_cleaned = df.dropDuplicates()\n",
    "    \n",
    "    return df_cleaned"
   ]
  },
  {
   "cell_type": "code",
   "execution_count": 18,
   "metadata": {},
   "outputs": [],
   "source": [
    "#Appling remove duplicate function on all df\n",
    "df_customer = remove_duplicates(df_customer)\n",
    "df_data = remove_duplicates(df_data)\n",
    "df_order = remove_duplicates(df_order)\n",
    "df_product = remove_duplicates(df_product)\n",
    "df_review = remove_duplicates(df_review)"
   ]
  },
  {
   "cell_type": "code",
   "execution_count": 19,
   "metadata": {},
   "outputs": [
    {
     "name": "stderr",
     "output_type": "stream",
     "text": [
      "                                                                                \r"
     ]
    },
    {
     "data": {
      "text/plain": [
       "5000"
      ]
     },
     "execution_count": 19,
     "metadata": {},
     "output_type": "execute_result"
    }
   ],
   "source": [
    "df_data.count()"
   ]
  },
  {
   "cell_type": "markdown",
   "metadata": {},
   "source": [
    "# Start Transforming the Data Table"
   ]
  },
  {
   "cell_type": "code",
   "execution_count": 20,
   "metadata": {},
   "outputs": [
    {
     "name": "stdout",
     "output_type": "stream",
     "text": [
      "+--------+-----------+-------------------+------------+--------------------+--------------------+\n",
      "|order_id|customer_id|         order_date|total_amount|    shipping_address|     billing_address|\n",
      "+--------+-----------+-------------------+------------+--------------------+--------------------+\n",
      "|   264.0|     2830.0|2022-08-03 00:00:00|      3566.0|32138 Bryan Court...|USNS Rodriguez\\nF...|\n",
      "|   159.0|     4390.0|2022-11-15 00:00:00|      9637.0|068 Michael Rest\\...|06153 Robin Shoal...|\n",
      "|   326.0|      702.0|2019-11-27 00:00:00|      4634.0|44979 Stephanie G...|121 Cynthia Coves...|\n",
      "|   370.0|     2244.0|2024-01-12 00:00:00|      8065.0|75425 Jermaine Gr...|983 Miller Rapids...|\n",
      "|   398.0|     4180.0|2021-05-01 00:00:00|      9957.0|1603 Nicholas Lan...|63827 Bush Haven\\...|\n",
      "+--------+-----------+-------------------+------------+--------------------+--------------------+\n",
      "only showing top 5 rows\n",
      "\n"
     ]
    }
   ],
   "source": [
    "df_data.show(5)"
   ]
  },
  {
   "cell_type": "code",
   "execution_count": 21,
   "metadata": {},
   "outputs": [],
   "source": [
    "#Remove decimals from order_id and customer_id\n",
    "\n",
    "\n",
    "df_data = df_data.withColumn(\"order_id\", col(\"order_id\").cast(\"int\")) \\\n",
    "               .withColumn(\"customer_id\", col(\"customer_id\").cast(\"int\"))"
   ]
  },
  {
   "cell_type": "code",
   "execution_count": 22,
   "metadata": {},
   "outputs": [
    {
     "name": "stdout",
     "output_type": "stream",
     "text": [
      "+--------+-----------+-------------------+------------+--------------------+--------------------+\n",
      "|order_id|customer_id|         order_date|total_amount|    shipping_address|     billing_address|\n",
      "+--------+-----------+-------------------+------------+--------------------+--------------------+\n",
      "|     264|       2830|2022-08-03 00:00:00|      3566.0|32138 Bryan Court...|USNS Rodriguez\\nF...|\n",
      "|     159|       4390|2022-11-15 00:00:00|      9637.0|068 Michael Rest\\...|06153 Robin Shoal...|\n",
      "|     326|        702|2019-11-27 00:00:00|      4634.0|44979 Stephanie G...|121 Cynthia Coves...|\n",
      "|     370|       2244|2024-01-12 00:00:00|      8065.0|75425 Jermaine Gr...|983 Miller Rapids...|\n",
      "|     398|       4180|2021-05-01 00:00:00|      9957.0|1603 Nicholas Lan...|63827 Bush Haven\\...|\n",
      "+--------+-----------+-------------------+------------+--------------------+--------------------+\n",
      "only showing top 5 rows\n",
      "\n"
     ]
    }
   ],
   "source": [
    "df_data.show(5)"
   ]
  },
  {
   "cell_type": "code",
   "execution_count": 23,
   "metadata": {},
   "outputs": [],
   "source": [
    "#Formate the order_date Column int yyyy-MM-dd\n",
    "\n",
    "df_data = df_data.withColumn(\"order_date\", date_format(\"order_date\", \"yyyy-MM-dd\"))"
   ]
  },
  {
   "cell_type": "code",
   "execution_count": 24,
   "metadata": {},
   "outputs": [
    {
     "name": "stdout",
     "output_type": "stream",
     "text": [
      "+--------+-----------+----------+------------+--------------------+--------------------+\n",
      "|order_id|customer_id|order_date|total_amount|    shipping_address|     billing_address|\n",
      "+--------+-----------+----------+------------+--------------------+--------------------+\n",
      "|     264|       2830|2022-08-03|      3566.0|32138 Bryan Court...|USNS Rodriguez\\nF...|\n",
      "|     159|       4390|2022-11-15|      9637.0|068 Michael Rest\\...|06153 Robin Shoal...|\n",
      "|     326|        702|2019-11-27|      4634.0|44979 Stephanie G...|121 Cynthia Coves...|\n",
      "|     370|       2244|2024-01-12|      8065.0|75425 Jermaine Gr...|983 Miller Rapids...|\n",
      "|     398|       4180|2021-05-01|      9957.0|1603 Nicholas Lan...|63827 Bush Haven\\...|\n",
      "+--------+-----------+----------+------------+--------------------+--------------------+\n",
      "only showing top 5 rows\n",
      "\n"
     ]
    }
   ],
   "source": [
    "df_data.show(5)"
   ]
  },
  {
   "cell_type": "code",
   "execution_count": 25,
   "metadata": {
    "notebookRunGroups": {
     "groupValue": "1"
    }
   },
   "outputs": [
    {
     "name": "stdout",
     "output_type": "stream",
     "text": [
      "+-----------------------------------------------------------+\n",
      "|shipping_address                                           |\n",
      "+-----------------------------------------------------------+\n",
      "|32138 Bryan Court Apt. 598\\nEast Charles, PW 27839         |\n",
      "|068 Michael Rest\\nEast Ryanview, MI 00600                  |\n",
      "|44979 Stephanie Glens\\nWest Michaelhaven, DE 95416         |\n",
      "|75425 Jermaine Groves Suite 498\\nLake Cynthiaside, HI 34504|\n",
      "|1603 Nicholas Lane Suite 521\\nNorth Randy, LA 55937        |\n",
      "|6207 Andrade Branch Suite 020\\nSarahchester, KS 15235      |\n",
      "|73109 Donald Harbor Apt. 651\\nEast Adam, WA 06995          |\n",
      "|8292 Morris Cape Suite 124\\nJonathanborough, WA 86001      |\n",
      "|250 Espinoza Avenue\\nWoodsfurt, NM 51711                   |\n",
      "|810 Cook Prairie\\nCarterhaven, WA 11375                    |\n",
      "|1508 Bishop Trail Apt. 841\\nBrianberg, IN 86312            |\n",
      "|5383 Russo Vista Apt. 302\\nNew Shannon, ND 19348           |\n",
      "|8830 Gregory Stream Suite 295\\nNew Anthony, PA 74294       |\n",
      "|667 Hogan Burgs Suite 516\\nHarrisstad, TX 65470            |\n",
      "|372 Roberts Haven Apt. 555\\nIbarramouth, IA 27935          |\n",
      "|360 Guerrero Gardens\\nDiazmouth, LA 61232                  |\n",
      "|PSC 4470, Box 2994\\nAPO AP 79472                           |\n",
      "|877 Nicole Tunnel Suite 418\\nSusanville, FL 83585          |\n",
      "|65737 Carrie Mountains Suite 740\\nNorth Timothy, CT 88988  |\n",
      "|1313 Fletcher Track\\nWest Jenniferfort, IA 75884           |\n",
      "+-----------------------------------------------------------+\n",
      "only showing top 20 rows\n",
      "\n"
     ]
    }
   ],
   "source": [
    "df_data.select(\"shipping_address\").show(truncate=False)"
   ]
  },
  {
   "cell_type": "code",
   "execution_count": 26,
   "metadata": {},
   "outputs": [],
   "source": [
    "#Removing  /n from both shipping and billing address\n",
    "\n",
    "df_data = df_data.withColumn(\"shipping_Address\", regexp_replace(\"shipping_address\", \"\\n\", \" \"))\n",
    "df_data = df_data.withColumn(\"billing_address\", regexp_replace(\"billing_address\", \"\\n\", \" \"))\n"
   ]
  },
  {
   "cell_type": "code",
   "execution_count": 27,
   "metadata": {},
   "outputs": [
    {
     "name": "stdout",
     "output_type": "stream",
     "text": [
      "+----------------------------------------------------------+\n",
      "|shipping_address                                          |\n",
      "+----------------------------------------------------------+\n",
      "|32138 Bryan Court Apt. 598 East Charles, PW 27839         |\n",
      "|068 Michael Rest East Ryanview, MI 00600                  |\n",
      "|44979 Stephanie Glens West Michaelhaven, DE 95416         |\n",
      "|75425 Jermaine Groves Suite 498 Lake Cynthiaside, HI 34504|\n",
      "|1603 Nicholas Lane Suite 521 North Randy, LA 55937        |\n",
      "|6207 Andrade Branch Suite 020 Sarahchester, KS 15235      |\n",
      "|73109 Donald Harbor Apt. 651 East Adam, WA 06995          |\n",
      "|8292 Morris Cape Suite 124 Jonathanborough, WA 86001      |\n",
      "|250 Espinoza Avenue Woodsfurt, NM 51711                   |\n",
      "|810 Cook Prairie Carterhaven, WA 11375                    |\n",
      "|1508 Bishop Trail Apt. 841 Brianberg, IN 86312            |\n",
      "|5383 Russo Vista Apt. 302 New Shannon, ND 19348           |\n",
      "|8830 Gregory Stream Suite 295 New Anthony, PA 74294       |\n",
      "|667 Hogan Burgs Suite 516 Harrisstad, TX 65470            |\n",
      "|372 Roberts Haven Apt. 555 Ibarramouth, IA 27935          |\n",
      "|360 Guerrero Gardens Diazmouth, LA 61232                  |\n",
      "|PSC 4470, Box 2994 APO AP 79472                           |\n",
      "|877 Nicole Tunnel Suite 418 Susanville, FL 83585          |\n",
      "|65737 Carrie Mountains Suite 740 North Timothy, CT 88988  |\n",
      "|1313 Fletcher Track West Jenniferfort, IA 75884           |\n",
      "+----------------------------------------------------------+\n",
      "only showing top 20 rows\n",
      "\n"
     ]
    }
   ],
   "source": [
    "df_data.select(\"shipping_address\").show(truncate=False)"
   ]
  },
  {
   "cell_type": "code",
   "execution_count": 28,
   "metadata": {},
   "outputs": [
    {
     "name": "stdout",
     "output_type": "stream",
     "text": [
      "+--------------------------------------------------+\n",
      "|billing_address                                   |\n",
      "+--------------------------------------------------+\n",
      "|USNS Rodriguez FPO AE 58754                       |\n",
      "|06153 Robin Shoal West Michael, CO 33483          |\n",
      "|121 Cynthia Coves Apt. 483 Dickersonview, MA 83558|\n",
      "|983 Miller Rapids Gutierrezville, VI 46959        |\n",
      "|63827 Bush Haven East Codyview, PW 21963          |\n",
      "|647 Shari Shoal Suite 833 South Kimshire, AL 28311|\n",
      "|5643 Moore Pass Suite 422 Jonesfurt, PA 25297     |\n",
      "|PSC 7267, Box 2697 APO AE 20554                   |\n",
      "|498 Henry Gardens Apt. 275 Lake Valerie, KS 26791 |\n",
      "|142 Dickerson Ports Mollyside, OR 74703           |\n",
      "|Unit 9167 Box 3287 DPO AA 27670                   |\n",
      "|60882 Mathis Parks Jessicaland, KS 08633          |\n",
      "|906 Myers Run Suite 750 North Victoria, MP 91408  |\n",
      "|01667 Beth Expressway Smithland, ME 72589         |\n",
      "|7848 Stacey Mountains South Shawn, VI 56909       |\n",
      "|07765 Marissa Drives Lake Bernardton, CT 94239    |\n",
      "|16387 Novak Shoal North Marcustown, IA 93933      |\n",
      "|2981 Martinez Plaza Port Brian, MO 06060          |\n",
      "|646 Amy Plain West Matthewfurt, VI 20879          |\n",
      "|3818 Brown Run Jesseberg, OR 46813                |\n",
      "+--------------------------------------------------+\n",
      "only showing top 20 rows\n",
      "\n"
     ]
    }
   ],
   "source": [
    "df_data.select(\"billing_address\").show(truncate=False)"
   ]
  },
  {
   "cell_type": "code",
   "execution_count": 29,
   "metadata": {},
   "outputs": [
    {
     "name": "stdout",
     "output_type": "stream",
     "text": [
      "+--------+-----------+----------+------------+--------------------+--------------------+\n",
      "|order_id|customer_id|order_date|total_amount|    shipping_Address|     billing_address|\n",
      "+--------+-----------+----------+------------+--------------------+--------------------+\n",
      "|     264|       2830|2022-08-03|      3566.0|32138 Bryan Court...|USNS Rodriguez FP...|\n",
      "|     159|       4390|2022-11-15|      9637.0|068 Michael Rest ...|06153 Robin Shoal...|\n",
      "|     326|        702|2019-11-27|      4634.0|44979 Stephanie G...|121 Cynthia Coves...|\n",
      "|     370|       2244|2024-01-12|      8065.0|75425 Jermaine Gr...|983 Miller Rapids...|\n",
      "|     398|       4180|2021-05-01|      9957.0|1603 Nicholas Lan...|63827 Bush Haven ...|\n",
      "|      83|       2062|2022-11-06|      7183.0|6207 Andrade Bran...|647 Shari Shoal S...|\n",
      "|     295|       3216|2025-06-18|      4166.0|73109 Donald Harb...|5643 Moore Pass S...|\n",
      "|     355|       4791|2019-08-20|      2893.0|8292 Morris Cape ...|PSC 7267, Box 269...|\n",
      "|     273|       1557|2020-09-30|      7463.0|250 Espinoza Aven...|498 Henry Gardens...|\n",
      "|     296|       4522|2023-03-22|      5057.0|810 Cook Prairie ...|142 Dickerson Por...|\n",
      "|     377|       3111|2020-01-04|      6084.0|1508 Bishop Trail...|Unit 9167 Box 328...|\n",
      "|      33|       4642|2024-09-02|      3483.0|5383 Russo Vista ...|60882 Mathis Park...|\n",
      "|      44|       2012|2024-10-24|      7928.0|8830 Gregory Stre...|906 Myers Run Sui...|\n",
      "|     178|       3369|2022-09-20|      9381.0|667 Hogan Burgs S...|01667 Beth Expres...|\n",
      "|     179|       4092|2022-02-13|      7215.0|372 Roberts Haven...|7848 Stacey Mount...|\n",
      "|     215|       2186|2020-02-21|      5193.0|360 Guerrero Gard...|07765 Marissa Dri...|\n",
      "|     297|         46|2020-03-11|      1331.0|PSC 4470, Box 299...|16387 Novak Shoal...|\n",
      "|     317|       1132|2023-01-06|      3303.0|877 Nicole Tunnel...|2981 Martinez Pla...|\n",
      "|     162|       3872|2020-11-04|      1277.0|65737 Carrie Moun...|646 Amy Plain Wes...|\n",
      "|     200|        632|2021-03-30|      7667.0|1313 Fletcher Tra...|3818 Brown Run Je...|\n",
      "+--------+-----------+----------+------------+--------------------+--------------------+\n",
      "only showing top 20 rows\n",
      "\n"
     ]
    }
   ],
   "source": [
    "df_data.show()"
   ]
  },
  {
   "cell_type": "code",
   "execution_count": 30,
   "metadata": {},
   "outputs": [],
   "source": [
    "import shutil\n",
    "import os"
   ]
  },
  {
   "cell_type": "code",
   "execution_count": 31,
   "metadata": {},
   "outputs": [],
   "source": [
    "#This is the function for Svaing the transformed dataframe into csv file\n",
    "\n",
    "# directory\n",
    "output_dir = \"../transformed_tables_in_csv\"\n",
    "\n",
    "# Function to save DataFrame as a single CSV file\n",
    "def save_as_single_csv(df, output_path):\n",
    "    # Create a temporary directory to store the output\n",
    "    temp_dir = output_path + \"_temp\"\n",
    "    df.coalesce(1).write.mode('overwrite').csv(temp_dir, header=True)\n",
    "    # Get the CSV file generated in the temporary directory\n",
    "    temp_csv_file = [file for file in os.listdir(temp_dir) if file.endswith('.csv')][0]\n",
    "    # Move the CSV file to the final output path\n",
    "    shutil.move(os.path.join(temp_dir, temp_csv_file), output_path)\n",
    "    # Remove the temporary directory\n",
    "    shutil.rmtree(temp_dir)\n",
    "\n",
    "\n",
    "# Save each DataFrame as a single CSV file\n",
    "save_as_single_csv(df_data, f\"{output_dir}/data.csv\")"
   ]
  },
  {
   "cell_type": "markdown",
   "metadata": {},
   "source": [
    "# Transforming df_customer"
   ]
  },
  {
   "cell_type": "code",
   "execution_count": 32,
   "metadata": {},
   "outputs": [
    {
     "name": "stdout",
     "output_type": "stream",
     "text": [
      "+-----------+-----------+---------+--------------------+--------------------+----------------+-------------+--------+-------------------+\n",
      "|customer_id| first_name|last_name|               email|        phone_number|            city|        state|zip_code|         birth_date|\n",
      "+-----------+-----------+---------+--------------------+--------------------+----------------+-------------+--------+-------------------+\n",
      "|      278.0|     Jaclyn|  Johnson|ginaayers@example...|    001-865-524-6365|   Wagnerborough|     Kentucky| 59856.0|1952-05-18 00:00:00|\n",
      "|      168.0|   Jonathan|   Bowers|robertsnathaniel@...|       Not Available|   South Cameron|     Missouri| 56896.0|1919-02-25 00:00:00|\n",
      "|      272.0|    Matthew|   Gibson|cindycurry@exampl...|       (584)330-2528|     Port Daniel|      Indiana| 13384.0|1932-03-10 00:00:00|\n",
      "|      198.0|      Aaron|  Edwards|christensenjoshua...|  455-986-0947x39525| Terrencechester|     Colorado| 87295.0|1920-06-10 00:00:00|\n",
      "|      357.0|       Alec|    Ortiz| rjordan@example.org|   597-537-0727x9721|   Margaretmouth|     Nebraska| 56300.0|1921-05-14 00:00:00|\n",
      "|       23.0|Christopher|     Meza|jonesguy@example.net|    001-948-507-5446|      Susanville| Rhode Island| 49266.0|1974-07-05 00:00:00|\n",
      "|       73.0|   Angelica|    Silva| david29@example.com|+1-918-413-2005x9537|     Mariahmouth|      Montana| 65783.0|1994-07-17 00:00:00|\n",
      "|      141.0|    Bradley|  Barrera|       invalid_email|    001-381-466-1369| New Michaelside|     Illinois| 69070.0|1974-12-06 00:00:00|\n",
      "|      213.0|     Sydney|    Booth|greeneddie@exampl...|   503-280-1423x9798|    South Steven|     Colorado| 70903.0|1953-06-30 00:00:00|\n",
      "|      393.0|      Oscar|     Hunt|ashley10@example.net|   291-313-1896x3302|     Cherylmouth|    Tennessee| 69306.0|1990-09-22 00:00:00|\n",
      "|      206.0|       Tara|     Hall|  john20@example.org|        365-532-6634|  East Jennafurt|     Oklahoma| 93671.0|1937-07-06 00:00:00|\n",
      "|       12.0|     Thomas|   Murphy|nbarrett@example.org|          7486055651|       Adamsstad|     Maryland| 10853.0|2013-03-01 00:00:00|\n",
      "|      304.0|        Amy|    Meyer|daviskayla@exampl...|+1-661-501-6926x7189|     Lake Martha|   New Jersey| 17999.0|1931-12-03 00:00:00|\n",
      "|      186.0|     Meghan|     Sosa| sgarcia@example.com|    992-723-4417x139|    North Alisha|New Hampshire| 29650.0|1922-11-23 00:00:00|\n",
      "|      305.0|     Ronald|  Bernard|  eric38@example.net|001-208-664-3702x...|        Kylebury|   New Mexico| 93358.0|1951-03-25 00:00:00|\n",
      "|      379.0|     Monica|  Ballard|ryancombs@example...|    212-203-2743x834|   Port Michelle|        Idaho| 84317.0|1990-10-20 00:00:00|\n",
      "|      390.0|      Scott|   Atkins|russellgarrett@ex...|   (955)591-4002x994|      Port Jason|     Illinois| 57659.0|1964-01-08 00:00:00|\n",
      "|      409.0|      Robin|    Davis|jonathancurtis@ex...|        739.568.3789|       East Jack| Rhode Island| 78387.0|2015-08-02 00:00:00|\n",
      "|        8.0|    Jeffrey|     Vang|kristen52@example...|             -1521.0|New Jeffreymouth|     Virginia| 58012.0|1981-01-20 00:00:00|\n",
      "|       37.0| Jacqueline|  Jenkins|perezdiane@exampl...|+1-541-518-8318x1...|       Gavinstad|   California| 37977.0|1929-09-27 00:00:00|\n",
      "+-----------+-----------+---------+--------------------+--------------------+----------------+-------------+--------+-------------------+\n",
      "only showing top 20 rows\n",
      "\n"
     ]
    }
   ],
   "source": [
    "df_customer.show()"
   ]
  },
  {
   "cell_type": "code",
   "execution_count": 33,
   "metadata": {},
   "outputs": [],
   "source": [
    "#Remove decimals from order_id and customer_id\n",
    "df_customer = df_customer.withColumn(\"customer_id\", col(\"customer_id\").cast(\"int\")) \\\n",
    "               .withColumn(\"zip_code\", col(\"zip_code\").cast(\"int\"))\n",
    "\n"
   ]
  },
  {
   "cell_type": "code",
   "execution_count": 40,
   "metadata": {},
   "outputs": [
    {
     "name": "stdout",
     "output_type": "stream",
     "text": [
      "+-----------+-----------+---------+--------------------+--------------------+----------------+-------------+--------+-------------------+\n",
      "|customer_id| first_name|last_name|               email|        phone_number|            city|        state|zip_code|         birth_date|\n",
      "+-----------+-----------+---------+--------------------+--------------------+----------------+-------------+--------+-------------------+\n",
      "|        278|     Jaclyn|  Johnson|ginaayers@example...|    001-865-524-6365|   Wagnerborough|     Kentucky|   59856|1952-05-18 00:00:00|\n",
      "|        168|   Jonathan|   Bowers|robertsnathaniel@...|       Not Available|   South Cameron|     Missouri|   56896|1919-02-25 00:00:00|\n",
      "|        272|    Matthew|   Gibson|cindycurry@exampl...|       (584)330-2528|     Port Daniel|      Indiana|   13384|1932-03-10 00:00:00|\n",
      "|        198|      Aaron|  Edwards|christensenjoshua...|  455-986-0947x39525| Terrencechester|     Colorado|   87295|1920-06-10 00:00:00|\n",
      "|        357|       Alec|    Ortiz| rjordan@example.org|   597-537-0727x9721|   Margaretmouth|     Nebraska|   56300|1921-05-14 00:00:00|\n",
      "|         23|Christopher|     Meza|jonesguy@example.net|    001-948-507-5446|      Susanville| Rhode Island|   49266|1974-07-05 00:00:00|\n",
      "|         73|   Angelica|    Silva| david29@example.com|+1-918-413-2005x9537|     Mariahmouth|      Montana|   65783|1994-07-17 00:00:00|\n",
      "|        141|    Bradley|  Barrera|       invalid_email|    001-381-466-1369| New Michaelside|     Illinois|   69070|1974-12-06 00:00:00|\n",
      "|        213|     Sydney|    Booth|greeneddie@exampl...|   503-280-1423x9798|    South Steven|     Colorado|   70903|1953-06-30 00:00:00|\n",
      "|        393|      Oscar|     Hunt|ashley10@example.net|   291-313-1896x3302|     Cherylmouth|    Tennessee|   69306|1990-09-22 00:00:00|\n",
      "|        206|       Tara|     Hall|  john20@example.org|        365-532-6634|  East Jennafurt|     Oklahoma|   93671|1937-07-06 00:00:00|\n",
      "|         12|     Thomas|   Murphy|nbarrett@example.org|          7486055651|       Adamsstad|     Maryland|   10853|2013-03-01 00:00:00|\n",
      "|        304|        Amy|    Meyer|daviskayla@exampl...|+1-661-501-6926x7189|     Lake Martha|   New Jersey|   17999|1931-12-03 00:00:00|\n",
      "|        186|     Meghan|     Sosa| sgarcia@example.com|    992-723-4417x139|    North Alisha|New Hampshire|   29650|1922-11-23 00:00:00|\n",
      "|        305|     Ronald|  Bernard|  eric38@example.net|001-208-664-3702x...|        Kylebury|   New Mexico|   93358|1951-03-25 00:00:00|\n",
      "|        379|     Monica|  Ballard|ryancombs@example...|    212-203-2743x834|   Port Michelle|        Idaho|   84317|1990-10-20 00:00:00|\n",
      "|        390|      Scott|   Atkins|russellgarrett@ex...|   (955)591-4002x994|      Port Jason|     Illinois|   57659|1964-01-08 00:00:00|\n",
      "|        409|      Robin|    Davis|jonathancurtis@ex...|        739.568.3789|       East Jack| Rhode Island|   78387|2015-08-02 00:00:00|\n",
      "|          8|    Jeffrey|     Vang|kristen52@example...|             -1521.0|New Jeffreymouth|     Virginia|   58012|1981-01-20 00:00:00|\n",
      "|         37| Jacqueline|  Jenkins|perezdiane@exampl...|+1-541-518-8318x1...|       Gavinstad|   California|   37977|1929-09-27 00:00:00|\n",
      "+-----------+-----------+---------+--------------------+--------------------+----------------+-------------+--------+-------------------+\n",
      "only showing top 20 rows\n",
      "\n"
     ]
    }
   ],
   "source": [
    "df_customer.show()"
   ]
  },
  {
   "cell_type": "code",
   "execution_count": 34,
   "metadata": {},
   "outputs": [],
   "source": [
    "#Transforming Birthdate column into yyyy-MM-dd\n",
    "\n",
    "df_customer = df_customer.withColumn(\"birth_date\", date_format(\"birth_date\", \"yyyy-MM-dd\"))"
   ]
  },
  {
   "cell_type": "code",
   "execution_count": 35,
   "metadata": {},
   "outputs": [
    {
     "name": "stdout",
     "output_type": "stream",
     "text": [
      "+-----------+-----------+---------+--------------------+--------------------+----------------+-------------+--------+----------+\n",
      "|customer_id| first_name|last_name|               email|        phone_number|            city|        state|zip_code|birth_date|\n",
      "+-----------+-----------+---------+--------------------+--------------------+----------------+-------------+--------+----------+\n",
      "|        278|     Jaclyn|  Johnson|ginaayers@example...|    001-865-524-6365|   Wagnerborough|     Kentucky|   59856|1952-05-18|\n",
      "|        168|   Jonathan|   Bowers|robertsnathaniel@...|       Not Available|   South Cameron|     Missouri|   56896|1919-02-25|\n",
      "|        272|    Matthew|   Gibson|cindycurry@exampl...|       (584)330-2528|     Port Daniel|      Indiana|   13384|1932-03-10|\n",
      "|        198|      Aaron|  Edwards|christensenjoshua...|  455-986-0947x39525| Terrencechester|     Colorado|   87295|1920-06-10|\n",
      "|        357|       Alec|    Ortiz| rjordan@example.org|   597-537-0727x9721|   Margaretmouth|     Nebraska|   56300|1921-05-14|\n",
      "|         23|Christopher|     Meza|jonesguy@example.net|    001-948-507-5446|      Susanville| Rhode Island|   49266|1974-07-05|\n",
      "|         73|   Angelica|    Silva| david29@example.com|+1-918-413-2005x9537|     Mariahmouth|      Montana|   65783|1994-07-17|\n",
      "|        141|    Bradley|  Barrera|       invalid_email|    001-381-466-1369| New Michaelside|     Illinois|   69070|1974-12-06|\n",
      "|        213|     Sydney|    Booth|greeneddie@exampl...|   503-280-1423x9798|    South Steven|     Colorado|   70903|1953-06-30|\n",
      "|        393|      Oscar|     Hunt|ashley10@example.net|   291-313-1896x3302|     Cherylmouth|    Tennessee|   69306|1990-09-22|\n",
      "|        206|       Tara|     Hall|  john20@example.org|        365-532-6634|  East Jennafurt|     Oklahoma|   93671|1937-07-06|\n",
      "|         12|     Thomas|   Murphy|nbarrett@example.org|          7486055651|       Adamsstad|     Maryland|   10853|2013-03-01|\n",
      "|        304|        Amy|    Meyer|daviskayla@exampl...|+1-661-501-6926x7189|     Lake Martha|   New Jersey|   17999|1931-12-03|\n",
      "|        186|     Meghan|     Sosa| sgarcia@example.com|    992-723-4417x139|    North Alisha|New Hampshire|   29650|1922-11-23|\n",
      "|        305|     Ronald|  Bernard|  eric38@example.net|001-208-664-3702x...|        Kylebury|   New Mexico|   93358|1951-03-25|\n",
      "|        379|     Monica|  Ballard|ryancombs@example...|    212-203-2743x834|   Port Michelle|        Idaho|   84317|1990-10-20|\n",
      "|        390|      Scott|   Atkins|russellgarrett@ex...|   (955)591-4002x994|      Port Jason|     Illinois|   57659|1964-01-08|\n",
      "|        409|      Robin|    Davis|jonathancurtis@ex...|        739.568.3789|       East Jack| Rhode Island|   78387|2015-08-02|\n",
      "|          8|    Jeffrey|     Vang|kristen52@example...|             -1521.0|New Jeffreymouth|     Virginia|   58012|1981-01-20|\n",
      "|         37| Jacqueline|  Jenkins|perezdiane@exampl...|+1-541-518-8318x1...|       Gavinstad|   California|   37977|1929-09-27|\n",
      "+-----------+-----------+---------+--------------------+--------------------+----------------+-------------+--------+----------+\n",
      "only showing top 20 rows\n",
      "\n"
     ]
    }
   ],
   "source": [
    "df_customer.show()"
   ]
  },
  {
   "cell_type": "code",
   "execution_count": 36,
   "metadata": {},
   "outputs": [
    {
     "name": "stdout",
     "output_type": "stream",
     "text": [
      "+---------------------+\n",
      "|phone_number         |\n",
      "+---------------------+\n",
      "|001-865-524-6365     |\n",
      "|Not Available        |\n",
      "|(584)330-2528        |\n",
      "|455-986-0947x39525   |\n",
      "|597-537-0727x9721    |\n",
      "|001-948-507-5446     |\n",
      "|+1-918-413-2005x9537 |\n",
      "|001-381-466-1369     |\n",
      "|503-280-1423x9798    |\n",
      "|291-313-1896x3302    |\n",
      "|365-532-6634         |\n",
      "|7486055651           |\n",
      "|+1-661-501-6926x7189 |\n",
      "|992-723-4417x139     |\n",
      "|001-208-664-3702x6885|\n",
      "|212-203-2743x834     |\n",
      "|(955)591-4002x994    |\n",
      "|739.568.3789         |\n",
      "|-1521.0              |\n",
      "|+1-541-518-8318x17304|\n",
      "+---------------------+\n",
      "only showing top 20 rows\n",
      "\n"
     ]
    }
   ],
   "source": [
    "df_customer.select(\"phone_number\").show(truncate=False)"
   ]
  },
  {
   "cell_type": "code",
   "execution_count": 37,
   "metadata": {},
   "outputs": [
    {
     "name": "stdout",
     "output_type": "stream",
     "text": [
      "+-----------+-----------+---------+--------------------+--------------------+----------------+-------------+--------+----------+\n",
      "|customer_id| first_name|last_name|               email|        phone_number|            city|        state|zip_code|birth_date|\n",
      "+-----------+-----------+---------+--------------------+--------------------+----------------+-------------+--------+----------+\n",
      "|        278|     Jaclyn|  Johnson|ginaayers@example...|    001-865-524-6365|   Wagnerborough|     Kentucky|   59856|1952-05-18|\n",
      "|        168|   Jonathan|   Bowers|robertsnathaniel@...|       Not Available|   South Cameron|     Missouri|   56896|1919-02-25|\n",
      "|        272|    Matthew|   Gibson|cindycurry@exampl...|       (584)330-2528|     Port Daniel|      Indiana|   13384|1932-03-10|\n",
      "|        198|      Aaron|  Edwards|christensenjoshua...|  455-986-0947x39525| Terrencechester|     Colorado|   87295|1920-06-10|\n",
      "|        357|       Alec|    Ortiz| rjordan@example.org|   597-537-0727x9721|   Margaretmouth|     Nebraska|   56300|1921-05-14|\n",
      "|         23|Christopher|     Meza|jonesguy@example.net|    001-948-507-5446|      Susanville| Rhode Island|   49266|1974-07-05|\n",
      "|         73|   Angelica|    Silva| david29@example.com|+1-918-413-2005x9537|     Mariahmouth|      Montana|   65783|1994-07-17|\n",
      "|        141|    Bradley|  Barrera|       invalid_email|    001-381-466-1369| New Michaelside|     Illinois|   69070|1974-12-06|\n",
      "|        213|     Sydney|    Booth|greeneddie@exampl...|   503-280-1423x9798|    South Steven|     Colorado|   70903|1953-06-30|\n",
      "|        393|      Oscar|     Hunt|ashley10@example.net|   291-313-1896x3302|     Cherylmouth|    Tennessee|   69306|1990-09-22|\n",
      "|        206|       Tara|     Hall|  john20@example.org|        365-532-6634|  East Jennafurt|     Oklahoma|   93671|1937-07-06|\n",
      "|         12|     Thomas|   Murphy|nbarrett@example.org|          7486055651|       Adamsstad|     Maryland|   10853|2013-03-01|\n",
      "|        304|        Amy|    Meyer|daviskayla@exampl...|+1-661-501-6926x7189|     Lake Martha|   New Jersey|   17999|1931-12-03|\n",
      "|        186|     Meghan|     Sosa| sgarcia@example.com|    992-723-4417x139|    North Alisha|New Hampshire|   29650|1922-11-23|\n",
      "|        305|     Ronald|  Bernard|  eric38@example.net|001-208-664-3702x...|        Kylebury|   New Mexico|   93358|1951-03-25|\n",
      "|        379|     Monica|  Ballard|ryancombs@example...|    212-203-2743x834|   Port Michelle|        Idaho|   84317|1990-10-20|\n",
      "|        390|      Scott|   Atkins|russellgarrett@ex...|   (955)591-4002x994|      Port Jason|     Illinois|   57659|1964-01-08|\n",
      "|        409|      Robin|    Davis|jonathancurtis@ex...|        739.568.3789|       East Jack| Rhode Island|   78387|2015-08-02|\n",
      "|          8|    Jeffrey|     Vang|kristen52@example...|             -1521.0|New Jeffreymouth|     Virginia|   58012|1981-01-20|\n",
      "|         37| Jacqueline|  Jenkins|perezdiane@exampl...|+1-541-518-8318x1...|       Gavinstad|   California|   37977|1929-09-27|\n",
      "+-----------+-----------+---------+--------------------+--------------------+----------------+-------------+--------+----------+\n",
      "only showing top 20 rows\n",
      "\n"
     ]
    }
   ],
   "source": [
    "df_customer.show()"
   ]
  },
  {
   "cell_type": "code",
   "execution_count": 39,
   "metadata": {},
   "outputs": [],
   "source": [
    "import re\n",
    "def clean_phone_numbers(df: DataFrame, phone_col: str) -> DataFrame:\n",
    "    # Define a function to clean phone numbers using regex\n",
    "    def format_phone_number(phone: str) -> str:\n",
    "        if phone is None:\n",
    "            return \"Not Available\"\n",
    "        \n",
    "        # Remove unwanted characters\n",
    "        phone = re.sub(r'[\\s\\-\\.\\(\\)]', '', phone)\n",
    "        \n",
    "        # Separate extension if it exists\n",
    "        match = re.match(r'^(\\d+)([xX]\\d+)?$', phone)\n",
    "        if not match:\n",
    "            return \"Invalid phone number\"\n",
    "        \n",
    "        phone, extension = match.groups()\n",
    "        extension = extension if extension else ''\n",
    "        \n",
    "        # Validate phone number and format it\n",
    "        if len(phone) == 10:\n",
    "            formatted_phone = f\"({phone[:3]}) {phone[3:6]}-{phone[6:]}\"\n",
    "        else:\n",
    "            return \"Invalid phone number\"\n",
    "        \n",
    "        # Append extension if present\n",
    "        if extension:\n",
    "            formatted_phone += extension\n",
    "        \n",
    "        return formatted_phone\n",
    "\n",
    "    # Register the UDF\n",
    "    format_phone_number_udf = udf(format_phone_number, StringType())\n",
    "    \n",
    "    # Apply the UDF to clean the phone numbers\n",
    "    df_cleaned = df.withColumn(phone_col, format_phone_number_udf(col(phone_col)))\n",
    "    \n",
    "    return df_cleaned\n"
   ]
  },
  {
   "cell_type": "code",
   "execution_count": 40,
   "metadata": {},
   "outputs": [],
   "source": [
    "df_customer_cleaned = clean_phone_numbers(df_customer, \"phone_number\")\n",
    "df_customer = df_customer_cleaned"
   ]
  },
  {
   "cell_type": "code",
   "execution_count": 41,
   "metadata": {},
   "outputs": [
    {
     "name": "stderr",
     "output_type": "stream",
     "text": [
      "[Stage 50:>                                                         (0 + 1) / 1]\r"
     ]
    },
    {
     "name": "stdout",
     "output_type": "stream",
     "text": [
      "+-----------+-----------+---------+--------------------+--------------------+----------------+--------------+--------+----------+\n",
      "|customer_id| first_name|last_name|               email|        phone_number|            city|         state|zip_code|birth_date|\n",
      "+-----------+-----------+---------+--------------------+--------------------+----------------+--------------+--------+----------+\n",
      "|        278|     Jaclyn|  Johnson|ginaayers@example...|Invalid phone number|   Wagnerborough|      Kentucky|   59856|1952-05-18|\n",
      "|        168|   Jonathan|   Bowers|robertsnathaniel@...|       Not Available|   South Cameron|      Missouri|   56896|1919-02-25|\n",
      "|        272|    Matthew|   Gibson|cindycurry@exampl...|      (584) 330-2528|     Port Daniel|       Indiana|   13384|1932-03-10|\n",
      "|        198|      Aaron|  Edwards|christensenjoshua...|(455) 986-0947x39525| Terrencechester|      Colorado|   87295|1920-06-10|\n",
      "|        357|       Alec|    Ortiz| rjordan@example.org| (597) 537-0727x9721|   Margaretmouth|      Nebraska|   56300|1921-05-14|\n",
      "|         23|Christopher|     Meza|jonesguy@example.net|Invalid phone number|      Susanville|  Rhode Island|   49266|1974-07-05|\n",
      "|         73|   Angelica|    Silva| david29@example.com|+1 (918) 413-2005...|     Mariahmouth|       Montana|   65783|1994-07-17|\n",
      "|        141|    Bradley|  Barrera|       invalid_email|Invalid phone number| New Michaelside|      Illinois|   69070|1974-12-06|\n",
      "|        213|     Sydney|    Booth|greeneddie@exampl...| (503) 280-1423x9798|    South Steven|      Colorado|   70903|1953-06-30|\n",
      "|        393|      Oscar|     Hunt|ashley10@example.net| (291) 313-1896x3302|     Cherylmouth|     Tennessee|   69306|1990-09-22|\n",
      "|        206|       Tara|     Hall|  john20@example.org|      (365) 532-6634|  East Jennafurt|      Oklahoma|   93671|1937-07-06|\n",
      "|         12|     Thomas|   Murphy|nbarrett@example.org|      (748) 605-5651|       Adamsstad|      Maryland|   10853|2013-03-01|\n",
      "|        304|        Amy|    Meyer|daviskayla@exampl...|+1 (661) 501-6926...|     Lake Martha|    New Jersey|   17999|1931-12-03|\n",
      "|        186|     Meghan|     Sosa| sgarcia@example.com|  (992) 723-4417x139|    North Alisha| New Hampshire|   29650|1922-11-23|\n",
      "|        305|     Ronald|  Bernard|  eric38@example.net|Invalid phone number|        Kylebury|    New Mexico|   93358|1951-03-25|\n",
      "|        379|     Monica|  Ballard|ryancombs@example...|  (212) 203-2743x834|   Port Michelle|         Idaho|   84317|1990-10-20|\n",
      "|        390|      Scott|   Atkins|russellgarrett@ex...|  (955) 591-4002x994|      Port Jason|      Illinois|   57659|1964-01-08|\n",
      "|        409|      Robin|    Davis|jonathancurtis@ex...|      (739) 568-3789|       East Jack|  Rhode Island|   78387|2015-08-02|\n",
      "|          8|    Jeffrey|     Vang|kristen52@example...|Invalid phone number|New Jeffreymouth|      Virginia|   58012|1981-01-20|\n",
      "|         37| Jacqueline|  Jenkins|perezdiane@exampl...|+1 (541) 518-8318...|       Gavinstad|    California|   37977|1929-09-27|\n",
      "|        156|    Kaitlyn|    Hodge|danielsjames@exam...|(757) 348-6688x89483|      Burnsshire|       Georgia|   32032|1990-09-23|\n",
      "|        368|    Jeffrey|   Hoover|christina18@examp...| (436) 877-5911x5587|     West Joseph|    Washington|   78922|1986-06-05|\n",
      "|        178|        Jim|    Pratt|jgutierrez@exampl...|      (200) 946-3890|        Byrdtown|   Mississippi|   90323|1960-11-06|\n",
      "|        360|      Peggy|  Sanchez|alvarezshawn@exam...|(672) 313-1454x36919|  Gregoryborough|      Illinois|   79818|1942-08-31|\n",
      "|         34|     Pamela|   Tucker|marcusmorales@exa...|      (843) 950-0051|   New Kevintown|    New Jersey|   97867|1949-08-29|\n",
      "|         92|      Corey|   Thomas|johnsondavid@exam...|Invalid phone number|   Harringtonton|       Alabama|   15424|1948-10-22|\n",
      "|        139|       Beth|     Ware|paularice@example...|Invalid phone number|     Deborahland|  North Dakota|   81742|1999-01-03|\n",
      "|        228|    Heather|    Smith|whiterobert@examp...|      (589) 804-8400|      Aaronmouth|     Wisconsin|   35481|1957-03-08|\n",
      "|        277|    Charles|  Hampton|jenkinsphilip@exa...|      (272) 511-3530|     Martinhaven|      Delaware|   20488|1946-02-02|\n",
      "|        293|      Emily|Mccormick|nicholas88@exampl...|      (967) 783-8564|     Baxterville|    New Jersey|   88068|1911-05-08|\n",
      "|         65|   Patricia|  Andrews|jerrybarnes@examp...|Invalid phone number|       Lake Kara|       Montana|   10666|1918-02-24|\n",
      "|        175|      Kelly|    Gates|robert03@example.org|Invalid phone number| South Jimmyland|         Idaho|   27701|2015-01-29|\n",
      "|        331|     Nicole|   Garcia| ricky74@example.net|  (835) 805-8839x357|     Miguelmouth|   Mississippi|   74452|1987-03-05|\n",
      "|        355|       Lisa|    Davis|    dlee@example.com|      (986) 462-3897|        Perezton|  Pennsylvania|   49565|1991-08-10|\n",
      "|        256|       Mary|     Kent|ihuffman@example.net|      (275) 254-3633|        Beckview|   Mississippi|   33616|1916-06-10|\n",
      "|        269|     Angela|    Davis|katherine47@examp...|+1 (511) 761-7984...|      Brownshire|      Kentucky|    5150|1958-03-15|\n",
      "|        348|    Crystal|   Austin|anthonycastro@exa...|Invalid phone number|      South Mark|North Carolina|    4881|1918-11-25|\n",
      "|         29|   Samantha|   Murphy|   zodom@example.com|      (941) 709-0144|      Travisland|       Vermont|   72091|1915-02-22|\n",
      "|        252|      Sarah|    Brown|richardphillips@e...|Invalid phone number|     Gregoryview|      Illinois|   37555|1970-02-20|\n",
      "|         32|   Courtney|   Taylor|melanie86@example...|+1 (922) 923-1801...|        New Anna|      Arkansas|   47271|2019-01-04|\n",
      "|        234|    Jeffrey|     Diaz|billjohnson@examp...|      (577) 609-5817|      Fisherport|       Alabama|   89667|1997-04-22|\n",
      "|        314|    William|   Cooley|michaelroberson@e...|Invalid phone number|   Thomasborough|        Hawaii|   66490|2012-03-15|\n",
      "|        380|     Donald|   Rivera|alexis18@example.net| (251) 252-2022x6245|        Jillport|      Michigan|   34706|1981-11-21|\n",
      "|        241|  Christina|     Ross|sandramcfarland@e...|      (901) 442-3652|  East Elizabeth|   Mississippi|   20187|1967-12-18|\n",
      "|        296|       John|   Garcia|  tina79@example.org|      (845) 690-0720|      East James|   Connecticut|   37353|2012-11-24|\n",
      "|        299|       Beth|   Weaver|christian50@examp...|(683) 786-1004x34925|       New Larry|    New Jersey|    8932|1921-08-20|\n",
      "|        364|    Garrett|   Jordan|nicholevasquez@ex...|      (301) 349-4151|     Elliottview|      Illinois|   24635|1947-01-09|\n",
      "|        394|    Matthew|    Green|castrojoshua@exam...|Invalid phone number|     Lake Thomas|  Rhode Island|   43597|1941-04-25|\n",
      "|        400|       Dana|    Duffy|amcdonald@example...|      (219) 358-5643|      South Kent|       Georgia|   23570|1970-12-29|\n",
      "|        122|    Jessica|   Vargas| erica88@example.org|Invalid phone number|   South Gregory|  Rhode Island|   27769|1967-09-27|\n",
      "|        155|    Matthew|   Parker|elizabethmartin@e...| (447) 554-2694x8342|        Joneston|       Florida|   83793|1962-01-04|\n",
      "|        253|      James|    Miles|  ryan81@example.net| (258) 626-5917x2105|   Lake Johnview|        Hawaii|   86090|1913-11-06|\n",
      "|        332|     Monica|    Lewis| mmassey@example.org|      (584) 382-6564|      Josephfurt|     Minnesota|    4130|1978-06-17|\n",
      "|        396|       John|    Lewis|garyphillips@exam...|+1 (504) 746-8985...|       Kellybury|      Oklahoma|   83574|1988-05-16|\n",
      "|          9|    Roberto|  Johnson| ihughes@example.com|(505) 895-7853x48550|        Jodifurt|     Louisiana|   13500|1918-02-05|\n",
      "|         96|       Tina|    Ellis| khunter@example.net| (367) 688-4970x4531|      Jennahaven| Massachusetts|   51004|1960-11-29|\n",
      "|         14|     Lauren| Campbell|taylornancy@examp...|Invalid phone number|    West Annaton|  Pennsylvania|    1518|1925-04-04|\n",
      "|        146|     Daniel|  Johnson| uingram@example.com| (661) 907-0858x7871|     Lake Sheila|   Mississippi|   97766|1929-04-19|\n",
      "|        309|     Steven|    Jones|williamfarmer@exa...|      (426) 817-8747|       Jorgebury|        Kansas|   25615|1977-01-12|\n",
      "|        343|       Beth| Bautista|karagarcia@exampl...|+1 (267) 446-8810...|       Bellhaven|       Florida|   45326|1960-11-15|\n",
      "+-----------+-----------+---------+--------------------+--------------------+----------------+--------------+--------+----------+\n",
      "only showing top 60 rows\n",
      "\n"
     ]
    },
    {
     "name": "stderr",
     "output_type": "stream",
     "text": [
      "                                                                                \r"
     ]
    }
   ],
   "source": [
    "df_customer.show(60)"
   ]
  },
  {
   "cell_type": "code",
   "execution_count": 42,
   "metadata": {},
   "outputs": [],
   "source": [
    "#Saving the customer df file\n",
    "save_as_single_csv(df_customer, f\"{output_dir}/customer.csv\")"
   ]
  },
  {
   "cell_type": "markdown",
   "metadata": {},
   "source": [
    "# Transforming Review dataframe"
   ]
  },
  {
   "cell_type": "code",
   "execution_count": 43,
   "metadata": {},
   "outputs": [
    {
     "name": "stdout",
     "output_type": "stream",
     "text": [
      "+---------+-----------+----------+------+--------------------+-----------+\n",
      "|review_id|customer_id|product_id|rating|         review_text|review_date|\n",
      "+---------+-----------+----------+------+--------------------+-----------+\n",
      "|       88|       1696|      4804|     3|Option fly necess...| 2023-10-02|\n",
      "|      161|       1979|      4490|     3|Thing conference ...| 2023-04-21|\n",
      "|      176|       4862|      4372|     5|Catch buy care im...| 2024-01-14|\n",
      "|      271|       4303|      4800|     4|So lot son threat...| 2023-10-17|\n",
      "|      303|        735|      3917|     4|Talk yet various ...| 2023-11-19|\n",
      "|      341|       2113|      4435|     2|Box street then o...| 2024-02-14|\n",
      "|      712|       3867|       920|     2|Meet talk doctor ...| 2024-06-05|\n",
      "|      956|       2437|      4795|     5|Mr factor party a...| 2023-12-02|\n",
      "|     1016|       1196|      4798|     5|Recent ground dif...| 2022-11-29|\n",
      "|     1134|       2456|       472|     4|Top skill then ov...| 2023-04-18|\n",
      "|     1325|       4583|       663|     2|Know whose on hou...| 2024-05-25|\n",
      "|     1441|       3910|      2174|     1|Local while speec...| 2022-10-01|\n",
      "|     1491|       3958|      2022|     2|Offer evidence fo...| 2023-10-11|\n",
      "|     1529|       4610|      4087|     1|Prove suffer fina...| 2023-08-06|\n",
      "|     1779|       4435|       763|     1|Authority life tr...| 2023-01-12|\n",
      "|     2162|       3943|      2075|     4|Rather remain few...| 2023-03-12|\n",
      "|     2169|       2097|      3830|     1|Onto own treatmen...| 2024-05-14|\n",
      "|     2415|       1374|      3174|     3|Dark also about s...| 2023-12-21|\n",
      "|     2544|        471|      3174|     3|Thus because usua...| 2023-04-07|\n",
      "|     2847|       4787|      1551|     3|Serve blood recen...| 2023-08-25|\n",
      "+---------+-----------+----------+------+--------------------+-----------+\n",
      "only showing top 20 rows\n",
      "\n"
     ]
    }
   ],
   "source": [
    "df_review.show()"
   ]
  },
  {
   "cell_type": "code",
   "execution_count": 53,
   "metadata": {},
   "outputs": [
    {
     "name": "stdout",
     "output_type": "stream",
     "text": [
      "+--------------------------------------------------------------------------------------------------------------------------------------------------------------------------------------------------------+\n",
      "|review_text                                                                                                                                                                                             |\n",
      "+--------------------------------------------------------------------------------------------------------------------------------------------------------------------------------------------------------+\n",
      "|Option fly necessary school opportunity section send. Bed tough blue point though attack. Property would measure miss beyond since well since.                                                          |\n",
      "|Thing conference natural begin create season deal fund.\\nModel simple ok strong. Happen leave produce good question method hospital. Rather certainly practice child hold church page reality.          |\n",
      "|Catch buy care improve condition western her. Open ready under argue arrive. Enter standard their win.                                                                                                  |\n",
      "|So lot son threat left prove protect.\\nDinner design pass present position get other. Structure several sister leg court property foot so.\\nPainting might clear forget.                                |\n",
      "|Talk yet various between society walk travel. Sister sometimes week simple us color. Return whatever theory for church.                                                                                 |\n",
      "|Box street then ok. Matter think worry.\\nElse season quickly against. Explain among image voice lay. Dinner my remain.                                                                                  |\n",
      "|Meet talk doctor ball method four vote. Statement type suggest deep serve able source.\\nCongress cultural yes green citizen meeting important really. May national store. None environment including.   |\n",
      "|Mr factor party able participant store. Necessary mother ten enough important if. Create determine when baby seek ground drug particular.                                                               |\n",
      "|Recent ground difference worry. Executive person full cost. As have performance scientist Mrs wish.\\nSuccess doctor discuss east activity political. Analysis sound nice.                               |\n",
      "|Top skill then over toward organization effect. Word stand often within table church stand. Participant use effort without marriage.\\nIdentify reveal reality.                                          |\n",
      "|Know whose on house rock final measure. Seek former glass west something. Audience toward above.\\nGame travel quite provide onto third step.                                                            |\n",
      "|Local while speech manager. Somebody interest card might child.\\nAhead also gun traditional especially material least. Finish manager behavior consider thing national.                                 |\n",
      "|Offer evidence forward. During employee stuff choose event soldier whatever. Really hold success.\\nAs old history personal treat. Nearly air everyone two trial affect. Its lay teacher middle whatever.|\n",
      "|Prove suffer financial look. Admit if financial significant enter.                                                                                                                                      |\n",
      "|Authority life treat night. Red nor how then economic bring home color. Case on theory base half job indeed.\\nGame always never technology. However team hotel though effort of hospital.               |\n",
      "|Rather remain few. Research current red. Animal million mouth thousand.                                                                                                                                 |\n",
      "|Onto own treatment soldier. Amount mention force culture treatment there.\\nArticle receive market have. Go certainly I feeling research she rather. Value hit could price above never.                  |\n",
      "|Dark also about student bit. Six chair ask. About society drug fire bad member traditional.\\nFor pass or set under. Above particularly increase clearly safe. Degree structure produce admit least.     |\n",
      "|Thus because usually against people. Product work service author attention forget.\\nFood usually involve body article section. Building wall half change less former.                                   |\n",
      "|Serve blood recently simply scene. White surface put high never.\\nAgree board at course stage ask. Social hold call believe also out third. Word some population positive open leave cold.              |\n",
      "+--------------------------------------------------------------------------------------------------------------------------------------------------------------------------------------------------------+\n",
      "only showing top 20 rows\n",
      "\n"
     ]
    }
   ],
   "source": [
    "df_review.select(\"review_text\").show(truncate=False)\n"
   ]
  },
  {
   "cell_type": "code",
   "execution_count": 44,
   "metadata": {},
   "outputs": [],
   "source": [
    "df_review = df_review.withColumn(\"review_text\", regexp_replace(\"review_text\", \"\\n\", \" \"))"
   ]
  },
  {
   "cell_type": "code",
   "execution_count": 55,
   "metadata": {},
   "outputs": [
    {
     "name": "stdout",
     "output_type": "stream",
     "text": [
      "+-------------------------------------------------------------------------------------------------------------------------------------------------------------------------------------------------------+\n",
      "|review_text                                                                                                                                                                                            |\n",
      "+-------------------------------------------------------------------------------------------------------------------------------------------------------------------------------------------------------+\n",
      "|Option fly necessary school opportunity section send. Bed tough blue point though attack. Property would measure miss beyond since well since.                                                         |\n",
      "|Thing conference natural begin create season deal fund. Model simple ok strong. Happen leave produce good question method hospital. Rather certainly practice child hold church page reality.          |\n",
      "|Catch buy care improve condition western her. Open ready under argue arrive. Enter standard their win.                                                                                                 |\n",
      "|So lot son threat left prove protect. Dinner design pass present position get other. Structure several sister leg court property foot so. Painting might clear forget.                                 |\n",
      "|Talk yet various between society walk travel. Sister sometimes week simple us color. Return whatever theory for church.                                                                                |\n",
      "|Box street then ok. Matter think worry. Else season quickly against. Explain among image voice lay. Dinner my remain.                                                                                  |\n",
      "|Meet talk doctor ball method four vote. Statement type suggest deep serve able source. Congress cultural yes green citizen meeting important really. May national store. None environment including.   |\n",
      "|Mr factor party able participant store. Necessary mother ten enough important if. Create determine when baby seek ground drug particular.                                                              |\n",
      "|Recent ground difference worry. Executive person full cost. As have performance scientist Mrs wish. Success doctor discuss east activity political. Analysis sound nice.                               |\n",
      "|Top skill then over toward organization effect. Word stand often within table church stand. Participant use effort without marriage. Identify reveal reality.                                          |\n",
      "|Know whose on house rock final measure. Seek former glass west something. Audience toward above. Game travel quite provide onto third step.                                                            |\n",
      "|Local while speech manager. Somebody interest card might child. Ahead also gun traditional especially material least. Finish manager behavior consider thing national.                                 |\n",
      "|Offer evidence forward. During employee stuff choose event soldier whatever. Really hold success. As old history personal treat. Nearly air everyone two trial affect. Its lay teacher middle whatever.|\n",
      "|Prove suffer financial look. Admit if financial significant enter.                                                                                                                                     |\n",
      "|Authority life treat night. Red nor how then economic bring home color. Case on theory base half job indeed. Game always never technology. However team hotel though effort of hospital.               |\n",
      "|Rather remain few. Research current red. Animal million mouth thousand.                                                                                                                                |\n",
      "|Onto own treatment soldier. Amount mention force culture treatment there. Article receive market have. Go certainly I feeling research she rather. Value hit could price above never.                  |\n",
      "|Dark also about student bit. Six chair ask. About society drug fire bad member traditional. For pass or set under. Above particularly increase clearly safe. Degree structure produce admit least.     |\n",
      "|Thus because usually against people. Product work service author attention forget. Food usually involve body article section. Building wall half change less former.                                   |\n",
      "|Serve blood recently simply scene. White surface put high never. Agree board at course stage ask. Social hold call believe also out third. Word some population positive open leave cold.              |\n",
      "+-------------------------------------------------------------------------------------------------------------------------------------------------------------------------------------------------------+\n",
      "only showing top 20 rows\n",
      "\n"
     ]
    }
   ],
   "source": [
    "df_review.select(\"review_text\").show(truncate=False)\n"
   ]
  },
  {
   "cell_type": "code",
   "execution_count": 45,
   "metadata": {},
   "outputs": [],
   "source": [
    "save_as_single_csv(df_review, f\"{output_dir}/review.csv\")"
   ]
  },
  {
   "cell_type": "markdown",
   "metadata": {},
   "source": [
    "# Transfroming order dataframe\n"
   ]
  },
  {
   "cell_type": "code",
   "execution_count": 57,
   "metadata": {},
   "outputs": [
    {
     "name": "stdout",
     "output_type": "stream",
     "text": [
      "+-------------+--------+----------+--------+-----+\n",
      "|order_item_id|order_id|product_id|quantity|price|\n",
      "+-------------+--------+----------+--------+-----+\n",
      "|          140|     303|       678|       8|    3|\n",
      "|          487|    3322|      3617|       2|   32|\n",
      "|          540|    2042|      1610|       3|   95|\n",
      "|          743|    4885|      2598|       9|   86|\n",
      "|          790|    1833|      2552|       3|    2|\n",
      "|          920|    4822|      3249|       8|  838|\n",
      "|          992|     399|      3076|      10|    9|\n",
      "|         1285|    4728|      4372|       5|   75|\n",
      "|         1511|    3949|      1293|       5|   50|\n",
      "|         1565|    3651|      3660|      10|   13|\n",
      "|         1678|    2573|      1632|      10|   95|\n",
      "|         1879|     820|      3806|       9|   94|\n",
      "|         1965|    2742|      3145|       6|   54|\n",
      "|         2068|    1160|      1036|       8|   93|\n",
      "|         2127|    3354|      3171|       5|   76|\n",
      "|         2187|    2095|      3537|       2|   20|\n",
      "|         2265|    3892|       223|       8|   14|\n",
      "|         2318|     161|      1220|      10|   44|\n",
      "|         2331|    4857|      4409|       9|   71|\n",
      "|         2933|     795|      1590|       7|   51|\n",
      "+-------------+--------+----------+--------+-----+\n",
      "only showing top 20 rows\n",
      "\n"
     ]
    }
   ],
   "source": [
    "df_order.show()"
   ]
  },
  {
   "cell_type": "code",
   "execution_count": 58,
   "metadata": {},
   "outputs": [],
   "source": [
    "save_as_single_csv(df_order, f\"{output_dir}/order.csv\")"
   ]
  },
  {
   "cell_type": "markdown",
   "metadata": {},
   "source": [
    "# Transforming product df"
   ]
  },
  {
   "cell_type": "code",
   "execution_count": 59,
   "metadata": {},
   "outputs": [
    {
     "name": "stdout",
     "output_type": "stream",
     "text": [
      "+----------+------------+--------------+-----+--------------------+---------+\n",
      "|product_id|product_name|      category|price|         description|inventory|\n",
      "+----------+------------+--------------+-----+--------------------+---------+\n",
      "|     238.0|    consider|           cup|815.0|Least my consumer...|    976.0|\n",
      "|     255.0|    strategy|           set|668.0|Author appear arm...|    238.0|\n",
      "|     264.0|        soon|        decade|758.0|Check risk cell. ...|    728.0|\n",
      "|      94.0|       white|         serve|595.0|Culture result ag...|    420.0|\n",
      "|      23.0|         out|        former|631.0|Strategy educatio...|    962.0|\n",
      "|     245.0|         yet|        window|269.0|Employee debate e...|    423.0|\n",
      "|     333.0|     example|         often|578.0|Whatever let that...|    898.0|\n",
      "|     334.0|         now|          live|657.0|Sometimes yoursel...|     12.0|\n",
      "|     411.0|         one|        minute|197.0|Small beautiful s...|    525.0|\n",
      "|     177.0|      couple|          page|260.0|Interview writer ...|    719.0|\n",
      "|     342.0|     husband|          name|897.0|Movement local wi...|    580.0|\n",
      "|     369.0|       serve|responsibility|792.0|Nearly find far f...|    159.0|\n",
      "|     143.0|        hope|      evidence|294.0|Campaign onto see...|    393.0|\n",
      "|     377.0|     current|          yard|777.0|Next assume skin ...|    941.0|\n",
      "|     200.0|        bill|       college|576.0|Record final sing...|    404.0|\n",
      "|     250.0|        care|          four|498.0|Remain teach exec...|   1000.0|\n",
      "|      40.0|          no|      suddenly|417.0|City significant ...|    718.0|\n",
      "|     212.0|      market|        choose|529.0|Pattern seat acti...|    945.0|\n",
      "|      44.0|     present|          pass|902.0|Seek order gun bi...|     81.0|\n",
      "|     145.0|         lay|        accept|187.0|Red protect do de...|    998.0|\n",
      "+----------+------------+--------------+-----+--------------------+---------+\n",
      "only showing top 20 rows\n",
      "\n"
     ]
    }
   ],
   "source": [
    "df_product.show()"
   ]
  },
  {
   "cell_type": "code",
   "execution_count": 46,
   "metadata": {},
   "outputs": [
    {
     "data": {
      "text/plain": [
       "4"
      ]
     },
     "execution_count": 46,
     "metadata": {},
     "output_type": "execute_result"
    }
   ],
   "source": [
    "df_product.filter(col(\"category\") == \"cup\").count()"
   ]
  },
  {
   "cell_type": "code",
   "execution_count": 47,
   "metadata": {},
   "outputs": [],
   "source": [
    "#Remove decimals from product_id, price and inventory\n",
    "df_product = df_product.withColumn(\"product_id\", col(\"product_id\").cast(\"int\")) \\\n",
    "               .withColumn(\"price\", col(\"price\").cast(\"int\")) \\\n",
    "               .withColumn(\"inventory\", col(\"inventory\").cast(\"int\"))"
   ]
  },
  {
   "cell_type": "code",
   "execution_count": 62,
   "metadata": {},
   "outputs": [
    {
     "name": "stdout",
     "output_type": "stream",
     "text": [
      "+----------+------------+--------------+-----+--------------------+---------+\n",
      "|product_id|product_name|      category|price|         description|inventory|\n",
      "+----------+------------+--------------+-----+--------------------+---------+\n",
      "|       238|    consider|           cup|  815|Least my consumer...|      976|\n",
      "|       255|    strategy|           set|  668|Author appear arm...|      238|\n",
      "|       264|        soon|        decade|  758|Check risk cell. ...|      728|\n",
      "|        94|       white|         serve|  595|Culture result ag...|      420|\n",
      "|        23|         out|        former|  631|Strategy educatio...|      962|\n",
      "|       245|         yet|        window|  269|Employee debate e...|      423|\n",
      "|       333|     example|         often|  578|Whatever let that...|      898|\n",
      "|       334|         now|          live|  657|Sometimes yoursel...|       12|\n",
      "|       411|         one|        minute|  197|Small beautiful s...|      525|\n",
      "|       177|      couple|          page|  260|Interview writer ...|      719|\n",
      "|       342|     husband|          name|  897|Movement local wi...|      580|\n",
      "|       369|       serve|responsibility|  792|Nearly find far f...|      159|\n",
      "|       143|        hope|      evidence|  294|Campaign onto see...|      393|\n",
      "|       377|     current|          yard|  777|Next assume skin ...|      941|\n",
      "|       200|        bill|       college|  576|Record final sing...|      404|\n",
      "|       250|        care|          four|  498|Remain teach exec...|     1000|\n",
      "|        40|          no|      suddenly|  417|City significant ...|      718|\n",
      "|       212|      market|        choose|  529|Pattern seat acti...|      945|\n",
      "|        44|     present|          pass|  902|Seek order gun bi...|       81|\n",
      "|       145|         lay|        accept|  187|Red protect do de...|      998|\n",
      "+----------+------------+--------------+-----+--------------------+---------+\n",
      "only showing top 20 rows\n",
      "\n"
     ]
    }
   ],
   "source": [
    "df_product.show()"
   ]
  },
  {
   "cell_type": "code",
   "execution_count": 63,
   "metadata": {},
   "outputs": [
    {
     "name": "stdout",
     "output_type": "stream",
     "text": [
      "+-------------------------------------------------------------------------------------------------------------------------------------------------------------------------------------------------------+\n",
      "|description                                                                                                                                                                                            |\n",
      "+-------------------------------------------------------------------------------------------------------------------------------------------------------------------------------------------------------+\n",
      "|Least my consumer every better increase down. Leg five never huge mind law add lawyer. Town development number control under many.                                                                     |\n",
      "|Author appear arm. Ball quite campaign I bad. Impact prevent available peace growth culture window.                                                                                                    |\n",
      "|Check risk cell. Worry or song since inside. Suggest who financial foot.\\nLetter budget nature prevent participant whether. Speak develop sense board each me. Country truth nice sure he seven.       |\n",
      "|Culture result agreement without example paper test manage. Money must stop politics. Hot can ever reach share.\\nTreatment sometimes into argue. As face discuss have bar.                             |\n",
      "|Strategy education safe you relate. Magazine protect son draw two color. Individual course people structure process science.                                                                           |\n",
      "|Employee debate economy offer base company. First stay skill.\\nIndustry away above whatever it thing guy. Material interview thought require. Fast involve public remember option Mrs.                 |\n",
      "|Whatever let that indicate see. Learn account ago past. Set when can and price better executive. Tree life another daughter pressure social.                                                           |\n",
      "|Sometimes yourself strategy. Themselves coach deep religious. Break benefit green thank general growth. Practice may huge nor cell serious.                                                            |\n",
      "|Small beautiful study nation. Nor song reveal with. Quite head along day.\\nView huge land thank Republican. Interesting realize place. Gun leave recognize cultural style.                             |\n",
      "|Interview writer especially up seek choice worker weight.\\nFather recognize it individual nice enter. Market short education campaign situation cell but relationship. American why finally their cost.|\n",
      "|Movement local wind lay. Drive within individual talk. Inside know rule why. Save realize together above relate how.\\nAgreement scene big provide bag.                                                 |\n",
      "|Nearly find far final position section number feel. Talk candidate because wait debate cold need cost.\\nHospital learn join military shoulder contain debate. Statement oil traditional animal.        |\n",
      "|Campaign onto seek wait. Discuss sense result including bit. Read property population compare direction left gun me.                                                                                   |\n",
      "|Next assume skin store. Artist sure reason free interview. Free camera think level street.\\nMrs film either laugh here. Type any step black.                                                           |\n",
      "|Record final single great. Too western military why.\\nParticularly both law ago letter. Thought thank board walk.                                                                                      |\n",
      "|Remain teach executive. Item with candidate social art have white number. Much stuff last he wind successful. So college person call morning and teach eye.                                            |\n",
      "|City significant baby teach suffer be answer. Small provide into admit.                                                                                                                                |\n",
      "|Pattern seat action send. Author across usually add any.\\nPerformance hope hair music task toward. Where responsibility face how of final likely. Somebody son pattern care with.                      |\n",
      "|Seek order gun billion. Factor wife school music.\\nDescribe he source now her.                                                                                                                         |\n",
      "|Red protect do detail alone.\\nFear during grow kid across. Economy democratic suffer. Bring live sister example necessary.                                                                             |\n",
      "+-------------------------------------------------------------------------------------------------------------------------------------------------------------------------------------------------------+\n",
      "only showing top 20 rows\n",
      "\n"
     ]
    }
   ],
   "source": [
    "df_product.select(\"description\").show(truncate=False)"
   ]
  },
  {
   "cell_type": "code",
   "execution_count": 48,
   "metadata": {},
   "outputs": [],
   "source": [
    "df_product = df_product.withColumn(\"description\", regexp_replace(\"description\", \"\\n\", \" \"))"
   ]
  },
  {
   "cell_type": "code",
   "execution_count": 65,
   "metadata": {},
   "outputs": [
    {
     "name": "stdout",
     "output_type": "stream",
     "text": [
      "+------------------------------------------------------------------------------------------------------------------------------------------------------------------------------------------------------+\n",
      "|description                                                                                                                                                                                           |\n",
      "+------------------------------------------------------------------------------------------------------------------------------------------------------------------------------------------------------+\n",
      "|Least my consumer every better increase down. Leg five never huge mind law add lawyer. Town development number control under many.                                                                    |\n",
      "|Author appear arm. Ball quite campaign I bad. Impact prevent available peace growth culture window.                                                                                                   |\n",
      "|Check risk cell. Worry or song since inside. Suggest who financial foot. Letter budget nature prevent participant whether. Speak develop sense board each me. Country truth nice sure he seven.       |\n",
      "|Culture result agreement without example paper test manage. Money must stop politics. Hot can ever reach share. Treatment sometimes into argue. As face discuss have bar.                             |\n",
      "|Strategy education safe you relate. Magazine protect son draw two color. Individual course people structure process science.                                                                          |\n",
      "|Employee debate economy offer base company. First stay skill. Industry away above whatever it thing guy. Material interview thought require. Fast involve public remember option Mrs.                 |\n",
      "|Whatever let that indicate see. Learn account ago past. Set when can and price better executive. Tree life another daughter pressure social.                                                          |\n",
      "|Sometimes yourself strategy. Themselves coach deep religious. Break benefit green thank general growth. Practice may huge nor cell serious.                                                           |\n",
      "|Small beautiful study nation. Nor song reveal with. Quite head along day. View huge land thank Republican. Interesting realize place. Gun leave recognize cultural style.                             |\n",
      "|Interview writer especially up seek choice worker weight. Father recognize it individual nice enter. Market short education campaign situation cell but relationship. American why finally their cost.|\n",
      "|Movement local wind lay. Drive within individual talk. Inside know rule why. Save realize together above relate how. Agreement scene big provide bag.                                                 |\n",
      "|Nearly find far final position section number feel. Talk candidate because wait debate cold need cost. Hospital learn join military shoulder contain debate. Statement oil traditional animal.        |\n",
      "|Campaign onto seek wait. Discuss sense result including bit. Read property population compare direction left gun me.                                                                                  |\n",
      "|Next assume skin store. Artist sure reason free interview. Free camera think level street. Mrs film either laugh here. Type any step black.                                                           |\n",
      "|Record final single great. Too western military why. Particularly both law ago letter. Thought thank board walk.                                                                                      |\n",
      "|Remain teach executive. Item with candidate social art have white number. Much stuff last he wind successful. So college person call morning and teach eye.                                           |\n",
      "|City significant baby teach suffer be answer. Small provide into admit.                                                                                                                               |\n",
      "|Pattern seat action send. Author across usually add any. Performance hope hair music task toward. Where responsibility face how of final likely. Somebody son pattern care with.                      |\n",
      "|Seek order gun billion. Factor wife school music. Describe he source now her.                                                                                                                         |\n",
      "|Red protect do detail alone. Fear during grow kid across. Economy democratic suffer. Bring live sister example necessary.                                                                             |\n",
      "+------------------------------------------------------------------------------------------------------------------------------------------------------------------------------------------------------+\n",
      "only showing top 20 rows\n",
      "\n"
     ]
    }
   ],
   "source": [
    "df_product.select(\"description\").show(truncate=False)"
   ]
  },
  {
   "cell_type": "code",
   "execution_count": 66,
   "metadata": {},
   "outputs": [
    {
     "name": "stdout",
     "output_type": "stream",
     "text": [
      "+----------+------------+--------------+-----+------------------------------------------------------------------------------------------------------------------------------------------------------------------------------------------------------+---------+\n",
      "|product_id|product_name|category      |price|description                                                                                                                                                                                           |inventory|\n",
      "+----------+------------+--------------+-----+------------------------------------------------------------------------------------------------------------------------------------------------------------------------------------------------------+---------+\n",
      "|238       |consider    |cup           |815  |Least my consumer every better increase down. Leg five never huge mind law add lawyer. Town development number control under many.                                                                    |976      |\n",
      "|255       |strategy    |set           |668  |Author appear arm. Ball quite campaign I bad. Impact prevent available peace growth culture window.                                                                                                   |238      |\n",
      "|264       |soon        |decade        |758  |Check risk cell. Worry or song since inside. Suggest who financial foot. Letter budget nature prevent participant whether. Speak develop sense board each me. Country truth nice sure he seven.       |728      |\n",
      "|94        |white       |serve         |595  |Culture result agreement without example paper test manage. Money must stop politics. Hot can ever reach share. Treatment sometimes into argue. As face discuss have bar.                             |420      |\n",
      "|23        |out         |former        |631  |Strategy education safe you relate. Magazine protect son draw two color. Individual course people structure process science.                                                                          |962      |\n",
      "|245       |yet         |window        |269  |Employee debate economy offer base company. First stay skill. Industry away above whatever it thing guy. Material interview thought require. Fast involve public remember option Mrs.                 |423      |\n",
      "|333       |example     |often         |578  |Whatever let that indicate see. Learn account ago past. Set when can and price better executive. Tree life another daughter pressure social.                                                          |898      |\n",
      "|334       |now         |live          |657  |Sometimes yourself strategy. Themselves coach deep religious. Break benefit green thank general growth. Practice may huge nor cell serious.                                                           |12       |\n",
      "|411       |one         |minute        |197  |Small beautiful study nation. Nor song reveal with. Quite head along day. View huge land thank Republican. Interesting realize place. Gun leave recognize cultural style.                             |525      |\n",
      "|177       |couple      |page          |260  |Interview writer especially up seek choice worker weight. Father recognize it individual nice enter. Market short education campaign situation cell but relationship. American why finally their cost.|719      |\n",
      "|342       |husband     |name          |897  |Movement local wind lay. Drive within individual talk. Inside know rule why. Save realize together above relate how. Agreement scene big provide bag.                                                 |580      |\n",
      "|369       |serve       |responsibility|792  |Nearly find far final position section number feel. Talk candidate because wait debate cold need cost. Hospital learn join military shoulder contain debate. Statement oil traditional animal.        |159      |\n",
      "|143       |hope        |evidence      |294  |Campaign onto seek wait. Discuss sense result including bit. Read property population compare direction left gun me.                                                                                  |393      |\n",
      "|377       |current     |yard          |777  |Next assume skin store. Artist sure reason free interview. Free camera think level street. Mrs film either laugh here. Type any step black.                                                           |941      |\n",
      "|200       |bill        |college       |576  |Record final single great. Too western military why. Particularly both law ago letter. Thought thank board walk.                                                                                      |404      |\n",
      "|250       |care        |four          |498  |Remain teach executive. Item with candidate social art have white number. Much stuff last he wind successful. So college person call morning and teach eye.                                           |1000     |\n",
      "|40        |no          |suddenly      |417  |City significant baby teach suffer be answer. Small provide into admit.                                                                                                                               |718      |\n",
      "|212       |market      |choose        |529  |Pattern seat action send. Author across usually add any. Performance hope hair music task toward. Where responsibility face how of final likely. Somebody son pattern care with.                      |945      |\n",
      "|44        |present     |pass          |902  |Seek order gun billion. Factor wife school music. Describe he source now her.                                                                                                                         |81       |\n",
      "|145       |lay         |accept        |187  |Red protect do detail alone. Fear during grow kid across. Economy democratic suffer. Bring live sister example necessary.                                                                             |998      |\n",
      "+----------+------------+--------------+-----+------------------------------------------------------------------------------------------------------------------------------------------------------------------------------------------------------+---------+\n",
      "only showing top 20 rows\n",
      "\n"
     ]
    }
   ],
   "source": [
    "df_product.show(truncate=False\n",
    "                )"
   ]
  },
  {
   "cell_type": "code",
   "execution_count": 67,
   "metadata": {},
   "outputs": [],
   "source": [
    "save_as_single_csv(df_product, f\"{output_dir}/product.csv\")"
   ]
  },
  {
   "cell_type": "code",
   "execution_count": 70,
   "metadata": {},
   "outputs": [
    {
     "name": "stderr",
     "output_type": "stream",
     "text": [
      "[Stage 116:>                                                        (0 + 1) / 1]\r"
     ]
    },
    {
     "name": "stdout",
     "output_type": "stream",
     "text": [
      "+---------+-----------+----------+------+--------------------+-----------+\n",
      "|review_id|customer_id|product_id|rating|         review_text|review_date|\n",
      "+---------+-----------+----------+------+--------------------+-----------+\n",
      "|       88|       1696|      4804|     3|Option fly necess...| 2023-10-02|\n",
      "|      161|       1979|      4490|     3|Thing conference ...| 2023-04-21|\n",
      "|      176|       4862|      4372|     5|Catch buy care im...| 2024-01-14|\n",
      "|      271|       4303|      4800|     4|So lot son threat...| 2023-10-17|\n",
      "|      303|        735|      3917|     4|Talk yet various ...| 2023-11-19|\n",
      "|      341|       2113|      4435|     2|Box street then o...| 2024-02-14|\n",
      "|      712|       3867|       920|     2|Meet talk doctor ...| 2024-06-05|\n",
      "|      956|       2437|      4795|     5|Mr factor party a...| 2023-12-02|\n",
      "|     1016|       1196|      4798|     5|Recent ground dif...| 2022-11-29|\n",
      "|     1134|       2456|       472|     4|Top skill then ov...| 2023-04-18|\n",
      "|     1325|       4583|       663|     2|Know whose on hou...| 2024-05-25|\n",
      "|     1441|       3910|      2174|     1|Local while speec...| 2022-10-01|\n",
      "|     1491|       3958|      2022|     2|Offer evidence fo...| 2023-10-11|\n",
      "|     1529|       4610|      4087|     1|Prove suffer fina...| 2023-08-06|\n",
      "|     1779|       4435|       763|     1|Authority life tr...| 2023-01-12|\n",
      "|     2162|       3943|      2075|     4|Rather remain few...| 2023-03-12|\n",
      "|     2169|       2097|      3830|     1|Onto own treatmen...| 2024-05-14|\n",
      "|     2415|       1374|      3174|     3|Dark also about s...| 2023-12-21|\n",
      "|     2544|        471|      3174|     3|Thus because usua...| 2023-04-07|\n",
      "|     2847|       4787|      1551|     3|Serve blood recen...| 2023-08-25|\n",
      "+---------+-----------+----------+------+--------------------+-----------+\n",
      "only showing top 20 rows\n",
      "\n"
     ]
    },
    {
     "name": "stderr",
     "output_type": "stream",
     "text": [
      "                                                                                \r"
     ]
    }
   ],
   "source": [
    "df_review.show()"
   ]
  },
  {
   "cell_type": "code",
   "execution_count": 49,
   "metadata": {},
   "outputs": [],
   "source": [
    "import matplotlib.pyplot as plt"
   ]
  },
  {
   "cell_type": "markdown",
   "metadata": {},
   "source": [
    "# Now Let's get insights from dataset"
   ]
  },
  {
   "cell_type": "code",
   "execution_count": 50,
   "metadata": {},
   "outputs": [
    {
     "data": {
      "image/png": "[encoded data removed]",
      "text/plain": [
       "<Figure size 1000x600 with 1 Axes>"
      ]
     },
     "metadata": {},
     "output_type": "display_data"
    }
   ],
   "source": [
    "# Assuming you have a products DataFrame with 'product_id' and 'product_name' columns\n",
    "# Join the order DataFrame with the products DataFrame on 'product_id'\n",
    "df_order_products = df_order.join(df_product, on='product_id')\n",
    "\n",
    "# Group by 'product_name' and sum up the 'quantity'\n",
    "top_products_df = df_order_products.groupBy('product_name').agg({'quantity': 'sum'}).withColumnRenamed('sum(quantity)', 'total_quantity')\n",
    "\n",
    "# Sort by 'total_quantity' in descending order and select the top 10\n",
    "top_products_df = top_products_df.orderBy('total_quantity', ascending=False).limit(10)\n",
    "\n",
    "# Collect the data to a list of rows\n",
    "top_products = top_products_df.collect()\n",
    "\n",
    "# Extract product names and quantities for plotting\n",
    "product_names = [row['product_name'] for row in top_products]\n",
    "quantities = [row['total_quantity'] for row in top_products]\n",
    "\n",
    "# Plot the top 10 best-selling products\n",
    "plt.figure(figsize=(10, 6))\n",
    "plt.bar(product_names, quantities)\n",
    "plt.title('Top 10 Best-Selling Products')\n",
    "plt.xlabel('Product Name')\n",
    "plt.ylabel('Quantity Sold')\n",
    "plt.xticks(rotation=45, ha=\"right\")\n",
    "plt.show()"
   ]
  },
  {
   "cell_type": "markdown",
   "metadata": {},
   "source": [
    "### To analyze and visualize which product categories are most popular among different age groups of customers,"
   ]
  },
  {
   "cell_type": "code",
   "execution_count": 53,
   "metadata": {},
   "outputs": [
    {
     "data": {
      "image/png": "[encoded data removed]",
      "text/plain": [
       "<Figure size 1000x600 with 1 Axes>"
      ]
     },
     "metadata": {},
     "output_type": "display_data"
    }
   ],
   "source": [
    "# Step 1: Calculate age and create age groups\n",
    "current_year = 2024  # Use the appropriate year\n",
    "df_customers = df_customer.withColumn(\"age\", current_year - year(col(\"birth_date\")))\n",
    "\n",
    "df_customers = df_customers.withColumn(\n",
    "    \"age_group\", \n",
    "    when(col(\"age\") < 20, \"<20\")\n",
    "    .when((col(\"age\") >= 20) & (col(\"age\") < 30), \"20-29\")\n",
    "    .when((col(\"age\") >= 30) & (col(\"age\") < 40), \"30-39\")\n",
    "    .when((col(\"age\") >= 40) & (col(\"age\") < 50), \"40-49\")\n",
    "    .otherwise(\"50+\")\n",
    ")\n",
    "\n",
    "# Step 2: Join the tables: customers, orders, and order items\n",
    "df_combined = df_customers.join(df_data, \"customer_id\") \\\n",
    "                          .join(df_order, \"order_id\")\n",
    "\n",
    "# Step 3: Group by age_group and count the total number of products purchased\n",
    "df_age_group_count = df_combined.groupBy(\"age_group\") \\\n",
    "                                .agg({\"quantity\": \"sum\"}) \\\n",
    "                                .withColumnRenamed(\"sum(quantity)\", \"total_products_purchased\")\n",
    "\n",
    "# Step 4: Collect the data for plotting\n",
    "age_group_data = df_age_group_count.orderBy(\"age_group\").collect()\n",
    "\n",
    "# Prepare data for plotting\n",
    "age_groups = [row['age_group'] for row in age_group_data]\n",
    "total_products_purchased = [row['total_products_purchased'] for row in age_group_data]\n",
    "\n",
    "# Step 5: Plotting\n",
    "plt.figure(figsize=(10, 6))\n",
    "plt.bar(age_groups, total_products_purchased, color='skyblue')\n",
    "\n",
    "plt.title(\"Total Products Purchased by Age Group\")\n",
    "plt.xlabel(\"Age Group\")\n",
    "plt.ylabel(\"Total Number of Products Purchased\")\n",
    "plt.xticks(rotation=45, ha=\"right\")\n",
    "plt.show()\n"
   ]
  },
  {
   "cell_type": "code",
   "execution_count": null,
   "metadata": {},
   "outputs": [],
   "source": []
  },
  {
   "cell_type": "code",
   "execution_count": null,
   "metadata": {},
   "outputs": [],
   "source": []
  },
  {
   "cell_type": "code",
   "execution_count": null,
   "metadata": {},
   "outputs": [],
   "source": []
  }
 ],
 "metadata": {
  "kernelspec": {
   "display_name": "Python 3",
   "language": "python",
   "name": "python3"
  },
  "language_info": {
   "codemirror_mode": {
    "name": "ipython",
    "version": 3
   },
   "file_extension": ".py",
   "mimetype": "text/x-python",
   "name": "python",
   "nbconvert_exporter": "python",
   "pygments_lexer": "ipython3",
   "version": "3.11.9"
  }
 },
 "nbformat": 4,
 "nbformat_minor": 2
}
